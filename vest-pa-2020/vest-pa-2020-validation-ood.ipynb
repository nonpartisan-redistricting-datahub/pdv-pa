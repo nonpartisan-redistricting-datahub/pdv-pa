{
 "cells": [
  {
   "cell_type": "code",
   "execution_count": 2,
   "id": "67b2a58b",
   "metadata": {},
   "outputs": [
    {
     "name": "stderr",
     "output_type": "stream",
     "text": [
      "/usr/local/lib/python3.9/site-packages/geopandas/_compat.py:106: UserWarning: The Shapely GEOS version (3.8.0-CAPI-1.13.1 ) is incompatible with the GEOS version PyGEOS was compiled with (3.10.0-CAPI-1.16.0). Conversions between both will be slow.\n",
      "  warnings.warn(\n"
     ]
    }
   ],
   "source": [
    "import pandas as pd\n",
    "import geopandas as gp\n",
    "import numpy as np \n",
    "import xlrd\n",
    "import os\n",
    "import fiona\n",
    "from statistics import mean, median\n",
    "import string\n",
    "import math\n",
    "import re\n",
    "import warnings\n",
    "\n",
    "# A submodule of Maup (GerryChain) creates a conflict with pygeos. This notebook requires that \n",
    "# pygeos *not* be loaded in order to function.\n",
    "# import pygeos\n",
    "gp.options.use_pygeos = False\n",
    "import maup\n",
    "\n",
    "from shapely.geometry import Polygon\n",
    "from shapely.ops import cascaded_union\n",
    "from shapely.errors import TopologicalError\n",
    "\n",
    "pd.set_option('display.max_rows', 200)"
   ]
  },
  {
   "cell_type": "markdown",
   "id": "5b756760",
   "metadata": {},
   "source": [
    "# VEST PA 2020\n",
    "\n",
    "## VEST Documentation\n",
    "\n",
    "### Sources\n",
    "\n",
    "Election results primarily from individual county precinct reports as processed via OpenElections (https://github.com/openelections/openelections-data-pa/). Precinct data was corrected with canvass reports for the following counties: Cambria, Crawford, Forest, Juniata, York. The Susquehanna County precinct results were provided by the Pennsylvania Secretary of State Bureau of Elections.\n",
    "\n",
    "Due to court orders involving ballots that were segregated until legal challenges were resolved the certified results from nearly all counties differ from the official results certified by the state. State courts ordered segregated ballots to be included for state offices whereas federal courts ordered that they be excluded for federal offices. As the orders were issued after the county certification deadline these votes were added to the state offices for 57 counties that did not include them in precinct reports and removed from federal offices in 10 counties that did include them in precinct reports. The precinct results in the VEST shapefiles are those that were certified by the respective counties.\n",
    "\n",
    "Federal ballots in Philadelphia were reported at the citywide level. These are distributed by candidate to precincts based on their share of the precinct-level reported vote.\n",
    "\n",
    "### Shapefiles\n",
    "\n",
    "Precinct shapefiles primarily from the U.S. Census Bureau's 2020 Redistricting Data Program Phase 2 release. The shapefiles from Delaware County and the City of Pittsburgh are from the respective jurisdictions. Precinct numbers were corrected to match the 2020 voter file in the following locales: Allegheny (Elizabeth, Pittsburgh W12), Blair (Greenfield), Bradford (Athens), Greene (Dunkard, Monongahela), Monroe (Smithfield), Montgomery (Hatfield), Northampton (Bethlehem Twp), Perry (Toboyne), Union (Union), Washington (New Eagle, Somerset), York (Fairview). VTD codes in Philadelphia were edited to match the city ward/division numbers.\n",
    "\n",
    "The U.S. Census Bureau's final VTD release was used for all of Crawford, Jefferson, McKean, Northumberland. A number of precincts statewide were also replaced with the final VTDs due to updated municipal boundaries. \n",
    "\n",
    "The final VTD release was also used for precincts that were altered before the 2020 general election in the following locales: Adams (Reading), Allegheny (Marshall), Armstrong (Ford City), Cambria (N Cambria), Centre (State College), Chester (Valley N), Clearfield (Bradford), Franklin (Montgomery, Peters), Greene (Dunkard), Lebanon (Cornwall, Jackson, N Cornwall, S Londonderry, Swatara), Luzerne (Butler, Dallas, Fairview, Kingston Boro, Kingston Twp, Rice, Salem, Sugarloaf, Wright), Lycoming (Williamsport), Mercer (S Pymatuning), Monroe (Jackson), Montgomery (New Hanover, Upper Merion), Northampton (Allen), Philadelphia (Wards 2, 5, 8, 18, 21, 40, 63), Venango (Cranberry), Washington (Amwell, Cecil, Donegal, N Strabane, S Strabane); Westmoreland: (Murrysville), York (W Manheim).\n",
    "\n",
    "Precinct boundaries throughout the state were edited to match voter assignments in the PA Secretary of State voter file from the 2020 election cycle. While some edits reflect official updates to wards or divisions the majority involve voters incorrectly assigned to voting districts by the counties. As such the VEST shapefile endeavors to reflect the de facto precinct boundaries and these often differ from the official voting district boundaries in some cases quite drastically. Wherever possible edits were made using census boundaries or alternatively using the parcel shapefiles from the respective counties. \n",
    "\n",
    "In certain areas voter assignments appear so erratic that it is impractical to place all voters within their assigned precinct. These areas were edited so as to place as many voters as possible within their assigned precinct without displacing a greater number from their assigned precinct. In general, municipal boundaries were retained except where a significant number of voters were misassigned to the wrong municipality. In cases where the odd/even split was incorrectly reversed for precinct boundary streets the official boundary was retained. All such cases involved near equal number of voters swapped between voting districts.\n",
    "\n",
    "The following revisions were made to the base shapefiles to match the de facto 2020 precinct boundaries consistent with the voter file. Individual precincts are noted in cases of splits or merges. Due to the sheer number of edits boundary adjustments are listed at the borough/township level. There may be as many as two dozen individual precincts that were revised within a given municipality.\n",
    "\n",
    "In some cases the edited precinct boundaries noted below match those of the final Census VTD release.\n",
    "\n",
    "- Adams: Adjust Cumberland, Franklin<br>\n",
    "- Allegheny: Split Pittsburgh W5 11/17; Merge Pittsburgh W16 9/11/12; Align McCandless with municipal boundary; Adjust Baldwin, Bethel Park, Braddock, Brentwood, Castle Shannon, Clairton, Collier, Coraopolis, Crescent, Dormont, Dravosburg, Duquesne, E Deer, E McKeesport, E Pittsburgh, Elizabeth, Emsworth, Forward, Glassport, Hampton, Harmar, Ingram, Jefferson Hills, Kennedy, Leet, Liberty, Marshall, McCandless, McKees Rocks, McKeesport, Monroeville, Moon, Mount Lebanon, Munhall, N Fayette, N Versailles, O'Hara, Oakdale, Penn Hills, Pine, Pittsburgh (nearly all wards), Pleasant Hills, Reserve, Richland, Ross, Scott, Sewickley, Shaler, S Fayette, S Park, Stowe, Swissvale, Upper St. Clair, W Deer, W Homestead, W Mifflin, W View, Whitaker, Whitehall, Wilkins, Wilkinsburg<br>\n",
    "- Armstrong: Align Dayton, Elderton, Ford City, Kittanning, N Apollo with municipal boundaries; Adjust Cowanshannock, Ford City, Gilpin, Kiskiminetas, Kittanning, Manor, N Buffalo, Parks, Parker City, S Buffalo<br>\n",
    "- Beaver: Adjust Aliquippa, Ambridge, Baden, Beaver, Brighton, Center, Chippewa, Conway, Economy, Franklin, Hanover, Harmony, Hopewell, Midland, Monaca, N Sewickley<br>\n",
    "- Bedford: Adjust Bedford Boro, Bedford Twp<br>\n",
    "- Berks: Adjust Cumru, Douglass, Earl, Oley, Maxatawny, Robeson, Sinking Spring, Union<br>\n",
    "- Blair: Merge Tunnelhill/Allegheny Twp 4; Align Altoona, Bellwood, Duncansville, Hollidaysburg, Newry, Roaring Spring, Tyrone, Williamsburg with municipal boundaries; Adjust Allegheny, Altoona, Antis, Frankstown, Freedom, Greenfield, Huston, Juniata, N Woodbury, Logan, Snyder, Tyrone Boro, Tyrone Twp<br>\n",
    "- Bucks: Align Sellersville, Tullytown with municipal boundaries; Adjust Bensalem, Bristol Boro, Bristol Twp, Buckingham, Doylestown Twp, Falls, Hilltown, Lower Makefield N, Lower Southampton E, Middletown, Milford, Morrissville, Newtown Twp, Northampton, Solebury Lower, Solebury, Springfield, Tinicum, Upper Makefield, Upper Southampton E, Warminster, Warrington, W Rockhill<br>\n",
    "- Butler: Align Butler Twp, Valencia with municipal boundaries; Adjust Adams, Buffalo, Butler Boro, Butler Twp, Center, Cranberry E, Cranberry W, Jackson, Jefferson, Zelienople<br>\n",
    "- Cambria: Align Daisytown, Sankertown, W Taylor, Wilmore with municipal boundaries; Adjust Cambria, Conemaugh, Croyle, E Taylor, Ebensburg, E Carroll, Geistown, Jackson, Johnstown W8, W17, W20, Lower Yoder, Northern Cambria, Portage Boro, Portage Twp, Richland, Southmont, Stonycreek, Summerhill, Susquehanna, Upper Yoder, W Carroll, Westmont<br>\n",
    "- Cameron: Adjust Emporium, Shippen<br>\n",
    "- Carbon: Adjust Jim Thorpe, Kidder, Mahoning, New Mahoning, Summit Hill<br>\n",
    "- Centre: Merge Ferguson Northeast 1 A/B; Adjust Benner,  Ferguson, Patton<br>\n",
    "- Chester: Adjust Birmingham, E Bradford S, E Fallowfield, E Goshen, E Marlborough, Easttown, N Coventry, Spring City, Tredyffrin M, Uwchlan, Valley N, W Bradford, W Caln, W Goshen N, W Goshen S, Westtown<br>\n",
    "- Clarion: Align Shippenville with municipal boundary; Merge Emlenton/Richland; Adjust Clarion, Highland, Farmington, Knox<br>\n",
    "- Clearfield: Adjust Decatur, Woodward<br>\n",
    "- Columbia: Merge Ashland/Conyngham; Adjust Orange, Scott West<br>\n",
    "- Crawford: Align Cochranton, Richmond with municipal boundaries<br>\n",
    "- Cumberland: Split Lower Allen 1/Annex; Align Carlisle, E Pennsboro, Hampton, Lemoyne, Lower Allen, Mechanisburg, Middlesex, Mount Holly Springs, N Middleton, Shiremanstown, Silver Spring, W Pennsboro, Wormsleysburg with municipal boundaries<br>\n",
    "- Dauphin: Align Middletown with municipal boundary; Adjust Derry, Harrisburg W1, W7, W8, W9, Hummelstown, Lower Paxton, Lykens, Middletown<br>\n",
    "- Delaware: Adjust Chester, Concord, Darby Boro, Darby Twp, Haverford, Marple, Nether Providence, Newtown, Radnor, Ridley, Sharon Hill, Thornbury, Tinicum, Trainer, Upper Chichester, Upper Darby, Upper Providence<br>\n",
    "- Elk: Adjust Johnsonburg, Ridgeway Boro, Ridgeway Twp, St. Marys<br>\n",
    "- Erie: Adjust Erie W1, W4, W5, W6, Greene, Lawrence Park, McKean, Millcreek, North East<br>\n",
    "- Fayette: Align Dunbar, Uniontown with municipal boundaries; Adjust Brownsville, Bullskin, Dunbar, Georges, German, Luzerne, N Union, Redstone<br>\n",
    "- Franklin: Align Mercersburg with municipal boundary; Adjust Antrim, Fannett, Greene, Guilford, Hamilton, Metal, Peters, Quincy, St. Thomas, Southampton, Washington<br>\n",
    "- Fulton: Align McConnellsburg with municipal boundary<br>\n",
    "- Greene: Align Carmichaels with municipal boundary; Adjust Cumberland, Franklin, Jefferson, Lipencott, Mather, Morgan Chart, Monongahela, Nemacolin<br>\n",
    "- Huntingdon: Adjust Huntingdon, Mount Union<br>\n",
    "- Jefferson: Adjust Punxsutawney<br>\n",
    "- Lackawanna: Adjust Archbald, Blakely, Carbondale, Clarks Summit, Dickson City, Dunmore, Fell, Jermyn, Jessup, Mayfield, Moosic, Old Forge, Olyphant, Scranton W1, W2, W3, W6, W7, W10, W12, W13, W14, W15, W16, W19, W20, W23, S Abington, Taylor, Throop<br>\n",
    "- Lancaster: Split Lancaster 7-8 CV/LS; Adjust Brecknock, Columbia, E Hempfield, E Lampeter, E Petersburg, Elizabethtown, Ephrata, Lancaster W4, W8, Lititz, Manheim, Manor, Millersville, Mt Joy Twp, New Holland, Penn, Providence, Rapho, Warwick, W Cocalico, W Donegal, W Hempfield<br>\n",
    "- Lawrence: Adjust Neshannock<br>\n",
    "- Lebanon: Adjust Cornwall, S Lebanon<br>\n",
    "- Lehigh: Split Allentown Ward 17-4/Parkland; Adjust Lower Macungie, Salisbury<br>\n",
    "- Luzerne: Align Avoca, Pittston with municipal boundaries; Adjust Butler, Exeter, Fairview, Foster, Hanover, Hazle, Jenkins, Larksville, Lehman, Nanticoke, Plains, Smoyersville, W Wyoming, Wilkes-Barre<br>\n",
    "- Lycoming: Adjust Jersey Shore<br>\n",
    "- McKean: Align Foster with municipal boundary; Adjust Bradford, Bradford Twp, Foster, Hamlin, Keating<br>\n",
    "- Mercer: Adjust Delaware, Fredonia, Greenville, Hempfield, Hermitage, Sharon, Sharpsville, W Salem<br>\n",
    "- Mifflin: Split Brown Reedsville/Church Hill<br>\n",
    "- Monroe: Align E Stroudsburg with municipal boundary; Adjust E Stroudsburg, Smithfield, Stroud, Tobyhanna<br>\n",
    "- Montgomery: Adjust Abington, Lower Merion, Pottstown, Springfield, Upper Moreland, Upper Merion, Upper Providence<br>\n",
    "- Northampton: Align Glendon, Walnutport with municipal boundaries; Adjust Bangor, Bethlehem W2, W3, W4, W7, W9, W14, W15, Bethlehem Twp, Bushkill, Easton, Forks, Hanover, Hellertown, Lehigh, Lower Mt Bethel, Lower Saucon, Moore, Nazareth, Palmer, Plainfield, Upper Mt Bethel, Washington, Williams<br>\n",
    "- Northumberland: Adjust Coal, Kulpmont, Marion Heights, Milton, Mount Carmel, Northumberland, Point, Ralpho, Shamokin, Sunbury, Upper Augusta<br>\n",
    "- Philadelphia: Adjust 1-19/21, 5-3/19, 7-2/3/17, 7-6/7, 9-5/6, 15-7/10, 17-20/26, 20-5/10, 21-1/15, 21-40/41, 22-21/26, 23-11/12, 25-9/17, 25-4/7/12, 25-10/12, 26-1/2, 27-7/8, 27-18/20/21, 28-1/8, 29-9/11, 29-10/17, 30-14/15, 31-5/6, 38-11/17, 38-13/20, 38-15/19, 40-12/18/19, 40-17/19, 42-3/4/7, 44-8/14, 50-3/12, 50-11/27, 52-2/6/9, 52-3/8, 57-6/7, 57-10/27, 57-17/28, 58-6/12, 62-5/19, 65-4/7, 65-11/16, 66-22/34<br>\n",
    "- Pike: Adjust Matamoras<br>\n",
    "- Potter: Adjust Galeton<br>\n",
    "- Schuylkill: Adjust Coaldale, N Manheim, Norwegian, Porter, Pottsville<br>\n",
    "- Somerset: Align New Centerville with municipal boundary; Adjust Conemaugh, Jefferson, Middlecreek, Paint, Somerset Boro<br>\n",
    "- Susquehanna: Adjust Montrose; Lanesboro, Susquehanna Depot<br>\n",
    "- Tioga: Adjust Delmar, Wellsboro<br>\n",
    "- Union: Adjust Buffalo, White Deer<br>\n",
    "- Venango: Adjust Cornplanter, Cranberry, Franklin, Oil City, Sugarcreek<br>\n",
    "- Warren: Adjust Conewango<br>\n",
    "- Washington: Align Allenport, Beallsville, Burgettstown, Canonsburg, Carroll, Charleroi, Claysville, Elco, Finleyville, Houston, Long Branch, McDonald, Midway, Monongahela, Speers, Twilight with municipal boundaries; Adjust Amwell, Bentleyville, California, Canonsburg, Canton, Cecil, Centerville, Chartiers, Donora, Fallowfield, Hanover, Independence, Mount Pleasant, N Franklin, N Strabane, Peters, Robinson, Smith, Somerset, S Franklin, Union Washington, W Brownsville<br>\n",
    "- Wayne: Adjust Honesdale<br>\n",
    "- Westmoreland: Align Greensburg with municipal boundary; Adjust Allegheny, Arnold, Bell, Derry, E Huntingdon, Fairfield, Greensburg W1-W8, Hempfield, Jeannette, Latrobe, Ligonier, Lower Burrell, Monessen, Mount Pleasant, New Kensington, N Belle Vernon, N Huntingdon, Penn, Rostraver, St. Clair, Scottdale, Sewickley, S Greensburg, S Huntingdon, Trafford, Upper Burrell, Unity, Vandergrift, Washington, Youngwood<br>\n",
    "- York: Align E Prospect, Goldsboro, Jefferson, Manchester, Monaghan, Wellsville, York with municipal boundaries; Adjust Chanceford, Codorus, Conewago, Dover, Fairview, Hanover, Jackson, Lower Windsor, New Freedom, Newberry, N Codorus, Penn, Red Lion, Shrewsbury, Spring Garden, Springbettsbury, W Manchester, Windsor Boro, Windsor Twp, Wrightsville, York Twp, York W5, W6, W15<br>\n",
    "\n",
    "\n",
    "### Races\n",
    "\n",
    "G20PREDBID - Joseph R. Biden (Democratic Party)<br>\n",
    "G20PRERTRU - Donald J. Trump (Republican Party)<br>\n",
    "G20PRELJOR - Jo Jorgensen (Libertarian Party)<br>\n",
    "<br>\n",
    "G20ATGDSHA - Joshua D. Shapiro (Democratic Party)<br>\n",
    "G20ATGRHEI - Heather S. Heidelbaugh (Republican Party)<br>\n",
    "G20ATGLWAS - Daniel Wassmer (Libertarian Party)<br>\n",
    "G20ATGGWEI - Richard L. Weiss (Green Party)<br>\n",
    "<br>\n",
    "G20AUDDAHM - Nilofer Nina Ahmad (Democratic Party)<br>\n",
    "G20AUDRDEF - Timothy L. DeFoor (Republican Party)<br>\n",
    "G20AUDLMOO - Jennifer Lynn Moore (Libertarian Party)<br>\n",
    "G20AUDGFAI - Olivia Faison (Green Party)<br>\n",
    "<br>\n",
    "G20TREDTOR - Joseph M. Torsella (Democratic Party)<br>\n",
    "G20TRERGAR - Stacy L. Garrity (Republican Party)<br>\n",
    "G20TRELSOL - Joseph P. Soloski (Libertarian Party)<br>\n",
    "G20TREGRUN - Timothy Runkle (Green Party)\n"
   ]
  },
  {
   "cell_type": "markdown",
   "id": "18d382c8",
   "metadata": {},
   "source": [
    "## Load in VEST file"
   ]
  },
  {
   "cell_type": "code",
   "execution_count": 3,
   "id": "7821ca1b",
   "metadata": {},
   "outputs": [],
   "source": [
    "vest_pa_2020 = gp.read_file('./raw-from-source/VEST/pa_2020/pa_2020.shp')"
   ]
  },
  {
   "cell_type": "code",
   "execution_count": 4,
   "id": "0a25f0af",
   "metadata": {},
   "outputs": [
    {
     "data": {
      "text/plain": [
       "<AxesSubplot:>"
      ]
     },
     "execution_count": 4,
     "metadata": {},
     "output_type": "execute_result"
    },
    {
     "data": {
      "image/png": "[encoded data removed]",
      "text/plain": [
       "<Figure size 432x288 with 1 Axes>"
      ]
     },
     "metadata": {
      "needs_background": "light"
     },
     "output_type": "display_data"
    }
   ],
   "source": [
    "vest_pa_2020.plot()"
   ]
  },
  {
   "cell_type": "markdown",
   "id": "ebfc9149",
   "metadata": {},
   "source": [
    "## Load in OpenElections Results"
   ]
  },
  {
   "cell_type": "code",
   "execution_count": 5,
   "id": "a3cbdf55",
   "metadata": {},
   "outputs": [
    {
     "name": "stderr",
     "output_type": "stream",
     "text": [
      "/usr/local/lib/python3.9/site-packages/IPython/core/interactiveshell.py:3169: DtypeWarning: Columns (3,6,8) have mixed types.Specify dtype option on import or set low_memory=False.\n",
      "  has_raised = await self.run_ast_nodes(code_ast.body, cell_name,\n"
     ]
    }
   ],
   "source": [
    "oe_county_df = pd.read_csv('./raw-from-source/Election_Results/20201103__pa__general__county.csv')\n",
    "oe_precinct_df = pd.read_csv('./raw-from-source/Election_Results/20201103__pa__general__precinct.csv')"
   ]
  },
  {
   "cell_type": "code",
   "execution_count": 6,
   "id": "2310eb39",
   "metadata": {},
   "outputs": [],
   "source": [
    "candidate_to_vest_map = {\n",
    "    'JOSEPH R. BIDEN': 'G20PREDBID', \n",
    "    'DONALD J. TRUMP': 'G20PRERTRU', \n",
    "    'JO JORGENSEN': 'G20PRELJOR', \n",
    "    'JOSH SHAPIRO': 'G20ATGDSHA', \n",
    "    'HEATHER HEIDELBAUGH': 'G20ATGRHEI', \n",
    "    'DANIEL WASSMER': 'G20ATGLWAS', \n",
    "    'RICHARD WEISS': 'G20ATGGWEI', \n",
    "    'NINA AHMAD': 'G20AUDDAHM', \n",
    "    'TIMOTHY DEFOOR': 'G20AUDRDEF', \n",
    "    'JENNIFER MOORE': 'G20AUDLMOO', \n",
    "    'OLIVIA FAISON': 'G20AUDGFAI', \n",
    "    'JOE TORSELLA': 'G20TREDTOR', \n",
    "    'STACY GARRITY': 'G20TRERGAR', \n",
    "    'JOE SOLOSKI': 'G20TRELSOL', \n",
    "    'TIMOTHY RUNKLE': 'G20TREGRUN'\n",
    "}"
   ]
  },
  {
   "cell_type": "markdown",
   "id": "ca8a09ea",
   "metadata": {},
   "source": [
    "Standardize/clean county dataframe\n",
    "\n",
    "NOTE: OE County dataframe is missing quite a few counties..."
   ]
  },
  {
   "cell_type": "code",
   "execution_count": 7,
   "id": "74ec8d3f",
   "metadata": {},
   "outputs": [],
   "source": [
    "oe_county_df\n",
    "oe_county_df['candidate'] = oe_county_df['candidate'].fillna('')\n",
    "oe_county_df['candidate'] = oe_county_df['candidate'].apply(lambda e: e.upper())\n",
    "vote_cols = ['votes', 'election_day', 'mail', 'absentee', 'provisional']\n",
    "\n",
    "for vc in vote_cols:\n",
    "    oe_county_df[vc] = oe_county_df[vc].replace({',': ''}, regex=True)\n",
    "    oe_county_df[vc] = oe_county_df[vc].fillna(0)\n",
    "    oe_county_df[vc] = oe_county_df[vc].astype(int)\n"
   ]
  },
  {
   "cell_type": "code",
   "execution_count": 8,
   "id": "e6e5aa3d",
   "metadata": {},
   "outputs": [],
   "source": [
    "oe_county_df.to_csv('./oe-county-cleaned.csv', index=False)"
   ]
  },
  {
   "cell_type": "markdown",
   "id": "ba651ea7",
   "metadata": {},
   "source": [
    "### Process/Clean OE Precinct File"
   ]
  },
  {
   "cell_type": "markdown",
   "id": "bf049819",
   "metadata": {},
   "source": [
    "Perform rudimentary standardization/cleaning of the precinct data"
   ]
  },
  {
   "cell_type": "code",
   "execution_count": 9,
   "id": "16317547",
   "metadata": {},
   "outputs": [],
   "source": [
    "oe_precinct_df['votes'] = oe_precinct_df['votes'].replace({',': ''}, regex=True)\n",
    "oe_precinct_df['absentee'] = oe_precinct_df['absentee'].replace({',': ''}, regex=True)\n",
    "oe_precinct_df['election_day'] = oe_precinct_df['election_day'].replace({',': ''}, regex=True)"
   ]
  },
  {
   "cell_type": "code",
   "execution_count": 10,
   "id": "d9170c20",
   "metadata": {},
   "outputs": [],
   "source": [
    "oe_precinct_df['candidate'] = oe_precinct_df['candidate'].fillna('')\n",
    "\n",
    "# remove commas/other separators from numeric columns\n",
    "oe_precinct_df['votes'] = oe_precinct_df['votes'].replace({',': ''})\n",
    "oe_precinct_df['absentee'] = oe_precinct_df['absentee'].replace({',': ''})\n",
    "oe_precinct_df['election_day'] = oe_precinct_df['election_day'].replace({',': ''})\n",
    "\n",
    "# numeric dtype conversions\n",
    "oe_precinct_df['votes'] = oe_precinct_df['votes'].fillna(0)\n",
    "oe_precinct_df['votes'] = oe_precinct_df['votes'].astype(int)\n",
    "#oe_precinct_df['votes'] = oe_precinct_df['votes'].apply(pd.to_numeric)\n",
    "\n",
    "oe_precinct_df['absentee'] = oe_precinct_df['absentee'].fillna(0)\n",
    "oe_precinct_df['absentee'] = oe_precinct_df['absentee'].astype(int)\n",
    "# oe_precinct_df['absentee'] = oe_precinct_df['absentee'].apply(pd.to_numeric)\n",
    "\n",
    "oe_precinct_df['election_day'] = oe_precinct_df['election_day'].fillna(0)\n",
    "oe_precinct_df['election_day'] = oe_precinct_df['election_day'].astype(int)\n",
    "# oe_precinct_df['election_day'] = oe_precinct_df['election_day'].apply(pd.to_numeric)\n",
    "\n",
    "# capitalize all candidate names\n",
    "oe_precinct_df['candidate'] = oe_precinct_df['candidate'].apply(lambda e: e.upper())"
   ]
  },
  {
   "cell_type": "code",
   "execution_count": 11,
   "id": "7e3de77c",
   "metadata": {},
   "outputs": [
    {
     "data": {
      "text/plain": [
       "county          object\n",
       "precinct        object\n",
       "office          object\n",
       "district        object\n",
       "candidate       object\n",
       "party           object\n",
       "votes            int64\n",
       "absentee         int64\n",
       "election_day     int64\n",
       "dtype: object"
      ]
     },
     "execution_count": 11,
     "metadata": {},
     "output_type": "execute_result"
    }
   ],
   "source": [
    "oe_precinct_df.dtypes"
   ]
  },
  {
   "cell_type": "code",
   "execution_count": 12,
   "id": "89531b17",
   "metadata": {},
   "outputs": [],
   "source": [
    "oe_precinct_df['candidate'] = oe_precinct_df['candidate'].apply(lambda e: e.upper())"
   ]
  },
  {
   "cell_type": "code",
   "execution_count": 13,
   "id": "e268c1aa",
   "metadata": {},
   "outputs": [
    {
     "data": {
      "text/plain": [
       "array(['President', 'Attorney General', 'Auditor General',\n",
       "       'State Treasurer', 'U.S. House', 'State Senate', 'State House',\n",
       "       'Ballots Cast', 'Registered Voters'], dtype=object)"
      ]
     },
     "execution_count": 13,
     "metadata": {},
     "output_type": "execute_result"
    }
   ],
   "source": [
    "oe_precinct_df['office'].unique()"
   ]
  },
  {
   "cell_type": "code",
   "execution_count": 14,
   "id": "c041b463",
   "metadata": {},
   "outputs": [],
   "source": [
    "# Collect presidential data\n",
    "pres_dem = oe_precinct_df.loc[oe_precinct_df['candidate'] == 'JOSEPH R. BIDEN'].copy(deep=True)\n",
    "pres_dem['candidate'] = 'JOSEPH R. BIDEN'\n",
    "pres_rep = oe_precinct_df.loc[oe_precinct_df['candidate'] == 'DONALD J. TRUMP'].copy(deep=True)\n",
    "pres_rep['candidate'] = 'DONALD J. TRUMP'\n",
    "pres_lib = oe_precinct_df.loc[oe_precinct_df['candidate'].isin(['JO JORGENSEN', 'JORGENSEN AND COHEN', 'JORGENSEN/COHE'])].copy(deep=True)\n",
    "pres_lib['candidate'] = 'JO JORGENSEN'"
   ]
  },
  {
   "cell_type": "code",
   "execution_count": 15,
   "id": "5c4c1a91",
   "metadata": {},
   "outputs": [
    {
     "data": {
      "text/plain": [
       "array(['NINA AHMAD', 'TIMOTHY DEFOOR', 'JENNIFER MOORE', 'OLIVIA FAISON',\n",
       "       'WRITE-INS', 'UNRESOLVED WRITE-IN', 'NINA AHMED',\n",
       "       'OLIVIA FASON GREEN', 'WRITE-IN: SCATTERED', 'NOT ASSIGNED',\n",
       "       'OVER VOTES', 'UNDER VOTES', 'OVERVOTE', 'WRITE-IN',\n",
       "       'WRITE-IN: BLANK', 'WRITE-IN: INVALID', 'REJECTED WRITE-INS',\n",
       "       'UNASSIGNED WRITE-INS'], dtype=object)"
      ]
     },
     "execution_count": 15,
     "metadata": {},
     "output_type": "execute_result"
    }
   ],
   "source": [
    "oe_precinct_df.loc[oe_precinct_df['office'] == 'Auditor General']['candidate'].unique()"
   ]
  },
  {
   "cell_type": "code",
   "execution_count": 16,
   "id": "f9c920ac",
   "metadata": {},
   "outputs": [],
   "source": [
    "aud_dem = oe_precinct_df.loc[oe_precinct_df['candidate'].isin(['NINA AHMAD', 'NINA AHMED'])].copy(deep=True)\n",
    "aud_dem['candidate'] = 'NINA AHMAD'\n",
    "aud_rep = oe_precinct_df.loc[oe_precinct_df['candidate'].isin(['TIMOTHY DEFOOR'])].copy(deep=True)\n",
    "aud_rep['candidate'] = 'TIMOTHY DEFOOR'\n",
    "aud_lib = oe_precinct_df.loc[oe_precinct_df['candidate'].isin(['JENNIFER MOORE'])].copy(deep=True)\n",
    "aud_lib['candidate'] = 'JENNIFER MOORE'\n",
    "aud_grn = oe_precinct_df.loc[oe_precinct_df['candidate'].isin(['OLIVIA FASON GREEN', 'OLIVIA FAISON'])].copy(deep=True)\n",
    "aud_grn['candidate'] = 'OLIVIA FAISON'"
   ]
  },
  {
   "cell_type": "code",
   "execution_count": 17,
   "id": "9cd3ccd8",
   "metadata": {},
   "outputs": [
    {
     "data": {
      "text/plain": [
       "array(['JOSH SHAPIRO', 'HEATHER HEIDELBAUGH', 'DANIEL WASSMER',\n",
       "       'RICHARD L. WEISS', 'WRITE-INS', 'RICHARD L WEISS',\n",
       "       'UNRESOLVED WRITE-IN', 'WRITE-IN: SCATTERED', 'NOT ASSIGNED',\n",
       "       'OVER VOTES', 'UNDER VOTES', 'OVERVOTE', 'WRITE-IN',\n",
       "       'WRITE-IN: BLANK', 'WRITE-IN: INVALID', 'RICHARD WEISS',\n",
       "       'REJECTED WRITE-INS', 'UNASSIGNED WRITE-INS', 'NINA AHMAD',\n",
       "       'TIMOTHY DEFOOR', 'JENNIFER MOORE', 'OLIVIA FAISON'], dtype=object)"
      ]
     },
     "execution_count": 17,
     "metadata": {},
     "output_type": "execute_result"
    }
   ],
   "source": [
    "oe_precinct_df.loc[oe_precinct_df['office'] == 'Attorney General']['candidate'].unique()"
   ]
  },
  {
   "cell_type": "code",
   "execution_count": 18,
   "id": "c342b146",
   "metadata": {},
   "outputs": [],
   "source": [
    "atg_dem = oe_precinct_df.loc[oe_precinct_df['candidate'].isin(['JOSH SHAPIRO'])].copy(deep=True)\n",
    "atg_dem['candidate'] = 'JOSH SHAPIRO'\n",
    "atg_rep = oe_precinct_df.loc[oe_precinct_df['candidate'].isin(['HEATHER HEIDELBAUGH'])].copy(deep=True)\n",
    "atg_rep['candidate'] = 'HEATHER HEIDELBAUGH'\n",
    "atg_lib = oe_precinct_df.loc[oe_precinct_df['candidate'].isin(['DANIEL WASSMER'])].copy(deep=True)\n",
    "atg_lib['candidate'] = 'DANIEL WASSMER'\n",
    "atg_grn = oe_precinct_df.loc[oe_precinct_df['candidate'].isin(['RICHARD WEISS', 'RICHARD L WEISS', 'RICHARD L. WEISS'])].copy(deep=True)\n",
    "atg_grn['candidate'] = 'RICHARD WEISS'"
   ]
  },
  {
   "cell_type": "code",
   "execution_count": 19,
   "id": "a5e70c5c",
   "metadata": {},
   "outputs": [
    {
     "data": {
      "text/plain": [
       "array(['JOE TORSELLA', 'STACY L. GARRITY', 'JOE SOLOSKI',\n",
       "       'TIMOTHY RUNKLE', 'WRITE-INS', 'STACY L GARRITY',\n",
       "       'UNRESOLVED WRITE-IN', 'SCATTER WRITE-IN', 'WRITE-IN: SCATTERED',\n",
       "       'NOT ASSIGNED', 'OVER VOTES', 'UNDER VOTES', 'OVERVOTE',\n",
       "       'WRITE-IN', 'WRITE-IN: BLANK', 'WRITE-IN: INVALID',\n",
       "       'STACY GARRITY', 'REJECTED WRITE-INS', 'UNASSIGNED WRITE-INS'],\n",
       "      dtype=object)"
      ]
     },
     "execution_count": 19,
     "metadata": {},
     "output_type": "execute_result"
    }
   ],
   "source": [
    "oe_precinct_df.loc[oe_precinct_df['office'] == 'State Treasurer']['candidate'].unique()"
   ]
  },
  {
   "cell_type": "code",
   "execution_count": 20,
   "id": "1d2528c7",
   "metadata": {},
   "outputs": [],
   "source": [
    "tre_dem = oe_precinct_df.loc[oe_precinct_df['candidate'].isin(['JOE TORSELLA'])].copy(deep=True)\n",
    "tre_dem['candidate'] = 'JOE TORSELLA'\n",
    "tre_rep = oe_precinct_df.loc[oe_precinct_df['candidate'].isin(['STACY GARRITY', 'STACY L GARRITY', 'STACY L. GARRITY'])].copy(deep=True)\n",
    "tre_rep['candidate'] = 'STACY GARRITY'\n",
    "tre_lib = oe_precinct_df.loc[oe_precinct_df['candidate'].isin(['JOE SOLOSKI'])].copy(deep=True)\n",
    "tre_lib['candidate'] = 'JOE SOLOSKI'\n",
    "tre_grn = oe_precinct_df.loc[oe_precinct_df['candidate'].isin(['TIMOTHY RUNKLE'])].copy(deep=True)\n",
    "tre_grn['candidate'] = 'TIMOTHY RUNKLE'\n"
   ]
  },
  {
   "cell_type": "code",
   "execution_count": 21,
   "id": "1efb3013",
   "metadata": {},
   "outputs": [
    {
     "data": {
      "text/html": [
       "<div>\n",
       "<style scoped>\n",
       "    .dataframe tbody tr th:only-of-type {\n",
       "        vertical-align: middle;\n",
       "    }\n",
       "\n",
       "    .dataframe tbody tr th {\n",
       "        vertical-align: top;\n",
       "    }\n",
       "\n",
       "    .dataframe thead th {\n",
       "        text-align: right;\n",
       "    }\n",
       "</style>\n",
       "<table border=\"1\" class=\"dataframe\">\n",
       "  <thead>\n",
       "    <tr style=\"text-align: right;\">\n",
       "      <th></th>\n",
       "      <th>county</th>\n",
       "      <th>precinct</th>\n",
       "      <th>office</th>\n",
       "      <th>district</th>\n",
       "      <th>candidate</th>\n",
       "      <th>party</th>\n",
       "      <th>votes</th>\n",
       "      <th>absentee</th>\n",
       "      <th>election_day</th>\n",
       "    </tr>\n",
       "  </thead>\n",
       "  <tbody>\n",
       "    <tr>\n",
       "      <th>0</th>\n",
       "      <td>Allegheny</td>\n",
       "      <td>ALEPPO</td>\n",
       "      <td>President</td>\n",
       "      <td>NaN</td>\n",
       "      <td>JOSEPH R. BIDEN</td>\n",
       "      <td>DEM</td>\n",
       "      <td>559</td>\n",
       "      <td>385</td>\n",
       "      <td>166</td>\n",
       "    </tr>\n",
       "    <tr>\n",
       "      <th>1</th>\n",
       "      <td>Allegheny</td>\n",
       "      <td>ASPINWALL DIST 1</td>\n",
       "      <td>President</td>\n",
       "      <td>NaN</td>\n",
       "      <td>JOSEPH R. BIDEN</td>\n",
       "      <td>DEM</td>\n",
       "      <td>493</td>\n",
       "      <td>274</td>\n",
       "      <td>209</td>\n",
       "    </tr>\n",
       "    <tr>\n",
       "      <th>2</th>\n",
       "      <td>Allegheny</td>\n",
       "      <td>ASPINWALL DIST 2</td>\n",
       "      <td>President</td>\n",
       "      <td>NaN</td>\n",
       "      <td>JOSEPH R. BIDEN</td>\n",
       "      <td>DEM</td>\n",
       "      <td>338</td>\n",
       "      <td>187</td>\n",
       "      <td>143</td>\n",
       "    </tr>\n",
       "    <tr>\n",
       "      <th>3</th>\n",
       "      <td>Allegheny</td>\n",
       "      <td>ASPINWALL DIST 3</td>\n",
       "      <td>President</td>\n",
       "      <td>NaN</td>\n",
       "      <td>JOSEPH R. BIDEN</td>\n",
       "      <td>DEM</td>\n",
       "      <td>491</td>\n",
       "      <td>284</td>\n",
       "      <td>200</td>\n",
       "    </tr>\n",
       "    <tr>\n",
       "      <th>4</th>\n",
       "      <td>Allegheny</td>\n",
       "      <td>AVALON WARD 1</td>\n",
       "      <td>President</td>\n",
       "      <td>NaN</td>\n",
       "      <td>JOSEPH R. BIDEN</td>\n",
       "      <td>DEM</td>\n",
       "      <td>557</td>\n",
       "      <td>295</td>\n",
       "      <td>238</td>\n",
       "    </tr>\n",
       "    <tr>\n",
       "      <th>...</th>\n",
       "      <td>...</td>\n",
       "      <td>...</td>\n",
       "      <td>...</td>\n",
       "      <td>...</td>\n",
       "      <td>...</td>\n",
       "      <td>...</td>\n",
       "      <td>...</td>\n",
       "      <td>...</td>\n",
       "      <td>...</td>\n",
       "    </tr>\n",
       "    <tr>\n",
       "      <th>422510</th>\n",
       "      <td>Centre</td>\n",
       "      <td>82-UNION</td>\n",
       "      <td>President</td>\n",
       "      <td>NaN</td>\n",
       "      <td>JOSEPH R. BIDEN</td>\n",
       "      <td>DEM</td>\n",
       "      <td>168</td>\n",
       "      <td>0</td>\n",
       "      <td>0</td>\n",
       "    </tr>\n",
       "    <tr>\n",
       "      <th>422561</th>\n",
       "      <td>Centre</td>\n",
       "      <td>35-UNIONVILLE</td>\n",
       "      <td>President</td>\n",
       "      <td>NaN</td>\n",
       "      <td>JOSEPH R. BIDEN</td>\n",
       "      <td>DEM</td>\n",
       "      <td>40</td>\n",
       "      <td>0</td>\n",
       "      <td>0</td>\n",
       "    </tr>\n",
       "    <tr>\n",
       "      <th>422612</th>\n",
       "      <td>Centre</td>\n",
       "      <td>83-WALKER EAST</td>\n",
       "      <td>President</td>\n",
       "      <td>NaN</td>\n",
       "      <td>JOSEPH R. BIDEN</td>\n",
       "      <td>DEM</td>\n",
       "      <td>240</td>\n",
       "      <td>0</td>\n",
       "      <td>0</td>\n",
       "    </tr>\n",
       "    <tr>\n",
       "      <th>422663</th>\n",
       "      <td>Centre</td>\n",
       "      <td>84-WALKER WEST</td>\n",
       "      <td>President</td>\n",
       "      <td>NaN</td>\n",
       "      <td>JOSEPH R. BIDEN</td>\n",
       "      <td>DEM</td>\n",
       "      <td>692</td>\n",
       "      <td>0</td>\n",
       "      <td>0</td>\n",
       "    </tr>\n",
       "    <tr>\n",
       "      <th>422714</th>\n",
       "      <td>Centre</td>\n",
       "      <td>85-WORTH</td>\n",
       "      <td>President</td>\n",
       "      <td>NaN</td>\n",
       "      <td>JOSEPH R. BIDEN</td>\n",
       "      <td>DEM</td>\n",
       "      <td>116</td>\n",
       "      <td>0</td>\n",
       "      <td>0</td>\n",
       "    </tr>\n",
       "  </tbody>\n",
       "</table>\n",
       "<p>10439 rows × 9 columns</p>\n",
       "</div>"
      ],
      "text/plain": [
       "           county          precinct     office district        candidate  \\\n",
       "0       Allegheny            ALEPPO  President      NaN  JOSEPH R. BIDEN   \n",
       "1       Allegheny  ASPINWALL DIST 1  President      NaN  JOSEPH R. BIDEN   \n",
       "2       Allegheny  ASPINWALL DIST 2  President      NaN  JOSEPH R. BIDEN   \n",
       "3       Allegheny  ASPINWALL DIST 3  President      NaN  JOSEPH R. BIDEN   \n",
       "4       Allegheny     AVALON WARD 1  President      NaN  JOSEPH R. BIDEN   \n",
       "...           ...               ...        ...      ...              ...   \n",
       "422510     Centre          82-UNION  President      NaN  JOSEPH R. BIDEN   \n",
       "422561     Centre     35-UNIONVILLE  President      NaN  JOSEPH R. BIDEN   \n",
       "422612     Centre    83-WALKER EAST  President      NaN  JOSEPH R. BIDEN   \n",
       "422663     Centre    84-WALKER WEST  President      NaN  JOSEPH R. BIDEN   \n",
       "422714     Centre          85-WORTH  President      NaN  JOSEPH R. BIDEN   \n",
       "\n",
       "       party  votes  absentee  election_day  \n",
       "0        DEM    559       385           166  \n",
       "1        DEM    493       274           209  \n",
       "2        DEM    338       187           143  \n",
       "3        DEM    491       284           200  \n",
       "4        DEM    557       295           238  \n",
       "...      ...    ...       ...           ...  \n",
       "422510   DEM    168         0             0  \n",
       "422561   DEM     40         0             0  \n",
       "422612   DEM    240         0             0  \n",
       "422663   DEM    692         0             0  \n",
       "422714   DEM    116         0             0  \n",
       "\n",
       "[10439 rows x 9 columns]"
      ]
     },
     "execution_count": 21,
     "metadata": {},
     "output_type": "execute_result"
    }
   ],
   "source": [
    "pres_dem"
   ]
  },
  {
   "cell_type": "markdown",
   "id": "0ed9715a",
   "metadata": {},
   "source": [
    "Test aggregation"
   ]
  },
  {
   "cell_type": "markdown",
   "id": "0103406d",
   "metadata": {},
   "source": [
    "<strong>IMPORTANT:</strong> the sums of the `absentee` and `election_day` columns is not always the value in `votes`."
   ]
  },
  {
   "cell_type": "code",
   "execution_count": 22,
   "id": "23149d6f",
   "metadata": {},
   "outputs": [],
   "source": [
    "# aggregate the individual candidate tables\n",
    "cand_partitions = [pres_dem, pres_rep, pres_lib, aud_dem, aud_rep, aud_lib, aud_grn, atg_dem, atg_rep, atg_lib, atg_grn, tre_dem, tre_rep, tre_lib, tre_grn]\n",
    "cand_partitions = list(map(lambda e: e.groupby(['county', 'candidate']).agg({'votes': np.sum, 'absentee': np.sum, 'election_day': np.sum}), cand_partitions))\n",
    "\n",
    "results_df = pd.concat(cand_partitions)\n",
    "\n",
    "# pres_dem.groupby(['county', 'candidate']).agg({'votes': np.sum, 'absentee': np.sum, 'election_day': np.sum})"
   ]
  },
  {
   "cell_type": "code",
   "execution_count": 23,
   "id": "0d261e5e",
   "metadata": {},
   "outputs": [],
   "source": [
    "# build the pivot table by bringing the vote type attributes down, applying VEST IDs to candidate names, and fixing a few labels.\n",
    "results_df = results_df.unstack().stack(level=0)\n",
    "results_df = results_df.reset_index()\n",
    "results_df = results_df.set_index('county')\n",
    "results_df = results_df.rename(columns={'level_1': 'VoteType'})\n",
    "candidate_labels = list(filter(lambda e: e in candidate_to_vest_map.keys(), list(results_df.columns)))\n",
    "results_df.columns = [\"VoteType\"] + list(map(lambda e: candidate_to_vest_map[e], candidate_labels))\n",
    "results_df = results_df[['VoteType', 'G20PREDBID', 'G20PRERTRU', 'G20PRELJOR', 'G20ATGDSHA', 'G20ATGRHEI', 'G20ATGLWAS', 'G20ATGGWEI', 'G20AUDDAHM', 'G20AUDRDEF', 'G20AUDLMOO', 'G20AUDGFAI', 'G20TREDTOR', 'G20TRERGAR', 'G20TRELSOL', 'G20TREGRUN']]\n"
   ]
  },
  {
   "cell_type": "markdown",
   "id": "77ea06fc",
   "metadata": {},
   "source": [
    "Build County FIPS dictionary"
   ]
  },
  {
   "cell_type": "code",
   "execution_count": 24,
   "id": "afbd53d6",
   "metadata": {},
   "outputs": [],
   "source": [
    "fips_df = pd.read_csv('./raw-from-source/FIPS/US_FIPS_CODES.csv')\n",
    "pa_fips_df = fips_df.loc[fips_df['State'] == 'Pennsylvania']\n",
    "pa_fips = dict(zip(list(pa_fips_df['County Name']), list(pa_fips_df['FIPS County'])))"
   ]
  },
  {
   "cell_type": "markdown",
   "id": "a28ca4da",
   "metadata": {},
   "source": [
    "Add FIPS column to the precinct data"
   ]
  },
  {
   "cell_type": "code",
   "execution_count": 25,
   "id": "a0a0712f",
   "metadata": {},
   "outputs": [],
   "source": [
    "results_df = results_df.reset_index()\n",
    "results_df['county_fips'] = results_df['county'].apply(lambda e: str(pa_fips[e]).zfill(3))\n",
    "# move the fips column to the LHS of the table\n",
    "results_df = results_df[['county_fips', 'county', 'VoteType', 'G20PREDBID','G20PRERTRU','G20PRELJOR','G20ATGDSHA','G20ATGRHEI','G20ATGLWAS','G20ATGGWEI','G20AUDDAHM','G20AUDRDEF','G20AUDLMOO','G20AUDGFAI','G20TREDTOR','G20TRERGAR','G20TRELSOL','G20TREGRUN']]"
   ]
  },
  {
   "cell_type": "markdown",
   "id": "66e40414",
   "metadata": {},
   "source": [
    "Export two versions of this file: one with all of the `VoteType`s, and one with just `votes` (which will likely be the only reliable column, but that's just a guess right now)"
   ]
  },
  {
   "cell_type": "code",
   "execution_count": 26,
   "id": "8bec750e",
   "metadata": {},
   "outputs": [],
   "source": [
    "pct_data_total_only = results_df.loc[results_df['VoteType'] == 'votes'].copy(deep=True)\n",
    "pct_data_total_only.to_csv('oe-precinct-total-only.csv', index=False)"
   ]
  },
  {
   "cell_type": "code",
   "execution_count": 27,
   "id": "2def9252",
   "metadata": {},
   "outputs": [],
   "source": [
    "# contains all other votetypes\n",
    "results_df.to_csv('oe-precinct-all-votetypes.csv', index=False)"
   ]
  },
  {
   "cell_type": "markdown",
   "id": "03782052",
   "metadata": {},
   "source": [
    "### Group OE County Data"
   ]
  },
  {
   "cell_type": "code",
   "execution_count": 28,
   "id": "db6b7dcb",
   "metadata": {},
   "outputs": [],
   "source": [
    "oe_county_df = pd.read_csv('./oe-county-cleaned.csv')\n",
    "oe_county_df = oe_county_df.fillna('')"
   ]
  },
  {
   "cell_type": "markdown",
   "id": "34b366be",
   "metadata": {},
   "source": [
    "Standardize candidate names by capturing all rows w/ variants of their name, and mapping them to one single value (this is the value in `candidate_to_vest_map`)"
   ]
  },
  {
   "cell_type": "code",
   "execution_count": 29,
   "id": "7887a69f",
   "metadata": {},
   "outputs": [],
   "source": [
    "# Collect presidential data\n",
    "pres_dem = oe_county_df.loc[oe_county_df['candidate'] == 'JOSEPH R. BIDEN'].copy(deep=True)\n",
    "pres_dem['candidate'] = 'JOSEPH R. BIDEN'\n",
    "pres_rep = oe_county_df.loc[oe_county_df['candidate'] == 'DONALD J. TRUMP'].copy(deep=True)\n",
    "pres_rep['candidate'] = 'DONALD J. TRUMP'\n",
    "pres_lib = oe_county_df.loc[oe_county_df['candidate'].isin(['JO JORGENSEN', 'JORGENSEN AND COHEN', 'JORGENSEN/COHE'])].copy(deep=True)\n",
    "pres_lib['candidate'] = 'JO JORGENSEN'\n",
    "aud_dem = oe_county_df.loc[oe_county_df['candidate'].isin(['NINA AHMAD', 'NINA AHMED'])].copy(deep=True)\n",
    "aud_dem['candidate'] = 'NINA AHMAD'\n",
    "aud_rep = oe_county_df.loc[oe_county_df['candidate'].isin(['TIMOTHY DEFOOR'])].copy(deep=True)\n",
    "aud_rep['candidate'] = 'TIMOTHY DEFOOR'\n",
    "aud_lib = oe_county_df.loc[oe_county_df['candidate'].isin(['JENNIFER MOORE'])].copy(deep=True)\n",
    "aud_lib['candidate'] = 'JENNIFER MOORE'\n",
    "aud_grn = oe_county_df.loc[oe_county_df['candidate'].isin(['OLIVIA FASON GREEN', 'OLIVIA FAISON'])].copy(deep=True)\n",
    "aud_grn['candidate'] = 'OLIVIA FAISON'\n",
    "atg_dem = oe_county_df.loc[oe_county_df['candidate'].isin(['JOSH SHAPIRO'])].copy(deep=True)\n",
    "atg_dem['candidate'] = 'JOSH SHAPIRO'\n",
    "atg_rep = oe_county_df.loc[oe_county_df['candidate'].isin(['HEATHER HEIDELBAUGH'])].copy(deep=True)\n",
    "atg_rep['candidate'] = 'HEATHER HEIDELBAUGH'\n",
    "atg_lib = oe_county_df.loc[oe_county_df['candidate'].isin(['DANIEL WASSMER'])].copy(deep=True)\n",
    "atg_lib['candidate'] = 'DANIEL WASSMER'\n",
    "atg_grn = oe_county_df.loc[oe_county_df['candidate'].isin(['RICHARD WEISS', 'RICHARD L WEISS', 'RICHARD L. WEISS'])].copy(deep=True)\n",
    "atg_grn['candidate'] = 'RICHARD WEISS'\n",
    "tre_dem = oe_county_df.loc[oe_county_df['candidate'].isin(['JOE TORSELLA'])].copy(deep=True)\n",
    "tre_dem['candidate'] = 'JOE TORSELLA'\n",
    "tre_rep = oe_county_df.loc[oe_county_df['candidate'].isin(['STACY GARRITY', 'STACY L GARRITY', 'STACY L. GARRITY'])].copy(deep=True)\n",
    "tre_rep['candidate'] = 'STACY GARRITY'\n",
    "tre_lib = oe_county_df.loc[oe_county_df['candidate'].isin(['JOE SOLOSKI'])].copy(deep=True)\n",
    "tre_lib['candidate'] = 'JOE SOLOSKI'\n",
    "tre_grn = oe_county_df.loc[oe_county_df['candidate'].isin(['TIMOTHY RUNKLE'])].copy(deep=True)\n",
    "tre_grn['candidate'] = 'TIMOTHY RUNKLE'\n",
    "\n",
    "# aggregate the data for each candidate\n",
    "cand_partitions = [pres_dem, pres_rep, pres_lib, aud_dem, aud_rep, aud_lib, aud_grn, atg_dem, atg_rep, atg_lib, atg_grn, tre_dem, tre_rep, tre_lib, tre_grn]\n",
    "cand_partitions = list(map(lambda e: e.groupby(['county', 'candidate']).agg({'votes': np.sum, 'election_day': np.sum, 'mail': np.sum, 'absentee': np.sum, 'provisional': np.sum}), cand_partitions))\n",
    "\n",
    "# combine all of the aggregated candidate tables together\n",
    "results_df = pd.concat(cand_partitions)"
   ]
  },
  {
   "cell_type": "markdown",
   "id": "d3ca664c",
   "metadata": {},
   "source": [
    "Pivot vote types to a column, move candidate names to the top of the table, map candidate's names to their VEST IDs."
   ]
  },
  {
   "cell_type": "code",
   "execution_count": 30,
   "id": "c9544fd6",
   "metadata": {},
   "outputs": [],
   "source": [
    "results_df = results_df.copy(deep=True)\n",
    "results_df = results_df.unstack().stack(level=0)\n",
    "results_df = results_df.reset_index()\n",
    "results_df = results_df.set_index('county')\n",
    "results_df = results_df.rename(columns={'level_1': 'VoteType'})\n",
    "candidate_labels = list(filter(lambda e: e in candidate_to_vest_map.keys(), list(results_df.columns)))\n",
    "results_df.columns = [\"VoteType\"] + list(map(lambda e: candidate_to_vest_map[e], candidate_labels))\n",
    "results_df = results_df[['VoteType', 'G20PREDBID', 'G20PRERTRU', 'G20PRELJOR', 'G20ATGDSHA', 'G20ATGRHEI', 'G20ATGLWAS', 'G20ATGGWEI', 'G20AUDDAHM', 'G20AUDRDEF', 'G20AUDLMOO', 'G20AUDGFAI', 'G20TREDTOR', 'G20TRERGAR', 'G20TRELSOL', 'G20TREGRUN']]"
   ]
  },
  {
   "cell_type": "markdown",
   "id": "fb290866",
   "metadata": {},
   "source": [
    "Create a FIPS column"
   ]
  },
  {
   "cell_type": "code",
   "execution_count": 31,
   "id": "357a4be1",
   "metadata": {},
   "outputs": [],
   "source": [
    "results_df = results_df.reset_index()\n",
    "results_df['county_fips'] = results_df['county'].apply(lambda e: str(pa_fips[e]).zfill(3))\n",
    "# move the fips column to the LHS of the table\n",
    "results_df = results_df[['county_fips', 'county', 'VoteType', 'G20PREDBID','G20PRERTRU','G20PRELJOR','G20ATGDSHA','G20ATGRHEI','G20ATGLWAS','G20ATGGWEI','G20AUDDAHM','G20AUDRDEF','G20AUDLMOO','G20AUDGFAI','G20TREDTOR','G20TRERGAR','G20TRELSOL','G20TREGRUN']]"
   ]
  },
  {
   "cell_type": "markdown",
   "id": "f7bcc3d1",
   "metadata": {},
   "source": [
    "Again, export two files. One with all VoteTypes, and one with just 'votes'. "
   ]
  },
  {
   "cell_type": "code",
   "execution_count": 32,
   "id": "b8f5b377",
   "metadata": {},
   "outputs": [],
   "source": [
    "county_data_total_only = results_df.loc[results_df['VoteType'] == 'votes'].copy(deep=True)\n",
    "county_data_total_only.to_csv('oe-county-total-only.csv', index=False)\n",
    "results_df.to_csv('oe-county-all-votetypes.csv', index=False)"
   ]
  },
  {
   "cell_type": "markdown",
   "id": "537c053b",
   "metadata": {},
   "source": [
    "## Election Data Analysis"
   ]
  },
  {
   "cell_type": "markdown",
   "id": "97ce08a5",
   "metadata": {},
   "source": [
    "Now that we've extracted the Presidential, Auditor, Attorney General, and Treasurer results from the two OE files (`20201103__pa__general__county.csv` and `20201103__pa__general__precinct.csv`), we can begin to compare VEST's results to ours."
   ]
  },
  {
   "cell_type": "code",
   "execution_count": 69,
   "id": "51cc79ef",
   "metadata": {},
   "outputs": [],
   "source": [
    "# ensure all numeric columns are of the same datatype for easy comparisons between dataframes\n",
    "import_dtypes = dict(zip(candidate_to_vest_map.values(), ['float64' for i in range(len(candidate_to_vest_map.values()))]))\n",
    "import_dtypes['county_fips'] = 'str'\n",
    "\n",
    "# rename columns to match with VEST's \n",
    "pct_totals_df = pd.read_csv('oe-precinct-total-only.csv', dtype=import_dtypes)\n",
    "pct_totals_df = pct_totals_df.drop(columns=['county', 'VoteType'])\n",
    "pct_totals_df = pct_totals_df.rename(columns={'county_fips': 'COUNTYFP'})\n",
    "county_totals_df = pd.read_csv('oe-county-total-only.csv', dtype=import_dtypes)\n",
    "county_totals_df = county_totals_df.drop(columns=['county', 'VoteType'])\n",
    "county_totals_df = county_totals_df.rename(columns={'county_fips': 'COUNTYFP'})"
   ]
  },
  {
   "cell_type": "markdown",
   "id": "963b1fbe",
   "metadata": {},
   "source": [
    "But first, there is a lot of overlap in these two files that needs to be addressed. Observe that both OE's county file and OE's precinct data file both claim to report vote totals for 13 of the same counties. "
   ]
  },
  {
   "cell_type": "code",
   "execution_count": 106,
   "id": "37e974fb",
   "metadata": {},
   "outputs": [
    {
     "name": "stdout",
     "output_type": "stream",
     "text": [
      "Both files have votes for county '025'!\n",
      "Both files have votes for county '027'!\n",
      "Both files have votes for county '035'!\n",
      "Both files have votes for county '037'!\n",
      "Both files have votes for county '041'!\n",
      "Both files have votes for county '047'!\n",
      "Both files have votes for county '055'!\n",
      "Both files have votes for county '057'!\n",
      "Both files have votes for county '075'!\n",
      "Both files have votes for county '081'!\n",
      "Both files have votes for county '087'!\n",
      "Both files have votes for county '095'!\n",
      "Both files have votes for county '121'!\n"
     ]
    }
   ],
   "source": [
    "fips_vals_in_countydf = list(county_totals_df['COUNTYFP'])\n",
    "for fv in fips_vals_in_countydf:\n",
    "    if fv in list(pct_totals_df['COUNTYFP']):\n",
    "        print('Both files have votes for county \\'{0}\\'!'.format(fv))"
   ]
  },
  {
   "cell_type": "markdown",
   "id": "c1b436bf",
   "metadata": {},
   "source": [
    "For the counties that have votes in both files, compare the two to see if they're equal. If they are, we can ignore them from here on out."
   ]
  },
  {
   "cell_type": "code",
   "execution_count": 100,
   "id": "4962c9b1",
   "metadata": {},
   "outputs": [
    {
     "name": "stdout",
     "output_type": "stream",
     "text": [
      "county and precinct vote totals w/ FIPS value 121 do not match!\n"
     ]
    }
   ],
   "source": [
    "for e in county_totals_df.iterrows():\n",
    "    fv = e[1]['COUNTYFP']\n",
    "    r1 = county_totals_df.loc[county_totals_df['COUNTYFP'] == fv].set_index('COUNTYFP')\n",
    "    r2 = pct_totals_df.loc[pct_totals_df['COUNTYFP'] == fv].set_index('COUNTYFP')\n",
    "    if not r1.equals(r2):\n",
    "        print('county and precinct vote totals w/ FIPS value {0} do not match!'.format(fv))"
   ]
  },
  {
   "cell_type": "markdown",
   "id": "5973e097",
   "metadata": {},
   "source": [
    "It seems we can ignore most of the vote totals in `20201103__pa__general__county.csv`, since `20201103__pa__general__precinct.csv` reports the same number of votes in every race for 11/12 of the counties in `20201103__pa__general__county.csv`. \n",
    "\n",
    "The exception is FIPS = 121, which is Venango County. "
   ]
  },
  {
   "cell_type": "markdown",
   "id": "a051ed40",
   "metadata": {},
   "source": [
    "## Statewide Votes Check"
   ]
  },
  {
   "cell_type": "code",
   "execution_count": 102,
   "id": "9ffd40b2",
   "metadata": {},
   "outputs": [],
   "source": [
    "def statewide_totals_check(partner_df,source_df,column_list):\n",
    "    print(\"***Statewide Totals Check***\")\n",
    "    for race in column_list:\n",
    "        if (partner_df[race].sum()- source_df[race].sum() != 0):\n",
    "            print(race+\" has a difference of \"+str(partner_df[race].sum()-source_df[race].sum())+\" votes\")\n",
    "            print(\"\\tVEST: \"+str(partner_df[race].sum())+\" votes\")\n",
    "            print(\"\\tSOURCES: \"+str(source_df[race].sum())+\" votes\")\n",
    "        else:\n",
    "            print(race + \" is equal\", \"\\tVEST / RDH: \" + str(partner_df[race].sum()))"
   ]
  },
  {
   "cell_type": "code",
   "execution_count": 104,
   "id": "58136a14",
   "metadata": {},
   "outputs": [
    {
     "name": "stdout",
     "output_type": "stream",
     "text": [
      "***Statewide Totals Check***\n",
      "G20PREDBID has a difference of -603997.0 votes\n",
      "\tVEST: 3460475 votes\n",
      "\tSOURCES: 4064472.0 votes\n",
      "G20PRERTRU has a difference of -132229.0 votes\n",
      "\tVEST: 3378442 votes\n",
      "\tSOURCES: 3510671.0 votes\n",
      "G20PRELJOR has a difference of -4085.0 votes\n",
      "\tVEST: 79432 votes\n",
      "\tSOURCES: 83517.0 votes\n",
      "G20ATGDSHA has a difference of -572032.0 votes\n",
      "\tVEST: 3457757 votes\n",
      "\tSOURCES: 4029789.0 votes\n",
      "G20ATGRHEI has a difference of -116809.0 votes\n",
      "\tVEST: 3150425 votes\n",
      "\tSOURCES: 3267234.0 votes\n",
      "G20ATGLWAS has a difference of -8813.0 votes\n",
      "\tVEST: 120177 votes\n",
      "\tSOURCES: 128990.0 votes\n",
      "G20ATGGWEI has a difference of -10630.0 votes\n",
      "\tVEST: 70641 votes\n",
      "\tSOURCES: 81271.0 votes\n",
      "G20AUDDAHM has a difference of -555076.0 votes\n",
      "\tVEST: 3125751 votes\n",
      "\tSOURCES: 3680827.0 votes\n",
      "G20AUDRDEF has a difference of -122117.0 votes\n",
      "\tVEST: 3334394 votes\n",
      "\tSOURCES: 3456511.0 votes\n",
      "G20AUDLMOO has a difference of -13260.0 votes\n",
      "\tVEST: 205552 votes\n",
      "\tSOURCES: 218812.0 votes\n",
      "G20AUDGFAI has a difference of -9873.0 votes\n",
      "\tVEST: 78396 votes\n",
      "\tSOURCES: 88269.0 votes\n",
      "G20TREDTOR has a difference of -560816.0 votes\n",
      "\tVEST: 3235932 votes\n",
      "\tSOURCES: 3796748.0 votes\n",
      "G20TRERGAR has a difference of -122426.0 votes\n",
      "\tVEST: 3288266 votes\n",
      "\tSOURCES: 3410692.0 votes\n",
      "G20TRELSOL has a difference of -10363.0 votes\n",
      "\tVEST: 148247 votes\n",
      "\tSOURCES: 158610.0 votes\n",
      "G20TREGRUN has a difference of -10492.0 votes\n",
      "\tVEST: 81830 votes\n",
      "\tSOURCES: 92322.0 votes\n"
     ]
    }
   ],
   "source": [
    "statewide_totals_check(vest_pa_2020, pct_totals_df, candidate_to_vest_map.values())"
   ]
  }
 ],
 "metadata": {
  "kernelspec": {
   "display_name": "Python 3",
   "language": "python",
   "name": "python3"
  },
  "language_info": {
   "codemirror_mode": {
    "name": "ipython",
    "version": 3
   },
   "file_extension": ".py",
   "mimetype": "text/x-python",
   "name": "python",
   "nbconvert_exporter": "python",
   "pygments_lexer": "ipython3",
   "version": "3.9.9"
  }
 },
 "nbformat": 4,
 "nbformat_minor": 5
}
