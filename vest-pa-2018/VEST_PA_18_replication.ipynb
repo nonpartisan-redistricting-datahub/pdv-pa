{
 "cells": [
  {
   "cell_type": "code",
   "execution_count": 1,
   "metadata": {},
   "outputs": [],
   "source": [
    "import maup # mggg's library for proration, see documentation here: https://github.com/mggg/maup\n",
    "import pandas as pd # standard python data library\n",
    "import geopandas as gp # the geo-version of pandas\n",
    "import numpy as np \n",
    "import os\n",
    "import fiona\n",
    "from statistics import mean, median\n",
    "from pandas import read_csv\n",
    "gp.io.file.fiona.drvsupport.supported_drivers['KML'] = 'rw' #To load KML files"
   ]
  },
  {
   "cell_type": "markdown",
   "metadata": {},
   "source": [
    "# VEST PA Validation"
   ]
  },
  {
   "cell_type": "code",
   "execution_count": 2,
   "metadata": {},
   "outputs": [],
   "source": [
    "vest_pa_18 = gp.read_file(\"./raw-from-source/VEST/pa_2018/pa_2018.shp\")"
   ]
  },
  {
   "cell_type": "markdown",
   "metadata": {},
   "source": [
    "Election results from the Pennsylvania Secretary of State's office via OpenElections (https://github.com/openelections/openelections-data-pa/). Precinct data was corrected with canvass reports for the following counties: Berks, Blair, Bradford, Cambria, Carbon, Crawford, Elk, Forest, Franklin, Lawrence, Lycoming, Mifflin, Montgomery, Montour, Northumberland, Susquehanna. The candidate totals for Berks, Blair, Crawford, and Mifflin differ from the county totals reported by the state and therefore the statewide totals differ from the official results accordingly.\n",
    "\n",
    "Precinct shapefiles primarily from the U.S. Census Bureau's 2020 Redistricting Data Program Phase 2 release. The shapefiles from Delaware County and the City of Pittsburgh are from the respective jurisdictions instead. Precinct numbers were corrected to match the voter file in the following locales: Allegheny (Elizabeth, Pittsburgh W12), Blair (Greenfield), Bradford (Athens), Greene (Nonongahela), Monroe (Smithfield), Montgomery (Hatfield), Northampton (Bethlehem Twp), Perry (Toboyne), Washington (New Eagle, Somerset), York (Fairview).\n",
    "\n",
    "Precinct boundaries throughout the state were edited to match voter assignments in the PA Secretary of State voter file from the 2018 election cycle. While some edits reflect official updates to wards or divisions the great majority involve voters incorrectly assigned to voting districts by the counties. As such the VEST shapefile endeavors to reflect the de facto precinct boundaries and these often differ from the official voting district boundaries, in some cases quite drastically. Wherever possible edits were made using census boundaries or alternatively using the parcel shapefiles from the respective counties. \n",
    "\n",
    "In certain areas voter assignments appear so erratic that it is impractical to place all voters within their assigned precinct. These areas were edited so as to place as many voters as possible within their assigned precinct without displacing a greater number from their assigned precinct. In general, municipal boundaries were retained except where significant numbers of numbers were misassigned to the wrong municipality. In cases where the odd/even split was incorrectly reversed for precinct boundary streets the official boundary was retained. All such cases involved near equal number of voters swapped between voting districts.\n",
    "\n",
    "The following revisions were made to the base shapefiles to match the de facto 2018 precinct boundaries consistent with the voter file. Individual precincts are noted in cases of splits or merges. Due to the sheer number of edits boundary adjustments are noted at the borough/township level. There may be as many as two dozen individual precincts that were revised within a given municipality.\n",
    "\n",
    "Adams: Adjust Cumberland, Franklin\n",
    "Allegheny: Merge CD splits for S Fayette 3/5; Split Pittsburgh W5 11/17; Merge Pittsburgh W16 9/11/12, Align McCandless with municipal boundary; Adjust Avalon, Baldwin, Bethel Park, Braddock, Brentwood, Castle Shannon, Clairton, Collier, Coraopolis, Crescent, Dormont, Dravosburg, Duquesne, E Deer, E McKeesport, E Pittsburgh, Elizabeth, Emsworth, Forward, Glassport, Hampton, Harmar, Ingram, Jefferson Hills, Kennedy, Leet, Liberty, Marshall, McCandless, McKees Rocks, McKeesport, Monroeville, Moon, Mount Lebanon, Munhall, N Fayette, N Versailles, O'Hara, Oakdale, Penn Hills, Pine, Pittsburgh (nearly all wards), Pleasant Hills, Reserve, Richland, Ross, Scott, Sewickley, Shaler, S Fayette, S Park, Stowe, Swissvale, Upper St. Clair, W Deer, W Homestead, W Mifflin, W View, Whitaker, Whitehall, Wilkins, Wilkinsburg\n",
    "Armstrong: Align Dayton, Elderton, Ford City, Kittanning, N Apollo with municipal boundaries; Adjust Ford City, Gilpin, Kiskiminetas, Kittanning, Manor, N Buffalo, Parks, Parker City, S Buffalo\n",
    "Beaver: Adjust Aliquippa, Ambridge, Baden, Beaver, Brighton, Center, Chippewa, Conway, Economy, Franklin, Hanover, Harmony, Hopewell, Midland, Monaca, N Sewickley\n",
    "Bedford: Adjust Bedford Boro, Bedford Twp\n",
    "Berks: Adjust Cumru, Douglass, Oley, Maxatawny, Robeson, Sinking Spring, Spring, Union\n",
    "Blair: Merge Tunnelhill/Allegheny Twp 4; Align Altoona, Bellwood, Duncansville, Hollidaysburg, Newry, Roaring Spring, Tyrone, Williamsburg with municipal boundaries; Adjust Allegheny, Altoona, Antis, Frankstown, Freedom, Greenfield, Huston, Juniata, N Woodbury, Logan, Snyder, Tyrone Boro, Tyrone Twp\n",
    "Bucks: Align Sellersville, Tullytown with municipal boundaries; Adjust Bensalem, Bristol Boro, Bristol Twp, Buckingham, Doylestown Twp, Falls, Hilltown, Lower Makefield N, Lower Southampton E, Middletown, Milford, Morrissville, Newtown Twp, Northampton, Solebury Lower, Solebury, Springfield, Tinicum, Upper Makefield, Upper Southampton E, Warminster, Warrington, W Rockhill\n",
    "Butler: Merge CD splits for Cranberry E 2, 3, Cranberry W 1, 2, Jefferson 1, 2; Align Butler Twp, Valencia with municipal boundaries; Adjust Adams, Buffalo, Butler Boro, Butler Twp, Center, Cranberry E, Cranberry W, Jackson, Jefferson, Zelienople\n",
    "Cambria: Align Daisytown, Sankertown, W Taylor, Wilmore with municipal boundaries; Adjust Cambria, Conemaugh, Croyle, E Taylor, Ebensburg, E Carroll, Geistown, Jackson, Johnstown W8, W17, W20, Lower Yoder, Northern Cambria, Portage Boro, Portage Twp, Richland, Southmont, Stonycreek, Summerhill, Susquehanna, Upper Yoder, W Carroll, Westmont\n",
    "Cameron: Adjust Emporium, Shippen\n",
    "Carbon: Adjust Jim Thorpe, Kidder, Mahoning, New Mahoning, Summit Hill\n",
    "Centre: Merge CD splits for Halfmoon E Central/Proper; Merge Ferguson Northeast 1 A/B; Adjust Benner, College, Ferguson, Patton\n",
    "Chester: Merge CD/LD splits for Birmingham 2, Phoenixville M 1; Adjust Birmingham, E Bradford S, E Fallowfield, E Goshen, E Marlborough, Easttown, N Coventry, Spring City, Tredyffrin M, Uwchlan, W Bradford, W Caln, W Goshen N, W Goshen S, Westtown\n",
    "Clarion: Merge Emlenton/Richland; Adjust Clarion, Highland, Farmington, Knox\n",
    "Clearfield: Adjust Bradford, Cooper, Decatur, Golden Rod, Lawrence Glen Richie, Morris, Plympton, Woodward\n",
    "Columbia: Merge Ashland/Conyngham; Adjust Orange, Scott West\n",
    "Crawford: Align Mead, Woodcock with municipal boundaries\n",
    "Cumberland: Merge CD splits for N Middleton 1, 3; Split Lower Allen 1/Annex; Align Carlisle, E Pennsboro, Hampton, Lemoyne, Lower Allen, Mechanisburg, Middlesex, Mount Holly Springs, N Middleton, Shiremanstown, Silver Spring, W Pennsboro, Wormsleysburg with municipal boundaries\n",
    "Dauphin: Align Middletown with municipal boundary; Adjust Derry, Harrisburg W1, W7, W8, W9, Hummelstown, Lower Paxton, Lykens, Middletown\n",
    "Delaware: Adjust Chester, Concord, Darby Boro, Darby Twp, Haverford, Marple, Nether Providence, Newtown, Radnor, Ridley, Sharon Hill, Thornbury, Tinicum, Trainer, Upper Chichester, Upper Darby, Upper Providence\n",
    "Elk: Split N/S Horton; Adjust Johnsonburg, Ridgeway Boro, Ridgeway Twp, St. Marys\n",
    "Erie: Adjust Erie W1, W4, W5, W6, Greene, Lawrence Park, McKean, Millcreek, North East\n",
    "Fayette: Align Dunbar with municipal boundary; Adjust Brownsville, Bullskin, Dunbar, Georges, German, Luzerne, N Union, Redstone\n",
    "Franklin: Align Mercersburg with municipal boundary; Adjust Antrim, Fannett, Greene, Guilford, Hamilton, Metal, Peters, Quincy, St. Thomas, Southampton, Washington\n",
    "Fulton: Align McConnellsburg with municipal boundary\n",
    "Greene: Align Carmichaels with municipal boundary; Adjust Cumberland, Dunkard, Franklin, Jefferson, Lipencott, Mather, Morgan Chart, Monongahela, Nemacolin\n",
    "Huntingdon: Merge CD splits for Penn; Adjust Huntingdon, Mount Union\n",
    "Jefferson:  Align Reynoldsville with municipal boundary; Adjust Punxsutawney\n",
    "Lackawanna: Adjust Archbald, Blakely, Carbondale, Clarks Summit, Dickson City, Dunmore, Fell, Jermyn, Jessup, Mayfield, Moosic, Old Forge, Olyphant, Scranton W1, W2, W3, W6, W7, W10, W12, W13, W14, W15, W16, W19, W20, W23, S Abington, Taylor, Throop\n",
    "Lancaster: Split Lancaster 7-8 CV/LS; Adjust Brecknock, Columbia, E Hempfield, E Lampeter, E Petersburg, Elizabethtown, Ephrata, Lancaster W4, W8, Lititz, Manheim, Manor, Millersville, Mt Joy Boro, Mt Joy Twp, New Holland, Penn, Providence, Rapho, Warwick, W Cocalico, W Donegal, W Hempfield\n",
    "Lawrence: Adjust Neshannock\n",
    "Lebanon: Adjust Jackson, Lickdale, S Lebanon, Union Green Pt\n",
    "Lehigh: Adjust Lower Macungie, Salisbury\n",
    "Luzerne: Merge CD splits for Hazle 1; Align Avoca, Pittston with municipal boundaries; Adjust Butler, Dallas, Exeter, Foster, Freeland, Hanover, Hazle, Jenkins, Kingston Boro, Kingston Twp, Larksville, Lehman, Nanticoke, Newport, Plains, Salem, Smoyersville, W Wyoming, Wilkes-Barre\n",
    "Lycoming: Align Williamsport with municipal boundary; Adjust Jersey Shore\n",
    "McKean: Adjust Bradford City, Bradford Twp, Foster, Keating, Otto\n",
    "Mercer: Adjust Delaware, Fredonia, Greenville, Hempfield, Hermitage, Sharon, Sharpsville, S Pymatuning, W Salem\n",
    "Mifflin: Split Brown Reedsville/Church Hill\n",
    "Monroe: Align E Stroudsburg with municipal boundary; Adjust E Stroudsburg, Smithfield\n",
    "Montgomery: Add CD special election splits for Horsham 2-2, Perkiomen 1, Plymouth 2-3; Adjust Abington, Lower Merion, Pottstown, Springfield, Upper Moreland, Upper Merion, Upper Providence\n",
    "Northampton: Align Glendon, Walnutport with municipal boundaries; Adjust Bangor, Bethlehem W2, W3, W4, W7, W9, W14, W15, Bethlehem Twp, Bushkill, Easton, Forks, Hanover, Hellertown, Lehigh, Lower Mt Bethel, Lower Saucon, Moore, Nazareth, Palmer, Plainfield, Upper Mt Bethel, Washington, Williams\n",
    "Northumberland: Align Northumberland with municipal boundary; Adjust Coal, Milton, Mount Carmel W, Natalie-Strong, Northumberland, Point, Ralpho, Shamokin, Sunbury, Upper Augusta\n",
    "Philadelphia: Adjust 1-19/21, 5-3/19, 7-2/3/17, 7-6/7, 9-5/6, 15-7/10, 17-20/26, 20-5/10, 21-1/15, 21-40/41, 22-21/26, 23-11/12, 25-9/17, 25-4/7/12, 25-10/12, 26-1/2, 27-7/8, 27-18/20/21, 28-1/8, 29-9/11, 29-10/17, 30-14/15, 31-5/6, 38-11/17, 38-13/20, 38-15/19, 40-12/18/19, 40-17/19, 42-3/4/7, 44-8/14, 50-3/12, 50-11/27, 52-2/6/9, 52-3/8, 57-6/7, 57-10/27, 57-17/28, 58-6/12, 62-5/19, 65-4/7, 65-11/16, 66-22/34\n",
    "Pike: Adjust Matamoras\n",
    "Potter: Adjust Galeton, Sharon\n",
    "Schuylkill: Adjust Coaldale, N Manheim, Norwegian, Porter, Pottsville\n",
    "Somerset: Align New Centerville with municipal boundary; Adjust Conemaugh, Jefferson, Middlecreek, Paint, Somerset Boro\n",
    "Susquehanna: Adjust Montrose; Lanesboro, Susquehanna Depot\n",
    "Tioga: Adjust Delmar, Wellsboro\n",
    "Union: Adjust Buffalo, White Deer\n",
    "Venango: Adjust Franklin, Sugarcreek, Cornplanter, Oil City\n",
    "Warren: Adjust Conewango\n",
    "Washington: Align Allenport, Beallsville, Burgettstown, Canonsburg, Carroll, Charleroi, Claysville, Elco, Finleyville, Houston, Long Branch, McDonald, Monongahela, Speers, Twilight with municipal boundaries; Adjust Amwell, Bentleyville, California, Canonsburg, Canton, Cecil, Centerville, Chartiers, Donegal, Donora, Fallowfield, Hanover, Independence, Mount Pleasant, N Franklin, N Strabane, Peters, Robinson, Smith, Somerset, S Franklin, S Strabane, Union Washington, W Brownsville\n",
    "Wayne: Adjust Honesdale\n",
    "Westmoreland: Merge CD splits for Unity Pleasant Unity; Align Greensburg with municipal boundary; Adjust Allegheny, Arnold, Bell, Derry, E Huntingdon, Fairfield, Greensburg W1-W8, Hempfield, Jeannette, Latrobe, Ligonier, Lower Burrell, Monessen, Mount Pleasant, Murraysville, New Kensington, N Belle Vernon, N Huntingdon, Penn, Rostraver, St. Clair, Scottdale, Sewickley, S Greensburg, S Huntingdon, Trafford, Upper Burrell, Unity, Vandergrift, Washington, Youngwood\n",
    "Wyoming: Adjust Falls\n",
    "York: Merge CD splits for York Twp 5-3; Align E Prospect, Goldsboro, Jefferson, Manchester, Monaghan, Wellsville, York with municipal boundaries; Adjust Chanceford, Codorus, Conewago, Dover, Fairview, Hanover, Jackson, Lower Windsor, New Freedom, Newberry, N Codorus, Penn, Red Lion, Shrewsbury, Spring Garden, Springbettsbury, W Manchester, Windsor Boro, Windsor Twp, Wrightsville, York Twp, York W5, W6, W15"
   ]
  },
  {
   "cell_type": "code",
   "execution_count": 4,
   "metadata": {},
   "outputs": [
    {
     "name": "stdout",
     "output_type": "stream",
     "text": [
      "  STATEFP COUNTYFP   VTDST          NAME  G18USSDCAS  G18USSRBAR  G18USSLKER  \\\n",
      "0      42      001  000010   ABBOTTSTOWN         120         183           5   \n",
      "1      42      001  000020  ARENDTSVILLE         151         178           6   \n",
      "2      42      001  000030  BENDERSVILLE          74         103           1   \n",
      "3      42      001  000040       BERWICK         289         575          14   \n",
      "4      42      001  000050   BIGLERVILLE         152         231           3   \n",
      "\n",
      "   G18USSGGAL  G18GOVDWOL  G18GOVRWAG  G18GOVLKRA  G18GOVGGLO  \\\n",
      "0           2         120         185           2           2   \n",
      "1           3         160         172           4           2   \n",
      "2           2          76          98           3           2   \n",
      "3           5         318         554           9           5   \n",
      "4           7         168         215           5           2   \n",
      "\n",
      "                                            geometry  \n",
      "0  POLYGON Z ((-76.99801 39.88359 0.00000, -76.99...  \n",
      "1  POLYGON Z ((-77.31141 39.92625 0.00000, -77.30...  \n",
      "2  POLYGON Z ((-77.25596 39.98075 0.00000, -77.25...  \n",
      "3  MULTIPOLYGON Z (((-76.99558 39.88677 0.00000, ...  \n",
      "4  POLYGON Z ((-77.25594 39.93043 0.00000, -77.25...  \n",
      "Index(['STATEFP', 'COUNTYFP', 'VTDST', 'NAME', 'G18USSDCAS', 'G18USSRBAR',\n",
      "       'G18USSLKER', 'G18USSGGAL', 'G18GOVDWOL', 'G18GOVRWAG', 'G18GOVLKRA',\n",
      "       'G18GOVGGLO', 'geometry'],\n",
      "      dtype='object')\n",
      "\n",
      "Here are the vote totals:\n",
      "G18USSDCAS: 2792693\n",
      "G18USSRBAR: 2135223\n",
      "G18USSLKER: 50927\n",
      "G18USSGGAL: 31228\n",
      "G18GOVDWOL: 2895931\n",
      "G18GOVRWAG: 2040233\n",
      "G18GOVLKRA: 49238\n",
      "G18GOVGGLO: 27797\n"
     ]
    }
   ],
   "source": [
    "print(vest_pa_18.head())\n",
    "print(vest_pa_18.columns)\n",
    "\n",
    "col_list = ['G18USSDCAS', 'G18USSRBAR','G18USSLKER', 'G18USSGGAL', 'G18GOVDWOL', 'G18GOVRWAG', 'G18GOVLKRA','G18GOVGGLO']\n",
    "print(\"\")\n",
    "print(\"Here are the vote totals:\")\n",
    "for i in col_list:\n",
    "    print(i + \": \"+str(sum(vest_pa_18[i])))"
   ]
  },
  {
   "cell_type": "code",
   "execution_count": 53,
   "metadata": {},
   "outputs": [
    {
     "name": "stdout",
     "output_type": "stream",
     "text": [
      "['Adams' 'Allegheny' 'Armstrong' 'Beaver' 'Bedford' 'Berks' 'Blair'\n",
      " 'Bradford' 'Bucks' 'Butler' 'Cambria' 'Cameron' 'Carbon' 'Centre'\n",
      " 'Chester' 'Clarion' 'Clearfield' 'Clinton' 'Columbia' 'Crawford'\n",
      " 'Cumberland' 'Dauphin' 'Delaware' 'Elk' 'Erie' 'Fayette' 'Forest'\n",
      " 'Franklin' 'Fulton' 'Greene' 'Huntingdon' 'Indiana' 'Jefferson' 'Juniata'\n",
      " 'Lackawanna' 'Lancaster' 'Lawrence' 'Lebanon' 'Lehigh' 'Luzerne'\n",
      " 'Lycoming' 'McKean' 'Mercer' 'Mifflin' 'Monroe' 'Montgomery' 'Montour'\n",
      " 'Northampton' 'Northumberland' 'Perry' 'Philadelphia' 'Pike' 'Potter'\n",
      " 'Schuylkill' 'Snyder' 'Somerset' 'Sullivan' 'Susquehanna' 'Tioga' 'Union'\n",
      " 'Venango' 'Warren' 'Washington' 'Wayne' 'Westmoreland' 'Wyoming' 'York']\n"
     ]
    }
   ],
   "source": [
    "fips_file = pd.read_csv(\"./raw-from-source/FIPS/US_FIPS_Codes.csv\")\n",
    "fips_file = fips_file[fips_file[\"State\"]==\"Pennsylvania\"]\n",
    "fips_file[\"FIPS County\"]=fips_file[\"FIPS County\"].astype(str)\n",
    "fips_file[\"FIPS County\"]=fips_file[\"FIPS County\"].str.zfill(3)\n",
    "fips_file[\"unique_ID\"] =  \"42\" + fips_file[\"FIPS County\"]\n",
    "fips_codes = fips_file[\"unique_ID\"].tolist()\n",
    "print(fips_file[\"County Name\"].unique())\n",
    "pa_fips_dict = dict(zip(fips_file[\"County Name\"],fips_file[\"FIPS County\"]))"
   ]
  },
  {
   "cell_type": "code",
   "execution_count": 61,
   "metadata": {},
   "outputs": [
    {
     "name": "stderr",
     "output_type": "stream",
     "text": [
      "/opt/anaconda3/lib/python3.8/site-packages/IPython/core/interactiveshell.py:3071: DtypeWarning: Columns (6) have mixed types.Specify dtype option on import or set low_memory=False.\n",
      "  has_raised = await self.run_ast_nodes(code_ast.body, cell_name,\n"
     ]
    }
   ],
   "source": [
    "pa_election = pd.read_csv(\"./raw-from-source/Election_Results/openelections-data-pa-master/2018/20181106__pa__general__precinct.csv\")"
   ]
  },
  {
   "cell_type": "code",
   "execution_count": 62,
   "metadata": {},
   "outputs": [],
   "source": [
    "office_list = [\"U.S. Senate\", 'Governor','Straight Party']\n",
    "filtered_pa_election = pa_election[pa_election[\"office\"].isin(office_list)]"
   ]
  },
  {
   "cell_type": "code",
   "execution_count": 91,
   "metadata": {},
   "outputs": [
    {
     "name": "stdout",
     "output_type": "stream",
     "text": [
      "          county               precinct          office  district  \\\n",
      "53773     Butler  0001 ADAMS TOWNSHIP 1  Straight Party       NaN   \n",
      "53774     Butler  0001 ADAMS TOWNSHIP 1  Straight Party       NaN   \n",
      "53775     Butler  0001 ADAMS TOWNSHIP 1  Straight Party       NaN   \n",
      "53776     Butler  0001 ADAMS TOWNSHIP 1  Straight Party       NaN   \n",
      "53777     Butler  0001 ADAMS TOWNSHIP 1  Straight Party       NaN   \n",
      "...          ...                    ...             ...       ...   \n",
      "178556  Franklin  West End Shippensburg  Straight Party       NaN   \n",
      "178557  Franklin  West End Shippensburg  Straight Party       NaN   \n",
      "178558  Franklin  West End Shippensburg  Straight Party       NaN   \n",
      "178559  Franklin  West End Shippensburg  Straight Party       NaN   \n",
      "178560  Franklin  West End Shippensburg  Straight Party       NaN   \n",
      "\n",
      "             candidate party votes  absentee  election_day County_FIPS  \\\n",
      "53773       DEMOCRATIC   DEM   521      29.0         491.0         019   \n",
      "53774       REPUBLICAN   REP   811      53.0         758.0         019   \n",
      "53775            GREEN   GRN     1       0.0           1.0         019   \n",
      "53776      INDEPENDENT   IND     0       0.0           0.0         019   \n",
      "53777      LIBERTARIAN   LIB     1       0.0           1.0         019   \n",
      "...                ...   ...   ...       ...           ...         ...   \n",
      "178556      DEMOCRATIC   DEM   137       NaN           NaN         055   \n",
      "178557      REPUBLICAN   REP   124       NaN           NaN         055   \n",
      "178558           GREEN   GRN     1       NaN           NaN         055   \n",
      "178559     LIBERTARIAN   LIB     0       NaN           NaN         055   \n",
      "178560  NO AFFILIATION   NOA     0       NaN           NaN         055   \n",
      "\n",
      "                       pivot_col           cand_col  \n",
      "53773   0190001 ADAMS TOWNSHIP 1  Straight PartyDEM  \n",
      "53774   0190001 ADAMS TOWNSHIP 1  Straight PartyREP  \n",
      "53775   0190001 ADAMS TOWNSHIP 1  Straight PartyGRN  \n",
      "53776   0190001 ADAMS TOWNSHIP 1  Straight PartyIND  \n",
      "53777   0190001 ADAMS TOWNSHIP 1  Straight PartyLIB  \n",
      "...                          ...                ...  \n",
      "178556  055West End Shippensburg  Straight PartyDEM  \n",
      "178557  055West End Shippensburg  Straight PartyREP  \n",
      "178558  055West End Shippensburg  Straight PartyGRN  \n",
      "178559  055West End Shippensburg  Straight PartyLIB  \n",
      "178560  055West End Shippensburg  Straight PartyNOA  \n",
      "\n",
      "[9192 rows x 12 columns]\n",
      "       county               precinct          office  district  \\\n",
      "53773  Butler  0001 ADAMS TOWNSHIP 1  Straight Party       NaN   \n",
      "53774  Butler  0001 ADAMS TOWNSHIP 1  Straight Party       NaN   \n",
      "53775  Butler  0001 ADAMS TOWNSHIP 1  Straight Party       NaN   \n",
      "53776  Butler  0001 ADAMS TOWNSHIP 1  Straight Party       NaN   \n",
      "53777  Butler  0001 ADAMS TOWNSHIP 1  Straight Party       NaN   \n",
      "53778  Butler  0001 ADAMS TOWNSHIP 1     U.S. Senate       NaN   \n",
      "53779  Butler  0001 ADAMS TOWNSHIP 1     U.S. Senate       NaN   \n",
      "53780  Butler  0001 ADAMS TOWNSHIP 1     U.S. Senate       NaN   \n",
      "53781  Butler  0001 ADAMS TOWNSHIP 1     U.S. Senate       NaN   \n",
      "53782  Butler  0001 ADAMS TOWNSHIP 1     U.S. Senate       NaN   \n",
      "\n",
      "              candidate party votes  absentee  election_day County_FIPS  \\\n",
      "53773        DEMOCRATIC   DEM   521      29.0         491.0         019   \n",
      "53774        REPUBLICAN   REP   811      53.0         758.0         019   \n",
      "53775             GREEN   GRN     1       0.0           1.0         019   \n",
      "53776       INDEPENDENT   IND     0       0.0           0.0         019   \n",
      "53777       LIBERTARIAN   LIB     1       0.0           1.0         019   \n",
      "53778     BOB CASEY, JR   DEM  1047      50.0         996.0         019   \n",
      "53779      LOU BARLETTA   REP  1369      72.0        1297.0         019   \n",
      "53780         NEAL GALE   GRN     6       0.0           6.0         019   \n",
      "53781  DALE R KERNS, JR   LIB    15       0.0          15.0         019   \n",
      "53782         WRITE-INS   NaN     1       0.0           1.0         019   \n",
      "\n",
      "                      pivot_col           cand_col  \n",
      "53773  0190001 ADAMS TOWNSHIP 1  Straight PartyDEM  \n",
      "53774  0190001 ADAMS TOWNSHIP 1  Straight PartyREP  \n",
      "53775  0190001 ADAMS TOWNSHIP 1  Straight PartyGRN  \n",
      "53776  0190001 ADAMS TOWNSHIP 1  Straight PartyIND  \n",
      "53777  0190001 ADAMS TOWNSHIP 1  Straight PartyLIB  \n",
      "53778  0190001 ADAMS TOWNSHIP 1     U.S. SenateDEM  \n",
      "53779  0190001 ADAMS TOWNSHIP 1     U.S. SenateREP  \n",
      "53780  0190001 ADAMS TOWNSHIP 1     U.S. SenateGRN  \n",
      "53781  0190001 ADAMS TOWNSHIP 1     U.S. SenateLIB  \n",
      "53782  0190001 ADAMS TOWNSHIP 1                NaN  \n",
      "          county               precinct    office  district         candidate  \\\n",
      "5           York       Carroll Township  Governor       NaN          TOM WOLF   \n",
      "6           York       Carroll Township  Governor       NaN   SCOTT R. WAGNER   \n",
      "7           York       Carroll Township  Governor       NaN       PAUL GLOVER   \n",
      "8           York       Carroll Township  Governor       NaN   KEN V. KRAWCHUK   \n",
      "9           York       Carroll Township  Governor       NaN         WRITE-INS   \n",
      "...          ...                    ...       ...       ...               ...   \n",
      "178566  Franklin  West End Shippensburg  Governor       NaN  WOLF / FETTERMAN   \n",
      "178567  Franklin  West End Shippensburg  Governor       NaN   WAGNER / BARTOS   \n",
      "178568  Franklin  West End Shippensburg  Governor       NaN  GLOVER / BOSTICK   \n",
      "178569  Franklin  West End Shippensburg  Governor       NaN  KRAWCHUK / SMITH   \n",
      "178570  Franklin  West End Shippensburg  Governor       NaN        WRITE - IN   \n",
      "\n",
      "       party votes  absentee  election_day County_FIPS  \\\n",
      "5        DEM  1127       NaN           NaN         133   \n",
      "6        REP  1726       NaN           NaN         133   \n",
      "7        GRN    16       NaN           NaN         133   \n",
      "8        LIB    43       NaN           NaN         133   \n",
      "9        NaN     5       NaN           NaN         133   \n",
      "...      ...   ...       ...           ...         ...   \n",
      "178566   DEM   277       NaN           NaN         055   \n",
      "178567   REP   198       NaN           NaN         055   \n",
      "178568   GRN     3       NaN           NaN         055   \n",
      "178569   LIB     6       NaN           NaN         055   \n",
      "178570   NaN     1       NaN           NaN         055   \n",
      "\n",
      "                       pivot_col     cand_col  \n",
      "5            133Carroll Township  GovernorDEM  \n",
      "6            133Carroll Township  GovernorREP  \n",
      "7            133Carroll Township  GovernorGRN  \n",
      "8            133Carroll Township  GovernorLIB  \n",
      "9            133Carroll Township          NaN  \n",
      "...                          ...          ...  \n",
      "178566  055West End Shippensburg  GovernorDEM  \n",
      "178567  055West End Shippensburg  GovernorREP  \n",
      "178568  055West End Shippensburg  GovernorGRN  \n",
      "178569  055West End Shippensburg  GovernorLIB  \n",
      "178570  055West End Shippensburg          NaN  \n",
      "\n",
      "[46202 rows x 12 columns]\n"
     ]
    }
   ],
   "source": [
    "print(filtered_pa_election[filtered_pa_election[\"office\"]==\"Straight Party\"])\n",
    "print(filtered_pa_election[filtered_pa_election[\"precinct\"]==\"0001 ADAMS TOWNSHIP 1\"])\n",
    "print(filtered_pa_election[filtered_pa_election[\"office\"]==\"Governor\"])"
   ]
  },
  {
   "cell_type": "code",
   "execution_count": 63,
   "metadata": {},
   "outputs": [
    {
     "name": "stderr",
     "output_type": "stream",
     "text": [
      "<ipython-input-63-9942ea3bccf3>:2: SettingWithCopyWarning: \n",
      "A value is trying to be set on a copy of a slice from a DataFrame.\n",
      "Try using .loc[row_indexer,col_indexer] = value instead\n",
      "\n",
      "See the caveats in the documentation: https://pandas.pydata.org/pandas-docs/stable/user_guide/indexing.html#returning-a-view-versus-a-copy\n",
      "  filtered_pa_election[\"county\"] = filtered_pa_election[\"county\"].map(county_changes_dict).fillna(filtered_pa_election[\"county\"])\n",
      "<ipython-input-63-9942ea3bccf3>:3: SettingWithCopyWarning: \n",
      "A value is trying to be set on a copy of a slice from a DataFrame.\n",
      "Try using .loc[row_indexer,col_indexer] = value instead\n",
      "\n",
      "See the caveats in the documentation: https://pandas.pydata.org/pandas-docs/stable/user_guide/indexing.html#returning-a-view-versus-a-copy\n",
      "  filtered_pa_election[\"County_FIPS\"]=filtered_pa_election.loc[:,\"county\"].map(pa_fips_dict).fillna(filtered_pa_election.loc[:,\"county\"])\n"
     ]
    }
   ],
   "source": [
    "county_changes_dict = {\"Washington \":\"Washington\"}\n",
    "filtered_pa_election[\"county\"] = filtered_pa_election[\"county\"].map(county_changes_dict).fillna(filtered_pa_election[\"county\"])\n",
    "filtered_pa_election[\"County_FIPS\"]=filtered_pa_election.loc[:,\"county\"].map(pa_fips_dict).fillna(filtered_pa_election.loc[:,\"county\"])"
   ]
  },
  {
   "cell_type": "markdown",
   "metadata": {},
   "source": [
    "G18USSDCAS - Robert P. Casey Jr. (Democratic Party)  \n",
    "G18USSRBAR - Louis J. Carletta (Republican Party)  \n",
    "G18USSLKER - Dale R. Kerns (Libertarian Party)  \n",
    "G18USSGGAL - Neal Taylor Gale (Green Party)  \n",
    "  \n",
    "G18GOVDWOL - Thomas W. Wolf (Democratic Party)  \n",
    "G18GOVRWAG - Scott R. Wagner (Republican Party)  \n",
    "G18GOVLKRA - Kenneth V. Krawchuk (Libertarian Party)  \n",
    "G18GOVGGLO - Paul Glover (Green Party)  "
   ]
  },
  {
   "cell_type": "code",
   "execution_count": 95,
   "metadata": {},
   "outputs": [
    {
     "name": "stdout",
     "output_type": "stream",
     "text": [
      "['DEM' 'REP' 'GRN' 'LIB' nan 'IND' 'GREEN' 'GR' 'GRE' 'DEMOCRATIC'\n",
      " 'REPUBLICAN' 'LIBERTARIAN' 'DEMOCRAT' 'NAF' 'NOA']\n",
      "['U.S. SenateDEM' 'U.S. SenateREP' 'U.S. SenateGRN' 'U.S. SenateLIB' nan\n",
      " 'GovernorDEM' 'GovernorREP' 'GovernorGRN' 'GovernorLIB'\n",
      " 'Straight PartyDEM' 'Straight PartyREP' 'Straight PartyGRN'\n",
      " 'Straight PartyIND' 'Straight PartyLIB' 'GovernorGREEN' 'U.S. SenateGR'\n",
      " 'GovernorGR' 'Straight PartyGRE' 'U.S. SenateGRE' 'GovernorGRE'\n",
      " 'U.S. SenateDEMOCRATIC' 'U.S. SenateREPUBLICAN' 'U.S. SenateGREEN'\n",
      " 'U.S. SenateLIBERTARIAN' 'GovernorDEMOCRATIC' 'GovernorREPUBLICAN'\n",
      " 'GovernorLIBERTARIAN' 'U.S. SenateDEMOCRAT' 'GovernorDEMOCRAT'\n",
      " 'Straight PartyDEMOCRATIC' 'Straight PartyREPUBLICAN'\n",
      " 'Straight PartyGREEN' 'Straight PartyLIBERTARIAN' 'Straight PartyNAF'\n",
      " 'Straight PartyNOA']\n"
     ]
    },
    {
     "name": "stderr",
     "output_type": "stream",
     "text": [
      "<ipython-input-95-6a44834495d7>:1: SettingWithCopyWarning: \n",
      "A value is trying to be set on a copy of a slice from a DataFrame.\n",
      "Try using .loc[row_indexer,col_indexer] = value instead\n",
      "\n",
      "See the caveats in the documentation: https://pandas.pydata.org/pandas-docs/stable/user_guide/indexing.html#returning-a-view-versus-a-copy\n",
      "  filtered_pa_election[\"pivot_col\"]=filtered_pa_election[\"County_FIPS\"]+filtered_pa_election[\"precinct\"]\n",
      "<ipython-input-95-6a44834495d7>:2: SettingWithCopyWarning: \n",
      "A value is trying to be set on a copy of a slice from a DataFrame.\n",
      "Try using .loc[row_indexer,col_indexer] = value instead\n",
      "\n",
      "See the caveats in the documentation: https://pandas.pydata.org/pandas-docs/stable/user_guide/indexing.html#returning-a-view-versus-a-copy\n",
      "  filtered_pa_election[\"candidate\"]=filtered_pa_election[\"candidate\"].str.upper()\n",
      "<ipython-input-95-6a44834495d7>:3: SettingWithCopyWarning: \n",
      "A value is trying to be set on a copy of a slice from a DataFrame.\n",
      "Try using .loc[row_indexer,col_indexer] = value instead\n",
      "\n",
      "See the caveats in the documentation: https://pandas.pydata.org/pandas-docs/stable/user_guide/indexing.html#returning-a-view-versus-a-copy\n",
      "  filtered_pa_election[\"party\"] = filtered_pa_election[\"party\"].str.upper()\n"
     ]
    }
   ],
   "source": [
    "filtered_pa_election[\"pivot_col\"]=filtered_pa_election[\"County_FIPS\"]+filtered_pa_election[\"precinct\"]\n",
    "filtered_pa_election[\"candidate\"]=filtered_pa_election[\"candidate\"].str.upper()\n",
    "filtered_pa_election[\"party\"] = filtered_pa_election[\"party\"].str.upper()\n",
    "print(filtered_pa_election[\"party\"].unique())\n",
    "\n",
    "party_changes_dict = {\"DEMOCRATIC\":\"DEM\",\"REPUBLICAN\":\"REP\",\"LIBERTARIAN\":\"LIB\",\"GREEN\":\"GRN\"\n",
    "                     \"GR\":\"GRN\",\"GRE\":\"GRN\",\"DEMOCRAT\":\"DEM\"}\n",
    "\n",
    "filtered_pa_election[\"party\"] = filtered_pa_election[\"party\"].map()\n",
    "\n",
    "#filtered_pa_election[\"cand_col\"]=filtered_pa_election[\"office\"]+filtered_pa_election[\"party\"]\n",
    "\n",
    "print(filtered_pa_election[\"cand_col\"].unique())\n",
    "\n",
    "#for val in filtered_pa_election[\"party\"].unique():\n",
    "    #print(filtered_pa_election[filtered_pa_election[\"party\"]==val].head())"
   ]
  },
  {
   "cell_type": "code",
   "execution_count": 93,
   "metadata": {},
   "outputs": [
    {
     "name": "stdout",
     "output_type": "stream",
     "text": [
      "  county          precinct       office  district           candidate party  \\\n",
      "0   York  Carroll Township  U.S. Senate       NaN      BOB CASEY, JR.   DEM   \n",
      "1   York  Carroll Township  U.S. Senate       NaN        LOU BARLETTA   REP   \n",
      "2   York  Carroll Township  U.S. Senate       NaN           NEAL GALE   GRN   \n",
      "3   York  Carroll Township  U.S. Senate       NaN  DALE R. KERNS, JR.   LIB   \n",
      "4   York  Carroll Township  U.S. Senate       NaN           WRITE-INS   NaN   \n",
      "\n",
      "  votes  absentee  election_day County_FIPS            pivot_col  \\\n",
      "0   958       NaN           NaN         133  133Carroll Township   \n",
      "1  1858       NaN           NaN         133  133Carroll Township   \n",
      "2    18       NaN           NaN         133  133Carroll Township   \n",
      "3    32       NaN           NaN         133  133Carroll Township   \n",
      "4     0       NaN           NaN         133  133Carroll Township   \n",
      "\n",
      "         cand_col  \n",
      "0  U.S. SenateDEM  \n",
      "1  U.S. SenateREP  \n",
      "2  U.S. SenateGRN  \n",
      "3  U.S. SenateLIB  \n",
      "4             NaN  \n"
     ]
    }
   ],
   "source": [
    "print(filtered_pa_election.head())\n",
    "pivoted_2018 = pd.pivot_table(filtered_pa_election, values=[\"votes\"], index=[\"pivot_col\"],columns=[\"cand_col\"],aggfunc=sum)"
   ]
  },
  {
   "cell_type": "code",
   "execution_count": 94,
   "metadata": {},
   "outputs": [
    {
     "name": "stdout",
     "output_type": "stream",
     "text": [
      "cand_col              GovernorDEM GovernorDEMOCRAT GovernorDEMOCRATIC  \\\n",
      "pivot_col                                                               \n",
      "001Abbottstown  votes         NaN              NaN                NaN   \n",
      "001Arendtsville votes         NaN              NaN                NaN   \n",
      "001Bendersville votes         NaN              NaN                NaN   \n",
      "001Berwick      votes         NaN              NaN                NaN   \n",
      "001Biglerville  votes         NaN              NaN                NaN   \n",
      "\n",
      "cand_col              GovernorGR GovernorGRE GovernorGREEN GovernorGRN  \\\n",
      "pivot_col                                                                \n",
      "001Abbottstown  votes        NaN         NaN           NaN         NaN   \n",
      "001Arendtsville votes        NaN         NaN           NaN         NaN   \n",
      "001Bendersville votes        NaN         NaN           NaN         NaN   \n",
      "001Berwick      votes        NaN         NaN           NaN         NaN   \n",
      "001Biglerville  votes        NaN         NaN           NaN         NaN   \n",
      "\n",
      "cand_col              GovernorLIB GovernorLIBERTARIAN GovernorREP  ...  \\\n",
      "pivot_col                                                          ...   \n",
      "001Abbottstown  votes         NaN                 NaN         NaN  ...   \n",
      "001Arendtsville votes         NaN                 NaN         NaN  ...   \n",
      "001Bendersville votes         NaN                 NaN         NaN  ...   \n",
      "001Berwick      votes         NaN                 NaN         NaN  ...   \n",
      "001Biglerville  votes         NaN                 NaN         NaN  ...   \n",
      "\n",
      "cand_col              U.S. SenateDEMOCRAT U.S. SenateDEMOCRATIC U.S. SenateGR  \\\n",
      "pivot_col                                                                       \n",
      "001Abbottstown  votes                 NaN                   NaN           NaN   \n",
      "001Arendtsville votes                 NaN                   NaN           NaN   \n",
      "001Bendersville votes                 NaN                   NaN           NaN   \n",
      "001Berwick      votes                 NaN                   NaN           NaN   \n",
      "001Biglerville  votes                 NaN                   NaN           NaN   \n",
      "\n",
      "cand_col              U.S. SenateGRE U.S. SenateGREEN U.S. SenateGRN  \\\n",
      "pivot_col                                                              \n",
      "001Abbottstown  votes            NaN              NaN            NaN   \n",
      "001Arendtsville votes            NaN              NaN            NaN   \n",
      "001Bendersville votes            NaN              NaN            NaN   \n",
      "001Berwick      votes            NaN              NaN            NaN   \n",
      "001Biglerville  votes            NaN              NaN            NaN   \n",
      "\n",
      "cand_col              U.S. SenateLIB U.S. SenateLIBERTARIAN U.S. SenateREP  \\\n",
      "pivot_col                                                                    \n",
      "001Abbottstown  votes            NaN                    NaN            NaN   \n",
      "001Arendtsville votes            NaN                    NaN            NaN   \n",
      "001Bendersville votes            NaN                    NaN            NaN   \n",
      "001Berwick      votes            NaN                    NaN            NaN   \n",
      "001Biglerville  votes            NaN                    NaN            NaN   \n",
      "\n",
      "cand_col              U.S. SenateREPUBLICAN  \n",
      "pivot_col                                    \n",
      "001Abbottstown  votes                   NaN  \n",
      "001Arendtsville votes                   NaN  \n",
      "001Bendersville votes                   NaN  \n",
      "001Berwick      votes                   NaN  \n",
      "001Biglerville  votes                   NaN  \n",
      "\n",
      "[5 rows x 34 columns]\n"
     ]
    }
   ],
   "source": [
    "print(pivoted_2018.head())"
   ]
  },
  {
   "cell_type": "code",
   "execution_count": 22,
   "metadata": {},
   "outputs": [],
   "source": [
    "#Combine all the data from separate files into one\n",
    "li = []\n",
    "for i in fips_codes:\n",
    "    ref = \"./raw-from-source/Census/partnership_shapefiles_19v2_\"\n",
    "    file_ref = ref+i+\"/PVS_19_v2_vtd_\"+i+\".shp\"\n",
    "    file_prev = gp.read_file(file_ref)\n",
    "    #print(file_prev.shape)\n",
    "    li.append(file_prev)\n",
    "shapefiles_census = pd.concat(li, axis=0, ignore_index=True)"
   ]
  },
  {
   "cell_type": "code",
   "execution_count": 19,
   "metadata": {},
   "outputs": [
    {
     "name": "stdout",
     "output_type": "stream",
     "text": [
      "67\n"
     ]
    }
   ],
   "source": [
    "print(len(shapefiles_census[\"COUNTYFP\"].unique()))"
   ]
  },
  {
   "cell_type": "code",
   "execution_count": 23,
   "metadata": {},
   "outputs": [
    {
     "name": "stdout",
     "output_type": "stream",
     "text": [
      "  STATEFP COUNTYFP   VTDST          NAME  G18USSDCAS  G18USSRBAR  G18USSLKER  \\\n",
      "0      42      001  000010   ABBOTTSTOWN         120         183           5   \n",
      "1      42      001  000020  ARENDTSVILLE         151         178           6   \n",
      "2      42      001  000030  BENDERSVILLE          74         103           1   \n",
      "3      42      001  000040       BERWICK         289         575          14   \n",
      "4      42      001  000050   BIGLERVILLE         152         231           3   \n",
      "\n",
      "   G18USSGGAL  G18GOVDWOL  G18GOVRWAG  G18GOVLKRA  G18GOVGGLO  \\\n",
      "0           2         120         185           2           2   \n",
      "1           3         160         172           4           2   \n",
      "2           2          76          98           3           2   \n",
      "3           5         318         554           9           5   \n",
      "4           7         168         215           5           2   \n",
      "\n",
      "                                            geometry  \n",
      "0  POLYGON Z ((-76.99801 39.88359 0.00000, -76.99...  \n",
      "1  POLYGON Z ((-77.31141 39.92625 0.00000, -77.30...  \n",
      "2  POLYGON Z ((-77.25596 39.98075 0.00000, -77.25...  \n",
      "3  MULTIPOLYGON Z (((-76.99558 39.88677 0.00000, ...  \n",
      "4  POLYGON Z ((-77.25594 39.93043 0.00000, -77.25...  \n"
     ]
    }
   ],
   "source": [
    "print(vest_pa_18.head())"
   ]
  },
  {
   "cell_type": "code",
   "execution_count": null,
   "metadata": {},
   "outputs": [],
   "source": []
  }
 ],
 "metadata": {
  "kernelspec": {
   "display_name": "Python 3",
   "language": "python",
   "name": "python3"
  },
  "language_info": {
   "codemirror_mode": {
    "name": "ipython",
    "version": 3
   },
   "file_extension": ".py",
   "mimetype": "text/x-python",
   "name": "python",
   "nbconvert_exporter": "python",
   "pygments_lexer": "ipython3",
   "version": "3.8.3"
  }
 },
 "nbformat": 4,
 "nbformat_minor": 4
}
