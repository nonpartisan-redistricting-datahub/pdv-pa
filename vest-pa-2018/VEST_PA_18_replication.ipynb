{
 "cells": [
  {
   "cell_type": "code",
   "execution_count": 1,
   "metadata": {},
   "outputs": [],
   "source": [
    "import pandas as pd # standard python data library\n",
    "import geopandas as gp # the geo-version of pandas\n",
    "import numpy as np \n",
    "import os\n",
    "import fiona\n",
    "from statistics import mean, median\n",
    "from pandas import read_csv\n",
    "gp.io.file.fiona.drvsupport.supported_drivers['KML'] = 'rw' #To load KML files"
   ]
  },
  {
   "cell_type": "markdown",
   "metadata": {},
   "source": [
    "# VEST PA Validation"
   ]
  },
  {
   "cell_type": "code",
   "execution_count": 2,
   "metadata": {},
   "outputs": [],
   "source": [
    "vest_pa_18 = gp.read_file(\"./raw-from-source/VEST/pa_2018/pa_2018.shp\")"
   ]
  },
  {
   "cell_type": "markdown",
   "metadata": {},
   "source": [
    "# Documentation Election Results"
   ]
  },
  {
   "cell_type": "markdown",
   "metadata": {},
   "source": [
    "Election results from the Pennsylvania Secretary of State's office via OpenElections (https://github.com/openelections/openelections-data-pa/). Precinct data was corrected with canvass reports for the following counties: Berks, Blair, Bradford, Cambria, Carbon, Crawford, Elk, Forest, Franklin, Lawrence, Lycoming, Mifflin, Montgomery, Montour, Northumberland, Susquehanna. The candidate totals for Berks, Blair, Crawford, and Mifflin differ from the county totals reported by the state and therefore the statewide totals differ from the official results accordingly."
   ]
  },
  {
   "cell_type": "markdown",
   "metadata": {},
   "source": [
    "# Documentation Shapefiles"
   ]
  },
  {
   "cell_type": "markdown",
   "metadata": {},
   "source": [
    "Precinct shapefiles primarily from the U.S. Census Bureau's 2020 Redistricting Data Program Phase 2 release. The shapefiles from Delaware County and the City of Pittsburgh are from the respective jurisdictions instead. Precinct numbers were corrected to match the voter file in the following locales: Allegheny (Elizabeth, Pittsburgh W12), Blair (Greenfield), Bradford (Athens), Greene (Nonongahela), Monroe (Smithfield), Montgomery (Hatfield), Northampton (Bethlehem Twp), Perry (Toboyne), Washington (New Eagle, Somerset), York (Fairview).\n",
    "\n",
    "Precinct boundaries throughout the state were edited to match voter assignments in the PA Secretary of State voter file from the 2018 election cycle. While some edits reflect official updates to wards or divisions the great majority involve voters incorrectly assigned to voting districts by the counties. As such the VEST shapefile endeavors to reflect the de facto precinct boundaries and these often differ from the official voting district boundaries, in some cases quite drastically. Wherever possible edits were made using census boundaries or alternatively using the parcel shapefiles from the respective counties. \n",
    "\n",
    "In certain areas voter assignments appear so erratic that it is impractical to place all voters within their assigned precinct. These areas were edited so as to place as many voters as possible within their assigned precinct without displacing a greater number from their assigned precinct. In general, municipal boundaries were retained except where significant numbers of numbers were misassigned to the wrong municipality. In cases where the odd/even split was incorrectly reversed for precinct boundary streets the official boundary was retained. All such cases involved near equal number of voters swapped between voting districts.\n",
    "\n",
    "The following revisions were made to the base shapefiles to match the de facto 2018 precinct boundaries consistent with the voter file. Individual precincts are noted in cases of splits or merges. Due to the sheer number of edits boundary adjustments are noted at the borough/township level. There may be as many as two dozen individual precincts that were revised within a given municipality.\n",
    "\n",
    "Adams: Adjust Cumberland, Franklin  \n",
    "Allegheny: Merge CD splits for S Fayette 3/5; Split Pittsburgh W5 11/17; Merge Pittsburgh W16 9/11/12, Align   McCandless with municipal boundary; Adjust Avalon, Baldwin, Bethel Park, Braddock, Brentwood, Castle Shannon, Clairton, Collier, Coraopolis, Crescent, Dormont, Dravosburg, Duquesne, E Deer, E McKeesport, E Pittsburgh, Elizabeth, Emsworth, Forward, Glassport, Hampton, Harmar, Ingram, Jefferson Hills, Kennedy, Leet, Liberty, Marshall, McCandless, McKees Rocks, McKeesport, Monroeville, Moon, Mount Lebanon, Munhall, N Fayette, N Versailles, O'Hara, Oakdale, Penn Hills, Pine, Pittsburgh (nearly all wards), Pleasant Hills, Reserve, Richland, Ross, Scott, Sewickley, Shaler, S Fayette, S Park, Stowe, Swissvale, Upper St. Clair, W Deer, W Homestead, W Mifflin, W View, Whitaker, Whitehall, Wilkins, Wilkinsburg\n",
    "Armstrong: Align Dayton, Elderton, Ford City, Kittanning, N Apollo with municipal boundaries; Adjust Ford City, Gilpin, Kiskiminetas, Kittanning, Manor, N Buffalo, Parks, Parker City, S Buffalo  \n",
    "Beaver: Adjust Aliquippa, Ambridge, Baden, Beaver, Brighton, Center, Chippewa, Conway, Economy, Franklin, Hanover, Harmony, Hopewell, Midland, Monaca, N Sewickley  \n",
    "Bedford: Adjust Bedford Boro, Bedford Twp  \n",
    "Berks: Adjust Cumru, Douglass, Oley, Maxatawny, Robeson, Sinking Spring, Spring, Union  \n",
    "Blair: Merge Tunnelhill/Allegheny Twp 4; Align Altoona, Bellwood, Duncansville, Hollidaysburg, Newry, Roaring Spring, Tyrone, Williamsburg with municipal boundaries; Adjust Allegheny, Altoona, Antis, Frankstown, Freedom, Greenfield, Huston, Juniata, N Woodbury, Logan, Snyder, Tyrone Boro, Tyrone Twp  \n",
    "Bucks: Align Sellersville, Tullytown with municipal boundaries; Adjust Bensalem, Bristol Boro, Bristol Twp, Buckingham, Doylestown Twp, Falls, Hilltown, Lower Makefield N, Lower Southampton E, Middletown, Milford, Morrissville, Newtown Twp, Northampton, Solebury Lower, Solebury, Springfield, Tinicum, Upper Makefield, Upper Southampton E, Warminster, Warrington, W Rockhill  \n",
    "Butler: Merge CD splits for Cranberry E 2, 3, Cranberry W 1, 2, Jefferson 1, 2; Align Butler Twp, Valencia with municipal boundaries; Adjust Adams, Buffalo, Butler Boro, Butler Twp, Center, Cranberry E, Cranberry W, Jackson, Jefferson, Zelienople\n",
    "Cambria: Align Daisytown, Sankertown, W Taylor, Wilmore with municipal boundaries; Adjust Cambria, Conemaugh, Croyle, E Taylor, Ebensburg, E Carroll, Geistown, Jackson, Johnstown W8, W17, W20, Lower Yoder, Northern Cambria, Portage Boro, Portage Twp, Richland, Southmont, Stonycreek, Summerhill, Susquehanna, Upper Yoder, W Carroll, Westmont\n",
    "Cameron: Adjust Emporium, Shippen\n",
    "Carbon: Adjust Jim Thorpe, Kidder, Mahoning, New Mahoning, Summit Hill\n",
    "Centre: Merge CD splits for Halfmoon E Central/Proper; Merge Ferguson Northeast 1 A/B; Adjust Benner, College, Ferguson, Patton\n",
    "Chester: Merge CD/LD splits for Birmingham 2, Phoenixville M 1; Adjust Birmingham, E Bradford S, E Fallowfield, E Goshen, E Marlborough, Easttown, N Coventry, Spring City, Tredyffrin M, Uwchlan, W Bradford, W Caln, W Goshen N, W Goshen S, Westtown\n",
    "Clarion: Merge Emlenton/Richland; Adjust Clarion, Highland, Farmington, Knox\n",
    "Clearfield: Adjust Bradford, Cooper, Decatur, Golden Rod, Lawrence Glen Richie, Morris, Plympton, Woodward\n",
    "Columbia: Merge Ashland/Conyngham; Adjust Orange, Scott West\n",
    "Crawford: Align Mead, Woodcock with municipal boundaries\n",
    "Cumberland: Merge CD splits for N Middleton 1, 3; Split Lower Allen 1/Annex; Align Carlisle, E Pennsboro, Hampton, Lemoyne, Lower Allen, Mechanisburg, Middlesex, Mount Holly Springs, N Middleton, Shiremanstown, Silver Spring, W Pennsboro, Wormsleysburg with municipal boundaries\n",
    "Dauphin: Align Middletown with municipal boundary; Adjust Derry, Harrisburg W1, W7, W8, W9, Hummelstown, Lower Paxton, Lykens, Middletown\n",
    "Delaware: Adjust Chester, Concord, Darby Boro, Darby Twp, Haverford, Marple, Nether Providence, Newtown, Radnor, Ridley, Sharon Hill, Thornbury, Tinicum, Trainer, Upper Chichester, Upper Darby, Upper Providence\n",
    "Elk: Split N/S Horton; Adjust Johnsonburg, Ridgeway Boro, Ridgeway Twp, St. Marys\n",
    "Erie: Adjust Erie W1, W4, W5, W6, Greene, Lawrence Park, McKean, Millcreek, North East\n",
    "Fayette: Align Dunbar with municipal boundary; Adjust Brownsville, Bullskin, Dunbar, Georges, German, Luzerne, N Union, Redstone\n",
    "Franklin: Align Mercersburg with municipal boundary; Adjust Antrim, Fannett, Greene, Guilford, Hamilton, Metal, Peters, Quincy, St. Thomas, Southampton, Washington\n",
    "Fulton: Align McConnellsburg with municipal boundary\n",
    "Greene: Align Carmichaels with municipal boundary; Adjust Cumberland, Dunkard, Franklin, Jefferson, Lipencott, Mather, Morgan Chart, Monongahela, Nemacolin\n",
    "Huntingdon: Merge CD splits for Penn; Adjust Huntingdon, Mount Union\n",
    "Jefferson:  Align Reynoldsville with municipal boundary; Adjust Punxsutawney\n",
    "Lackawanna: Adjust Archbald, Blakely, Carbondale, Clarks Summit, Dickson City, Dunmore, Fell, Jermyn, Jessup, Mayfield, Moosic, Old Forge, Olyphant, Scranton W1, W2, W3, W6, W7, W10, W12, W13, W14, W15, W16, W19, W20, W23, S Abington, Taylor, Throop\n",
    "Lancaster: Split Lancaster 7-8 CV/LS; Adjust Brecknock, Columbia, E Hempfield, E Lampeter, E Petersburg, Elizabethtown, Ephrata, Lancaster W4, W8, Lititz, Manheim, Manor, Millersville, Mt Joy Boro, Mt Joy Twp, New Holland, Penn, Providence, Rapho, Warwick, W Cocalico, W Donegal, W Hempfield\n",
    "Lawrence: Adjust Neshannock\n",
    "Lebanon: Adjust Jackson, Lickdale, S Lebanon, Union Green Pt\n",
    "Lehigh: Adjust Lower Macungie, Salisbury\n",
    "Luzerne: Merge CD splits for Hazle 1; Align Avoca, Pittston with municipal boundaries; Adjust Butler, Dallas, Exeter, Foster, Freeland, Hanover, Hazle, Jenkins, Kingston Boro, Kingston Twp, Larksville, Lehman, Nanticoke, Newport, Plains, Salem, Smoyersville, W Wyoming, Wilkes-Barre\n",
    "Lycoming: Align Williamsport with municipal boundary; Adjust Jersey Shore\n",
    "McKean: Adjust Bradford City, Bradford Twp, Foster, Keating, Otto\n",
    "Mercer: Adjust Delaware, Fredonia, Greenville, Hempfield, Hermitage, Sharon, Sharpsville, S Pymatuning, W Salem\n",
    "Mifflin: Split Brown Reedsville/Church Hill\n",
    "Monroe: Align E Stroudsburg with municipal boundary; Adjust E Stroudsburg, Smithfield\n",
    "Montgomery: Add CD special election splits for Horsham 2-2, Perkiomen 1, Plymouth 2-3; Adjust Abington, Lower Merion, Pottstown, Springfield, Upper Moreland, Upper Merion, Upper Providence\n",
    "Northampton: Align Glendon, Walnutport with municipal boundaries; Adjust Bangor, Bethlehem W2, W3, W4, W7, W9, W14, W15, Bethlehem Twp, Bushkill, Easton, Forks, Hanover, Hellertown, Lehigh, Lower Mt Bethel, Lower Saucon, Moore, Nazareth, Palmer, Plainfield, Upper Mt Bethel, Washington, Williams\n",
    "Northumberland: Align Northumberland with municipal boundary; Adjust Coal, Milton, Mount Carmel W, Natalie-Strong, Northumberland, Point, Ralpho, Shamokin, Sunbury, Upper Augusta\n",
    "Philadelphia: Adjust 1-19/21, 5-3/19, 7-2/3/17, 7-6/7, 9-5/6, 15-7/10, 17-20/26, 20-5/10, 21-1/15, 21-40/41, 22-21/26, 23-11/12, 25-9/17, 25-4/7/12, 25-10/12, 26-1/2, 27-7/8, 27-18/20/21, 28-1/8, 29-9/11, 29-10/17, 30-14/15, 31-5/6, 38-11/17, 38-13/20, 38-15/19, 40-12/18/19, 40-17/19, 42-3/4/7, 44-8/14, 50-3/12, 50-11/27, 52-2/6/9, 52-3/8, 57-6/7, 57-10/27, 57-17/28, 58-6/12, 62-5/19, 65-4/7, 65-11/16, 66-22/34  \n",
    "Pike: Adjust Matamoras  \n",
    "Potter: Adjust Galeton, Sharon  \n",
    "Schuylkill: Adjust Coaldale, N Manheim, Norwegian, Porter, Pottsville\n",
    "Somerset: Align New Centerville with municipal boundary; Adjust Conemaugh, Jefferson, Middlecreek, Paint, Somerset Boro  \n",
    "Susquehanna: Adjust Montrose; Lanesboro, Susquehanna Depot  \n",
    "Tioga: Adjust Delmar, Wellsboro  \n",
    "Union: Adjust Buffalo, White Deer  \n",
    "Venango: Adjust Franklin, Sugarcreek, Cornplanter, Oil City  \n",
    "Warren: Adjust Conewango  \n",
    "Washington: Align Allenport, Beallsville, Burgettstown, Canonsburg, Carroll, Charleroi, Claysville, Elco, Finleyville, Houston, Long Branch, McDonald, Monongahela, Speers, Twilight with municipal boundaries; Adjust Amwell, Bentleyville, California, Canonsburg, Canton, Cecil, Centerville, Chartiers, Donegal, Donora, Fallowfield, Hanover, Independence, Mount Pleasant, N Franklin, N Strabane, Peters, Robinson, Smith, Somerset, S Franklin, S Strabane, Union Washington, W Brownsville  \n",
    "Wayne: Adjust Honesdale  \n",
    "Westmoreland: Merge CD splits for Unity Pleasant Unity; Align Greensburg with municipal boundary; Adjust Allegheny, Arnold, Bell, Derry, E Huntingdon, Fairfield, Greensburg W1-W8, Hempfield, Jeannette, Latrobe, Ligonier, Lower Burrell, Monessen, Mount Pleasant, Murraysville, New Kensington, N Belle Vernon, N Huntingdon, Penn, Rostraver, St. Clair, Scottdale, Sewickley, S Greensburg, S Huntingdon, Trafford, Upper Burrell, Unity, Vandergrift, Washington, Youngwood  \n",
    "Wyoming: Adjust Falls  \n",
    "York: Merge CD splits for York Twp 5-3; Align E Prospect, Goldsboro, Jefferson, Manchester, Monaghan, Wellsville, York with municipal boundaries; Adjust Chanceford, Codorus, Conewago, Dover, Fairview, Hanover, Jackson, Lower Windsor, New Freedom, Newberry, N Codorus, Penn, Red Lion, Shrewsbury, Spring Garden, Springbettsbury, W Manchester, Windsor Boro, Windsor Twp, Wrightsville, York Twp, York W5, W6, W15  "
   ]
  },
  {
   "cell_type": "markdown",
   "metadata": {},
   "source": [
    "## Election Results"
   ]
  },
  {
   "cell_type": "markdown",
   "metadata": {},
   "source": [
    "#### Load a FIPS file"
   ]
  },
  {
   "cell_type": "code",
   "execution_count": 3,
   "metadata": {
    "scrolled": true
   },
   "outputs": [],
   "source": [
    "fips_file = pd.read_csv(\"./raw-from-source/FIPS/US_FIPS_Codes.csv\")\n",
    "fips_file = fips_file[fips_file[\"State\"]==\"Pennsylvania\"]\n",
    "fips_file[\"FIPS County\"]=fips_file[\"FIPS County\"].astype(str)\n",
    "fips_file[\"FIPS County\"]=fips_file[\"FIPS County\"].str.zfill(3)\n",
    "fips_file[\"unique_ID\"] =  \"42\" + fips_file[\"FIPS County\"]\n",
    "fips_codes = fips_file[\"unique_ID\"].tolist()\n",
    "pa_fips_dict = dict(zip(fips_file[\"County Name\"],fips_file[\"FIPS County\"]))"
   ]
  },
  {
   "cell_type": "markdown",
   "metadata": {},
   "source": [
    "#### Load election results"
   ]
  },
  {
   "cell_type": "markdown",
   "metadata": {},
   "source": [
    "Note: Due to an issue with the combined file that I discovered, results for 3 counties are loaded separately.  \n",
    "The full file does not include the Governors results from Butler or Westmoreland, does not include Senate results from Clearfield  \n",
    "\n",
    "Note: Results include \"Straight Party\" votes, these do not need to be counted or added."
   ]
  },
  {
   "cell_type": "code",
   "execution_count": 4,
   "metadata": {},
   "outputs": [
    {
     "name": "stderr",
     "output_type": "stream",
     "text": [
      "/Users/peterhorton/opt/anaconda3/envs/geo_env/lib/python3.9/site-packages/IPython/core/interactiveshell.py:3165: DtypeWarning: Columns (6) have mixed types.Specify dtype option on import or set low_memory=False.\n",
      "  has_raised = await self.run_ast_nodes(code_ast.body, cell_name,\n"
     ]
    }
   ],
   "source": [
    "pa_election = pd.read_csv(\"./raw-from-source/Election_Results/openelections-data-pa-master/2018/20181106__pa__general__precinct.csv\")\n",
    "butler_election = pd.read_csv(\"./raw-from-source/Election_Results/openelections-data-pa-master/2018/counties/20181106__pa__general__butler__precinct.csv\")\n",
    "clearfield_election = pd.read_csv(\"./raw-from-source/Election_Results/openelections-data-pa-master/2018/counties/20181106__pa__general__clearfield__precinct.csv\")\n",
    "westmoreland_election = pd.read_csv(\"./raw-from-source/Election_Results/openelections-data-pa-master/2018/counties/20181106__pa__general__westmoreland__precinct.csv\")"
   ]
  },
  {
   "cell_type": "markdown",
   "metadata": {},
   "source": [
    "#### Clean Election Results"
   ]
  },
  {
   "cell_type": "code",
   "execution_count": 5,
   "metadata": {},
   "outputs": [
    {
     "name": "stderr",
     "output_type": "stream",
     "text": [
      "<ipython-input-5-7f2ab0355508>:29: SettingWithCopyWarning: \n",
      "A value is trying to be set on a copy of a slice from a DataFrame.\n",
      "Try using .loc[row_indexer,col_indexer] = value instead\n",
      "\n",
      "See the caveats in the documentation: https://pandas.pydata.org/pandas-docs/stable/user_guide/indexing.html#returning-a-view-versus-a-copy\n",
      "  filtered_pa_election[\"county\"] = filtered_pa_election[\"county\"].map(county_changes_dict).fillna(filtered_pa_election[\"county\"])\n",
      "<ipython-input-5-7f2ab0355508>:30: SettingWithCopyWarning: \n",
      "A value is trying to be set on a copy of a slice from a DataFrame.\n",
      "Try using .loc[row_indexer,col_indexer] = value instead\n",
      "\n",
      "See the caveats in the documentation: https://pandas.pydata.org/pandas-docs/stable/user_guide/indexing.html#returning-a-view-versus-a-copy\n",
      "  filtered_pa_election[\"County_FIPS\"]=filtered_pa_election.loc[:,\"county\"].map(pa_fips_dict).fillna(filtered_pa_election.loc[:,\"county\"])\n"
     ]
    }
   ],
   "source": [
    "#Filter down election results to needed columns\n",
    "pa_election = pa_election[[\"county\",\"precinct\",\"office\",\"party\",\"candidate\",\"votes\"]]\n",
    "butler_election = butler_election[[\"county\",\"precinct\",\"office\",\"party\",\"candidate\",\"votes\"]]\n",
    "clearfield_election = clearfield_election[[\"county\",\"precinct\",\"office\",\"party\",\"candidate\",\"votes\"]]\n",
    "westmoreland_election = westmoreland_election[[\"county\",\"precinct\",\"office\",\"party\",\"candidate\",\"votes\"]]\n",
    "\n",
    "#Add the votes for those 3 counties to a df\n",
    "other_list = [butler_election,clearfield_election,westmoreland_election]\n",
    "other_df = pd.concat(other_list)\n",
    "\n",
    "#Remove votes from those 3 counties from the combined file\n",
    "lone_counties = [\"Butler\",\"Clearfield\",\"Westmoreland\"]\n",
    "pa_election = pa_election[~pa_election[\"county\"].isin(lone_counties)]\n",
    "\n",
    "#Add votes from those 3 counties in using data from the county-specific files\n",
    "two_dfs_list = [other_df,pa_election]\n",
    "pa_election = pd.concat(two_dfs_list)\n",
    "\n",
    "#Update the office names\n",
    "office_changes = {'GOVERNOR':'Governor','United States Senator':\"U.S. Senate\"}\n",
    "pa_election[\"office\"]=pa_election[\"office\"].map(office_changes).fillna(pa_election[\"office\"])\n",
    "\n",
    "#Filter down results to the relevant offices \n",
    "office_list = [\"U.S. Senate\", 'Governor']\n",
    "filtered_pa_election = pa_election[pa_election[\"office\"].isin(office_list)]\n",
    "county_changes_dict = {\"Washington \":\"Washington\"}\n",
    "\n",
    "#Update the county names and add a FIPS using the dictionary created above\n",
    "filtered_pa_election[\"county\"] = filtered_pa_election[\"county\"].map(county_changes_dict).fillna(filtered_pa_election[\"county\"])\n",
    "filtered_pa_election[\"County_FIPS\"]=filtered_pa_election.loc[:,\"county\"].map(pa_fips_dict).fillna(filtered_pa_election.loc[:,\"county\"])"
   ]
  },
  {
   "cell_type": "code",
   "execution_count": 6,
   "metadata": {},
   "outputs": [
    {
     "name": "stderr",
     "output_type": "stream",
     "text": [
      "<ipython-input-6-84736e6c51b8>:2: SettingWithCopyWarning: \n",
      "A value is trying to be set on a copy of a slice from a DataFrame.\n",
      "Try using .loc[row_indexer,col_indexer] = value instead\n",
      "\n",
      "See the caveats in the documentation: https://pandas.pydata.org/pandas-docs/stable/user_guide/indexing.html#returning-a-view-versus-a-copy\n",
      "  filtered_pa_election[\"pivot_col\"]=filtered_pa_election[\"County_FIPS\"]+filtered_pa_election[\"precinct\"]\n",
      "<ipython-input-6-84736e6c51b8>:5: SettingWithCopyWarning: \n",
      "A value is trying to be set on a copy of a slice from a DataFrame.\n",
      "Try using .loc[row_indexer,col_indexer] = value instead\n",
      "\n",
      "See the caveats in the documentation: https://pandas.pydata.org/pandas-docs/stable/user_guide/indexing.html#returning-a-view-versus-a-copy\n",
      "  filtered_pa_election[\"candidate\"]=filtered_pa_election[\"candidate\"].str.upper()\n",
      "<ipython-input-6-84736e6c51b8>:6: SettingWithCopyWarning: \n",
      "A value is trying to be set on a copy of a slice from a DataFrame.\n",
      "Try using .loc[row_indexer,col_indexer] = value instead\n",
      "\n",
      "See the caveats in the documentation: https://pandas.pydata.org/pandas-docs/stable/user_guide/indexing.html#returning-a-view-versus-a-copy\n",
      "  filtered_pa_election[\"candidate\"] = filtered_pa_election[\"candidate\"].str.strip()\n",
      "<ipython-input-6-84736e6c51b8>:7: SettingWithCopyWarning: \n",
      "A value is trying to be set on a copy of a slice from a DataFrame.\n",
      "Try using .loc[row_indexer,col_indexer] = value instead\n",
      "\n",
      "See the caveats in the documentation: https://pandas.pydata.org/pandas-docs/stable/user_guide/indexing.html#returning-a-view-versus-a-copy\n",
      "  filtered_pa_election[\"party\"] = filtered_pa_election[\"party\"].str.upper()\n",
      "<ipython-input-6-84736e6c51b8>:11: SettingWithCopyWarning: \n",
      "A value is trying to be set on a copy of a slice from a DataFrame.\n",
      "Try using .loc[row_indexer,col_indexer] = value instead\n",
      "\n",
      "See the caveats in the documentation: https://pandas.pydata.org/pandas-docs/stable/user_guide/indexing.html#returning-a-view-versus-a-copy\n",
      "  filtered_pa_election[\"party\"] = filtered_pa_election[\"party\"].map(party_changes_dict).fillna(filtered_pa_election[\"party\"])\n"
     ]
    }
   ],
   "source": [
    "#Create a column to pivot the dataframe on\n",
    "filtered_pa_election[\"pivot_col\"]=filtered_pa_election[\"County_FIPS\"]+filtered_pa_election[\"precinct\"]\n",
    "\n",
    "#Standardize the other columns\n",
    "filtered_pa_election[\"candidate\"]=filtered_pa_election[\"candidate\"].str.upper()\n",
    "filtered_pa_election[\"candidate\"] = filtered_pa_election[\"candidate\"].str.strip()\n",
    "filtered_pa_election[\"party\"] = filtered_pa_election[\"party\"].str.upper()\n",
    "\n",
    "#Create a dictionary to change the party names\n",
    "party_changes_dict = {\"DEMOCRATIC\":\"DEM\",\"REPUBLICAN\":\"REP\",\"LIBERTARIAN\":\"LIB\",\"GREEN\":\"GRN\",\"GR\":\"GRN\",\"GRE\":\"GRN\",\"DEMOCRAT\":\"DEM\"}\n",
    "filtered_pa_election[\"party\"] = filtered_pa_election[\"party\"].map(party_changes_dict).fillna(filtered_pa_election[\"party\"])\n",
    "\n",
    "#Filter out the write-in votes\n",
    "filtered_pa_election = filtered_pa_election[~(filtered_pa_election[\"candidate\"].str[-3:]==\"(W)\")]"
   ]
  },
  {
   "cell_type": "code",
   "execution_count": 7,
   "metadata": {},
   "outputs": [],
   "source": [
    "#Standardize the candidate names\n",
    "\n",
    "candidate_name_changes = {\n",
    "   'DEMOCRATIC':'DEM', \n",
    " 'REPUBLICAN':\"REP\",\n",
    " 'GREEN':\"GRN\", \n",
    " 'INDEPENDENT':\"IND\", \n",
    " 'LIBERTARIAN':\"LIB\",\n",
    "    \n",
    "    \n",
    "    'LOU BARLETTA':'BARLETTA',\n",
    " 'LOU  BARLETTA':'BARLETTA',\n",
    " 'LOU BARLETTA JR':'BARLETTA',\n",
    " 'BARLETTA, LOU':'BARLETTA',\n",
    "\n",
    "    'KEN V KRAWCHUK, GOVERNOR':'KRAWCHUK',\n",
    "    'KEN V. KRAWCHUK/K.S. SMITH':'KRAWCHUK',\n",
    "    'KRAWCHUK /SMITH':'KRAWCHUK',\n",
    "    'KEN V. KRAWCHUK KATHLEEN S. SMITH':'KRAWCHUK',\n",
    "    'KRAWCHUK\\\\SMITH':'KRAWCHUK',\n",
    "     'KEN V KRAWCHUK':'KRAWCHUK', \n",
    " 'KRAWCHUK / SMITH':'KRAWCHUK',\n",
    " 'KRAWCHUK/SMITH':'KRAWCHUK',\n",
    " 'KEN V. KRAWCHUK/K. S. SMITH':'KRAWCHUK',\n",
    " 'KEN KRAWCHUK':'KRAWCHUK',\n",
    " 'KRAWCHUK/ SMITH':'KRAWCHUK',\n",
    " 'KEN V. KRAWCHUK':'KRAWCHUK',\n",
    " 'KRAWCHUK, KEN V.':'KRAWCHUK',\n",
    " 'KEN V. KRAWCHUK / K. S. SMITH':'KRAWCHUK',\n",
    "    \n",
    "    'GLOVER / BOSTICK':'GLOVER',\n",
    "    'PAUL GLOVER, GOVERNOR':'GLOVER',\n",
    "    'GLOVER / BOWSER BOSTICK':'GLOVER',\n",
    "    'PAUL GLOVER/J. BOWSER-BOSTICK':'GLOVER',\n",
    "    'GLOVER/BOSTICK':'GLOVER',\n",
    "    'GLOVER/BOWSER-BOSTIC':'GLOVER',\n",
    "    'PAUL GLOVER JOCOLYN BOWSER-BOSTICK':'GLOVER',\n",
    "    'GLOVER/BOWSERBOS':'GLOVER',\n",
    "    'GLOVER\\\\BOWSERBOSTICK':'GLOVER',\n",
    "     'GLOVER / BOWSER-BOSTICK':'GLOVER', \n",
    " 'GLOVER/BOWSER-BOSTICK':'GLOVER',\n",
    " 'GLOVER/BOWSER-BOS':'GLOVER', \n",
    " 'PAUL GLOVER/JOCOLYN BOWER-BOSTICK':'GLOVER', \n",
    " 'PAUL  GLOVER':'GLOVER',\n",
    " 'GLOVER / BOWSER-BOS':'GLOVER',\n",
    " 'PAUL GLOVER':'GLOVER',\n",
    " 'GLOVER, PAUL':'GLOVER',\n",
    " 'PAUL GLOVER / J. BOWSER BOSTICK':'GLOVER',\n",
    "    \n",
    "    'SCOTT R WAGNER, GOVERNOR':'WAGNER',\n",
    "    'SCOTT R. WAGNER JEFF BARTOS':'WAGNER',\n",
    "    'WAGNER\\\\BARTOS':'WAGNER',\n",
    "     'SCOTT R WAGNER':'WAGNER', \n",
    "    'WAGNER/BARTOS':'WAGNER',\n",
    " 'WAGNER / BARTOS':'WAGNER',\n",
    "  'SCOTT R. WAGNER/JEFF BARTOS':'WAGNER',\n",
    " 'WAGNER/ BARTOS':'WAGNER',\n",
    " 'SCOTT R WAGNER AND JEFF BARTOS':'WAGNER',\n",
    " 'SCOTT WAGNER':'WAGNER',\n",
    " 'SCOTT R. WAGNER':'WAGNER',\n",
    " 'WAGNER, SCOTT R.':'WAGNER',\n",
    " 'SCOTT R. WAGNER / JEFF BARTOS':'WAGNER',\n",
    "    \n",
    "    'TOM WOLF, GOVERNOR':'WOLF',\n",
    "    'TOM WOLF JOHN FETTERMAN':'WOLF',\n",
    "    'WOLF\\\\FETTERMAN':'WOLF',\n",
    "     'WOLF / FETTERMAN':'WOLF',\n",
    " 'WOLF/FETTERMAN':'WOLF',\n",
    " 'TOM WOLF/JOHN FETTERMAN':'WOLF', \n",
    " 'TOM  WOLF':'WOLF',\n",
    " 'TOM WOLF AND JOHN FETTERMAN':'WOLF',\n",
    " 'TOM WOLF':'WOLF',\n",
    " 'WOLF, TOM':'WOLF',\n",
    " 'TOM WOLF / JOHN FETTERMAN':'WOLF',\n",
    "    \n",
    "    'DALE KERNS':\"KERNS\",\n",
    "    'DALE R KEARNS, JR':\"KERNS\",\n",
    " 'DALE R KERNS, JR':\"KERNS\",\n",
    " 'DALE R. KERNS JR.':\"KERNS\",\n",
    "  'DALE KERNS JR':\"KERNS\", \n",
    " 'DALE R. KERNS, JR':\"KERNS\",\n",
    " 'DALE R. KERNS, JR.':\"KERNS\",\n",
    " 'DALE R. KERNS JR':\"KERNS\", \n",
    " 'DALE R KERNS JR':\"KERNS\",\n",
    "    'KERNS, JR., DALE R.':\"KERNS\",\n",
    "    \n",
    "    'ROBERT CASEY JR.':\"CASEY\",\n",
    "     'BOB CASEY, JR':\"CASEY\",\n",
    " 'BOB CASEY JR.':\"CASEY\",\n",
    " 'BOB  CASEY, JR.':\"CASEY\",\n",
    " 'BOB CASEY':\"CASEY\",\n",
    " 'CASEY, JR., BOB':\"CASEY\",\n",
    " 'BOB CASEY, JR.':\"CASEY\", \n",
    " 'BOB CASEY JR':\"CASEY\", \n",
    "    \n",
    "    'NEAL GALE':\"GALE\",\n",
    " 'NEAL  GALE':\"GALE\",\n",
    " 'GALE, NEAL':\"GALE\",\n",
    " 'NEALE GALE':\"GALE\"}\n",
    "\n",
    "#Modify the candidate names\n",
    "filtered_pa_election[\"candidate\"] = filtered_pa_election[\"candidate\"].map(candidate_name_changes).fillna(filtered_pa_election[\"candidate\"])"
   ]
  },
  {
   "cell_type": "code",
   "execution_count": null,
   "metadata": {},
   "outputs": [],
   "source": []
  },
  {
   "cell_type": "code",
   "execution_count": 8,
   "metadata": {},
   "outputs": [],
   "source": [
    "#Create lists to filter out certain candidates and parties\n",
    "candidates_to_remove = [\"NO AFFILIATION\",'WRITE - IN','BLANK VOTES',\n",
    "                      'WRITE-INS','WRITE IN','CAST VOTES','OVER VOTES',\n",
    "                     'UNDER VOTES','WRITE IN VOTES','WRITE-IN VOTES']\n",
    "parties_to_remove = [\"NAF\",\"IND\"]\n",
    "\n",
    "#Fill NA values in the votes column\n",
    "filtered_pa_election[\"votes\"]=filtered_pa_election[\"votes\"].fillna(0)\n",
    "\n",
    "#Filter down to relevant candidates and parties\n",
    "filtered_pa_election = filtered_pa_election[~(filtered_pa_election[\"candidate\"].isin(candidates_to_remove))]\n",
    "filtered_pa_election = filtered_pa_election[~(filtered_pa_election[\"party\"].isin(parties_to_remove))]\n",
    "\n",
    "#Due to data oddities, in a few occasions the party is where the candidate should be and vice versa\n",
    "filtered_pa_election[\"party\"] = filtered_pa_election[\"party\"].fillna(filtered_pa_election[\"candidate\"])\n",
    "filtered_pa_election[\"candidate\"] = filtered_pa_election[\"candidate\"].fillna(filtered_pa_election[\"party\"])\n",
    "\n",
    "#Change votes to strings to be able to edit out the \",\" formatting\n",
    "filtered_pa_election[\"votes\"]=filtered_pa_election[\"votes\"].astype(str)\n",
    "filtered_pa_election[\"votes\"]=filtered_pa_election[\"votes\"].str.replace(',', '').astype(int)\n",
    "\n",
    "#Cast the votes back to integers\n",
    "filtered_pa_election.loc[:,\"votes\"]=filtered_pa_election.loc[:,\"votes\"].astype(int)\n",
    "\n",
    "#Delete the duplicates b/c of apparent duplicate results in Delaware County\n",
    "filtered_pa_election = filtered_pa_election.drop_duplicates()\n",
    "\n",
    "#Create a candidate column\n",
    "filtered_pa_election[\"cand_col\"]=filtered_pa_election[\"office\"]+filtered_pa_election[\"candidate\"]"
   ]
  },
  {
   "cell_type": "code",
   "execution_count": 9,
   "metadata": {},
   "outputs": [
    {
     "name": "stdout",
     "output_type": "stream",
     "text": [
      "['U.S. SenateCASEY' 'U.S. SenateBARLETTA' 'U.S. SenateGALE'\n",
      " 'U.S. SenateKERNS' 'GovernorWOLF' 'GovernorWAGNER' 'GovernorGLOVER'\n",
      " 'GovernorKRAWCHUK']\n"
     ]
    }
   ],
   "source": [
    "print(filtered_pa_election[\"cand_col\"].unique())"
   ]
  },
  {
   "cell_type": "markdown",
   "metadata": {},
   "source": [
    "#### Pivot election results"
   ]
  },
  {
   "cell_type": "code",
   "execution_count": 10,
   "metadata": {},
   "outputs": [],
   "source": [
    "pivoted_2018 = pd.pivot_table(filtered_pa_election, values=[\"votes\"], index=[\"pivot_col\"],columns=[\"cand_col\"],aggfunc=sum)"
   ]
  },
  {
   "cell_type": "markdown",
   "metadata": {},
   "source": [
    "#### Clean pivoted file"
   ]
  },
  {
   "cell_type": "code",
   "execution_count": 11,
   "metadata": {},
   "outputs": [],
   "source": [
    "#Clean indices and rename columns\n",
    "pivoted_2018.reset_index(drop=False,inplace=True)\n",
    "pivoted_2018.columns = pivoted_2018.columns.droplevel(0)\n",
    "pivoted_2018.columns=[\"cty_pct\",\"G18GOVGGLO\",\"G18GOVLKRA\",\"G18GOVRWAG\",\"G18GOVDWOL\",\"G18USSRBAR\",\"G18USSDCAS\",\"G18USSGGAL\",\"G18USSLKER\"]\n",
    "\n",
    "#Fill NA votes\n",
    "pivoted_2018 = pivoted_2018.fillna(0)\n",
    "\n",
    "#Add a county column back to the df\n",
    "pivoted_2018[\"county\"]=pivoted_2018[\"cty_pct\"].str[0:3]\n",
    "\n",
    "#Remove \"Total\" votes\n",
    "pivoted_2018 = pivoted_2018[~(pivoted_2018[\"cty_pct\"].str[3:]==\"Total\")]"
   ]
  },
  {
   "cell_type": "markdown",
   "metadata": {},
   "source": [
    "#### Check Election Result Totals"
   ]
  },
  {
   "cell_type": "code",
   "execution_count": 12,
   "metadata": {},
   "outputs": [
    {
     "name": "stdout",
     "output_type": "stream",
     "text": [
      "G18GOVGGLO\n",
      "27797\n",
      "27807.0\n",
      "\n",
      "G18GOVLKRA\n",
      "49238\n",
      "49238.0\n",
      "\n",
      "G18GOVRWAG\n",
      "2040233\n",
      "2039598.0\n",
      "\n",
      "G18GOVDWOL\n",
      "2895931\n",
      "2896074.0\n",
      "\n",
      "G18USSRBAR\n",
      "2135223\n",
      "2134991.0\n",
      "\n",
      "G18USSDCAS\n",
      "2792693\n",
      "2792656.0\n",
      "\n",
      "G18USSGGAL\n",
      "31228\n",
      "31264.0\n",
      "\n",
      "G18USSLKER\n",
      "50927\n",
      "50540.0\n",
      "\n"
     ]
    }
   ],
   "source": [
    "col_list=[\"G18GOVGGLO\",\"G18GOVLKRA\",\"G18GOVRWAG\",\"G18GOVDWOL\",\"G18USSRBAR\",\"G18USSDCAS\",\"G18USSGGAL\",\"G18USSLKER\"]\n",
    "for i in col_list:\n",
    "    print(i)\n",
    "    print(sum(vest_pa_18[i]))\n",
    "    print(sum(pivoted_2018[i]))\n",
    "    print(\"\")\n",
    "    \n"
   ]
  },
  {
   "cell_type": "code",
   "execution_count": 13,
   "metadata": {},
   "outputs": [
    {
     "name": "stdout",
     "output_type": "stream",
     "text": [
      "G18GOVGGLO\n",
      "county\n",
      "021    2.0\n",
      "025   -2.0\n",
      "039    6.0\n",
      "047    4.0\n",
      "Name: G18GOVGGLO, dtype: float64\n",
      "\n",
      "G18GOVLKRA\n",
      "county\n",
      "039    1.0\n",
      "097   -1.0\n",
      "Name: G18GOVLKRA, dtype: float64\n",
      "\n",
      "G18GOVRWAG\n",
      "county\n",
      "015    -58.0\n",
      "021     11.0\n",
      "039    288.0\n",
      "055   -260.0\n",
      "067     -8.0\n",
      "073      3.0\n",
      "091   -700.0\n",
      "093     -2.0\n",
      "097     -9.0\n",
      "115    100.0\n",
      "Name: G18GOVRWAG, dtype: float64\n",
      "\n",
      "G18GOVDWOL\n",
      "county\n",
      "015    -28.0\n",
      "021     20.0\n",
      "039    194.0\n",
      "053     -1.0\n",
      "067     -7.0\n",
      "081      3.0\n",
      "091    -30.0\n",
      "093     -4.0\n",
      "097     -4.0\n",
      "Name: G18GOVDWOL, dtype: float64\n",
      "\n",
      "G18USSRBAR\n",
      "county\n",
      "015    -61.0\n",
      "067     -9.0\n",
      "091   -150.0\n",
      "093     -2.0\n",
      "097    -11.0\n",
      "115      1.0\n",
      "Name: G18USSRBAR, dtype: float64\n",
      "\n",
      "G18USSDCAS\n",
      "county\n",
      "015   -26.0\n",
      "053    -1.0\n",
      "067    -3.0\n",
      "093    -3.0\n",
      "097    -3.0\n",
      "115    -1.0\n",
      "Name: G18USSDCAS, dtype: float64\n",
      "\n",
      "G18USSGGAL\n",
      "county\n",
      "015    33.0\n",
      "047     3.0\n",
      "091     1.0\n",
      "093    -1.0\n",
      "Name: G18USSGGAL, dtype: float64\n",
      "\n",
      "G18USSLKER\n",
      "county\n",
      "015     62.0\n",
      "025     -2.0\n",
      "055    -10.0\n",
      "091    -12.0\n",
      "097   -281.0\n",
      "119   -144.0\n",
      "Name: G18USSLKER, dtype: float64\n",
      "\n",
      "Cambria\n",
      "Carbon\n",
      "Crawford\n",
      "Elk\n",
      "Northumberland\n",
      "Bradford\n",
      "Franklin\n",
      "Juniata\n",
      "Lawrence\n",
      "Montgomery\n",
      "Montour\n",
      "Susquehanna\n",
      "Forest\n",
      "Lycoming\n",
      "Union\n"
     ]
    }
   ],
   "source": [
    "diff_counties = []\n",
    "\n",
    "for i in col_list:\n",
    "    diff = pivoted_2018.groupby([\"county\"]).sum()[i]-vest_pa_18.groupby([\"COUNTYFP\"]).sum()[i]\n",
    "    print(i)\n",
    "    for val in diff[diff != 0].index.values.tolist():\n",
    "        if val not in diff_counties:\n",
    "            diff_counties.append(val)\n",
    "    print(diff[diff != 0])\n",
    "    print(\"\")\n",
    "\n",
    "#print(diff_counties)\n",
    "fips_name_dict=dict(zip(fips_file[\"FIPS County\"],fips_file[\"County Name\"]))\n",
    "#print(fips_name_dict)\n",
    "for i in diff_counties:\n",
    "    print(fips_name_dict.get(i))"
   ]
  },
  {
   "cell_type": "markdown",
   "metadata": {},
   "source": [
    "### Join Election Results w/ VEST Final to Validate"
   ]
  },
  {
   "cell_type": "code",
   "execution_count": 14,
   "metadata": {},
   "outputs": [
    {
     "name": "stdout",
     "output_type": "stream",
     "text": [
      "(9160, 13)\n",
      "(9161, 10)\n"
     ]
    }
   ],
   "source": [
    "#Check the number of rows in the two dataframes\n",
    "print(vest_pa_18.shape)\n",
    "print(pivoted_2018.shape)"
   ]
  },
  {
   "cell_type": "code",
   "execution_count": 15,
   "metadata": {},
   "outputs": [
    {
     "name": "stdout",
     "output_type": "stream",
     "text": [
      "           cty_pct  G18GOVGGLO  G18GOVLKRA  G18GOVRWAG  G18GOVDWOL  \\\n",
      "0   001Abbottstown         2.0         2.0       185.0       120.0   \n",
      "1  001Arendtsville         2.0         4.0       172.0       160.0   \n",
      "2  001Bendersville         2.0         3.0        98.0        76.0   \n",
      "3       001Berwick         5.0         9.0       554.0       318.0   \n",
      "4   001Biglerville         2.0         5.0       215.0       168.0   \n",
      "\n",
      "   G18USSRBAR  G18USSDCAS  G18USSGGAL  G18USSLKER county  \n",
      "0       183.0       120.0         2.0         5.0    001  \n",
      "1       178.0       151.0         3.0         6.0    001  \n",
      "2       103.0        74.0         2.0         1.0    001  \n",
      "3       575.0       289.0         5.0        14.0    001  \n",
      "4       231.0       152.0         7.0         3.0    001  \n",
      "  STATEFP COUNTYFP   VTDST          NAME  G18USSDCAS  G18USSRBAR  G18USSLKER  \\\n",
      "0      42      001  000010   ABBOTTSTOWN         120         183           5   \n",
      "1      42      001  000020  ARENDTSVILLE         151         178           6   \n",
      "2      42      001  000030  BENDERSVILLE          74         103           1   \n",
      "3      42      001  000040       BERWICK         289         575          14   \n",
      "4      42      001  000050   BIGLERVILLE         152         231           3   \n",
      "\n",
      "   G18USSGGAL  G18GOVDWOL  G18GOVRWAG  G18GOVLKRA  G18GOVGGLO  \\\n",
      "0           2         120         185           2           2   \n",
      "1           3         160         172           4           2   \n",
      "2           2          76          98           3           2   \n",
      "3           5         318         554           9           5   \n",
      "4           7         168         215           5           2   \n",
      "\n",
      "                                            geometry  \n",
      "0  POLYGON Z ((-76.99801 39.88359 0.00000, -76.99...  \n",
      "1  POLYGON Z ((-77.31141 39.92625 0.00000, -77.30...  \n",
      "2  POLYGON Z ((-77.25596 39.98075 0.00000, -77.25...  \n",
      "3  MULTIPOLYGON Z (((-76.99558 39.88677 0.00000, ...  \n",
      "4  POLYGON Z ((-77.25594 39.93043 0.00000, -77.25...  \n"
     ]
    }
   ],
   "source": [
    "#Print out the head of the two dfs\n",
    "print(pivoted_2018.head())\n",
    "print(vest_pa_18.head())"
   ]
  },
  {
   "cell_type": "code",
   "execution_count": 16,
   "metadata": {},
   "outputs": [
    {
     "name": "stdout",
     "output_type": "stream",
     "text": [
      "9108\n",
      "9160\n"
     ]
    }
   ],
   "source": [
    "#Based on the print, it seems like the precinct name should be capitalized\n",
    "pivoted_2018[\"cty_pct\"] = pivoted_2018[\"cty_pct\"].str.upper()\n",
    "\n",
    "#Two options for the unique ID, use the second one\n",
    "print((vest_pa_18[\"COUNTYFP\"]+vest_pa_18[\"NAME\"]).nunique())\n",
    "print((vest_pa_18[\"COUNTYFP\"]+vest_pa_18[\"VTDST\"]+vest_pa_18[\"NAME\"]).nunique())\n",
    "\n",
    "#Create a unique ID out of election results to join on\n",
    "vest_pa_18[\"unique_vote_id\"]=vest_pa_18[\"G18USSDCAS\"].astype(str)+vest_pa_18[\"G18USSRBAR\"].astype(str)+vest_pa_18[\"G18USSLKER\"].astype(str)+vest_pa_18[\"G18USSGGAL\"].astype(str)+vest_pa_18[\"G18GOVDWOL\"].astype(str)+vest_pa_18[\"G18GOVRWAG\"].astype(str)\n",
    "\n",
    "vest_pa_18[\"join_col_vest\"]=vest_pa_18[\"COUNTYFP\"]+vest_pa_18[\"VTDST\"]+vest_pa_18[\"NAME\"]\n",
    "\n",
    "#Reformat the columns in the source election results so they are all integers\n",
    "for i in col_list:\n",
    "    pivoted_2018.loc[:,i]=pivoted_2018.loc[:,i].astype(int)\n",
    "\n",
    "pivoted_2018[\"unique_vote_id\"]=pivoted_2018[\"G18USSDCAS\"].astype(str)+pivoted_2018[\"G18USSRBAR\"].astype(str)+pivoted_2018[\"G18USSLKER\"].astype(str)+pivoted_2018[\"G18USSGGAL\"].astype(str)+pivoted_2018[\"G18GOVDWOL\"].astype(str)+pivoted_2018[\"G18GOVRWAG\"].astype(str)\n",
    "\n",
    "#Remove the duplicate voter ID columns\n",
    "dup_list = [\"000000\",\"2591002611\"]\n",
    "joined_vest_pa_18 = vest_pa_18[~(vest_pa_18[\"unique_vote_id\"].isin(dup_list))]\n",
    "\n",
    "#Remove the duplicate voter ID columns\n",
    "joined_pivoted_2018 = pivoted_2018[~(pivoted_2018[\"unique_vote_id\"].isin(dup_list))]\n",
    "\n",
    "#Merge the two\n",
    "vote_name_hack = pd.merge(joined_vest_pa_18,joined_pivoted_2018,how=\"outer\",on=\"unique_vote_id\",indicator=True)\n"
   ]
  },
  {
   "cell_type": "code",
   "execution_count": 17,
   "metadata": {},
   "outputs": [
    {
     "name": "stdout",
     "output_type": "stream",
     "text": [
      "both          9019\n",
      "right_only     140\n",
      "left_only      137\n",
      "Name: _merge, dtype: int64\n"
     ]
    }
   ],
   "source": [
    "print(vote_name_hack[\"_merge\"].value_counts())\n",
    "\n",
    "#Using this allowed us to join 9019 precincts (note the totals are off b/c of the precincts removed above)"
   ]
  },
  {
   "cell_type": "code",
   "execution_count": 18,
   "metadata": {},
   "outputs": [],
   "source": [
    "#Grab the needed columns from the merged df\n",
    "name_quick = vote_name_hack[vote_name_hack[\"_merge\"]==\"both\"][[\"cty_pct\",\"join_col_vest\"]]\n",
    "\n",
    "#Create a dictionary to change the names\n",
    "rename_dict = dict(zip(name_quick[\"cty_pct\"],name_quick[\"join_col_vest\"]))\n",
    "\n",
    "#Update the names\n",
    "pivoted_2018[\"cty_pct\"]=pivoted_2018[\"cty_pct\"].map(rename_dict).fillna(pivoted_2018[\"cty_pct\"])"
   ]
  },
  {
   "cell_type": "code",
   "execution_count": 19,
   "metadata": {},
   "outputs": [],
   "source": [
    "#Update certain columns to reflect apparent changes in precincts vote results\n",
    "data_columns = ['G18GOVGGLO', 'G18GOVLKRA', 'G18GOVRWAG', 'G18GOVDWOL',\n",
    "       'G18USSRBAR', 'G18USSDCAS', 'G18USSGGAL', 'G18USSLKER']\n",
    "\n",
    "for i in data_columns:\n",
    "    pivoted_2018.loc[pivoted_2018[\"cty_pct\"]==\"045SPRINGFIELD 2W 3P\",i]+=int(pivoted_2018.loc[pivoted_2018[\"cty_pct\"]==\"045SPRINGFIELD 2W 3P EMERG\",i]) \n",
    "    pivoted_2018.loc[pivoted_2018[\"cty_pct\"]==\"045UPPER DARBY 6D 11P\",i]+=int(pivoted_2018.loc[pivoted_2018[\"cty_pct\"]==\"045UPPER DARBY 6D 11P EMERG\",i])\n",
    "    pivoted_2018.loc[pivoted_2018[\"cty_pct\"]==\"045UPPER DARBY 6D 8P\",i]+=int(pivoted_2018.loc[pivoted_2018[\"cty_pct\"]==\"045UPPER DARBY 6D 8P EMERG\",i])\n",
    "    pivoted_2018.loc[pivoted_2018[\"cty_pct\"]==\"095LOWER MT BETHEL TWP LOWER\",i]+=int(pivoted_2018.loc[pivoted_2018[\"cty_pct\"]==\"095LOWER MT BETHEL TWP LOWER - IND\",i])\n",
    "    pivoted_2018.loc[pivoted_2018[\"cty_pct\"]==\"095PALMER TWP UPPER WESTERN\",i]+=int(pivoted_2018.loc[pivoted_2018[\"cty_pct\"]==\"095PALMER TWP UPPER WESTERN - NAZ IND\",i])\n",
    "\n",
    "#Remove these precincts from the df\n",
    "remove_list = [\"045SPRINGFIELD 2W 3P EMERG\",\"045UPPER DARBY 6D 11P EMERG\",\"045UPPER DARBY 6D 8P EMERG\",\n",
    "              \"095LOWER MT BETHEL TWP LOWER - IND\",\"095PALMER TWP UPPER WESTERN - NAZ IND\"]\n",
    "pivoted_2018 = pivoted_2018[~(pivoted_2018[\"cty_pct\"].isin(remove_list))]\n",
    "\n",
    "\n",
    "#Create two empty districts\n",
    "\n"
   ]
  },
  {
   "cell_type": "code",
   "execution_count": 20,
   "metadata": {},
   "outputs": [],
   "source": [
    "elections_to_vest_changes = pd.read_csv(\"./elections_to_vest_changes.csv\")\n",
    "elections_to_vest_changes = dict(zip(elections_to_vest_changes[\"elections_name\"],elections_to_vest_changes[\"vest_name\"]))"
   ]
  },
  {
   "cell_type": "code",
   "execution_count": 21,
   "metadata": {},
   "outputs": [],
   "source": [
    "elections_to_vest_changes = {'119WHITE DEER 4': '119000250WHITE DEER DISTRICT 04', '119WHITE DEER 3': '119000240WHITE DEER DISTRICT 03', '119WHITE DEER 2': '119000230WHITE DEER DISTRICT 02', '119WHITE DEER 1': '119000220WHITE DEER DISTRICT 01', '119WEST BUFFALO': '119000210WEST BUFFALO', '119UNION': '119000200UNION', '119NEW BERLIN': '119000190NEW BERLIN', '119MIFFLINBURG WEST': '119000180MIFFLINBURG DISTRICT WEST', '119MIFFLINBURG EAST ': '119000170MIFFLINBURG DISTRICT EAST', '119LIMESTONE': '119000160LIMESTONE', '119LEWISBURG 4': '119000150LEWISBURG WARD 04', '119LEWISBURG 3': '119000140LEWISBURG WARD 03', '119LEWISBURG 2': '119000130LEWISBURG WARD 02', '119LEWISBURG 1': '119000120LEWISBURG WARD 01', '119LEWIS': '119000110LEWIS', '119KELLY 2': '119000100KELLY DISTRICT 02', '119KELLY 1': '119000090KELLY DISTRICT 01', '119HARTLEY': '119000080HARTLEY', '119GREGG': '119000060GREGG', '119EAST BUFFALO 4': '119000055EAST BUFFALO DISTRICT 04', '119EAST BUFFALO 3': '119000051EAST BUFFALO DISTRICT 03', '119EAST BUFFALO 2': '119000040EAST BUFFALO DISTRICT 02', '119EAST BUFFALO 1': '119000030EAST BUFFALO DISTRICT 01', '119BUFFALO 2': '119000020BUFFALO DISTRICT 02', '119BUFFALO 1': '119000010BUFFALO DISTRICT 01', '115HOP BOTTOM BORO': '115000210HOP BOTTOM', '115FRANKLIN TWP': '115000120FRANKLIN', '10124~12': '101002412PHILADELPHIA WARD 24 PRECINCT 12', '10113~08': '101001308PHILADELPHIA WARD 13 PRECINCT 08', '097ZERBE TOWNSHIP': '097000935ZERBE', '097WEST CHILLISQUAQUE TOWNSHIP': '097000920WEST CHILLISQUAQUE', '097WATSONTOWN BOROUGH 2': '097000900WATSONTOWN WARD 02', '097WATSONTOWN BOROUGH 1': '097000890WATSONTOWN WARD 01', '097WASHINGTON TOWNSHIP': '097000880WASHINGTON', '097UPPER AUGUSTA TOWNSHIP NORTHWEST': '097000860UPPER AUGUSTA DISTRICT NORTHWEST', '097UPPER AUGUSTA TOWNSHIP NORTHEAST': '097000850UPPER AUGUSTA DISTRICT NORTHEAST', '097TURBOTVILLE BOROUGH': '097000840TURBOTVILLE', '097TURBOT TOWNSHIP': '097000830TURBOT', '097SUNBURY CITY 6': '097000790SUNBURY WARD 06', '097SUNBURY CITY 5': '097000780SUNBURY WARD 05', '097SUNBURY CITY 4': '097000770SUNBURY WARD 04', '097SUNBURY CITY 3': '097000760SUNBURY WARD 03', '097SUNBURY CITY 2': '097000750SUNBURY WARD 02', '097SUNBURY CITY 1': '097000740SUNBURY WARD 01', '097SNYDERTOWN BOROUGH': '097000730SNYDERTOWN', '097SHAMOKIN TOWNSHIP': '097000720SHAMOKIN', '097SHAMOKIN CITY 7': '097000680SHAMOKIN WARD 07', '097SHAMOKIN CITY 6': '097000670SHAMOKIN WARD 06', '097SHAMOKIN CITY 5': '097000650SHAMOKIN WARD 05 PRECINCT 01', '097SHAMOKIN CITY 4': '097000630SHAMOKIN WARD 04 PRECINCT 01', '097SHAMOKIN CITY 2': '097000600SHAMOKIN WARD 02 PRECINCT 01', '097SHAMOKIN CITY 1': '097000590SHAMOKIN WARD 01', '097RUSH TOWNSHIP': '097000580RUSH', '097ROCKEFELLER TOWNSHIP': '097000570ROCKEFELLER', '097RIVERSIDE BOROUGH': '097000560RIVERSIDE', '097RALPHO TOWNSHIP 2': '097000550RALPHO DISTRICT 02', '097RALPHO TOWNSHIP 1': '097000540RALPHO DISTRICT 01', '097POINT TOWNSHIP WEST': '097000530POINT DISTRICT WEST', '097POINT TOWNSHIP EAST': '097000520POINT DISTRICT EAST', '097NORTHUMBERLAND BOROUGH 3': '097000510NORTHUMBERLAND WARD 03', '097NORTHUMBERLAND BOROUGH 2': '097000500NORTHUMBERLAND WARD 02', '097NORTHUMBERLAND BOROUGH 1': '097000490NORTHUMBERLAND WARD 01', '097MOUNT CARMEL BOROUGH 4': '097000475MOUNT CARMEL WARD 04', '097MOUNT CARMEL BOROUGH 3': '097000445MOUNT CARMEL WARD 03', '097MOUNT CARMEL BOROUGH 2': '097000425MOUNT CARMEL WARD 02', '097MOUNT CARMEL BOROUGH 1': '097000405MOUNT CARMEL WARD 01', '097MOUNT CARMEL TOWNSHIP - WEST': '097000390MOUNT CARMEL DISTRICT WEST', '097MOUNT CARMEL TOWNSHIP - NATALIE / STRONG': '097000375MOUNT CARMEL DISTRICT NATALIE/STRONG', '097MOUNT CARMEL TOWNSHIP - LOCUST GAP': '097000360MOUNT CARMEL DISTRICT LOCUST GAP', '097MOUNT CARMEL TOWNSHIP - DIAMOND / EXCHANGE': '097000355MOUNT CARMEL DISTRICT DIAMOND/EXCHANGE', '097MILTON BOROUGH 5': '097000330MILTON WARD 05', '097MILTON BOROUGH 4': '097000320MILTON WARD 04', '097MILTON BOROUGH 3': '097000310MILTON WARD 03', '097MILTON BOROUGH 2': '097000300MILTON WARD 02', '097MILTON BOROUGH 1': '097000290MILTON WARD 01', '097MCEWENSVILLE BOROUGH': '097000280MCEWENSVILLE', '097MARION HEIGHTS BOROUGH': '097000270MARION HEIGHTS', '097LOWER MAHANOY TOWNSHIP': '097000255LOWER MAHANOY', '097LOWER AUGUSTA TOWNSHIP': '097000240LOWER AUGUSTA', '097LEWIS TOWNSHIP': '097000220LEWIS', '097KULPMONT BOROUGH 3': '097000210KULPMONT PRECINCT 03', '097KULPMONT BOROUGH 2': '097000200KULPMONT PRECINCT 02', '097KULPMONT BOROUGH 1': '097000190KULPMONT PRECINCT 01', '097JORDAN TOWNSHIP': '097000180JORDAN', '097JACKSON TOWNSHIP': '097000170JACKSON', '097HERNDON BOROUGH': '097000160HERNDON', '097EAST CAMERON TOWNSHIP': '097000140EAST CAMERON', '097DELAWARE TOWNSHIP WEST': '097000130DELAWARE DISTRICT WEST', '097DELAWARE TOWNSHIP SOUTH': '097000120DELAWARE DISTRICT SOUTH', '097DELAWARE TOWNSHIP EAST': '097000110DELAWARE DISTRICT EAST', '097COAL TOWNSHIP 6': '097000070COAL WARD 06', '097COAL TOWNSHIP 5': '097000060COAL WARD 05', '097COAL TOWNSHIP 4-2': '097000050COAL WARD 04 PRECINCT 02', '097COAL TOWNSHIP 4-1': '097000040COAL WARD 04 PRECINCT 01', '097COAL TOWNSHIP 3': '097000030COAL WARD 03', '097COAL TOWNSHIP 2': '097000020COAL WARD 02', '097COAL TOWNSHIP 1': '097000010COAL WARD 01', '097CHILLISQUAQUE TOWNSHIP': '097000150EAST CHILLISQUAQUE', '095PALMER TWP UPPER WESTERN': '095001020PALMER DISTRICT UPPER WESTERN', '095LOWER MT BETHEL TWP LOWER': '095000750LOWER MOUNT BETHEL DISTRICT LOWER', '0930013 VALLEY TWP': '093000130VALLEY', '0930012 MAYBERRY TWP': '093000120MAYBERRY', '0930011 MAHONING II': '093000115MAHONING DISTRICT 02', '0930010 MAHONING I': '093000105MAHONING DISTRICT 01', '0930005 DANVILLE BORO THIRD': '093000050DANVILLE DISTRICT 03', '091NEW HANOVER 3': '091002035NEW HANOVER DISTRICT 03', '091MONTGOMERY 7': '091001987MONTGOMERY DISTRICT 07', '091LOWER MERION 5-2': '091001520LOWER MERION WARD 05 PRECINCT 02', '091JENKINTOWN 1': '091001170JENKINTOWN DISTRICT 01', '091FRANCONIA 2-4TH': '091000918FRANCONIA PRECINCT 02 (CD 04)', '091CHELTENHAM 6-3': '091000690CHELTENHAM DISTRICT 06 DIVISION 03', '091ABINGTON 13-3': '091000335ABINGTON WARD 13 DISTRICT 03', '091ABINGTON 4-2': '091000105ABINGTON WARD 04 DISTRICT 02', '0816005 WILLIAMSPORT 5': '081000720WILLIAMSPORT WARD 05', '0730073 WAYNE TWP D2': '073001010WAYNE DISTRICT 02', '0670018 WALKER': '067000200WALKER', '0670015 TURBETT': '067000170TURBETT', '0670010 MONROE': '067000120MONROE', '0670009 MILFORD': '067000110MILFORD', '0670008 MIFFLINTOWN': '067000100MIFFLINTOWN', '0670004 FERMANAGH': '067000040FERMANAGH', '0670003 FAYETTE': '067000030FAYETTE', '0670002 DELAWARE': '067000020DELAWARE', '055WAYNESBORO BORO 3-2': '055000690WAYNESBORO DISTRICT 03 DIVISION 02', '055HAMILTON TWP - 2ND DIST': '055000315HAMILTON DISTRICT 02', '0530004 HICKORY TWP': '053000050HICKORY', '047ST. MARYS 9TH': '047000395ST. MARYS WARD 09', '045UPPER DARBY 6D 11P': '045003660UPPER DARBY TWP DIST 06 PCT 11', '045UPPER DARBY 6D 8P': '045003630UPPER DARBY TWP DIST 06 PCT 08', '045SPRINGFIELD 2W 3P': '045002775SPRINGFIELD TWP WD 02 PCT 03', '039BLOOMING VALLEY BORO': '039000040BLOOMING VALLEY', '02562 WEISSPORT BOROUGH': '025000460WEISSPORT', '02545 PACKER TWP': '025000320PACKER', '021PORTAGE BORO SECOND WD': '021001395PORTAGE WARD 02', '015STEVENS TOWNSHIP': '015000430STEVENS', '015LERAYSVILLE BOROUGH': '015000190LERAYSVILLE'}"
   ]
  },
  {
   "cell_type": "code",
   "execution_count": 22,
   "metadata": {},
   "outputs": [],
   "source": [
    "pivoted_2018[\"cty_pct\"] = pivoted_2018[\"cty_pct\"].map(elections_to_vest_changes).fillna(pivoted_2018[\"cty_pct\"])"
   ]
  },
  {
   "cell_type": "code",
   "execution_count": 23,
   "metadata": {},
   "outputs": [],
   "source": [
    "#Add two empty precincts for the join\n",
    "new_df = pd.DataFrame([[\"0111578P1ADAMSTOWN\",0,0,0,0,0,0,0,0,\"011\",\"000000\"],[\"049999999LAKE ERIE\",0,0,0,0,0,0,0,0,\"049\",\"000000\"]],columns=pivoted_2018.columns)\n",
    "pivoted_2018 = pivoted_2018.append(new_df)\n"
   ]
  },
  {
   "cell_type": "code",
   "execution_count": 24,
   "metadata": {},
   "outputs": [],
   "source": [
    "pivoted_2018.reset_index(drop=True,inplace=True)"
   ]
  },
  {
   "cell_type": "code",
   "execution_count": 26,
   "metadata": {},
   "outputs": [
    {
     "name": "stdout",
     "output_type": "stream",
     "text": [
      "  STATEFP COUNTYFP   VTDST          NAME  G18USSDCAS  G18USSRBAR  G18USSLKER  \\\n",
      "0      42      001  000010   ABBOTTSTOWN         120         183           5   \n",
      "1      42      001  000020  ARENDTSVILLE         151         178           6   \n",
      "2      42      001  000030  BENDERSVILLE          74         103           1   \n",
      "3      42      001  000040       BERWICK         289         575          14   \n",
      "4      42      001  000050   BIGLERVILLE         152         231           3   \n",
      "\n",
      "   G18USSGGAL  G18GOVDWOL  G18GOVRWAG  G18GOVLKRA  G18GOVGGLO  \\\n",
      "0           2         120         185           2           2   \n",
      "1           3         160         172           4           2   \n",
      "2           2          76          98           3           2   \n",
      "3           5         318         554           9           5   \n",
      "4           7         168         215           5           2   \n",
      "\n",
      "                                            geometry   unique_vote_id  \\\n",
      "0  POLYGON Z ((-76.99801 39.88359 0.00000, -76.99...   12018352120185   \n",
      "1  POLYGON Z ((-77.31141 39.92625 0.00000, -77.30...   15117863160172   \n",
      "2  POLYGON Z ((-77.25596 39.98075 0.00000, -77.25...      74103127698   \n",
      "3  MULTIPOLYGON Z (((-76.99558 39.88677 0.00000, ...  289575145318554   \n",
      "4  POLYGON Z ((-77.25594 39.93043 0.00000, -77.25...   15223137168215   \n",
      "\n",
      "           join_col_vest  \n",
      "0   001000010ABBOTTSTOWN  \n",
      "1  001000020ARENDTSVILLE  \n",
      "2  001000030BENDERSVILLE  \n",
      "3       001000040BERWICK  \n",
      "4   001000050BIGLERVILLE  \n"
     ]
    }
   ],
   "source": [
    "print(vest_pa_18.head())"
   ]
  },
  {
   "cell_type": "code",
   "execution_count": 27,
   "metadata": {},
   "outputs": [
    {
     "name": "stdout",
     "output_type": "stream",
     "text": [
      "     STATEFP COUNTYFP   VTDST     NAME  G18USSDCAS  G18USSRBAR  G18USSLKER  \\\n",
      "5645      42      111  000010  ADDISON         110         233           5   \n",
      "\n",
      "      G18USSGGAL  G18GOVDWOL  G18GOVRWAG  G18GOVLKRA  G18GOVGGLO  \\\n",
      "5645           2         117         230           4           2   \n",
      "\n",
      "                                               geometry  unique_vote_id  \\\n",
      "5645  POLYGON Z ((-79.40996 39.73648 0.00000, -79.40...  11023352117230   \n",
      "\n",
      "         join_col_vest  \n",
      "5645  111000010ADDISON  \n",
      "     STATEFP COUNTYFP   VTDST     NAME  G18USSDCAS  G18USSRBAR  G18USSLKER  \\\n",
      "5646      42      111  000020  ADDISON          26          49           1   \n",
      "\n",
      "      G18USSGGAL  G18GOVDWOL  G18GOVRWAG  G18GOVLKRA  G18GOVGGLO  \\\n",
      "5646           1          22          52           3           0   \n",
      "\n",
      "                                               geometry unique_vote_id  \\\n",
      "5646  POLYGON Z ((-79.35034 39.74938 0.00000, -79.35...     2649112252   \n",
      "\n",
      "         join_col_vest  \n",
      "5646  111000020ADDISON  \n"
     ]
    },
    {
     "name": "stderr",
     "output_type": "stream",
     "text": [
      "/Users/peterhorton/opt/anaconda3/envs/geo_env/lib/python3.9/site-packages/pandas/core/indexing.py:1720: SettingWithCopyWarning: \n",
      "A value is trying to be set on a copy of a slice from a DataFrame.\n",
      "Try using .loc[row_indexer,col_indexer] = value instead\n",
      "\n",
      "See the caveats in the documentation: https://pandas.pydata.org/pandas-docs/stable/user_guide/indexing.html#returning-a-view-versus-a-copy\n",
      "  self._setitem_single_column(loc, value, pi)\n"
     ]
    }
   ],
   "source": [
    "print(vest_pa_18.loc[vest_pa_18[\"join_col_vest\"]==\"111000010ADDISON\"])\n",
    "print(vest_pa_18.loc[vest_pa_18[\"join_col_vest\"]==\"111000020ADDISON\"])\n",
    "\n",
    "for i in data_columns:\n",
    "    vest_pa_18.loc[vest_pa_18[\"join_col_vest\"]==\"111000010ADDISON\",i]+=int(vest_pa_18.loc[vest_pa_18[\"join_col_vest\"]==\"111000020ADDISON\",i])\n",
    "    \n",
    "vest_pa_18 = vest_pa_18[vest_pa_18[\"join_col_vest\"]!=\"111000020ADDISON\"]\n",
    "vest_pa_18.loc[vest_pa_18[\"join_col_vest\"]==\"111000010ADDISON\",\"join_col_vest\"]='111ADDISON'"
   ]
  },
  {
   "cell_type": "code",
   "execution_count": 28,
   "metadata": {},
   "outputs": [
    {
     "name": "stdout",
     "output_type": "stream",
     "text": [
      "both          9158\n",
      "right_only       1\n",
      "left_only        0\n",
      "Name: _merge, dtype: int64\n",
      "                            cty_pct  G18GOVGGLO_x  G18GOVLKRA_x  G18GOVRWAG_x  \\\n",
      "9158  097000871UPPER MAHANOY(CD 09)           NaN           NaN           NaN   \n",
      "\n",
      "      G18GOVDWOL_x  G18USSRBAR_x  G18USSDCAS_x  G18USSGGAL_x  G18USSLKER_x  \\\n",
      "9158           NaN           NaN           NaN           NaN           NaN   \n",
      "\n",
      "     county  ... G18USSRBAR_y G18USSLKER_y G18USSGGAL_y G18GOVDWOL_y  \\\n",
      "9158    NaN  ...           11            0            0            4   \n",
      "\n",
      "     G18GOVRWAG_y  G18GOVLKRA_y  G18GOVGGLO_y  \\\n",
      "9158            9             1             0   \n",
      "\n",
      "                                               geometry  unique_vote_id_y  \\\n",
      "9158  POLYGON Z ((-76.58193 40.72411 0.00000, -76.58...           3110049   \n",
      "\n",
      "          _merge  \n",
      "9158  right_only  \n",
      "\n",
      "[1 rows x 26 columns]\n"
     ]
    },
    {
     "name": "stderr",
     "output_type": "stream",
     "text": [
      "/Users/peterhorton/opt/anaconda3/envs/geo_env/lib/python3.9/site-packages/pandas/core/frame.py:4441: SettingWithCopyWarning: \n",
      "A value is trying to be set on a copy of a slice from a DataFrame\n",
      "\n",
      "See the caveats in the documentation: https://pandas.pydata.org/pandas-docs/stable/user_guide/indexing.html#returning-a-view-versus-a-copy\n",
      "  return super().rename(\n"
     ]
    }
   ],
   "source": [
    "vest_pa_18.rename(columns={\"join_col_vest\":\"cty_pct\"},inplace=True)\n",
    "election_confirm = pd.merge(pivoted_2018,vest_pa_18,how=\"outer\",on=\"cty_pct\",indicator=True)\n",
    "\n",
    "print(election_confirm[\"_merge\"].value_counts())\n",
    "right_only = election_confirm[election_confirm[\"_merge\"]==\"right_only\"]\n",
    "left_only = election_confirm[election_confirm[\"_merge\"]==\"left_only\"]\n",
    "\n",
    "print(right_only)"
   ]
  },
  {
   "cell_type": "markdown",
   "metadata": {},
   "source": [
    "#### Compare Election Result Totals"
   ]
  },
  {
   "cell_type": "code",
   "execution_count": 29,
   "metadata": {},
   "outputs": [],
   "source": [
    "def validater_row (df, column_List):\n",
    "    matching_rows = 0\n",
    "    different_rows = 0\n",
    "    diff_list=[]\n",
    "    diff_values = []\n",
    "    max_diff = 0\n",
    "    \n",
    "    for j in range(0,len(df.index)):\n",
    "        same = True\n",
    "        for i in column_List:\n",
    "            left_Data = i + \"_x\"\n",
    "            right_Data = i + \"_y\"\n",
    "            diff = abs(df.iloc[j][left_Data]-df.iloc[j][right_Data])\n",
    "            if(diff != 0):\n",
    "                #print(df.iloc[j]['countypct'])\n",
    "                #print(i)\n",
    "                diff_values.append(abs(diff))\n",
    "                same = False\n",
    "                if(np.isnan(diff)):\n",
    "                    print(\"NaN value at diff is: \", df.iloc[j]['cty_pct'])\n",
    "                    print(df.iloc[j][left_Data])\n",
    "                    print(df.iloc[j][right_Data])\n",
    "                if (diff>max_diff):\n",
    "                    max_diff = diff\n",
    "                    print(\"New max diff is: \", str(max_diff))\n",
    "                    print(df.iloc[j]['cty_pct'])\n",
    "        if(same != True):\n",
    "            different_rows +=1\n",
    "            diff_list.append(df.iloc[j]['cty_pct'])\n",
    "        else:\n",
    "            matching_rows +=1\n",
    "    print(\"There are \", len(df.index),\" total rows\")\n",
    "    print(different_rows,\" of these rows have election result differences\")\n",
    "    print(matching_rows,\" of these rows are the same\")\n",
    "    print(\"\")\n",
    "    print(\"The max difference between any one shared column in a row is: \", max_diff)\n",
    "    if(len(diff_values)!=0):\n",
    "        print(\"The average difference is: \", str(sum(diff_values)/len(diff_values)))\n",
    "    count_big_diff = len([i for i in diff_values if i > 10])\n",
    "    print(\"There are \", str(count_big_diff), \"precinct results with a difference greater than 10\")\n",
    "    diff_list.sort()\n",
    "    print(diff_list)\n",
    "    election_confirm[election_confirm[\"_merge\"]==\"both\"][election_confirm[election_confirm[\"_merge\"]==\"both\"]['cty_pct'].isin(diff_list)].to_csv(\"./pa_election_validation.csv\")"
   ]
  },
  {
   "cell_type": "code",
   "execution_count": 30,
   "metadata": {
    "scrolled": true
   },
   "outputs": [
    {
     "name": "stdout",
     "output_type": "stream",
     "text": [
      "New max diff is:  58.0\n",
      "015000190LERAYSVILLE\n",
      "New max diff is:  61.0\n",
      "015000190LERAYSVILLE\n",
      "New max diff is:  288.0\n",
      "039000040BLOOMING VALLEY\n",
      "New max diff is:  600.0\n",
      "091002035NEW HANOVER DISTRICT 03\n",
      "There are  9158  total rows\n",
      "130  of these rows have election result differences\n",
      "9028  of these rows are the same\n",
      "\n",
      "The max difference between any one shared column in a row is:  600.0\n",
      "The average difference is:  15.401197604790418\n",
      "There are  23 precinct results with a difference greater than 10\n",
      "['015000190LERAYSVILLE', '015000430STEVENS', '021001395PORTAGE WARD 02', '025000120JIM THORPE DISTRICT 02', '025000320PACKER', '025000460WEISSPORT', '039000040BLOOMING VALLEY', '047000395ST. MARYS WARD 09', '053000050HICKORY', '055000315HAMILTON DISTRICT 02', '055000690WAYNESBORO DISTRICT 03 DIVISION 02', '067000020DELAWARE', '067000030FAYETTE', '067000040FERMANAGH', '067000100MIFFLINTOWN', '067000110MILFORD', '067000120MONROE', '067000170TURBETT', '067000200WALKER', '073001010WAYNE DISTRICT 02', '081000720WILLIAMSPORT WARD 05', '091000105ABINGTON WARD 04 DISTRICT 02', '091000335ABINGTON WARD 13 DISTRICT 03', '091000690CHELTENHAM DISTRICT 06 DIVISION 03', '091000918FRANCONIA PRECINCT 02 (CD 04)', '091001170JENKINTOWN DISTRICT 01', '091001520LOWER MERION WARD 05 PRECINCT 02', '091001987MONTGOMERY DISTRICT 07', '091002035NEW HANOVER DISTRICT 03', '093000050DANVILLE DISTRICT 03', '093000105MAHONING DISTRICT 01', '093000115MAHONING DISTRICT 02', '093000120MAYBERRY', '093000130VALLEY', '097000010COAL WARD 01', '097000020COAL WARD 02', '097000030COAL WARD 03', '097000040COAL WARD 04 PRECINCT 01', '097000050COAL WARD 04 PRECINCT 02', '097000060COAL WARD 05', '097000070COAL WARD 06', '097000110DELAWARE DISTRICT EAST', '097000120DELAWARE DISTRICT SOUTH', '097000130DELAWARE DISTRICT WEST', '097000140EAST CAMERON', '097000150EAST CHILLISQUAQUE', '097000160HERNDON', '097000170JACKSON', '097000180JORDAN', '097000190KULPMONT PRECINCT 01', '097000200KULPMONT PRECINCT 02', '097000210KULPMONT PRECINCT 03', '097000220LEWIS', '097000240LOWER AUGUSTA', '097000255LOWER MAHANOY', '097000270MARION HEIGHTS', '097000280MCEWENSVILLE', '097000290MILTON WARD 01', '097000300MILTON WARD 02', '097000310MILTON WARD 03', '097000320MILTON WARD 04', '097000330MILTON WARD 05', '097000355MOUNT CARMEL DISTRICT DIAMOND/EXCHANGE', '097000360MOUNT CARMEL DISTRICT LOCUST GAP', '097000375MOUNT CARMEL DISTRICT NATALIE/STRONG', '097000390MOUNT CARMEL DISTRICT WEST', '097000405MOUNT CARMEL WARD 01', '097000425MOUNT CARMEL WARD 02', '097000445MOUNT CARMEL WARD 03', '097000475MOUNT CARMEL WARD 04', '097000490NORTHUMBERLAND WARD 01', '097000500NORTHUMBERLAND WARD 02', '097000510NORTHUMBERLAND WARD 03', '097000520POINT DISTRICT EAST', '097000530POINT DISTRICT WEST', '097000540RALPHO DISTRICT 01', '097000550RALPHO DISTRICT 02', '097000560RIVERSIDE', '097000570ROCKEFELLER', '097000580RUSH', '097000590SHAMOKIN WARD 01', '097000600SHAMOKIN WARD 02 PRECINCT 01', '097000630SHAMOKIN WARD 04 PRECINCT 01', '097000650SHAMOKIN WARD 05 PRECINCT 01', '097000670SHAMOKIN WARD 06', '097000680SHAMOKIN WARD 07', '097000720SHAMOKIN', '097000730SNYDERTOWN', '097000740SUNBURY WARD 01', '097000750SUNBURY WARD 02', '097000760SUNBURY WARD 03', '097000770SUNBURY WARD 04', '097000780SUNBURY WARD 05', '097000790SUNBURY WARD 06', '097000830TURBOT', '097000840TURBOTVILLE', '097000850UPPER AUGUSTA DISTRICT NORTHEAST', '097000860UPPER AUGUSTA DISTRICT NORTHWEST', '097000880WASHINGTON', '097000890WATSONTOWN WARD 01', '097000900WATSONTOWN WARD 02', '097000920WEST CHILLISQUAQUE', '097000935ZERBE', '115000120FRANKLIN', '115000210HOP BOTTOM', '119000010BUFFALO DISTRICT 01', '119000020BUFFALO DISTRICT 02', '119000030EAST BUFFALO DISTRICT 01', '119000040EAST BUFFALO DISTRICT 02', '119000051EAST BUFFALO DISTRICT 03', '119000055EAST BUFFALO DISTRICT 04', '119000060GREGG', '119000080HARTLEY', '119000090KELLY DISTRICT 01', '119000100KELLY DISTRICT 02', '119000110LEWIS', '119000120LEWISBURG WARD 01', '119000130LEWISBURG WARD 02', '119000140LEWISBURG WARD 03', '119000150LEWISBURG WARD 04', '119000160LIMESTONE', '119000170MIFFLINBURG DISTRICT EAST', '119000180MIFFLINBURG DISTRICT WEST', '119000190NEW BERLIN', '119000200UNION', '119000210WEST BUFFALO', '119000220WHITE DEER DISTRICT 01', '119000230WHITE DEER DISTRICT 02', '119000240WHITE DEER DISTRICT 03', '119000250WHITE DEER DISTRICT 04']\n"
     ]
    }
   ],
   "source": [
    "diff_list = validater_row(election_confirm[election_confirm[\"_merge\"]==\"both\"],data_columns)"
   ]
  },
  {
   "cell_type": "markdown",
   "metadata": {},
   "source": [
    "# Load in shapefiles"
   ]
  },
  {
   "cell_type": "markdown",
   "metadata": {},
   "source": [
    "Precinct shapefiles primarily from the U.S. Census Bureau's 2020 Redistricting Data Program Phase 2 release. The shapefiles from Delaware County and the City of Pittsburgh are from the respective jurisdictions instead. Precinct numbers were corrected to match the voter file in the following locales: Allegheny (Elizabeth, Pittsburgh W12), Blair (Greenfield), Bradford (Athens), Greene (Nonongahela), Monroe (Smithfield), Montgomery (Hatfield), Northampton (Bethlehem Twp), Perry (Toboyne), Washington (New Eagle, Somerset), York (Fairview)."
   ]
  },
  {
   "cell_type": "code",
   "execution_count": null,
   "metadata": {},
   "outputs": [],
   "source": [
    "#Combine all the data from separate files into one\n",
    "li = []\n",
    "for i in fips_codes:\n",
    "    ref = \"./raw-from-source/Census/partnership_shapefiles_19v2_\"\n",
    "    file_ref = ref+i+\"/PVS_19_v2_vtd_\"+i+\".shp\"\n",
    "    file_prev = gp.read_file(file_ref)\n",
    "    #print(file_prev.shape)\n",
    "    li.append(file_prev)\n",
    "global shapefiles_census\n",
    "shapefiles_census = pd.concat(li, axis=0, ignore_index=True)"
   ]
  },
  {
   "cell_type": "code",
   "execution_count": null,
   "metadata": {},
   "outputs": [],
   "source": [
    "shapefiles_census = shapefiles_census[[\"COUNTYFP\",\"VTDST\",\"NAME\",\"geometry\"]]"
   ]
  },
  {
   "cell_type": "code",
   "execution_count": null,
   "metadata": {},
   "outputs": [],
   "source": [
    "shapefiles_census[\"cty_pct\"] = shapefiles_census[\"COUNTYFP\"]+shapefiles_census[\"VTDST\"]+shapefiles_census[\"NAME\"]\n",
    "shapefiles_census[\"shp_join\"] = shapefiles_census[\"COUNTYFP\"]+shapefiles_census[\"VTDST\"]\n",
    "print(shapefiles_census.shape)\n",
    "print(shapefiles_census[\"shp_join\"].nunique())"
   ]
  },
  {
   "cell_type": "markdown",
   "metadata": {},
   "source": [
    "### Look into differences for Allegheny"
   ]
  },
  {
   "cell_type": "code",
   "execution_count": null,
   "metadata": {
    "scrolled": true
   },
   "outputs": [],
   "source": [
    "allegheny = gp.read_file(\"./raw-from-source/Allegheny/Allegheny_County_Voting_District_Boundaries-shp/Allegheny_County_Voting_District_Boundaries.shp\")\n",
    "\n",
    "census_pitt = shapefiles_census[(shapefiles_census[\"COUNTYFP\"]==\"003\") & (shapefiles_census[\"NAME\"].str.contains(\"PITTSBURGH\"))]\n",
    "census_pitt.plot()\n",
    "\n",
    "county_pitt = allegheny[allegheny[\"LABEL\"]==\"Pittsburgh\"]\n",
    "county_pitt = county_pitt.to_crs(census_pitt.crs)\n",
    "county_pitt.plot()\n",
    "\n",
    "vest_pitt = vest_pa_18[vest_pa_18[\"NAME\"].str.contains(\"PITTSBURGH\")]\n",
    "vest_pitt.plot()\n",
    "\n",
    "\n",
    "gp.overlay(census_pitt,vest_pitt,how=\"symmetric_difference\").plot()\n",
    "gp.overlay(county_pitt,vest_pitt,how=\"symmetric_difference\").plot()"
   ]
  },
  {
   "cell_type": "code",
   "execution_count": null,
   "metadata": {},
   "outputs": [],
   "source": [
    "pivoted_2018[\"shp_join\"]=pivoted_2018[\"cty_pct\"].str[0:9]\n",
    "\n",
    "def shp_combiner(new_name,merge_list):\n",
    "    global shapefiles_census\n",
    "    prec_holder = []\n",
    "    countyfp = new_name[0:3]\n",
    "    vtdst = new_name[3:9] \n",
    "    name = new_name[9:]\n",
    "    for i in merge_list:\n",
    "        #shapefiles_census.loc[shapefiles_census[\"cty_pct\"]==i,:].plot()\n",
    "        prec_holder.append(shapefiles_census.loc[shapefiles_census[\"cty_pct\"]==i,:])\n",
    "    new_geom = pd.concat(prec_holder, ignore_index=True).unary_union\n",
    "    new_prec = gp.GeoDataFrame(geometry=[new_geom],columns=shapefiles_census.columns,crs = shapefiles_census.crs)\n",
    "    new_prec[\"COUNTYFP\"] = countyfp\n",
    "    new_prec[\"VTDST\"] = vtdst\n",
    "    new_prec[\"NAME\"] = name\n",
    "    new_prec[\"cty_pct\"] = countyfp+vtdst+name\n",
    "    new_prec[\"shp_join\"] = countyfp+vtdst\n",
    "    shapefiles_census = shapefiles_census.append(new_prec)\n",
    "    shapefiles_census = shapefiles_census[~(shapefiles_census[\"cty_pct\"].isin(merge_list))]"
   ]
  },
  {
   "cell_type": "code",
   "execution_count": null,
   "metadata": {},
   "outputs": [],
   "source": [
    "shp_combiner('00300F397SOUTH FAYETTE DISTRICT 03',['00300F398SOUTH FAYETTE DISTRICT 03 (CD 17)','00300F399SOUTH FAYETTE DISTRICT 03 (CD 18)'])\n",
    "shp_combiner('00300F408SOUTH FAYETTE DISTRICT 05',['00300F409SOUTH FAYETTE DISTRICT 05 (CD 17)','00300F412SOUTH FAYETTE DISTRICT 05 (CD 18)'])\n",
    "shp_combiner('019000355CRANBERRY DISTRICT EAST DIVISION 02',['019000353CRANBERRY DISTRICT EAST DIVISION 02 (CD 16)','019000354CRANBERRY DISTRICT EAST DIVISION 02 (CD 17)'])\n",
    "shp_combiner('019000357CRANBERRY DISTRICT EAST DISTRICT 03',['019000358CRANBERRY DISTRICT EAST DISTRICT 03 (CD 16)','019000359CRANBERRY DISTRICT EAST DISTRICT 03 (CD 17)'])\n",
    "shp_combiner('019000361CRANBERRY DISTRICT WEST DIVISION 01',['019000362CRANBERRY DISTRICT WEST DIVISION 01 (CD 16)','019000363CRANBERRY DISTRICT WEST DIVISION 01 (CD 17)'])\n",
    "shp_combiner('019000365CRANBERRY DISTRICT WEST DIVISION 02',['019000366CRANBERRY DISTRICT WEST DIVISION 02 (CD 16)','019000367CRANBERRY DISTRICT WEST DIVISION 02 (CD 17)'])\n",
    "shp_combiner('019000545JEFFERSON DISTRICT I',['019000546JEFFERSON DISTRICT I (CD 15)','019000547JEFFERSON DISTRICT I (CD 16)'])\n",
    "shp_combiner('019000555JEFFERSON DISTRICT II',['019000556JEFFERSON DISTRICT II (CD 15)','019000557JEFFERSON DISTRICT II (CD 16)'])\n",
    "shp_combiner('027000210FERGUSON DISTRICT NORTHEAST DIVISION 01',['027000212FERGUSON DISTRICT NORTHEAST DIVISION 01 A','027000214FERGUSON DISTRICT NORTHEAST DIVISION 01 B'])\n",
    "shp_combiner('027000262HALFMOON PRECINCT Proper',['027000261HALFMOON PRECINCT Proper (CD 12)','027000263HALFMOON PRECINCT Proper (CD 15)'])\n",
    "shp_combiner('027000268HALFMOON PRECINCT East Central',['027000265HALFMOON PRECINCT East Central (CD 15)','027000264HALFMOON PRECINCT East Central (CD 12)'])\n",
    "shp_combiner('029000915PHOENIXVILLE WARD MIDDLE PRECINCT 01',['029000917PHOENIXVILLE WARD MIDDLE PRECINCT 01 (HD 157)','029000919PHOENIXVILLE WARD MIDDLE PRECINCT 01 (HD 155)'])\n",
    "shp_combiner('041000600NORTH MIDDLETON PRECINCT 01',['041000601NORTH MIDDLETON PRECINCT 01 (CD 10)','041000602NORTH MIDDLETON PRECINCT 01 (CD 13)'])\n",
    "shp_combiner('041000620NORTH MIDDLETON PRECINCT 03',['041000621NORTH MIDDLETON PRECINCT 03 (CD 10)','041000622NORTH MIDDLETON PRECINCT 03 (CD 13)'])\n",
    "shp_combiner('061000380PENN',['061000381PENN PRECINCT B (9th Cong)','061000379PENN PRECINCT A (5th Cong)'])\n",
    "shp_combiner('079000805HAZLE DISTRICT 01',['079000806HAZLE DISTRICT 01 (CD 08)','079000807HAZLE DISTRICT 01 (CD 09)'])\n",
    "shp_combiner('129002850UNITY DISTRICT PLEASANT UNITY',['129002851UNITY DISTRICT PLEASANT UNITY (CD 13)','129002852UNITY DISTRICT PLEASANT UNITY (CD 14)'])\n",
    "shp_combiner('133001429YORK WARD 05 PRECINCT 03',['133001428YORK WARD 05 PRECINCT 03 (CD 11)','133001427YORK WARD 05 PRECINCT 03 (CD 10)'])"
   ]
  },
  {
   "cell_type": "markdown",
   "metadata": {},
   "source": [
    "### Shapefile Adjustments"
   ]
  },
  {
   "cell_type": "markdown",
   "metadata": {},
   "source": [
    "### Precinct Number Changes"
   ]
  },
  {
   "cell_type": "markdown",
   "metadata": {},
   "source": [
    "Precinct numbers were corrected to match the voter file in the following locales: Allegheny (Elizabeth, Pittsburgh W12), Blair (Greenfield), Bradford (Athens), Greene (Nonongahela), Monroe (Smithfield), Montgomery (Hatfield), Northampton (Bethlehem Twp), Perry (Toboyne), Washington (New Eagle, Somerset), York (Fairview)."
   ]
  },
  {
   "cell_type": "markdown",
   "metadata": {},
   "source": [
    "#### Allegheny Adjustments"
   ]
  },
  {
   "cell_type": "code",
   "execution_count": null,
   "metadata": {
    "scrolled": true
   },
   "outputs": [],
   "source": [
    "shapefiles_census[(shapefiles_census[\"NAME\"].str.contains(\"ELIZABETH\"))&(shapefiles_census[\"COUNTYFP\"]==\"003\")].plot(column=\"NAME\",legend=True,figsize=(15,15))\n",
    "vest_pa_18[(vest_pa_18[\"NAME\"].str.contains(\"ELIZABETH\"))&(vest_pa_18[\"COUNTYFP\"]==\"003\")].plot(column=\"NAME\",legend=True,figsize=(15,15))"
   ]
  },
  {
   "cell_type": "code",
   "execution_count": null,
   "metadata": {},
   "outputs": [],
   "source": [
    "shapefiles_census[(shapefiles_census[\"NAME\"].str.contains(\"PITTSBURGH WARD 12\"))&(shapefiles_census[\"COUNTYFP\"]==\"003\")].plot(column=\"NAME\",legend=True,figsize=(15,15))\n",
    "vest_pa_18[(vest_pa_18[\"NAME\"].str.contains(\"PITTSBURGH WARD 12\"))&(vest_pa_18[\"COUNTYFP\"]==\"003\")].plot(column=\"NAME\",legend=True,figsize=(15,15))"
   ]
  },
  {
   "cell_type": "markdown",
   "metadata": {},
   "source": [
    "#### Blair Changes"
   ]
  },
  {
   "cell_type": "code",
   "execution_count": null,
   "metadata": {},
   "outputs": [],
   "source": [
    "shapefiles_census[(shapefiles_census[\"NAME\"].str.contains(\"GREENFIELD\"))&(shapefiles_census[\"COUNTYFP\"]==\"013\")].plot(column=\"NAME\",legend=True,figsize=(15,15))\n",
    "vest_pa_18[(vest_pa_18[\"NAME\"].str.contains(\"GREENFIELD\"))&(vest_pa_18[\"COUNTYFP\"]==\"013\")].plot(column=\"NAME\",legend=True,figsize=(15,15))"
   ]
  },
  {
   "cell_type": "code",
   "execution_count": null,
   "metadata": {},
   "outputs": [],
   "source": [
    "#print(shapefiles_census.loc[shapefiles_census[\"NAME\"]==\"GREENFIELD DISTRICT 01\"])\n",
    "#print(shapefiles_census.loc[shapefiles_census[\"NAME\"]==\"GREENFIELD DISTRICT 02\"])\n",
    "shapefiles_census.loc[shapefiles_census[\"NAME\"]==\"GREENFIELD DISTRICT 01\",\"shp_join\"] = \"013000590\"\n",
    "shapefiles_census.loc[shapefiles_census[\"NAME\"]==\"GREENFIELD DISTRICT 02\",\"shp_join\"] = \"013000580\"\n",
    "#print(shapefiles_census.loc[shapefiles_census[\"NAME\"]==\"GREENFIELD DISTRICT 01\"])\n",
    "#print(shapefiles_census.loc[shapefiles_census[\"NAME\"]==\"GREENFIELD DISTRICT 02\"])"
   ]
  },
  {
   "cell_type": "markdown",
   "metadata": {},
   "source": [
    "#### Bradford Changes"
   ]
  },
  {
   "cell_type": "code",
   "execution_count": null,
   "metadata": {},
   "outputs": [],
   "source": [
    "shapefiles_census[(shapefiles_census[\"NAME\"].str.contains(\"ATHENS DISTRICT\"))&(shapefiles_census[\"COUNTYFP\"]==\"015\")].plot(column=\"NAME\",legend=True,figsize=(15,15))\n",
    "vest_pa_18[(vest_pa_18[\"NAME\"].str.contains(\"ATHENS DISTRICT\"))&(vest_pa_18[\"COUNTYFP\"]==\"015\")].plot(column=\"NAME\",legend=True,figsize=(15,15))"
   ]
  },
  {
   "cell_type": "code",
   "execution_count": null,
   "metadata": {},
   "outputs": [],
   "source": [
    "print(shapefiles_census.loc[shapefiles_census[\"NAME\"]==\"ATHENS DISTRICT 01\"])\n",
    "print(shapefiles_census.loc[shapefiles_census[\"NAME\"]==\"ATHENS DISTRICT 02\"])\n",
    "shapefiles_census.loc[shapefiles_census[\"NAME\"]==\"ATHENS DISTRICT 01\",\"shp_join\"] = \"015000060\"\n",
    "shapefiles_census.loc[shapefiles_census[\"NAME\"]==\"ATHENS DISTRICT 02\",\"shp_join\"] = \"015000050\""
   ]
  },
  {
   "cell_type": "markdown",
   "metadata": {},
   "source": [
    "#### Greene County"
   ]
  },
  {
   "cell_type": "code",
   "execution_count": null,
   "metadata": {},
   "outputs": [],
   "source": [
    "shapefiles_census[(shapefiles_census[\"NAME\"].str.contains(\"MONONGAHELA\"))&(shapefiles_census[\"COUNTYFP\"]==\"059\")].plot(column=\"NAME\",legend=True,figsize=(15,15))\n",
    "vest_pa_18[(vest_pa_18[\"NAME\"].str.contains(\"MONONGAHELA\"))&(vest_pa_18[\"COUNTYFP\"]==\"059\")].plot(column=\"NAME\",legend=True,figsize=(15,15))"
   ]
  },
  {
   "cell_type": "code",
   "execution_count": null,
   "metadata": {},
   "outputs": [],
   "source": [
    "print(shapefiles_census.loc[shapefiles_census[\"NAME\"]==\"MONONGAHELA DISTRICT 01\"])\n",
    "print(shapefiles_census.loc[shapefiles_census[\"NAME\"]==\"MONONGAHELA DISTRICT 02\"])\n",
    "shapefiles_census.loc[shapefiles_census[\"NAME\"]==\"MONONGAHELA DISTRICT 01\",\"shp_join\"] = \"059000295\"\n",
    "shapefiles_census.loc[shapefiles_census[\"NAME\"]==\"MONONGAHELA DISTRICT 02\",\"shp_join\"] = \"059000280\""
   ]
  },
  {
   "cell_type": "markdown",
   "metadata": {},
   "source": [
    "#### Monroe"
   ]
  },
  {
   "cell_type": "code",
   "execution_count": null,
   "metadata": {},
   "outputs": [],
   "source": [
    "shapefiles_census[(shapefiles_census[\"NAME\"].str.contains(\"SMITHFIELD\"))&(shapefiles_census[\"COUNTYFP\"]==\"089\")].plot(column=\"NAME\",legend=True,figsize=(15,15))\n",
    "vest_pa_18[(vest_pa_18[\"NAME\"].str.contains(\"SMITHFIELD\"))&(vest_pa_18[\"COUNTYFP\"]==\"089\")].plot(column=\"NAME\",legend=True,figsize=(15,15))"
   ]
  },
  {
   "cell_type": "code",
   "execution_count": null,
   "metadata": {},
   "outputs": [],
   "source": [
    "print(shapefiles_census.loc[shapefiles_census[\"NAME\"]==\"SMITHFIELD DISTRICT 01 (CD 07)\",\"VTDST\"])\n",
    "print(vest_pa_18.loc[vest_pa_18[\"NAME\"]==\"SMITHFIELD DISTRICT 01\",\"VTDST\"])\n",
    "\n",
    "print(shapefiles_census.loc[shapefiles_census[\"NAME\"]==\"SMITHFIELD DISTRICT 01 (CD 08)\",\"VTDST\"])\n",
    "print(vest_pa_18.loc[vest_pa_18[\"NAME\"]==\"SMITHFIELD DISTRICT 04\",\"VTDST\"])\n",
    "\n",
    "print(shapefiles_census.loc[shapefiles_census[\"NAME\"]==\"SMITHFIELD DISTRICT 02\",\"VTDST\"])\n",
    "print(vest_pa_18.loc[vest_pa_18[\"NAME\"]==\"SMITHFIELD DISTRICT 02\",\"VTDST\"])\n",
    "\n",
    "print(shapefiles_census.loc[shapefiles_census[\"NAME\"]==\"SMITHFIELD DISTRICT 03\",\"VTDST\"])\n",
    "print(vest_pa_18.loc[vest_pa_18[\"NAME\"]==\"SMITHFIELD DISTRICT 03\",\"VTDST\"])"
   ]
  },
  {
   "cell_type": "markdown",
   "metadata": {},
   "source": [
    "Precinct numbers were corrected to match the voter file in the following locales: Allegheny (Elizabeth, Pittsburgh W12), Blair (Greenfield), Bradford (Athens), Greene (Nonongahela), Monroe (Smithfield), Montgomery (Hatfield), Northampton (Bethlehem Twp), Perry (Toboyne), Washington (New Eagle, Somerset), York (Fairview)."
   ]
  },
  {
   "cell_type": "markdown",
   "metadata": {},
   "source": [
    "#### Montgomery (Hatfield)"
   ]
  },
  {
   "cell_type": "code",
   "execution_count": null,
   "metadata": {},
   "outputs": [],
   "source": [
    "shapefiles_census[(shapefiles_census[\"NAME\"].str.contains(\"HATFIELD\"))&(shapefiles_census[\"COUNTYFP\"]==\"091\")].plot(column=\"VTDST\",legend=True,figsize=(15,15))\n",
    "vest_pa_18[(vest_pa_18[\"NAME\"].str.contains(\"HATFIELD\"))&(vest_pa_18[\"COUNTYFP\"]==\"091\")].plot(column=\"VTDST\",legend=True,figsize=(15,15))"
   ]
  },
  {
   "cell_type": "code",
   "execution_count": null,
   "metadata": {},
   "outputs": [],
   "source": [
    "print(shapefiles_census.loc[shapefiles_census[\"NAME\"]==\"HATFIELD DISTRICT 01 DISTRICT 01\"])\n",
    "print(shapefiles_census.loc[shapefiles_census[\"NAME\"]==\"HATFIELD DISTRICT 01 DISTRICT 02\"])\n",
    "print(shapefiles_census.loc[shapefiles_census[\"NAME\"]==\"HATFIELD DISTRICT 02 DISTRICT 01\"])\n",
    "print(shapefiles_census.loc[shapefiles_census[\"NAME\"]==\"HATFIELD DISTRICT 02 DISTRICT 02\"])\n",
    "\n",
    "shapefiles_census.loc[shapefiles_census[\"NAME\"]==\"HATFIELD DISTRICT 01 DISTRICT 01\",\"shp_join\"] = \"091001002\"\n",
    "shapefiles_census.loc[shapefiles_census[\"NAME\"]==\"HATFIELD DISTRICT 01 DISTRICT 02\",\"shp_join\"] = \"091001006\"\n",
    "shapefiles_census.loc[shapefiles_census[\"NAME\"]==\"HATFIELD DISTRICT 02 DISTRICT 01\",\"shp_join\"] = \"091000996\"\n",
    "shapefiles_census.loc[shapefiles_census[\"NAME\"]==\"HATFIELD DISTRICT 02 DISTRICT 02\",\"shp_join\"] = \"091000992\""
   ]
  },
  {
   "cell_type": "markdown",
   "metadata": {},
   "source": [
    "#### Northampton (Bethlehem Twp)"
   ]
  },
  {
   "cell_type": "code",
   "execution_count": null,
   "metadata": {},
   "outputs": [],
   "source": [
    "shapefiles_census[(shapefiles_census[\"NAME\"].str.contains(\"BETHLEHEM\"))&(shapefiles_census[\"COUNTYFP\"]==\"095\")].plot(column=\"VTDST\",legend=True,figsize=(15,15))\n",
    "vest_pa_18[(vest_pa_18[\"NAME\"].str.contains(\"BETHLEHEM\"))&(vest_pa_18[\"COUNTYFP\"]==\"095\")].plot(column=\"VTDST\",legend=True,figsize=(15,15))"
   ]
  },
  {
   "cell_type": "markdown",
   "metadata": {},
   "source": [
    "#### Perry (Toboyne)"
   ]
  },
  {
   "cell_type": "code",
   "execution_count": null,
   "metadata": {},
   "outputs": [],
   "source": [
    "shapefiles_census[(shapefiles_census[\"NAME\"].str.contains(\"TOBOYNE\"))&(shapefiles_census[\"COUNTYFP\"]==\"099\")].plot(column=\"VTDST\",legend=True,figsize=(15,15))\n",
    "vest_pa_18[(vest_pa_18[\"NAME\"].str.contains(\"TOBOYNE\"))&(vest_pa_18[\"COUNTYFP\"]==\"099\")].plot(column=\"VTDST\",legend=True,figsize=(15,15))"
   ]
  },
  {
   "cell_type": "code",
   "execution_count": null,
   "metadata": {},
   "outputs": [],
   "source": [
    "print(shapefiles_census.loc[shapefiles_census[\"NAME\"]==\"TOBOYNE DISTRICT 01\"])\n",
    "print(shapefiles_census.loc[shapefiles_census[\"NAME\"]==\"TOBOYNE DISTRICT 02\"])\n",
    "\n",
    "shapefiles_census.loc[shapefiles_census[\"NAME\"]==\"TOBOYNE DISTRICT 01\",\"shp_join\"] = \"099000290\"\n",
    "shapefiles_census.loc[shapefiles_census[\"NAME\"]==\"TOBOYNE DISTRICT 02\",\"shp_join\"] = \"099000280\""
   ]
  },
  {
   "cell_type": "markdown",
   "metadata": {},
   "source": [
    "#### Washington (New Eagle, Somerset)"
   ]
  },
  {
   "cell_type": "code",
   "execution_count": null,
   "metadata": {},
   "outputs": [],
   "source": [
    "shapefiles_census[(shapefiles_census[\"NAME\"].str.contains(\"SOMERSET DISTRICT\"))&(shapefiles_census[\"COUNTYFP\"]==\"125\")].plot(column=\"VTDST\",legend=True,figsize=(15,15))\n",
    "vest_pa_18[(vest_pa_18[\"NAME\"].str.contains(\"SOMERSET DISTRICT\"))&(vest_pa_18[\"COUNTYFP\"]==\"125\")].plot(column=\"VTDST\",legend=True,figsize=(15,15))"
   ]
  },
  {
   "cell_type": "code",
   "execution_count": null,
   "metadata": {},
   "outputs": [],
   "source": [
    "print(shapefiles_census.loc[(shapefiles_census[\"NAME\"]==\"SOMERSET DISTRICT 01\") & (shapefiles_census[\"COUNTYFP\"]==\"125\")])\n",
    "print(shapefiles_census.loc[(shapefiles_census[\"NAME\"]==\"SOMERSET DISTRICT 02\") & (shapefiles_census[\"COUNTYFP\"]==\"125\")])\n",
    "\n",
    "shapefiles_census.loc[(shapefiles_census[\"NAME\"]==\"SOMERSET DISTRICT 01\") & (shapefiles_census[\"COUNTYFP\"]==\"125\"),\"shp_join\"] = \"125001630\"\n",
    "shapefiles_census.loc[(shapefiles_census[\"NAME\"]==\"SOMERSET DISTRICT 02\") & (shapefiles_census[\"COUNTYFP\"]==\"125\"),\"shp_join\"] = \"125001620\""
   ]
  },
  {
   "cell_type": "code",
   "execution_count": null,
   "metadata": {},
   "outputs": [],
   "source": [
    "shapefiles_census[(shapefiles_census[\"NAME\"].str.contains(\"NEW EAGLE\"))&(shapefiles_census[\"COUNTYFP\"]==\"125\")].plot(column=\"VTDST\",legend=True,figsize=(15,15))\n",
    "vest_pa_18[(vest_pa_18[\"NAME\"].str.contains(\"NEW EAGLE\"))&(vest_pa_18[\"COUNTYFP\"]==\"125\")].plot(column=\"VTDST\",legend=True,figsize=(15,15))"
   ]
  },
  {
   "cell_type": "code",
   "execution_count": null,
   "metadata": {},
   "outputs": [],
   "source": [
    "print(shapefiles_census.loc[shapefiles_census[\"NAME\"]==\"NEW EAGLE DISTRICT 01\"])\n",
    "print(shapefiles_census.loc[shapefiles_census[\"NAME\"]==\"NEW EAGLE DISTRICT 02\"])\n",
    "\n",
    "shapefiles_census.loc[shapefiles_census[\"NAME\"]==\"NEW EAGLE DISTRICT 01\",\"shp_join\"] = \"125001240\"\n",
    "shapefiles_census.loc[shapefiles_census[\"NAME\"]==\"NEW EAGLE DISTRICT 02\",\"shp_join\"] = \"125001230\""
   ]
  },
  {
   "cell_type": "markdown",
   "metadata": {},
   "source": [
    "#### York (Fairview)"
   ]
  },
  {
   "cell_type": "code",
   "execution_count": null,
   "metadata": {},
   "outputs": [],
   "source": [
    "shapefiles_census[(shapefiles_census[\"NAME\"].str.contains(\"FAIRVIEW DISTRICT\"))&(shapefiles_census[\"COUNTYFP\"]==\"133\")].plot(column=\"VTDST\",legend=True,figsize=(15,15))\n",
    "vest_pa_18[(vest_pa_18[\"NAME\"].str.contains(\"FAIRVIEW DISTRICT\"))&(vest_pa_18[\"COUNTYFP\"]==\"133\")].plot(column=\"VTDST\",legend=True,figsize=(15,15))"
   ]
  },
  {
   "cell_type": "code",
   "execution_count": null,
   "metadata": {},
   "outputs": [],
   "source": [
    "print(shapefiles_census.loc[(shapefiles_census[\"VTDST\"]==\"000220\") & (shapefiles_census[\"COUNTYFP\"]==\"133\")])\n",
    "print(shapefiles_census.loc[(shapefiles_census[\"VTDST\"]==\"000235\") & (shapefiles_census[\"COUNTYFP\"]==\"133\")])\n",
    "print(shapefiles_census.loc[(shapefiles_census[\"VTDST\"]==\"000240\") & (shapefiles_census[\"COUNTYFP\"]==\"133\")])\n",
    "print(shapefiles_census.loc[(shapefiles_census[\"VTDST\"]==\"000245\") & (shapefiles_census[\"COUNTYFP\"]==\"133\")])\n",
    "\n",
    "shapefiles_census.loc[(shapefiles_census[\"VTDST\"]==\"000220\") & (shapefiles_census[\"COUNTYFP\"]==\"133\"),\"shp_join\"] = \"133000235\"\n",
    "shapefiles_census.loc[(shapefiles_census[\"VTDST\"]==\"000235\") & (shapefiles_census[\"COUNTYFP\"]==\"133\"),\"shp_join\"] = \"133000240\"\n",
    "shapefiles_census.loc[(shapefiles_census[\"VTDST\"]==\"000240\") & (shapefiles_census[\"COUNTYFP\"]==\"133\"),\"shp_join\"] = \"133000245\"\n",
    "shapefiles_census.loc[(shapefiles_census[\"VTDST\"]==\"000245\") & (shapefiles_census[\"COUNTYFP\"]==\"133\"),\"shp_join\"] = \"133000220\""
   ]
  },
  {
   "cell_type": "code",
   "execution_count": null,
   "metadata": {},
   "outputs": [],
   "source": [
    "merge_two = pd.merge(pivoted_2018,shapefiles_census,how=\"outer\",on=\"shp_join\",indicator=True)\n",
    "\n",
    "print(merge_two[\"_merge\"].value_counts())\n",
    "right_only = merge_two[merge_two[\"_merge\"]==\"right_only\"]\n",
    "left_only = merge_two[merge_two[\"_merge\"]==\"left_only\"]\n",
    "print(right_only[\"shp_join\"])\n",
    "print(left_only[\"shp_join\"])"
   ]
  },
  {
   "cell_type": "code",
   "execution_count": null,
   "metadata": {},
   "outputs": [],
   "source": [
    "print(merge_two[merge_two[\"shp_join\"]==\"013000590\"])"
   ]
  },
  {
   "cell_type": "code",
   "execution_count": null,
   "metadata": {},
   "outputs": [],
   "source": [
    "merge_two.drop(['cty_pct_y'], axis=1,inplace=True)\n",
    "merge_two.rename(columns={\"cty_pct_x\":\"cty_pct\"},inplace=True)\n",
    "merge_two = merge_two[['COUNTYFP','VTDST', 'NAME','G18USSDCAS','G18USSRBAR',\n",
    "                      'G18USSLKER','G18USSGGAL','G18GOVDWOL','G18GOVRWAG','G18GOVLKRA',\n",
    "                      'G18GOVGGLO','geometry','cty_pct','_merge']]"
   ]
  },
  {
   "cell_type": "code",
   "execution_count": null,
   "metadata": {},
   "outputs": [],
   "source": [
    "merge_two.loc[:,\"NAME\"]=merge_two.loc[:,\"cty_pct\"].str[9:]"
   ]
  },
  {
   "cell_type": "markdown",
   "metadata": {},
   "source": [
    "### Final Join"
   ]
  },
  {
   "cell_type": "code",
   "execution_count": null,
   "metadata": {},
   "outputs": [],
   "source": [
    "final_merge = pd.merge(merge_two[merge_two[\"_merge\"]==\"both\"],vest_pa_18,how=\"outer\",on=\"cty_pct\",indicator=\"final_merge\")"
   ]
  },
  {
   "cell_type": "code",
   "execution_count": null,
   "metadata": {},
   "outputs": [],
   "source": [
    "final_merge.columns"
   ]
  },
  {
   "cell_type": "code",
   "execution_count": null,
   "metadata": {},
   "outputs": [],
   "source": [
    "final_merge[\"final_merge\"].value_counts()"
   ]
  },
  {
   "cell_type": "code",
   "execution_count": null,
   "metadata": {},
   "outputs": [],
   "source": [
    "print(final_merge[final_merge[\"final_merge\"]==\"right_only\"][\"cty_pct\"])"
   ]
  },
  {
   "cell_type": "markdown",
   "metadata": {},
   "source": [
    "### Join Merged Sourcefile to VEST"
   ]
  },
  {
   "cell_type": "code",
   "execution_count": null,
   "metadata": {},
   "outputs": [],
   "source": [
    "both = final_merge[final_merge[\"final_merge\"]==\"both\"]\n",
    "source_geoms = gp.GeoDataFrame(both,geometry=\"geometry_x\",crs=vest_pa_18.crs)\n",
    "vest_geoms = gp.GeoDataFrame(both,geometry=\"geometry_y\",crs=vest_pa_18.crs)\n",
    "source_geoms = source_geoms.to_crs(3857)\n",
    "vest_geoms = vest_geoms.to_crs(3857)\n",
    "source_geoms[\"geometry_x\"]=source_geoms.buffer(0)\n",
    "vest_geoms[\"geometry_y\"]=vest_geoms.buffer(0)\n",
    "vals = source_geoms.geom_almost_equals(vest_geoms,decimal=0)\n",
    "print(vals.value_counts())"
   ]
  },
  {
   "cell_type": "code",
   "execution_count": null,
   "metadata": {},
   "outputs": [],
   "source": [
    "print(vals.value_counts())\n",
    "print(source_geoms[~vals].shape)\n",
    "print(vest_geoms[~vals].shape)"
   ]
  },
  {
   "cell_type": "code",
   "execution_count": null,
   "metadata": {},
   "outputs": [],
   "source": [
    "type(source_geoms[~vals])\n"
   ]
  },
  {
   "cell_type": "code",
   "execution_count": null,
   "metadata": {},
   "outputs": [],
   "source": [
    "print(vals[vals==False].index)"
   ]
  },
  {
   "cell_type": "code",
   "execution_count": null,
   "metadata": {},
   "outputs": [],
   "source": [
    "len(source_geoms[~vals])"
   ]
  },
  {
   "cell_type": "code",
   "execution_count": null,
   "metadata": {},
   "outputs": [],
   "source": [
    "count = 0\n",
    "area_list = []\n",
    "for i in range(0,len(source_geoms)):\n",
    "    diff = source_geoms.iloc[[i]].symmetric_difference(vest_geoms.iloc[[i]])\n",
    "    intersection = source_geoms.iloc[[i]].intersection(vest_geoms.iloc[[i]])\n",
    "    area = float(diff.area/10e6)\n",
    "    area_list.append(area)\n",
    "    #print(\"Area is \" + str(area))\n",
    "    if (False):\n",
    "        if (area > 1):\n",
    "            count += 1\n",
    "            name = source_geoms.iat[i,12]\n",
    "            print(str(count)+\") For \" + name + \" difference in area is \" + str(area))\n",
    "            if (intersection.iloc[0].is_empty):\n",
    "                base = diff.plot(color=\"red\")\n",
    "                source_geoms.iloc[[i]].plot(color=\"orange\",ax=base)\n",
    "                vest_geoms.iloc[[i]].plot(color=\"blue\",ax=base)\n",
    "                base.set_title(name)\n",
    "            else:\n",
    "                base = diff.plot(color=\"red\")\n",
    "                source_geoms.iloc[[i]].plot(color=\"orange\",ax=base)\n",
    "                vest_geoms.iloc[[i]].plot(color=\"blue\",ax=base)\n",
    "                intersection.plot(color=\"green\",ax=base)\n",
    "                base.set_title(name)"
   ]
  },
  {
   "cell_type": "code",
   "execution_count": null,
   "metadata": {},
   "outputs": [],
   "source": [
    "df = pd.DataFrame(area_list)\n",
    "print(df.shape)\n",
    "\n",
    "print(str(len(df[df[0]==0]))+\" precincts w/ a difference of 0 km^2\")\n",
    "print(str(len(df[(df[0]<.1) & (df[0]>0)]))+ \" precincts w/ a difference between 0 and .1 km^2\")\n",
    "print(str(len(df[(df[0]<.5) & (df[0]>=.1)]))+ \" precincts w/ a difference between .1 and .5 km^2\")\n",
    "print(str(len(df[(df[0]<1) & (df[0]>=.5)]))+ \" precincts w/ a difference between .5 and 1 km^2\")\n",
    "print(str(len(df[(df[0]<2) & (df[0]>=1)]))+ \" precincts w/ a difference between 1 and 2 km^2\")\n",
    "print(str(len(df[(df[0]>=2)]))+ \" precincts w/ a difference greater than 2 km^2\")"
   ]
  },
  {
   "cell_type": "code",
   "execution_count": null,
   "metadata": {},
   "outputs": [],
   "source": [
    "count = 0\n",
    "for i in range(0,len(source_geoms[~vals])):\n",
    "    diff = source_geoms[~vals].iloc[[i]].symmetric_difference(vest_geoms[~vals].iloc[[i]])\n",
    "    intersection = source_geoms[~vals].iloc[[i]].intersection(vest_geoms[~vals].iloc[[i]])\n",
    "    area = float(diff.area/10e6)\n",
    "    #print(\"Area is \" + str(area))\n",
    "    if (area > .5):\n",
    "        count += 1\n",
    "        name = source_geoms[~vals].iat[i,12]\n",
    "        print(str(count)+\") For \" + name + \" difference in area is \" + str(area))\n",
    "        if (intersection.iloc[0].is_empty):\n",
    "            base = diff.plot(color=\"red\")\n",
    "            source_geoms[~vals].iloc[[i]].plot(color=\"orange\",ax=base)\n",
    "            vest_geoms[~vals].iloc[[i]].plot(color=\"blue\",ax=base)\n",
    "            base.set_title(name)\n",
    "        else:\n",
    "            base = diff.plot(color=\"red\")\n",
    "            source_geoms[~vals].iloc[[i]].plot(color=\"orange\",ax=base)\n",
    "            vest_geoms[~vals].iloc[[i]].plot(color=\"blue\",ax=base)\n",
    "            intersection.plot(color=\"green\",ax=base)\n",
    "            base.set_title(name)"
   ]
  }
 ],
 "metadata": {
  "kernelspec": {
   "display_name": "Python 3",
   "language": "python",
   "name": "python3"
  },
  "language_info": {
   "codemirror_mode": {
    "name": "ipython",
    "version": 3
   },
   "file_extension": ".py",
   "mimetype": "text/x-python",
   "name": "python",
   "nbconvert_exporter": "python",
   "pygments_lexer": "ipython3",
   "version": "3.9.2"
  }
 },
 "nbformat": 4,
 "nbformat_minor": 4
}
