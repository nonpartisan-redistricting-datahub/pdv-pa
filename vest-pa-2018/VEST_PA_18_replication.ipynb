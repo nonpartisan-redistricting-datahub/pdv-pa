{
 "cells": [
  {
   "cell_type": "code",
   "execution_count": 1,
   "metadata": {},
   "outputs": [],
   "source": [
    "import maup # mggg's library for proration, see documentation here: https://github.com/mggg/maup\n",
    "import pandas as pd # standard python data library\n",
    "import geopandas as gp # the geo-version of pandas\n",
    "import numpy as np \n",
    "import os\n",
    "import fiona\n",
    "from statistics import mean, median\n",
    "from pandas import read_csv\n",
    "gp.io.file.fiona.drvsupport.supported_drivers['KML'] = 'rw' #To load KML files"
   ]
  },
  {
   "cell_type": "markdown",
   "metadata": {},
   "source": [
    "# VEST PA Validation"
   ]
  },
  {
   "cell_type": "code",
   "execution_count": 2,
   "metadata": {},
   "outputs": [],
   "source": [
    "vest_pa_18 = gp.read_file(\"./raw-from-source/VEST/pa_2018/pa_2018.shp\")"
   ]
  },
  {
   "cell_type": "markdown",
   "metadata": {},
   "source": [
    "Election results from the Pennsylvania Secretary of State's office via OpenElections (https://github.com/openelections/openelections-data-pa/). Precinct data was corrected with canvass reports for the following counties: Berks, Blair, Bradford, Cambria, Carbon, Crawford, Elk, Forest, Franklin, Lawrence, Lycoming, Mifflin, Montgomery, Montour, Northumberland, Susquehanna. The candidate totals for Berks, Blair, Crawford, and Mifflin differ from the county totals reported by the state and therefore the statewide totals differ from the official results accordingly.\n",
    "\n",
    "Precinct shapefiles primarily from the U.S. Census Bureau's 2020 Redistricting Data Program Phase 2 release. The shapefiles from Delaware County and the City of Pittsburgh are from the respective jurisdictions instead. Precinct numbers were corrected to match the voter file in the following locales: Allegheny (Elizabeth, Pittsburgh W12), Blair (Greenfield), Bradford (Athens), Greene (Nonongahela), Monroe (Smithfield), Montgomery (Hatfield), Northampton (Bethlehem Twp), Perry (Toboyne), Washington (New Eagle, Somerset), York (Fairview).\n",
    "\n",
    "Precinct boundaries throughout the state were edited to match voter assignments in the PA Secretary of State voter file from the 2018 election cycle. While some edits reflect official updates to wards or divisions the great majority involve voters incorrectly assigned to voting districts by the counties. As such the VEST shapefile endeavors to reflect the de facto precinct boundaries and these often differ from the official voting district boundaries, in some cases quite drastically. Wherever possible edits were made using census boundaries or alternatively using the parcel shapefiles from the respective counties. \n",
    "\n",
    "In certain areas voter assignments appear so erratic that it is impractical to place all voters within their assigned precinct. These areas were edited so as to place as many voters as possible within their assigned precinct without displacing a greater number from their assigned precinct. In general, municipal boundaries were retained except where significant numbers of numbers were misassigned to the wrong municipality. In cases where the odd/even split was incorrectly reversed for precinct boundary streets the official boundary was retained. All such cases involved near equal number of voters swapped between voting districts.\n",
    "\n",
    "The following revisions were made to the base shapefiles to match the de facto 2018 precinct boundaries consistent with the voter file. Individual precincts are noted in cases of splits or merges. Due to the sheer number of edits boundary adjustments are noted at the borough/township level. There may be as many as two dozen individual precincts that were revised within a given municipality.\n",
    "\n",
    "Adams: Adjust Cumberland, Franklin\n",
    "Allegheny: Merge CD splits for S Fayette 3/5; Split Pittsburgh W5 11/17; Merge Pittsburgh W16 9/11/12, Align McCandless with municipal boundary; Adjust Avalon, Baldwin, Bethel Park, Braddock, Brentwood, Castle Shannon, Clairton, Collier, Coraopolis, Crescent, Dormont, Dravosburg, Duquesne, E Deer, E McKeesport, E Pittsburgh, Elizabeth, Emsworth, Forward, Glassport, Hampton, Harmar, Ingram, Jefferson Hills, Kennedy, Leet, Liberty, Marshall, McCandless, McKees Rocks, McKeesport, Monroeville, Moon, Mount Lebanon, Munhall, N Fayette, N Versailles, O'Hara, Oakdale, Penn Hills, Pine, Pittsburgh (nearly all wards), Pleasant Hills, Reserve, Richland, Ross, Scott, Sewickley, Shaler, S Fayette, S Park, Stowe, Swissvale, Upper St. Clair, W Deer, W Homestead, W Mifflin, W View, Whitaker, Whitehall, Wilkins, Wilkinsburg\n",
    "Armstrong: Align Dayton, Elderton, Ford City, Kittanning, N Apollo with municipal boundaries; Adjust Ford City, Gilpin, Kiskiminetas, Kittanning, Manor, N Buffalo, Parks, Parker City, S Buffalo\n",
    "Beaver: Adjust Aliquippa, Ambridge, Baden, Beaver, Brighton, Center, Chippewa, Conway, Economy, Franklin, Hanover, Harmony, Hopewell, Midland, Monaca, N Sewickley\n",
    "Bedford: Adjust Bedford Boro, Bedford Twp\n",
    "Berks: Adjust Cumru, Douglass, Oley, Maxatawny, Robeson, Sinking Spring, Spring, Union\n",
    "Blair: Merge Tunnelhill/Allegheny Twp 4; Align Altoona, Bellwood, Duncansville, Hollidaysburg, Newry, Roaring Spring, Tyrone, Williamsburg with municipal boundaries; Adjust Allegheny, Altoona, Antis, Frankstown, Freedom, Greenfield, Huston, Juniata, N Woodbury, Logan, Snyder, Tyrone Boro, Tyrone Twp\n",
    "Bucks: Align Sellersville, Tullytown with municipal boundaries; Adjust Bensalem, Bristol Boro, Bristol Twp, Buckingham, Doylestown Twp, Falls, Hilltown, Lower Makefield N, Lower Southampton E, Middletown, Milford, Morrissville, Newtown Twp, Northampton, Solebury Lower, Solebury, Springfield, Tinicum, Upper Makefield, Upper Southampton E, Warminster, Warrington, W Rockhill\n",
    "Butler: Merge CD splits for Cranberry E 2, 3, Cranberry W 1, 2, Jefferson 1, 2; Align Butler Twp, Valencia with municipal boundaries; Adjust Adams, Buffalo, Butler Boro, Butler Twp, Center, Cranberry E, Cranberry W, Jackson, Jefferson, Zelienople\n",
    "Cambria: Align Daisytown, Sankertown, W Taylor, Wilmore with municipal boundaries; Adjust Cambria, Conemaugh, Croyle, E Taylor, Ebensburg, E Carroll, Geistown, Jackson, Johnstown W8, W17, W20, Lower Yoder, Northern Cambria, Portage Boro, Portage Twp, Richland, Southmont, Stonycreek, Summerhill, Susquehanna, Upper Yoder, W Carroll, Westmont\n",
    "Cameron: Adjust Emporium, Shippen\n",
    "Carbon: Adjust Jim Thorpe, Kidder, Mahoning, New Mahoning, Summit Hill\n",
    "Centre: Merge CD splits for Halfmoon E Central/Proper; Merge Ferguson Northeast 1 A/B; Adjust Benner, College, Ferguson, Patton\n",
    "Chester: Merge CD/LD splits for Birmingham 2, Phoenixville M 1; Adjust Birmingham, E Bradford S, E Fallowfield, E Goshen, E Marlborough, Easttown, N Coventry, Spring City, Tredyffrin M, Uwchlan, W Bradford, W Caln, W Goshen N, W Goshen S, Westtown\n",
    "Clarion: Merge Emlenton/Richland; Adjust Clarion, Highland, Farmington, Knox\n",
    "Clearfield: Adjust Bradford, Cooper, Decatur, Golden Rod, Lawrence Glen Richie, Morris, Plympton, Woodward\n",
    "Columbia: Merge Ashland/Conyngham; Adjust Orange, Scott West\n",
    "Crawford: Align Mead, Woodcock with municipal boundaries\n",
    "Cumberland: Merge CD splits for N Middleton 1, 3; Split Lower Allen 1/Annex; Align Carlisle, E Pennsboro, Hampton, Lemoyne, Lower Allen, Mechanisburg, Middlesex, Mount Holly Springs, N Middleton, Shiremanstown, Silver Spring, W Pennsboro, Wormsleysburg with municipal boundaries\n",
    "Dauphin: Align Middletown with municipal boundary; Adjust Derry, Harrisburg W1, W7, W8, W9, Hummelstown, Lower Paxton, Lykens, Middletown\n",
    "Delaware: Adjust Chester, Concord, Darby Boro, Darby Twp, Haverford, Marple, Nether Providence, Newtown, Radnor, Ridley, Sharon Hill, Thornbury, Tinicum, Trainer, Upper Chichester, Upper Darby, Upper Providence\n",
    "Elk: Split N/S Horton; Adjust Johnsonburg, Ridgeway Boro, Ridgeway Twp, St. Marys\n",
    "Erie: Adjust Erie W1, W4, W5, W6, Greene, Lawrence Park, McKean, Millcreek, North East\n",
    "Fayette: Align Dunbar with municipal boundary; Adjust Brownsville, Bullskin, Dunbar, Georges, German, Luzerne, N Union, Redstone\n",
    "Franklin: Align Mercersburg with municipal boundary; Adjust Antrim, Fannett, Greene, Guilford, Hamilton, Metal, Peters, Quincy, St. Thomas, Southampton, Washington\n",
    "Fulton: Align McConnellsburg with municipal boundary\n",
    "Greene: Align Carmichaels with municipal boundary; Adjust Cumberland, Dunkard, Franklin, Jefferson, Lipencott, Mather, Morgan Chart, Monongahela, Nemacolin\n",
    "Huntingdon: Merge CD splits for Penn; Adjust Huntingdon, Mount Union\n",
    "Jefferson:  Align Reynoldsville with municipal boundary; Adjust Punxsutawney\n",
    "Lackawanna: Adjust Archbald, Blakely, Carbondale, Clarks Summit, Dickson City, Dunmore, Fell, Jermyn, Jessup, Mayfield, Moosic, Old Forge, Olyphant, Scranton W1, W2, W3, W6, W7, W10, W12, W13, W14, W15, W16, W19, W20, W23, S Abington, Taylor, Throop\n",
    "Lancaster: Split Lancaster 7-8 CV/LS; Adjust Brecknock, Columbia, E Hempfield, E Lampeter, E Petersburg, Elizabethtown, Ephrata, Lancaster W4, W8, Lititz, Manheim, Manor, Millersville, Mt Joy Boro, Mt Joy Twp, New Holland, Penn, Providence, Rapho, Warwick, W Cocalico, W Donegal, W Hempfield\n",
    "Lawrence: Adjust Neshannock\n",
    "Lebanon: Adjust Jackson, Lickdale, S Lebanon, Union Green Pt\n",
    "Lehigh: Adjust Lower Macungie, Salisbury\n",
    "Luzerne: Merge CD splits for Hazle 1; Align Avoca, Pittston with municipal boundaries; Adjust Butler, Dallas, Exeter, Foster, Freeland, Hanover, Hazle, Jenkins, Kingston Boro, Kingston Twp, Larksville, Lehman, Nanticoke, Newport, Plains, Salem, Smoyersville, W Wyoming, Wilkes-Barre\n",
    "Lycoming: Align Williamsport with municipal boundary; Adjust Jersey Shore\n",
    "McKean: Adjust Bradford City, Bradford Twp, Foster, Keating, Otto\n",
    "Mercer: Adjust Delaware, Fredonia, Greenville, Hempfield, Hermitage, Sharon, Sharpsville, S Pymatuning, W Salem\n",
    "Mifflin: Split Brown Reedsville/Church Hill\n",
    "Monroe: Align E Stroudsburg with municipal boundary; Adjust E Stroudsburg, Smithfield\n",
    "Montgomery: Add CD special election splits for Horsham 2-2, Perkiomen 1, Plymouth 2-3; Adjust Abington, Lower Merion, Pottstown, Springfield, Upper Moreland, Upper Merion, Upper Providence\n",
    "Northampton: Align Glendon, Walnutport with municipal boundaries; Adjust Bangor, Bethlehem W2, W3, W4, W7, W9, W14, W15, Bethlehem Twp, Bushkill, Easton, Forks, Hanover, Hellertown, Lehigh, Lower Mt Bethel, Lower Saucon, Moore, Nazareth, Palmer, Plainfield, Upper Mt Bethel, Washington, Williams\n",
    "Northumberland: Align Northumberland with municipal boundary; Adjust Coal, Milton, Mount Carmel W, Natalie-Strong, Northumberland, Point, Ralpho, Shamokin, Sunbury, Upper Augusta\n",
    "Philadelphia: Adjust 1-19/21, 5-3/19, 7-2/3/17, 7-6/7, 9-5/6, 15-7/10, 17-20/26, 20-5/10, 21-1/15, 21-40/41, 22-21/26, 23-11/12, 25-9/17, 25-4/7/12, 25-10/12, 26-1/2, 27-7/8, 27-18/20/21, 28-1/8, 29-9/11, 29-10/17, 30-14/15, 31-5/6, 38-11/17, 38-13/20, 38-15/19, 40-12/18/19, 40-17/19, 42-3/4/7, 44-8/14, 50-3/12, 50-11/27, 52-2/6/9, 52-3/8, 57-6/7, 57-10/27, 57-17/28, 58-6/12, 62-5/19, 65-4/7, 65-11/16, 66-22/34\n",
    "Pike: Adjust Matamoras\n",
    "Potter: Adjust Galeton, Sharon\n",
    "Schuylkill: Adjust Coaldale, N Manheim, Norwegian, Porter, Pottsville\n",
    "Somerset: Align New Centerville with municipal boundary; Adjust Conemaugh, Jefferson, Middlecreek, Paint, Somerset Boro\n",
    "Susquehanna: Adjust Montrose; Lanesboro, Susquehanna Depot\n",
    "Tioga: Adjust Delmar, Wellsboro\n",
    "Union: Adjust Buffalo, White Deer\n",
    "Venango: Adjust Franklin, Sugarcreek, Cornplanter, Oil City\n",
    "Warren: Adjust Conewango\n",
    "Washington: Align Allenport, Beallsville, Burgettstown, Canonsburg, Carroll, Charleroi, Claysville, Elco, Finleyville, Houston, Long Branch, McDonald, Monongahela, Speers, Twilight with municipal boundaries; Adjust Amwell, Bentleyville, California, Canonsburg, Canton, Cecil, Centerville, Chartiers, Donegal, Donora, Fallowfield, Hanover, Independence, Mount Pleasant, N Franklin, N Strabane, Peters, Robinson, Smith, Somerset, S Franklin, S Strabane, Union Washington, W Brownsville\n",
    "Wayne: Adjust Honesdale\n",
    "Westmoreland: Merge CD splits for Unity Pleasant Unity; Align Greensburg with municipal boundary; Adjust Allegheny, Arnold, Bell, Derry, E Huntingdon, Fairfield, Greensburg W1-W8, Hempfield, Jeannette, Latrobe, Ligonier, Lower Burrell, Monessen, Mount Pleasant, Murraysville, New Kensington, N Belle Vernon, N Huntingdon, Penn, Rostraver, St. Clair, Scottdale, Sewickley, S Greensburg, S Huntingdon, Trafford, Upper Burrell, Unity, Vandergrift, Washington, Youngwood\n",
    "Wyoming: Adjust Falls\n",
    "York: Merge CD splits for York Twp 5-3; Align E Prospect, Goldsboro, Jefferson, Manchester, Monaghan, Wellsville, York with municipal boundaries; Adjust Chanceford, Codorus, Conewago, Dover, Fairview, Hanover, Jackson, Lower Windsor, New Freedom, Newberry, N Codorus, Penn, Red Lion, Shrewsbury, Spring Garden, Springbettsbury, W Manchester, Windsor Boro, Windsor Twp, Wrightsville, York Twp, York W5, W6, W15"
   ]
  },
  {
   "cell_type": "code",
   "execution_count": 3,
   "metadata": {},
   "outputs": [
    {
     "name": "stdout",
     "output_type": "stream",
     "text": [
      "  STATEFP COUNTYFP   VTDST          NAME  G18USSDCAS  G18USSRBAR  G18USSLKER  \\\n",
      "0      42      001  000010   ABBOTTSTOWN         120         183           5   \n",
      "1      42      001  000020  ARENDTSVILLE         151         178           6   \n",
      "2      42      001  000030  BENDERSVILLE          74         103           1   \n",
      "3      42      001  000040       BERWICK         289         575          14   \n",
      "4      42      001  000050   BIGLERVILLE         152         231           3   \n",
      "\n",
      "   G18USSGGAL  G18GOVDWOL  G18GOVRWAG  G18GOVLKRA  G18GOVGGLO  \\\n",
      "0           2         120         185           2           2   \n",
      "1           3         160         172           4           2   \n",
      "2           2          76          98           3           2   \n",
      "3           5         318         554           9           5   \n",
      "4           7         168         215           5           2   \n",
      "\n",
      "                                            geometry  \n",
      "0  POLYGON Z ((-76.99801 39.88359 0.00000, -76.99...  \n",
      "1  POLYGON Z ((-77.31141 39.92625 0.00000, -77.30...  \n",
      "2  POLYGON Z ((-77.25596 39.98075 0.00000, -77.25...  \n",
      "3  MULTIPOLYGON Z (((-76.99558 39.88677 0.00000, ...  \n",
      "4  POLYGON Z ((-77.25594 39.93043 0.00000, -77.25...  \n",
      "Index(['STATEFP', 'COUNTYFP', 'VTDST', 'NAME', 'G18USSDCAS', 'G18USSRBAR',\n",
      "       'G18USSLKER', 'G18USSGGAL', 'G18GOVDWOL', 'G18GOVRWAG', 'G18GOVLKRA',\n",
      "       'G18GOVGGLO', 'geometry'],\n",
      "      dtype='object')\n",
      "\n",
      "Here are the vote totals:\n",
      "G18USSDCAS: 2792693\n",
      "G18USSRBAR: 2135223\n",
      "G18USSLKER: 50927\n",
      "G18USSGGAL: 31228\n",
      "G18GOVDWOL: 2895931\n",
      "G18GOVRWAG: 2040233\n",
      "G18GOVLKRA: 49238\n",
      "G18GOVGGLO: 27797\n"
     ]
    }
   ],
   "source": [
    "print(vest_pa_18.head())\n",
    "print(vest_pa_18.columns)\n",
    "\n",
    "col_list = ['G18USSDCAS', 'G18USSRBAR','G18USSLKER', 'G18USSGGAL', 'G18GOVDWOL', 'G18GOVRWAG', 'G18GOVLKRA','G18GOVGGLO']\n",
    "print(\"\")\n",
    "print(\"Here are the vote totals:\")\n",
    "for i in col_list:\n",
    "    print(i + \": \"+str(sum(vest_pa_18[i])))"
   ]
  },
  {
   "cell_type": "code",
   "execution_count": 4,
   "metadata": {
    "scrolled": true
   },
   "outputs": [
    {
     "name": "stdout",
     "output_type": "stream",
     "text": [
      "['Adams' 'Allegheny' 'Armstrong' 'Beaver' 'Bedford' 'Berks' 'Blair'\n",
      " 'Bradford' 'Bucks' 'Butler' 'Cambria' 'Cameron' 'Carbon' 'Centre'\n",
      " 'Chester' 'Clarion' 'Clearfield' 'Clinton' 'Columbia' 'Crawford'\n",
      " 'Cumberland' 'Dauphin' 'Delaware' 'Elk' 'Erie' 'Fayette' 'Forest'\n",
      " 'Franklin' 'Fulton' 'Greene' 'Huntingdon' 'Indiana' 'Jefferson' 'Juniata'\n",
      " 'Lackawanna' 'Lancaster' 'Lawrence' 'Lebanon' 'Lehigh' 'Luzerne'\n",
      " 'Lycoming' 'McKean' 'Mercer' 'Mifflin' 'Monroe' 'Montgomery' 'Montour'\n",
      " 'Northampton' 'Northumberland' 'Perry' 'Philadelphia' 'Pike' 'Potter'\n",
      " 'Schuylkill' 'Snyder' 'Somerset' 'Sullivan' 'Susquehanna' 'Tioga' 'Union'\n",
      " 'Venango' 'Warren' 'Washington' 'Wayne' 'Westmoreland' 'Wyoming' 'York']\n"
     ]
    }
   ],
   "source": [
    "fips_file = pd.read_csv(\"./raw-from-source/FIPS/US_FIPS_Codes.csv\")\n",
    "fips_file = fips_file[fips_file[\"State\"]==\"Pennsylvania\"]\n",
    "fips_file[\"FIPS County\"]=fips_file[\"FIPS County\"].astype(str)\n",
    "fips_file[\"FIPS County\"]=fips_file[\"FIPS County\"].str.zfill(3)\n",
    "fips_file[\"unique_ID\"] =  \"42\" + fips_file[\"FIPS County\"]\n",
    "fips_codes = fips_file[\"unique_ID\"].tolist()\n",
    "print(fips_file[\"County Name\"].unique())\n",
    "pa_fips_dict = dict(zip(fips_file[\"County Name\"],fips_file[\"FIPS County\"]))"
   ]
  },
  {
   "cell_type": "code",
   "execution_count": 56,
   "metadata": {},
   "outputs": [
    {
     "name": "stderr",
     "output_type": "stream",
     "text": [
      "/opt/anaconda3/lib/python3.8/site-packages/IPython/core/interactiveshell.py:3071: DtypeWarning: Columns (6) have mixed types.Specify dtype option on import or set low_memory=False.\n",
      "  has_raised = await self.run_ast_nodes(code_ast.body, cell_name,\n"
     ]
    }
   ],
   "source": [
    "pa_election = pd.read_csv(\"./raw-from-source/Election_Results/openelections-data-pa-master/2018/20181106__pa__general__precinct.csv\")"
   ]
  },
  {
   "cell_type": "markdown",
   "metadata": {},
   "source": [
    "Do not include the \"Straight Party\" votes"
   ]
  },
  {
   "cell_type": "code",
   "execution_count": 57,
   "metadata": {},
   "outputs": [
    {
     "name": "stderr",
     "output_type": "stream",
     "text": [
      "<ipython-input-57-b62953b909e4>:4: SettingWithCopyWarning: \n",
      "A value is trying to be set on a copy of a slice from a DataFrame.\n",
      "Try using .loc[row_indexer,col_indexer] = value instead\n",
      "\n",
      "See the caveats in the documentation: https://pandas.pydata.org/pandas-docs/stable/user_guide/indexing.html#returning-a-view-versus-a-copy\n",
      "  filtered_pa_election[\"county\"] = filtered_pa_election[\"county\"].map(county_changes_dict).fillna(filtered_pa_election[\"county\"])\n",
      "<ipython-input-57-b62953b909e4>:5: SettingWithCopyWarning: \n",
      "A value is trying to be set on a copy of a slice from a DataFrame.\n",
      "Try using .loc[row_indexer,col_indexer] = value instead\n",
      "\n",
      "See the caveats in the documentation: https://pandas.pydata.org/pandas-docs/stable/user_guide/indexing.html#returning-a-view-versus-a-copy\n",
      "  filtered_pa_election[\"County_FIPS\"]=filtered_pa_election.loc[:,\"county\"].map(pa_fips_dict).fillna(filtered_pa_election.loc[:,\"county\"])\n"
     ]
    }
   ],
   "source": [
    "office_list = [\"U.S. Senate\", 'Governor']\n",
    "filtered_pa_election = pa_election[pa_election[\"office\"].isin(office_list)]\n",
    "county_changes_dict = {\"Washington \":\"Washington\"}\n",
    "filtered_pa_election[\"county\"] = filtered_pa_election[\"county\"].map(county_changes_dict).fillna(filtered_pa_election[\"county\"])\n",
    "filtered_pa_election[\"County_FIPS\"]=filtered_pa_election.loc[:,\"county\"].map(pa_fips_dict).fillna(filtered_pa_election.loc[:,\"county\"])"
   ]
  },
  {
   "cell_type": "code",
   "execution_count": 58,
   "metadata": {},
   "outputs": [
    {
     "name": "stdout",
     "output_type": "stream",
     "text": [
      "['DEM' 'REP' 'GRN' 'LIB' nan 'GREEN' 'GR' 'GRE' 'DEMOCRATIC' 'REPUBLICAN'\n",
      " 'LIBERTARIAN' 'DEMOCRAT']\n"
     ]
    },
    {
     "name": "stderr",
     "output_type": "stream",
     "text": [
      "<ipython-input-58-3d1b8e8be9f4>:1: SettingWithCopyWarning: \n",
      "A value is trying to be set on a copy of a slice from a DataFrame.\n",
      "Try using .loc[row_indexer,col_indexer] = value instead\n",
      "\n",
      "See the caveats in the documentation: https://pandas.pydata.org/pandas-docs/stable/user_guide/indexing.html#returning-a-view-versus-a-copy\n",
      "  filtered_pa_election[\"pivot_col\"]=filtered_pa_election[\"County_FIPS\"]+filtered_pa_election[\"precinct\"]\n",
      "<ipython-input-58-3d1b8e8be9f4>:2: SettingWithCopyWarning: \n",
      "A value is trying to be set on a copy of a slice from a DataFrame.\n",
      "Try using .loc[row_indexer,col_indexer] = value instead\n",
      "\n",
      "See the caveats in the documentation: https://pandas.pydata.org/pandas-docs/stable/user_guide/indexing.html#returning-a-view-versus-a-copy\n",
      "  filtered_pa_election[\"candidate\"]=filtered_pa_election[\"candidate\"].str.upper()\n",
      "<ipython-input-58-3d1b8e8be9f4>:3: SettingWithCopyWarning: \n",
      "A value is trying to be set on a copy of a slice from a DataFrame.\n",
      "Try using .loc[row_indexer,col_indexer] = value instead\n",
      "\n",
      "See the caveats in the documentation: https://pandas.pydata.org/pandas-docs/stable/user_guide/indexing.html#returning-a-view-versus-a-copy\n",
      "  filtered_pa_election[\"candidate\"] = filtered_pa_election[\"candidate\"].str.strip()\n",
      "<ipython-input-58-3d1b8e8be9f4>:4: SettingWithCopyWarning: \n",
      "A value is trying to be set on a copy of a slice from a DataFrame.\n",
      "Try using .loc[row_indexer,col_indexer] = value instead\n",
      "\n",
      "See the caveats in the documentation: https://pandas.pydata.org/pandas-docs/stable/user_guide/indexing.html#returning-a-view-versus-a-copy\n",
      "  filtered_pa_election[\"party\"] = filtered_pa_election[\"party\"].str.upper()\n",
      "<ipython-input-58-3d1b8e8be9f4>:12: SettingWithCopyWarning: \n",
      "A value is trying to be set on a copy of a slice from a DataFrame.\n",
      "Try using .loc[row_indexer,col_indexer] = value instead\n",
      "\n",
      "See the caveats in the documentation: https://pandas.pydata.org/pandas-docs/stable/user_guide/indexing.html#returning-a-view-versus-a-copy\n",
      "  filtered_pa_election[\"party\"] = filtered_pa_election[\"party\"].map(party_changes_dict).fillna(filtered_pa_election[\"party\"])\n"
     ]
    }
   ],
   "source": [
    "filtered_pa_election[\"pivot_col\"]=filtered_pa_election[\"County_FIPS\"]+filtered_pa_election[\"precinct\"]\n",
    "filtered_pa_election[\"candidate\"]=filtered_pa_election[\"candidate\"].str.upper()\n",
    "filtered_pa_election[\"candidate\"] = filtered_pa_election[\"candidate\"].str.strip()\n",
    "filtered_pa_election[\"party\"] = filtered_pa_election[\"party\"].str.upper()\n",
    "\n",
    "\n",
    "print(filtered_pa_election[\"party\"].unique())\n",
    "\n",
    "party_changes_dict = {\"DEMOCRATIC\":\"DEM\",\"REPUBLICAN\":\"REP\",\"LIBERTARIAN\":\"LIB\",\"GREEN\":\"GRN\",\n",
    "                     \"GR\":\"GRN\",\"GRE\":\"GRN\",\"DEMOCRAT\":\"DEM\"}\n",
    "\n",
    "filtered_pa_election[\"party\"] = filtered_pa_election[\"party\"].map(party_changes_dict).fillna(filtered_pa_election[\"party\"])\n"
   ]
  },
  {
   "cell_type": "markdown",
   "metadata": {},
   "source": [
    "#Remove the \"TOTAL\" precinct from armstrong"
   ]
  },
  {
   "cell_type": "code",
   "execution_count": 59,
   "metadata": {},
   "outputs": [],
   "source": [
    "filtered_pa_election = filtered_pa_election[~(filtered_pa_election[\"candidate\"].str[-3:]==\"(W)\")]"
   ]
  },
  {
   "cell_type": "code",
   "execution_count": 60,
   "metadata": {},
   "outputs": [],
   "source": [
    "#Things to look into\n",
    "\n",
    "party_cand_list = [\n",
    "  'DEMOCRATIC', \n",
    " 'REPUBLICAN',\n",
    " 'GREEN', \n",
    " 'INDEPENDENT', \n",
    " 'LIBERTARIAN', \n",
    "\n",
    "]"
   ]
  },
  {
   "cell_type": "code",
   "execution_count": 61,
   "metadata": {},
   "outputs": [],
   "source": [
    "candidate_name_changes = {\n",
    "   'DEMOCRATIC':'DEM', \n",
    " 'REPUBLICAN':\"REP\",\n",
    " 'GREEN':\"GRN\", \n",
    " 'INDEPENDENT':\"IND\", \n",
    " 'LIBERTARIAN':\"LIB\",\n",
    "    \n",
    "    \n",
    "    'LOU BARLETTA':'BARLETTA',\n",
    " 'LOU  BARLETTA':'BARLETTA',\n",
    " 'LOU BARLETTA JR':'BARLETTA',\n",
    " 'BARLETTA, LOU':'BARLETTA',\n",
    "\n",
    "    'KEN V KRAWCHUK, GOVERNOR':'KRAWCHUK',\n",
    "    'KEN V. KRAWCHUK/K.S. SMITH':'KRAWCHUK',\n",
    "    'KRAWCHUK /SMITH':'KRAWCHUK',\n",
    "    'KEN V. KRAWCHUK KATHLEEN S. SMITH':'KRAWCHUK',\n",
    "    'KRAWCHUK\\\\SMITH':'KRAWCHUK',\n",
    "     'KEN V KRAWCHUK':'KRAWCHUK', \n",
    " 'KRAWCHUK / SMITH':'KRAWCHUK',\n",
    " 'KRAWCHUK/SMITH':'KRAWCHUK',\n",
    " 'KEN V. KRAWCHUK/K. S. SMITH':'KRAWCHUK',\n",
    " 'KEN KRAWCHUK':'KRAWCHUK',\n",
    " 'KRAWCHUK/ SMITH':'KRAWCHUK',\n",
    " 'KEN V. KRAWCHUK':'KRAWCHUK',\n",
    " 'KRAWCHUK, KEN V.':'KRAWCHUK',\n",
    " 'KEN V. KRAWCHUK / K. S. SMITH':'KRAWCHUK',\n",
    "    \n",
    "    'GLOVER / BOSTICK':'GLOVER',\n",
    "    'PAUL GLOVER, GOVERNOR':'GLOVER',\n",
    "    'GLOVER / BOWSER BOSTICK':'GLOVER',\n",
    "    'PAUL GLOVER/J. BOWSER-BOSTICK':'GLOVER',\n",
    "    'GLOVER/BOSTICK':'GLOVER',\n",
    "    'GLOVER/BOWSER-BOSTIC':'GLOVER',\n",
    "    'PAUL GLOVER JOCOLYN BOWSER-BOSTICK':'GLOVER',\n",
    "    'GLOVER/BOWSERBOS':'GLOVER',\n",
    "    'GLOVER\\\\BOWSERBOSTICK':'GLOVER',\n",
    "     'GLOVER / BOWSER-BOSTICK':'GLOVER', \n",
    " 'GLOVER/BOWSER-BOSTICK':'GLOVER',\n",
    " 'GLOVER/BOWSER-BOS':'GLOVER', \n",
    " 'PAUL GLOVER/JOCOLYN BOWER-BOSTICK':'GLOVER', \n",
    " 'PAUL  GLOVER':'GLOVER',\n",
    " 'GLOVER / BOWSER-BOS':'GLOVER',\n",
    " 'PAUL GLOVER':'GLOVER',\n",
    " 'GLOVER, PAUL':'GLOVER',\n",
    " 'PAUL GLOVER / J. BOWSER BOSTICK':'GLOVER',\n",
    "    \n",
    "    'SCOTT R WAGNER, GOVERNOR':'WAGNER',\n",
    "    'SCOTT R. WAGNER JEFF BARTOS':'WAGNER',\n",
    "    'WAGNER\\\\BARTOS':'WAGNER',\n",
    "     'SCOTT R WAGNER':'WAGNER', \n",
    "    'WAGNER/BARTOS':'WAGNER',\n",
    " 'WAGNER / BARTOS':'WAGNER',\n",
    "  'SCOTT R. WAGNER/JEFF BARTOS':'WAGNER',\n",
    " 'WAGNER/ BARTOS':'WAGNER',\n",
    " 'SCOTT R WAGNER AND JEFF BARTOS':'WAGNER',\n",
    " 'SCOTT WAGNER':'WAGNER',\n",
    " 'SCOTT R. WAGNER':'WAGNER',\n",
    " 'WAGNER, SCOTT R.':'WAGNER',\n",
    " 'SCOTT R. WAGNER / JEFF BARTOS':'WAGNER',\n",
    "    \n",
    "    'TOM WOLF, GOVERNOR':'WOLF',\n",
    "    'TOM WOLF JOHN FETTERMAN':'WOLF',\n",
    "    'WOLF\\\\FETTERMAN':'WOLF',\n",
    "     'WOLF / FETTERMAN':'WOLF',\n",
    " 'WOLF/FETTERMAN':'WOLF',\n",
    " 'TOM WOLF/JOHN FETTERMAN':'WOLF', \n",
    " 'TOM  WOLF':'WOLF',\n",
    " 'TOM WOLF AND JOHN FETTERMAN':'WOLF',\n",
    " 'TOM WOLF':'WOLF',\n",
    " 'WOLF, TOM':'WOLF',\n",
    " 'TOM WOLF / JOHN FETTERMAN':'WOLF',\n",
    "    \n",
    "    'DALE KERNS':\"KERNS\",\n",
    "    'DALE R KEARNS, JR':\"KERNS\",\n",
    " 'DALE R KERNS, JR':\"KERNS\",\n",
    " 'DALE R. KERNS JR.':\"KERNS\",\n",
    "  'DALE KERNS JR':\"KERNS\", \n",
    " 'DALE R. KERNS, JR':\"KERNS\",\n",
    " 'DALE R. KERNS, JR.':\"KERNS\",\n",
    " 'DALE R. KERNS JR':\"KERNS\", \n",
    " 'DALE R KERNS JR':\"KERNS\",\n",
    "    'KERNS, JR., DALE R.':\"KERNS\",\n",
    "    \n",
    "    'ROBERT CASEY JR.':\"CASEY\",\n",
    "     'BOB CASEY, JR':\"CASEY\",\n",
    " 'BOB CASEY JR.':\"CASEY\",\n",
    " 'BOB  CASEY, JR.':\"CASEY\",\n",
    " 'BOB CASEY':\"CASEY\",\n",
    " 'CASEY, JR., BOB':\"CASEY\",\n",
    " 'BOB CASEY, JR.':\"CASEY\", \n",
    " 'BOB CASEY JR':\"CASEY\", \n",
    "    \n",
    "    'NEAL GALE':\"GALE\",\n",
    " 'NEAL  GALE':\"GALE\",\n",
    " 'GALE, NEAL':\"GALE\",\n",
    " 'NEALE GALE':\"GALE\"}\n",
    "\n",
    "filtered_pa_election[\"candidate\"] = filtered_pa_election[\"candidate\"].map(candidate_name_changes).fillna(filtered_pa_election[\"candidate\"])"
   ]
  },
  {
   "cell_type": "code",
   "execution_count": 62,
   "metadata": {},
   "outputs": [],
   "source": [
    "candidates_to_remove = [\"NO AFFILIATION\",'WRITE - IN','BLANK VOTES',\n",
    "                      'WRITE-INS','WRITE IN','CAST VOTES','OVER VOTES',\n",
    "                     'UNDER VOTES','WRITE IN VOTES','WRITE-IN VOTES']\n",
    "\n",
    "parties_to_remove = [\"NAF\",\"IND\"]"
   ]
  },
  {
   "cell_type": "code",
   "execution_count": 99,
   "metadata": {},
   "outputs": [],
   "source": [
    "filtered_pa_election = filtered_pa_election[~(filtered_pa_election[\"candidate\"].isin(candidates_to_remove))]\n",
    "filtered_pa_election = filtered_pa_election[~(filtered_pa_election[\"party\"].isin(parties_to_remove))]\n",
    "filtered_pa_election[\"party\"] = filtered_pa_election[\"party\"].fillna(filtered_pa_election[\"candidate\"])\n",
    "filtered_pa_election[\"candidate\"] = filtered_pa_election[\"candidate\"].fillna(filtered_pa_election[\"party\"])\n",
    "filtered_pa_election[\"votes\"]=filtered_pa_election[\"votes\"].astype(str)\n",
    "filtered_pa_election[\"votes\"]=filtered_pa_election[\"votes\"].str.replace(',', '').astype(int)\n",
    "filtered_pa_election[\"votes\"]=filtered_pa_election[\"votes\"].astype(int)"
   ]
  },
  {
   "cell_type": "code",
   "execution_count": 101,
   "metadata": {},
   "outputs": [
    {
     "name": "stdout",
     "output_type": "stream",
     "text": [
      "int64\n"
     ]
    }
   ],
   "source": [
    "print(filtered_pa_election[\"votes\"].dtype)"
   ]
  },
  {
   "cell_type": "code",
   "execution_count": 105,
   "metadata": {},
   "outputs": [
    {
     "name": "stdout",
     "output_type": "stream",
     "text": [
      "Empty DataFrame\n",
      "Columns: [county, precinct, office, district, candidate, party, votes, absentee, election_day, County_FIPS, pivot_col, cand_col]\n",
      "Index: []\n"
     ]
    }
   ],
   "source": [
    "print(filtered_pa_election[filtered_pa_election[\"votes\"]==None])"
   ]
  },
  {
   "cell_type": "code",
   "execution_count": 100,
   "metadata": {},
   "outputs": [
    {
     "name": "stdout",
     "output_type": "stream",
     "text": [
      "{0, 1, 2, 3, 4, 5, 6, 7, 8, 9, 10, 11, 12, 13, 14, 15, 16, 17, 18, 19, 20, 21, 22, 23, 24, 25, 26, 27, 28, 29, 30, 31, 32, 33, 34, 35, 36, 37, 38, 39, 40, 41, 42, 43, 44, 45, 46, 47, 48, 49, 50, 51, 52, 53, 54, 55, 56, 57, 58, 59, 60, 61, 62, 63, 64, 65, 66, 67, 68, 69, 70, 71, 72, 73, 74, 75, 76, 77, 78, 79, 80, 81, 82, 83, 84, 85, 86, 87, 88, 89, 90, 91, 92, 93, 94, 95, 96, 97, 98, 99, 100, 101, 102, 103, 104, 105, 106, 107, 108, 109, 110, 111, 112, 113, 114, 115, 116, 117, 118, 119, 120, 121, 122, 123, 124, 125, 126, 127, 128, 129, 130, 131, 132, 133, 134, 135, 136, 137, 138, 139, 140, 141, 142, 143, 144, 145, 146, 147, 148, 149, 150, 151, 152, 153, 154, 155, 156, 157, 158, 159, 160, 161, 162, 163, 164, 165, 166, 167, 168, 169, 170, 171, 172, 173, 174, 175, 176, 177, 178, 179, 180, 181, 182, 183, 184, 185, 186, 187, 188, 189, 190, 191, 192, 193, 194, 195, 196, 197, 198, 199, 200, 201, 202, 203, 204, 205, 206, 207, 208, 209, 210, 211, 212, 213, 214, 215, 216, 217, 218, 219, 220, 221, 222, 223, 224, 225, 226, 227, 228, 229, 230, 231, 232, 233, 234, 235, 236, 237, 238, 239, 240, 241, 242, 243, 244, 245, 246, 247, 248, 249, 250, 251, 252, 253, 254, 255, 256, 257, 258, 259, 260, 261, 262, 263, 264, 265, 266, 267, 268, 269, 270, 271, 272, 273, 274, 275, 276, 277, 278, 279, 280, 281, 282, 283, 284, 285, 286, 287, 288, 289, 290, 291, 292, 293, 294, 295, 296, 297, 298, 299, 300, 301, 302, 303, 304, 305, 306, 307, 308, 309, 310, 311, 312, 313, 314, 315, 316, 317, 318, 319, 320, 321, 322, 323, 324, 325, 326, 327, 328, 329, 330, 331, 332, 333, 334, 335, 336, 337, 338, 339, 340, 341, 342, 343, 344, 345, 346, 347, 348, 349, 350, 351, 352, 353, 354, 355, 356, 357, 358, 359, 360, 361, 362, 363, 364, 365, 366, 367, 368, 369, 370, 371, 372, 373, 374, 375, 376, 377, 378, 379, 380, 381, 382, 383, 384, 385, 386, 387, 388, 389, 390, 391, 392, 393, 394, 395, 396, 397, 398, 399, 400, 401, 402, 403, 404, 405, 406, 407, 408, 409, 410, 411, 412, 413, 414, 415, 416, 417, 418, 419, 420, 421, 422, 423, 424, 425, 426, 427, 428, 429, 430, 431, 432, 433, 434, 435, 436, 437, 438, 439, 440, 441, 442, 443, 444, 445, 446, 447, 448, 449, 450, 451, 452, 453, 454, 455, 456, 457, 458, 459, 460, 461, 462, 463, 464, 465, 466, 467, 468, 469, 470, 471, 472, 473, 474, 475, 476, 477, 478, 479, 480, 481, 482, 483, 484, 485, 486, 487, 488, 489, 490, 491, 492, 493, 494, 495, 496, 497, 498, 499, 500, 501, 502, 503, 504, 505, 506, 507, 508, 509, 510, 511, 512, 513, 514, 515, 516, 517, 518, 519, 520, 521, 522, 523, 524, 525, 526, 527, 528, 529, 530, 531, 532, 533, 534, 535, 536, 537, 538, 539, 540, 541, 542, 543, 544, 545, 546, 547, 548, 549, 550, 551, 552, 553, 554, 555, 556, 557, 558, 559, 560, 561, 562, 563, 564, 565, 566, 567, 568, 569, 570, 571, 572, 573, 574, 575, 576, 577, 578, 579, 580, 581, 582, 583, 584, 585, 586, 587, 588, 589, 590, 591, 592, 593, 594, 595, 596, 597, 598, 599, 600, 601, 602, 603, 604, 605, 606, 607, 608, 609, 610, 611, 612, 613, 614, 615, 616, 617, 618, 619, 620, 621, 622, 623, 624, 625, 626, 627, 628, 629, 630, 631, 632, 633, 634, 635, 636, 637, 638, 639, 640, 641, 642, 643, 644, 645, 646, 647, 648, 649, 650, 651, 652, 653, 654, 655, 656, 657, 658, 659, 660, 661, 662, 663, 664, 665, 666, 667, 668, 669, 670, 671, 672, 673, 674, 675, 676, 677, 678, 679, 680, 681, 682, 683, 684, 685, 686, 687, 688, 689, 690, 691, 692, 693, 694, 695, 696, 697, 698, 699, 700, 701, 702, 703, 704, 705, 706, 707, 708, 709, 710, 711, 712, 713, 714, 715, 716, 717, 718, 719, 720, 721, 722, 723, 724, 725, 726, 727, 728, 729, 730, 731, 732, 733, 734, 735, 736, 737, 738, 739, 740, 741, 742, 743, 744, 745, 746, 747, 748, 749, 750, 751, 752, 753, 754, 755, 756, 757, 758, 759, 760, 761, 762, 763, 764, 765, 766, 767, 768, 769, 770, 771, 772, 773, 774, 775, 776, 777, 778, 779, 780, 781, 782, 783, 784, 785, 786, 787, 788, 789, 790, 791, 792, 793, 794, 795, 796, 797, 798, 799, 800, 801, 802, 803, 804, 805, 806, 807, 808, 809, 810, 811, 812, 813, 814, 815, 816, 817, 818, 819, 820, 821, 822, 823, 824, 825, 826, 827, 828, 829, 830, 831, 832, 833, 834, 835, 836, 837, 838, 839, 840, 841, 842, 843, 844, 845, 846, 847, 848, 849, 850, 851, 852, 854, 855, 856, 857, 858, 859, 860, 861, 862, 863, 864, 865, 866, 867, 868, 869, 870, 871, 872, 873, 874, 875, 876, 877, 878, 879, 880, 881, 882, 883, 884, 885, 886, 887, 888, 889, 890, 891, 892, 893, 894, 895, 896, 897, 898, 899, 900, 901, 902, 903, 904, 905, 906, 907, 908, 909, 910, 911, 912, 913, 914, 915, 917, 918, 919, 920, 921, 922, 923, 925, 926, 927, 928, 929, 930, 931, 932, 933, 934, 935, 936, 937, 938, 939, 940, 942, 944, 945, 946, 947, 948, 949, 951, 952, 953, 954, 955, 956, 957, 958, 959, 960, 961, 962, 963, 964, 965, 966, 968, 969, 970, 972, 973, 974, 975, 976, 977, 978, 979, 980, 981, 982, 983, 984, 986, 987, 988, 989, 990, 991, 992, 993, 994, 995, 996, 997, 999, 1000, 1002, 1003, 1005, 1006, 1007, 1008, 1010, 1011, 1012, 1013, 1014, 1015, 1016, 1017, 1018, 1019, 1020, 1021, 1023, 1026, 1027, 1028, 1029, 1030, 1031, 1032, 1034, 1035, 1036, 1037, 1038, 1040, 1041, 1042, 1043, 1044, 1045, 1046, 1047, 1048, 1049, 1050, 1051, 1052, 1053, 1055, 1056, 1057, 1058, 1059, 1061, 1063, 1064, 1065, 1067, 1068, 1069, 1070, 1071, 1072, 1073, 1074, 1078, 1079, 1080, 1081, 1083, 1084, 1086, 1087, 1088, 1089, 1090, 1091, 1094, 1096, 1097, 1098, 1099, 1100, 1101, 1102, 1103, 1104, 1105, 1109, 1110, 1111, 1112, 1113, 1114, 1120, 1124, 1125, 1127, 1129, 1130, 1132, 1133, 1134, 1136, 1137, 1138, 1140, 1144, 1145, 1147, 1148, 1149, 1150, 1153, 1154, 1156, 1157, 1158, 1162, 1165, 1166, 1167, 1170, 1172, 1173, 1174, 1175, 1180, 1185, 1188, 1189, 1193, 1194, 1195, 1198, 1201, 1204, 1206, 1207, 1208, 1211, 1212, 1214, 1215, 1219, 1220, 1221, 1222, 1223, 1225, 1233, 1236, 1240, 1245, 1246, 1247, 1248, 1255, 1259, 1260, 1262, 1263, 1271, 1272, 1275, 1277, 1278, 1281, 1284, 1286, 1290, 1296, 1299, 1301, 1302, 1304, 1306, 17691, 1309, 1311, 1315, 1318, 1320, 1327, 1329, 1332, 1337, 1342, 1350, 1352, 1354, 1356, 1359, 1366, 1367, 1369, 1370, 1375, 1380, 1382, 1388, 1394, 1396, 1398, 1399, 1402, 1404, 1408, 1412, 1419, 1422, 1423, 1435, 1437, 1444, 1447, 1449, 1454, 1458, 1462, 1463, 1465, 9659, 1477, 1492, 1502, 1504, 1507, 1519, 1522, 1528, 1539, 1544, 1545, 1568, 1571, 1572, 1576, 1579, 1586, 1613, 1621, 1624, 1631, 1656, 1662, 1670, 1717, 1721, 1723, 1726, 1734, 1774, 1848, 1858, 1997, 2048, 26640, 8570, 8739, 49496, 8839, 52807, 12476, 21179, 13519, 54525, 30452, 47738, 15373, 15449}\n",
      "853\n"
     ]
    }
   ],
   "source": [
    "#print(len(filtered_pa_election[\"votes\"].unique()))\n",
    "print(set(filtered_pa_election[\"votes\"].unique()))\n",
    "\n",
    "i = 0\n",
    "stop = False\n",
    "while (stop == False):\n",
    "    if i not in set(filtered_pa_election[\"votes\"].unique()):\n",
    "        print(i)\n",
    "        stop=True\n",
    "    else:\n",
    "        i+=1\n",
    "        "
   ]
  },
  {
   "cell_type": "code",
   "execution_count": 82,
   "metadata": {},
   "outputs": [],
   "source": [
    "filtered_pa_election[\"cand_col\"]=filtered_pa_election[\"office\"]+filtered_pa_election[\"candidate\"]\n",
    "#filtered_pa_election[\"votes\"] = filtered_pa_election[\"votes\"].str.replace(',', '').astype(float)\n",
    "#filtered_pa_election[\"votes\"]=filtered_pa_election[\"votes\"].astype(float)"
   ]
  },
  {
   "cell_type": "code",
   "execution_count": 150,
   "metadata": {},
   "outputs": [],
   "source": [
    "pd.set_option('display.max_rows', 500)\n",
    "filtered_pa_election[filtered_pa_election[\"County_FIPS\"]==\"005\"].to_csv(\"./005_pa.csv\")"
   ]
  },
  {
   "cell_type": "code",
   "execution_count": 85,
   "metadata": {},
   "outputs": [],
   "source": [
    "pivoted_2018 = pd.pivot_table(filtered_pa_election, values=[\"votes\"], index=[\"pivot_col\"],columns=[\"cand_col\"],aggfunc=sum)"
   ]
  },
  {
   "cell_type": "code",
   "execution_count": 86,
   "metadata": {},
   "outputs": [
    {
     "name": "stdout",
     "output_type": "stream",
     "text": [
      "                         votes                                               \\\n",
      "cand_col        GovernorGLOVER GovernorKRAWCHUK GovernorWAGNER GovernorWOLF   \n",
      "pivot_col                                                                     \n",
      "001Abbottstown             2.0              2.0          185.0        120.0   \n",
      "001Arendtsville            2.0              4.0          172.0        160.0   \n",
      "001Bendersville            2.0              3.0           98.0         76.0   \n",
      "001Berwick                 5.0              9.0          554.0        318.0   \n",
      "001Biglerville             2.0              5.0          215.0        168.0   \n",
      "\n",
      "                                                                      \\\n",
      "cand_col        U.S. SenateBARLETTA U.S. SenateCASEY U.S. SenateGALE   \n",
      "pivot_col                                                              \n",
      "001Abbottstown                183.0            120.0             2.0   \n",
      "001Arendtsville               178.0            151.0             3.0   \n",
      "001Bendersville               103.0             74.0             2.0   \n",
      "001Berwick                    575.0            289.0             5.0   \n",
      "001Biglerville                231.0            152.0             7.0   \n",
      "\n",
      "                                  \n",
      "cand_col        U.S. SenateKERNS  \n",
      "pivot_col                         \n",
      "001Abbottstown               5.0  \n",
      "001Arendtsville              6.0  \n",
      "001Bendersville              1.0  \n",
      "001Berwick                  14.0  \n",
      "001Biglerville               3.0  \n"
     ]
    }
   ],
   "source": [
    "print(pivoted_2018.head())"
   ]
  },
  {
   "cell_type": "code",
   "execution_count": 87,
   "metadata": {},
   "outputs": [
    {
     "name": "stdout",
     "output_type": "stream",
     "text": [
      "                pivot_col          votes                                  \\\n",
      "cand_col                  GovernorGLOVER GovernorKRAWCHUK GovernorWAGNER   \n",
      "0          001Abbottstown            2.0              2.0          185.0   \n",
      "1         001Arendtsville            2.0              4.0          172.0   \n",
      "2         001Bendersville            2.0              3.0           98.0   \n",
      "3              001Berwick            5.0              9.0          554.0   \n",
      "4          001Biglerville            2.0              5.0          215.0   \n",
      "\n",
      "                                                                            \\\n",
      "cand_col GovernorWOLF U.S. SenateBARLETTA U.S. SenateCASEY U.S. SenateGALE   \n",
      "0               120.0               183.0            120.0             2.0   \n",
      "1               160.0               178.0            151.0             3.0   \n",
      "2                76.0               103.0             74.0             2.0   \n",
      "3               318.0               575.0            289.0             5.0   \n",
      "4               168.0               231.0            152.0             7.0   \n",
      "\n",
      "                           \n",
      "cand_col U.S. SenateKERNS  \n",
      "0                     5.0  \n",
      "1                     6.0  \n",
      "2                     1.0  \n",
      "3                    14.0  \n",
      "4                     3.0  \n"
     ]
    }
   ],
   "source": [
    "pivoted_2018.reset_index(drop=False,inplace=True)\n",
    "print(pivoted_2018.head())\n",
    "#pivoted_2018.drop(['level_1'], axis=1,inplace=True)\n",
    "#print(pivoted_2018.head())"
   ]
  },
  {
   "cell_type": "code",
   "execution_count": 88,
   "metadata": {},
   "outputs": [
    {
     "name": "stdout",
     "output_type": "stream",
     "text": [
      "MultiIndex([('pivot_col',                    ''),\n",
      "            (    'votes',      'GovernorGLOVER'),\n",
      "            (    'votes',    'GovernorKRAWCHUK'),\n",
      "            (    'votes',      'GovernorWAGNER'),\n",
      "            (    'votes',        'GovernorWOLF'),\n",
      "            (    'votes', 'U.S. SenateBARLETTA'),\n",
      "            (    'votes',    'U.S. SenateCASEY'),\n",
      "            (    'votes',     'U.S. SenateGALE'),\n",
      "            (    'votes',    'U.S. SenateKERNS')],\n",
      "           names=[None, 'cand_col'])\n"
     ]
    }
   ],
   "source": [
    "print(pivoted_2018.columns)"
   ]
  },
  {
   "cell_type": "code",
   "execution_count": 89,
   "metadata": {},
   "outputs": [
    {
     "name": "stdout",
     "output_type": "stream",
     "text": [
      "cand_col                   GovernorGLOVER  GovernorKRAWCHUK  GovernorWAGNER  \\\n",
      "0          001Abbottstown             2.0               2.0           185.0   \n",
      "1         001Arendtsville             2.0               4.0           172.0   \n",
      "2         001Bendersville             2.0               3.0            98.0   \n",
      "3              001Berwick             5.0               9.0           554.0   \n",
      "4          001Biglerville             2.0               5.0           215.0   \n",
      "\n",
      "cand_col  GovernorWOLF  U.S. SenateBARLETTA  U.S. SenateCASEY  \\\n",
      "0                120.0                183.0             120.0   \n",
      "1                160.0                178.0             151.0   \n",
      "2                 76.0                103.0              74.0   \n",
      "3                318.0                575.0             289.0   \n",
      "4                168.0                231.0             152.0   \n",
      "\n",
      "cand_col  U.S. SenateGALE  U.S. SenateKERNS  \n",
      "0                     2.0               5.0  \n",
      "1                     3.0               6.0  \n",
      "2                     2.0               1.0  \n",
      "3                     5.0              14.0  \n",
      "4                     7.0               3.0  \n"
     ]
    }
   ],
   "source": [
    "pivoted_2018.columns = pivoted_2018.columns.droplevel(0)\n",
    "print(pivoted_2018.head())"
   ]
  },
  {
   "cell_type": "code",
   "execution_count": 90,
   "metadata": {},
   "outputs": [
    {
     "name": "stdout",
     "output_type": "stream",
     "text": [
      "Index(['', 'GovernorGLOVER', 'GovernorKRAWCHUK', 'GovernorWAGNER',\n",
      "       'GovernorWOLF', 'U.S. SenateBARLETTA', 'U.S. SenateCASEY',\n",
      "       'U.S. SenateGALE', 'U.S. SenateKERNS'],\n",
      "      dtype='object', name='cand_col')\n"
     ]
    }
   ],
   "source": [
    "print(pivoted_2018.columns)"
   ]
  },
  {
   "cell_type": "markdown",
   "metadata": {},
   "source": [
    "G18USSDCAS - Robert P. Casey Jr. (Democratic Party)  \n",
    "G18USSRBAR - Louis J. Carletta (Republican Party)  \n",
    "G18USSLKER - Dale R. Kerns (Libertarian Party)  \n",
    "G18USSGGAL - Neal Taylor Gale (Green Party)  \n",
    "  \n",
    "G18GOVDWOL - Thomas W. Wolf (Democratic Party)  \n",
    "G18GOVRWAG - Scott R. Wagner (Republican Party)  \n",
    "G18GOVLKRA - Kenneth V. Krawchuk (Libertarian Party)  \n",
    "G18GOVGGLO - Paul Glover (Green Party)  "
   ]
  },
  {
   "cell_type": "code",
   "execution_count": 91,
   "metadata": {},
   "outputs": [
    {
     "name": "stdout",
     "output_type": "stream",
     "text": [
      "(9165, 9)\n",
      "(9160, 13)\n"
     ]
    }
   ],
   "source": [
    "print(pivoted_2018.shape)\n",
    "print(vest_pa_18.shape)"
   ]
  },
  {
   "cell_type": "code",
   "execution_count": 92,
   "metadata": {},
   "outputs": [],
   "source": [
    "pivoted_2018.columns=[\"cty_pct\",\"G18GOVGGLO\",\"G18GOVLKRA\",\"G18GOVRWAG\",\"G18GOVDWOL\",\"G18USSRBAR\",\"G18USSDCAS\",\"G18USSGGAL\",\"G18USSLKER\"]"
   ]
  },
  {
   "cell_type": "code",
   "execution_count": 93,
   "metadata": {},
   "outputs": [],
   "source": [
    "pivoted_2018 = pivoted_2018.fillna(0)"
   ]
  },
  {
   "cell_type": "code",
   "execution_count": 94,
   "metadata": {},
   "outputs": [
    {
     "name": "stdout",
     "output_type": "stream",
     "text": [
      "           cty_pct  G18GOVGGLO  G18GOVLKRA  G18GOVRWAG  G18GOVDWOL  \\\n",
      "0   001Abbottstown         2.0         2.0       185.0       120.0   \n",
      "1  001Arendtsville         2.0         4.0       172.0       160.0   \n",
      "2  001Bendersville         2.0         3.0        98.0        76.0   \n",
      "3       001Berwick         5.0         9.0       554.0       318.0   \n",
      "4   001Biglerville         2.0         5.0       215.0       168.0   \n",
      "\n",
      "   G18USSRBAR  G18USSDCAS  G18USSGGAL  G18USSLKER  \n",
      "0       183.0       120.0         2.0         5.0  \n",
      "1       178.0       151.0         3.0         6.0  \n",
      "2       103.0        74.0         2.0         1.0  \n",
      "3       575.0       289.0         5.0        14.0  \n",
      "4       231.0       152.0         7.0         3.0  \n",
      "           cty_pct  G18GOVGGLO  G18GOVLKRA  G18GOVRWAG  G18GOVDWOL  \\\n",
      "0   001Abbottstown         2.0         2.0       185.0       120.0   \n",
      "1  001Arendtsville         2.0         4.0       172.0       160.0   \n",
      "2  001Bendersville         2.0         3.0        98.0        76.0   \n",
      "3       001Berwick         5.0         9.0       554.0       318.0   \n",
      "4   001Biglerville         2.0         5.0       215.0       168.0   \n",
      "\n",
      "   G18USSRBAR  G18USSDCAS  G18USSGGAL  G18USSLKER county  \n",
      "0       183.0       120.0         2.0         5.0    001  \n",
      "1       178.0       151.0         3.0         6.0    001  \n",
      "2       103.0        74.0         2.0         1.0    001  \n",
      "3       575.0       289.0         5.0        14.0    001  \n",
      "4       231.0       152.0         7.0         3.0    001  \n"
     ]
    }
   ],
   "source": [
    "print(pivoted_2018.head())\n",
    "pivoted_2018[\"county\"]=pivoted_2018[\"cty_pct\"].str[0:3]\n",
    "print(pivoted_2018.head())"
   ]
  },
  {
   "cell_type": "code",
   "execution_count": 95,
   "metadata": {},
   "outputs": [
    {
     "name": "stdout",
     "output_type": "stream",
     "text": [
      "G18GOVGGLO\n",
      "27797\n",
      "28947.0\n",
      "\n",
      "G18GOVLKRA\n",
      "49238\n",
      "50908.0\n",
      "\n",
      "G18GOVRWAG\n",
      "2040233\n",
      "2095912.0\n",
      "\n",
      "G18GOVDWOL\n",
      "2895931\n",
      "3045743.0\n",
      "\n",
      "G18USSRBAR\n",
      "2135223\n",
      "2309292.0\n",
      "\n",
      "G18USSDCAS\n",
      "2792693\n",
      "3020248.0\n",
      "\n",
      "G18USSGGAL\n",
      "31228\n",
      "33654.0\n",
      "\n",
      "G18USSLKER\n",
      "50927\n",
      "54527.0\n",
      "\n"
     ]
    }
   ],
   "source": [
    "col_list=[\"G18GOVGGLO\",\"G18GOVLKRA\",\"G18GOVRWAG\",\"G18GOVDWOL\",\"G18USSRBAR\",\"G18USSDCAS\",\"G18USSGGAL\",\"G18USSLKER\"]\n",
    "for i in col_list:\n",
    "    print(i)\n",
    "    print(sum(vest_pa_18[i]))\n",
    "    print(sum(pivoted_2018[i]))\n",
    "    print(\"\")"
   ]
  },
  {
   "cell_type": "code",
   "execution_count": 142,
   "metadata": {},
   "outputs": [
    {
     "name": "stdout",
     "output_type": "stream",
     "text": [
      "G18GOVGGLO\n",
      "county\n",
      "005     153.0\n",
      "019    -490.0\n",
      "021       2.0\n",
      "025     138.0\n",
      "039       6.0\n",
      "041     671.0\n",
      "045    1027.0\n",
      "047       4.0\n",
      "107     329.0\n",
      "129    -690.0\n",
      "Name: G18GOVGGLO, dtype: float64\n",
      "\n",
      "G18GOVLKRA\n",
      "county\n",
      "005     278.0\n",
      "019   -1088.0\n",
      "025     267.0\n",
      "039       1.0\n",
      "041    1504.0\n",
      "045    1668.0\n",
      "097      -1.0\n",
      "107     570.0\n",
      "129   -1529.0\n",
      "Name: G18GOVLKRA, dtype: float64\n",
      "\n",
      "G18GOVRWAG\n",
      "county\n",
      "005    15373.0\n",
      "015      -58.0\n",
      "019   -45242.0\n",
      "021       11.0\n",
      "025    12476.0\n",
      "039      288.0\n",
      "041    49496.0\n",
      "045    73697.0\n",
      "055     -260.0\n",
      "067       -8.0\n",
      "073        3.0\n",
      "091     -700.0\n",
      "093       -2.0\n",
      "097       -9.0\n",
      "107    26640.0\n",
      "115      100.0\n",
      "129   -76126.0\n",
      "Name: G18GOVRWAG, dtype: float64\n",
      "\n",
      "G18GOVDWOL\n",
      "county\n",
      "005      8839.0\n",
      "015       -28.0\n",
      "019    -32891.0\n",
      "021        20.0\n",
      "025      9659.0\n",
      "039       194.0\n",
      "041     52807.0\n",
      "045    158026.0\n",
      "053        -1.0\n",
      "067        -7.0\n",
      "081         3.0\n",
      "091       -30.0\n",
      "093        -4.0\n",
      "097        -4.0\n",
      "107     21179.0\n",
      "129    -67950.0\n",
      "Name: G18GOVDWOL, dtype: float64\n",
      "\n",
      "G18USSRBAR\n",
      "county\n",
      "005    15449.0\n",
      "015      -61.0\n",
      "025    13519.0\n",
      "033   -16852.0\n",
      "041    54525.0\n",
      "045    77208.0\n",
      "067       -9.0\n",
      "091     -150.0\n",
      "093       -2.0\n",
      "097      -11.0\n",
      "107    30452.0\n",
      "115        1.0\n",
      "Name: G18USSRBAR, dtype: float64\n",
      "\n",
      "G18USSDCAS\n",
      "county\n",
      "005      8570.0\n",
      "015       -26.0\n",
      "025      8739.0\n",
      "033     -9540.0\n",
      "041     47738.0\n",
      "045    154394.0\n",
      "053        -1.0\n",
      "067        -3.0\n",
      "093        -3.0\n",
      "097        -3.0\n",
      "107     17691.0\n",
      "115        -1.0\n",
      "Name: G18USSDCAS, dtype: float64\n",
      "\n",
      "G18USSGGAL\n",
      "county\n",
      "005     159.0\n",
      "015      33.0\n",
      "025     119.0\n",
      "033    -145.0\n",
      "041     738.0\n",
      "045    1241.0\n",
      "047       3.0\n",
      "091       1.0\n",
      "093      -1.0\n",
      "107     278.0\n",
      "Name: G18USSGGAL, dtype: float64\n",
      "\n",
      "G18USSLKER\n",
      "county\n",
      "005     310.0\n",
      "015      62.0\n",
      "025     195.0\n",
      "033    -266.0\n",
      "041    1399.0\n",
      "045    1926.0\n",
      "055     -10.0\n",
      "091     -12.0\n",
      "097    -281.0\n",
      "107     421.0\n",
      "119    -144.0\n",
      "Name: G18USSLKER, dtype: float64\n",
      "\n"
     ]
    }
   ],
   "source": [
    "diff_counties = []\n",
    "\n",
    "for i in col_list:\n",
    "    diff = pivoted_2018.groupby([\"county\"]).sum()[i]-vest_pa_18.groupby([\"COUNTYFP\"]).sum()[i]\n",
    "    print(i)\n",
    "    for val in diff[diff != 0].index.values.tolist():\n",
    "        if val not in diff_counties:\n",
    "            diff_counties.append(val)\n",
    "    print(diff[diff != 0])\n",
    "    print(\"\")\n",
    "\n",
    "#print(diff_counties)"
   ]
  },
  {
   "cell_type": "code",
   "execution_count": 140,
   "metadata": {},
   "outputs": [
    {
     "name": "stdout",
     "output_type": "stream",
     "text": [
      "             State County Name  FIPS State FIPS County unique_ID\n",
      "2241  Pennsylvania       Adams          42         001     42001\n",
      "2242  Pennsylvania   Allegheny          42         003     42003\n",
      "2243  Pennsylvania   Armstrong          42         005     42005\n",
      "2244  Pennsylvania      Beaver          42         007     42007\n",
      "2245  Pennsylvania     Bedford          42         009     42009\n",
      "{'001': 'Adams', '003': 'Allegheny', '005': 'Armstrong', '007': 'Beaver', '009': 'Bedford', '011': 'Berks', '013': 'Blair', '015': 'Bradford', '017': 'Bucks', '019': 'Butler', '021': 'Cambria', '023': 'Cameron', '025': 'Carbon', '027': 'Centre', '029': 'Chester', '031': 'Clarion', '033': 'Clearfield', '035': 'Clinton', '037': 'Columbia', '039': 'Crawford', '041': 'Cumberland', '043': 'Dauphin', '045': 'Delaware', '047': 'Elk', '049': 'Erie', '051': 'Fayette', '053': 'Forest', '055': 'Franklin', '057': 'Fulton', '059': 'Greene', '061': 'Huntingdon', '063': 'Indiana', '065': 'Jefferson', '067': 'Juniata', '069': 'Lackawanna', '071': 'Lancaster', '073': 'Lawrence', '075': 'Lebanon', '077': 'Lehigh', '079': 'Luzerne', '081': 'Lycoming', '083': 'McKean', '085': 'Mercer', '087': 'Mifflin', '089': 'Monroe', '091': 'Montgomery', '093': 'Montour', '095': 'Northampton', '097': 'Northumberland', '099': 'Perry', '101': 'Philadelphia', '103': 'Pike', '105': 'Potter', '107': 'Schuylkill', '109': 'Snyder', '111': 'Somerset', '113': 'Sullivan', '115': 'Susquehanna', '117': 'Tioga', '119': 'Union', '121': 'Venango', '123': 'Warren', '125': 'Washington', '127': 'Wayne', '129': 'Westmoreland', '131': 'Wyoming', '133': 'York'}\n",
      "Armstrong\n",
      "Butler\n",
      "Cambria\n",
      "Carbon\n",
      "Crawford\n",
      "Cumberland\n",
      "Delaware\n",
      "Elk\n",
      "Schuylkill\n",
      "Westmoreland\n",
      "Northumberland\n",
      "Bradford\n",
      "Franklin\n",
      "Juniata\n",
      "Lawrence\n",
      "Montgomery\n",
      "Montour\n",
      "Susquehanna\n",
      "Forest\n",
      "Lycoming\n",
      "Clearfield\n",
      "Union\n"
     ]
    }
   ],
   "source": [
    "print(fips_file.head())\n",
    "fips_name_dict=dict(zip(fips_file[\"FIPS County\"],fips_file[\"County Name\"]))\n",
    "print(fips_name_dict)\n",
    "for i in diff_counties:\n",
    "    print(fips_name_dict.get(i))"
   ]
  },
  {
   "cell_type": "code",
   "execution_count": 31,
   "metadata": {},
   "outputs": [
    {
     "name": "stdout",
     "output_type": "stream",
     "text": [
      "  STATEFP COUNTYFP   VTDST          NAME  G18USSDCAS  G18USSRBAR  G18USSLKER  \\\n",
      "0      42      001  000010   ABBOTTSTOWN         120         183           5   \n",
      "1      42      001  000020  ARENDTSVILLE         151         178           6   \n",
      "2      42      001  000030  BENDERSVILLE          74         103           1   \n",
      "3      42      001  000040       BERWICK         289         575          14   \n",
      "4      42      001  000050   BIGLERVILLE         152         231           3   \n",
      "\n",
      "   G18USSGGAL  G18GOVDWOL  G18GOVRWAG  G18GOVLKRA  G18GOVGGLO  \\\n",
      "0           2         120         185           2           2   \n",
      "1           3         160         172           4           2   \n",
      "2           2          76          98           3           2   \n",
      "3           5         318         554           9           5   \n",
      "4           7         168         215           5           2   \n",
      "\n",
      "                                            geometry  \n",
      "0  POLYGON Z ((-76.99801 39.88359 0.00000, -76.99...  \n",
      "1  POLYGON Z ((-77.31141 39.92625 0.00000, -77.30...  \n",
      "2  POLYGON Z ((-77.25596 39.98075 0.00000, -77.25...  \n",
      "3  MULTIPOLYGON Z (((-76.99558 39.88677 0.00000, ...  \n",
      "4  POLYGON Z ((-77.25594 39.93043 0.00000, -77.25...  \n"
     ]
    }
   ],
   "source": [
    "print(vest_pa_18.head())"
   ]
  },
  {
   "cell_type": "code",
   "execution_count": 27,
   "metadata": {},
   "outputs": [],
   "source": [
    "#Combine all the data from separate files into one\n",
    "li = []\n",
    "for i in fips_codes:\n",
    "    ref = \"./raw-from-source/Census/partnership_shapefiles_19v2_\"\n",
    "    file_ref = ref+i+\"/PVS_19_v2_vtd_\"+i+\".shp\"\n",
    "    file_prev = gp.read_file(file_ref)\n",
    "    #print(file_prev.shape)\n",
    "    li.append(file_prev)\n",
    "shapefiles_census = pd.concat(li, axis=0, ignore_index=True)"
   ]
  },
  {
   "cell_type": "code",
   "execution_count": 28,
   "metadata": {},
   "outputs": [
    {
     "name": "stdout",
     "output_type": "stream",
     "text": [
      "67\n"
     ]
    }
   ],
   "source": [
    "print(len(shapefiles_census[\"COUNTYFP\"].unique()))"
   ]
  },
  {
   "cell_type": "code",
   "execution_count": 29,
   "metadata": {},
   "outputs": [
    {
     "name": "stdout",
     "output_type": "stream",
     "text": [
      "  STATEFP COUNTYFP   VTDST          NAME  G18USSDCAS  G18USSRBAR  G18USSLKER  \\\n",
      "0      42      001  000010   ABBOTTSTOWN         120         183           5   \n",
      "1      42      001  000020  ARENDTSVILLE         151         178           6   \n",
      "2      42      001  000030  BENDERSVILLE          74         103           1   \n",
      "3      42      001  000040       BERWICK         289         575          14   \n",
      "4      42      001  000050   BIGLERVILLE         152         231           3   \n",
      "\n",
      "   G18USSGGAL  G18GOVDWOL  G18GOVRWAG  G18GOVLKRA  G18GOVGGLO  \\\n",
      "0           2         120         185           2           2   \n",
      "1           3         160         172           4           2   \n",
      "2           2          76          98           3           2   \n",
      "3           5         318         554           9           5   \n",
      "4           7         168         215           5           2   \n",
      "\n",
      "                                            geometry  \n",
      "0  POLYGON Z ((-76.99801 39.88359 0.00000, -76.99...  \n",
      "1  POLYGON Z ((-77.31141 39.92625 0.00000, -77.30...  \n",
      "2  POLYGON Z ((-77.25596 39.98075 0.00000, -77.25...  \n",
      "3  MULTIPOLYGON Z (((-76.99558 39.88677 0.00000, ...  \n",
      "4  POLYGON Z ((-77.25594 39.93043 0.00000, -77.25...  \n"
     ]
    }
   ],
   "source": [
    "print(vest_pa_18.head())"
   ]
  },
  {
   "cell_type": "code",
   "execution_count": null,
   "metadata": {},
   "outputs": [],
   "source": []
  }
 ],
 "metadata": {
  "kernelspec": {
   "display_name": "Python 3",
   "language": "python",
   "name": "python3"
  },
  "language_info": {
   "codemirror_mode": {
    "name": "ipython",
    "version": 3
   },
   "file_extension": ".py",
   "mimetype": "text/x-python",
   "name": "python",
   "nbconvert_exporter": "python",
   "pygments_lexer": "ipython3",
   "version": "3.8.3"
  }
 },
 "nbformat": 4,
 "nbformat_minor": 4
}
