{
 "cells": [
  {
   "cell_type": "code",
   "execution_count": 1,
   "metadata": {},
   "outputs": [],
   "source": [
    "import maup # mggg's library for proration, see documentation here: https://github.com/mggg/maup\n",
    "import pandas as pd # standard python data library\n",
    "import geopandas as gp # the geo-version of pandas\n",
    "import numpy as np \n",
    "import os\n",
    "import fiona\n",
    "from statistics import mean, median\n",
    "from pandas import read_csv\n",
    "gp.io.file.fiona.drvsupport.supported_drivers['KML'] = 'rw' #To load KML files"
   ]
  },
  {
   "cell_type": "markdown",
   "metadata": {},
   "source": [
    "# VEST PA Validation"
   ]
  },
  {
   "cell_type": "code",
   "execution_count": 2,
   "metadata": {},
   "outputs": [],
   "source": [
    "vest_pa_18 = gp.read_file(\"./raw-from-source/VEST/pa_2018/pa_2018.shp\")"
   ]
  },
  {
   "cell_type": "markdown",
   "metadata": {},
   "source": [
    "Election results from the Pennsylvania Secretary of State's office via OpenElections (https://github.com/openelections/openelections-data-pa/). Precinct data was corrected with canvass reports for the following counties: Berks, Blair, Bradford, Cambria, Carbon, Crawford, Elk, Forest, Franklin, Lawrence, Lycoming, Mifflin, Montgomery, Montour, Northumberland, Susquehanna. The candidate totals for Berks, Blair, Crawford, and Mifflin differ from the county totals reported by the state and therefore the statewide totals differ from the official results accordingly.\n",
    "\n",
    "Precinct shapefiles primarily from the U.S. Census Bureau's 2020 Redistricting Data Program Phase 2 release. The shapefiles from Delaware County and the City of Pittsburgh are from the respective jurisdictions instead. Precinct numbers were corrected to match the voter file in the following locales: Allegheny (Elizabeth, Pittsburgh W12), Blair (Greenfield), Bradford (Athens), Greene (Nonongahela), Monroe (Smithfield), Montgomery (Hatfield), Northampton (Bethlehem Twp), Perry (Toboyne), Washington (New Eagle, Somerset), York (Fairview).\n",
    "\n",
    "Precinct boundaries throughout the state were edited to match voter assignments in the PA Secretary of State voter file from the 2018 election cycle. While some edits reflect official updates to wards or divisions the great majority involve voters incorrectly assigned to voting districts by the counties. As such the VEST shapefile endeavors to reflect the de facto precinct boundaries and these often differ from the official voting district boundaries, in some cases quite drastically. Wherever possible edits were made using census boundaries or alternatively using the parcel shapefiles from the respective counties. \n",
    "\n",
    "In certain areas voter assignments appear so erratic that it is impractical to place all voters within their assigned precinct. These areas were edited so as to place as many voters as possible within their assigned precinct without displacing a greater number from their assigned precinct. In general, municipal boundaries were retained except where significant numbers of numbers were misassigned to the wrong municipality. In cases where the odd/even split was incorrectly reversed for precinct boundary streets the official boundary was retained. All such cases involved near equal number of voters swapped between voting districts.\n",
    "\n",
    "The following revisions were made to the base shapefiles to match the de facto 2018 precinct boundaries consistent with the voter file. Individual precincts are noted in cases of splits or merges. Due to the sheer number of edits boundary adjustments are noted at the borough/township level. There may be as many as two dozen individual precincts that were revised within a given municipality.\n",
    "\n",
    "Adams: Adjust Cumberland, Franklin\n",
    "Allegheny: Merge CD splits for S Fayette 3/5; Split Pittsburgh W5 11/17; Merge Pittsburgh W16 9/11/12, Align McCandless with municipal boundary; Adjust Avalon, Baldwin, Bethel Park, Braddock, Brentwood, Castle Shannon, Clairton, Collier, Coraopolis, Crescent, Dormont, Dravosburg, Duquesne, E Deer, E McKeesport, E Pittsburgh, Elizabeth, Emsworth, Forward, Glassport, Hampton, Harmar, Ingram, Jefferson Hills, Kennedy, Leet, Liberty, Marshall, McCandless, McKees Rocks, McKeesport, Monroeville, Moon, Mount Lebanon, Munhall, N Fayette, N Versailles, O'Hara, Oakdale, Penn Hills, Pine, Pittsburgh (nearly all wards), Pleasant Hills, Reserve, Richland, Ross, Scott, Sewickley, Shaler, S Fayette, S Park, Stowe, Swissvale, Upper St. Clair, W Deer, W Homestead, W Mifflin, W View, Whitaker, Whitehall, Wilkins, Wilkinsburg\n",
    "Armstrong: Align Dayton, Elderton, Ford City, Kittanning, N Apollo with municipal boundaries; Adjust Ford City, Gilpin, Kiskiminetas, Kittanning, Manor, N Buffalo, Parks, Parker City, S Buffalo\n",
    "Beaver: Adjust Aliquippa, Ambridge, Baden, Beaver, Brighton, Center, Chippewa, Conway, Economy, Franklin, Hanover, Harmony, Hopewell, Midland, Monaca, N Sewickley\n",
    "Bedford: Adjust Bedford Boro, Bedford Twp\n",
    "Berks: Adjust Cumru, Douglass, Oley, Maxatawny, Robeson, Sinking Spring, Spring, Union\n",
    "Blair: Merge Tunnelhill/Allegheny Twp 4; Align Altoona, Bellwood, Duncansville, Hollidaysburg, Newry, Roaring Spring, Tyrone, Williamsburg with municipal boundaries; Adjust Allegheny, Altoona, Antis, Frankstown, Freedom, Greenfield, Huston, Juniata, N Woodbury, Logan, Snyder, Tyrone Boro, Tyrone Twp\n",
    "Bucks: Align Sellersville, Tullytown with municipal boundaries; Adjust Bensalem, Bristol Boro, Bristol Twp, Buckingham, Doylestown Twp, Falls, Hilltown, Lower Makefield N, Lower Southampton E, Middletown, Milford, Morrissville, Newtown Twp, Northampton, Solebury Lower, Solebury, Springfield, Tinicum, Upper Makefield, Upper Southampton E, Warminster, Warrington, W Rockhill\n",
    "Butler: Merge CD splits for Cranberry E 2, 3, Cranberry W 1, 2, Jefferson 1, 2; Align Butler Twp, Valencia with municipal boundaries; Adjust Adams, Buffalo, Butler Boro, Butler Twp, Center, Cranberry E, Cranberry W, Jackson, Jefferson, Zelienople\n",
    "Cambria: Align Daisytown, Sankertown, W Taylor, Wilmore with municipal boundaries; Adjust Cambria, Conemaugh, Croyle, E Taylor, Ebensburg, E Carroll, Geistown, Jackson, Johnstown W8, W17, W20, Lower Yoder, Northern Cambria, Portage Boro, Portage Twp, Richland, Southmont, Stonycreek, Summerhill, Susquehanna, Upper Yoder, W Carroll, Westmont\n",
    "Cameron: Adjust Emporium, Shippen\n",
    "Carbon: Adjust Jim Thorpe, Kidder, Mahoning, New Mahoning, Summit Hill\n",
    "Centre: Merge CD splits for Halfmoon E Central/Proper; Merge Ferguson Northeast 1 A/B; Adjust Benner, College, Ferguson, Patton\n",
    "Chester: Merge CD/LD splits for Birmingham 2, Phoenixville M 1; Adjust Birmingham, E Bradford S, E Fallowfield, E Goshen, E Marlborough, Easttown, N Coventry, Spring City, Tredyffrin M, Uwchlan, W Bradford, W Caln, W Goshen N, W Goshen S, Westtown\n",
    "Clarion: Merge Emlenton/Richland; Adjust Clarion, Highland, Farmington, Knox\n",
    "Clearfield: Adjust Bradford, Cooper, Decatur, Golden Rod, Lawrence Glen Richie, Morris, Plympton, Woodward\n",
    "Columbia: Merge Ashland/Conyngham; Adjust Orange, Scott West\n",
    "Crawford: Align Mead, Woodcock with municipal boundaries\n",
    "Cumberland: Merge CD splits for N Middleton 1, 3; Split Lower Allen 1/Annex; Align Carlisle, E Pennsboro, Hampton, Lemoyne, Lower Allen, Mechanisburg, Middlesex, Mount Holly Springs, N Middleton, Shiremanstown, Silver Spring, W Pennsboro, Wormsleysburg with municipal boundaries\n",
    "Dauphin: Align Middletown with municipal boundary; Adjust Derry, Harrisburg W1, W7, W8, W9, Hummelstown, Lower Paxton, Lykens, Middletown\n",
    "Delaware: Adjust Chester, Concord, Darby Boro, Darby Twp, Haverford, Marple, Nether Providence, Newtown, Radnor, Ridley, Sharon Hill, Thornbury, Tinicum, Trainer, Upper Chichester, Upper Darby, Upper Providence\n",
    "Elk: Split N/S Horton; Adjust Johnsonburg, Ridgeway Boro, Ridgeway Twp, St. Marys\n",
    "Erie: Adjust Erie W1, W4, W5, W6, Greene, Lawrence Park, McKean, Millcreek, North East\n",
    "Fayette: Align Dunbar with municipal boundary; Adjust Brownsville, Bullskin, Dunbar, Georges, German, Luzerne, N Union, Redstone\n",
    "Franklin: Align Mercersburg with municipal boundary; Adjust Antrim, Fannett, Greene, Guilford, Hamilton, Metal, Peters, Quincy, St. Thomas, Southampton, Washington\n",
    "Fulton: Align McConnellsburg with municipal boundary\n",
    "Greene: Align Carmichaels with municipal boundary; Adjust Cumberland, Dunkard, Franklin, Jefferson, Lipencott, Mather, Morgan Chart, Monongahela, Nemacolin\n",
    "Huntingdon: Merge CD splits for Penn; Adjust Huntingdon, Mount Union\n",
    "Jefferson:  Align Reynoldsville with municipal boundary; Adjust Punxsutawney\n",
    "Lackawanna: Adjust Archbald, Blakely, Carbondale, Clarks Summit, Dickson City, Dunmore, Fell, Jermyn, Jessup, Mayfield, Moosic, Old Forge, Olyphant, Scranton W1, W2, W3, W6, W7, W10, W12, W13, W14, W15, W16, W19, W20, W23, S Abington, Taylor, Throop\n",
    "Lancaster: Split Lancaster 7-8 CV/LS; Adjust Brecknock, Columbia, E Hempfield, E Lampeter, E Petersburg, Elizabethtown, Ephrata, Lancaster W4, W8, Lititz, Manheim, Manor, Millersville, Mt Joy Boro, Mt Joy Twp, New Holland, Penn, Providence, Rapho, Warwick, W Cocalico, W Donegal, W Hempfield\n",
    "Lawrence: Adjust Neshannock\n",
    "Lebanon: Adjust Jackson, Lickdale, S Lebanon, Union Green Pt\n",
    "Lehigh: Adjust Lower Macungie, Salisbury\n",
    "Luzerne: Merge CD splits for Hazle 1; Align Avoca, Pittston with municipal boundaries; Adjust Butler, Dallas, Exeter, Foster, Freeland, Hanover, Hazle, Jenkins, Kingston Boro, Kingston Twp, Larksville, Lehman, Nanticoke, Newport, Plains, Salem, Smoyersville, W Wyoming, Wilkes-Barre\n",
    "Lycoming: Align Williamsport with municipal boundary; Adjust Jersey Shore\n",
    "McKean: Adjust Bradford City, Bradford Twp, Foster, Keating, Otto\n",
    "Mercer: Adjust Delaware, Fredonia, Greenville, Hempfield, Hermitage, Sharon, Sharpsville, S Pymatuning, W Salem\n",
    "Mifflin: Split Brown Reedsville/Church Hill\n",
    "Monroe: Align E Stroudsburg with municipal boundary; Adjust E Stroudsburg, Smithfield\n",
    "Montgomery: Add CD special election splits for Horsham 2-2, Perkiomen 1, Plymouth 2-3; Adjust Abington, Lower Merion, Pottstown, Springfield, Upper Moreland, Upper Merion, Upper Providence\n",
    "Northampton: Align Glendon, Walnutport with municipal boundaries; Adjust Bangor, Bethlehem W2, W3, W4, W7, W9, W14, W15, Bethlehem Twp, Bushkill, Easton, Forks, Hanover, Hellertown, Lehigh, Lower Mt Bethel, Lower Saucon, Moore, Nazareth, Palmer, Plainfield, Upper Mt Bethel, Washington, Williams\n",
    "Northumberland: Align Northumberland with municipal boundary; Adjust Coal, Milton, Mount Carmel W, Natalie-Strong, Northumberland, Point, Ralpho, Shamokin, Sunbury, Upper Augusta\n",
    "Philadelphia: Adjust 1-19/21, 5-3/19, 7-2/3/17, 7-6/7, 9-5/6, 15-7/10, 17-20/26, 20-5/10, 21-1/15, 21-40/41, 22-21/26, 23-11/12, 25-9/17, 25-4/7/12, 25-10/12, 26-1/2, 27-7/8, 27-18/20/21, 28-1/8, 29-9/11, 29-10/17, 30-14/15, 31-5/6, 38-11/17, 38-13/20, 38-15/19, 40-12/18/19, 40-17/19, 42-3/4/7, 44-8/14, 50-3/12, 50-11/27, 52-2/6/9, 52-3/8, 57-6/7, 57-10/27, 57-17/28, 58-6/12, 62-5/19, 65-4/7, 65-11/16, 66-22/34\n",
    "Pike: Adjust Matamoras\n",
    "Potter: Adjust Galeton, Sharon\n",
    "Schuylkill: Adjust Coaldale, N Manheim, Norwegian, Porter, Pottsville\n",
    "Somerset: Align New Centerville with municipal boundary; Adjust Conemaugh, Jefferson, Middlecreek, Paint, Somerset Boro\n",
    "Susquehanna: Adjust Montrose; Lanesboro, Susquehanna Depot\n",
    "Tioga: Adjust Delmar, Wellsboro\n",
    "Union: Adjust Buffalo, White Deer\n",
    "Venango: Adjust Franklin, Sugarcreek, Cornplanter, Oil City\n",
    "Warren: Adjust Conewango\n",
    "Washington: Align Allenport, Beallsville, Burgettstown, Canonsburg, Carroll, Charleroi, Claysville, Elco, Finleyville, Houston, Long Branch, McDonald, Monongahela, Speers, Twilight with municipal boundaries; Adjust Amwell, Bentleyville, California, Canonsburg, Canton, Cecil, Centerville, Chartiers, Donegal, Donora, Fallowfield, Hanover, Independence, Mount Pleasant, N Franklin, N Strabane, Peters, Robinson, Smith, Somerset, S Franklin, S Strabane, Union Washington, W Brownsville\n",
    "Wayne: Adjust Honesdale\n",
    "Westmoreland: Merge CD splits for Unity Pleasant Unity; Align Greensburg with municipal boundary; Adjust Allegheny, Arnold, Bell, Derry, E Huntingdon, Fairfield, Greensburg W1-W8, Hempfield, Jeannette, Latrobe, Ligonier, Lower Burrell, Monessen, Mount Pleasant, Murraysville, New Kensington, N Belle Vernon, N Huntingdon, Penn, Rostraver, St. Clair, Scottdale, Sewickley, S Greensburg, S Huntingdon, Trafford, Upper Burrell, Unity, Vandergrift, Washington, Youngwood\n",
    "Wyoming: Adjust Falls\n",
    "York: Merge CD splits for York Twp 5-3; Align E Prospect, Goldsboro, Jefferson, Manchester, Monaghan, Wellsville, York with municipal boundaries; Adjust Chanceford, Codorus, Conewago, Dover, Fairview, Hanover, Jackson, Lower Windsor, New Freedom, Newberry, N Codorus, Penn, Red Lion, Shrewsbury, Spring Garden, Springbettsbury, W Manchester, Windsor Boro, Windsor Twp, Wrightsville, York Twp, York W5, W6, W15"
   ]
  },
  {
   "cell_type": "code",
   "execution_count": 3,
   "metadata": {},
   "outputs": [
    {
     "name": "stdout",
     "output_type": "stream",
     "text": [
      "  STATEFP COUNTYFP   VTDST          NAME  G18USSDCAS  G18USSRBAR  G18USSLKER  \\\n",
      "0      42      001  000010   ABBOTTSTOWN         120         183           5   \n",
      "1      42      001  000020  ARENDTSVILLE         151         178           6   \n",
      "2      42      001  000030  BENDERSVILLE          74         103           1   \n",
      "3      42      001  000040       BERWICK         289         575          14   \n",
      "4      42      001  000050   BIGLERVILLE         152         231           3   \n",
      "\n",
      "   G18USSGGAL  G18GOVDWOL  G18GOVRWAG  G18GOVLKRA  G18GOVGGLO  \\\n",
      "0           2         120         185           2           2   \n",
      "1           3         160         172           4           2   \n",
      "2           2          76          98           3           2   \n",
      "3           5         318         554           9           5   \n",
      "4           7         168         215           5           2   \n",
      "\n",
      "                                            geometry  \n",
      "0  POLYGON Z ((-76.99801 39.88359 0.00000, -76.99...  \n",
      "1  POLYGON Z ((-77.31141 39.92625 0.00000, -77.30...  \n",
      "2  POLYGON Z ((-77.25596 39.98075 0.00000, -77.25...  \n",
      "3  MULTIPOLYGON Z (((-76.99558 39.88677 0.00000, ...  \n",
      "4  POLYGON Z ((-77.25594 39.93043 0.00000, -77.25...  \n",
      "Index(['STATEFP', 'COUNTYFP', 'VTDST', 'NAME', 'G18USSDCAS', 'G18USSRBAR',\n",
      "       'G18USSLKER', 'G18USSGGAL', 'G18GOVDWOL', 'G18GOVRWAG', 'G18GOVLKRA',\n",
      "       'G18GOVGGLO', 'geometry'],\n",
      "      dtype='object')\n",
      "\n",
      "Here are the vote totals:\n",
      "G18USSDCAS: 2792693\n",
      "G18USSRBAR: 2135223\n",
      "G18USSLKER: 50927\n",
      "G18USSGGAL: 31228\n",
      "G18GOVDWOL: 2895931\n",
      "G18GOVRWAG: 2040233\n",
      "G18GOVLKRA: 49238\n",
      "G18GOVGGLO: 27797\n"
     ]
    }
   ],
   "source": [
    "print(vest_pa_18.head())\n",
    "print(vest_pa_18.columns)\n",
    "\n",
    "col_list = ['G18USSDCAS', 'G18USSRBAR','G18USSLKER', 'G18USSGGAL', 'G18GOVDWOL', 'G18GOVRWAG', 'G18GOVLKRA','G18GOVGGLO']\n",
    "print(\"\")\n",
    "print(\"Here are the vote totals:\")\n",
    "for i in col_list:\n",
    "    print(i + \": \"+str(sum(vest_pa_18[i])))"
   ]
  },
  {
   "cell_type": "code",
   "execution_count": 4,
   "metadata": {
    "scrolled": true
   },
   "outputs": [
    {
     "name": "stdout",
     "output_type": "stream",
     "text": [
      "['Adams' 'Allegheny' 'Armstrong' 'Beaver' 'Bedford' 'Berks' 'Blair'\n",
      " 'Bradford' 'Bucks' 'Butler' 'Cambria' 'Cameron' 'Carbon' 'Centre'\n",
      " 'Chester' 'Clarion' 'Clearfield' 'Clinton' 'Columbia' 'Crawford'\n",
      " 'Cumberland' 'Dauphin' 'Delaware' 'Elk' 'Erie' 'Fayette' 'Forest'\n",
      " 'Franklin' 'Fulton' 'Greene' 'Huntingdon' 'Indiana' 'Jefferson' 'Juniata'\n",
      " 'Lackawanna' 'Lancaster' 'Lawrence' 'Lebanon' 'Lehigh' 'Luzerne'\n",
      " 'Lycoming' 'McKean' 'Mercer' 'Mifflin' 'Monroe' 'Montgomery' 'Montour'\n",
      " 'Northampton' 'Northumberland' 'Perry' 'Philadelphia' 'Pike' 'Potter'\n",
      " 'Schuylkill' 'Snyder' 'Somerset' 'Sullivan' 'Susquehanna' 'Tioga' 'Union'\n",
      " 'Venango' 'Warren' 'Washington' 'Wayne' 'Westmoreland' 'Wyoming' 'York']\n"
     ]
    }
   ],
   "source": [
    "fips_file = pd.read_csv(\"./raw-from-source/FIPS/US_FIPS_Codes.csv\")\n",
    "fips_file = fips_file[fips_file[\"State\"]==\"Pennsylvania\"]\n",
    "fips_file[\"FIPS County\"]=fips_file[\"FIPS County\"].astype(str)\n",
    "fips_file[\"FIPS County\"]=fips_file[\"FIPS County\"].str.zfill(3)\n",
    "fips_file[\"unique_ID\"] =  \"42\" + fips_file[\"FIPS County\"]\n",
    "fips_codes = fips_file[\"unique_ID\"].tolist()\n",
    "print(fips_file[\"County Name\"].unique())\n",
    "pa_fips_dict = dict(zip(fips_file[\"County Name\"],fips_file[\"FIPS County\"]))"
   ]
  },
  {
   "cell_type": "code",
   "execution_count": 131,
   "metadata": {},
   "outputs": [
    {
     "name": "stderr",
     "output_type": "stream",
     "text": [
      "/opt/anaconda3/lib/python3.8/site-packages/IPython/core/interactiveshell.py:3071: DtypeWarning: Columns (6) have mixed types.Specify dtype option on import or set low_memory=False.\n",
      "  has_raised = await self.run_ast_nodes(code_ast.body, cell_name,\n"
     ]
    }
   ],
   "source": [
    "pa_election = pd.read_csv(\"./raw-from-source/Election_Results/openelections-data-pa-master/2018/20181106__pa__general__precinct.csv\")"
   ]
  },
  {
   "cell_type": "code",
   "execution_count": 132,
   "metadata": {},
   "outputs": [
    {
     "name": "stderr",
     "output_type": "stream",
     "text": [
      "<ipython-input-132-721195aa227b>:4: SettingWithCopyWarning: \n",
      "A value is trying to be set on a copy of a slice from a DataFrame.\n",
      "Try using .loc[row_indexer,col_indexer] = value instead\n",
      "\n",
      "See the caveats in the documentation: https://pandas.pydata.org/pandas-docs/stable/user_guide/indexing.html#returning-a-view-versus-a-copy\n",
      "  filtered_pa_election[\"county\"] = filtered_pa_election[\"county\"].map(county_changes_dict).fillna(filtered_pa_election[\"county\"])\n",
      "<ipython-input-132-721195aa227b>:5: SettingWithCopyWarning: \n",
      "A value is trying to be set on a copy of a slice from a DataFrame.\n",
      "Try using .loc[row_indexer,col_indexer] = value instead\n",
      "\n",
      "See the caveats in the documentation: https://pandas.pydata.org/pandas-docs/stable/user_guide/indexing.html#returning-a-view-versus-a-copy\n",
      "  filtered_pa_election[\"County_FIPS\"]=filtered_pa_election.loc[:,\"county\"].map(pa_fips_dict).fillna(filtered_pa_election.loc[:,\"county\"])\n"
     ]
    }
   ],
   "source": [
    "office_list = [\"U.S. Senate\", 'Governor','Straight Party']\n",
    "filtered_pa_election = pa_election[pa_election[\"office\"].isin(office_list)]\n",
    "county_changes_dict = {\"Washington \":\"Washington\"}\n",
    "filtered_pa_election[\"county\"] = filtered_pa_election[\"county\"].map(county_changes_dict).fillna(filtered_pa_election[\"county\"])\n",
    "filtered_pa_election[\"County_FIPS\"]=filtered_pa_election.loc[:,\"county\"].map(pa_fips_dict).fillna(filtered_pa_election.loc[:,\"county\"])"
   ]
  },
  {
   "cell_type": "code",
   "execution_count": 133,
   "metadata": {},
   "outputs": [
    {
     "name": "stdout",
     "output_type": "stream",
     "text": [
      "['DEM' 'REP' 'GRN' 'LIB' nan 'IND' 'GREEN' 'GR' 'GRE' 'DEMOCRATIC'\n",
      " 'REPUBLICAN' 'LIBERTARIAN' 'DEMOCRAT' 'NAF' 'NOA']\n"
     ]
    },
    {
     "name": "stderr",
     "output_type": "stream",
     "text": [
      "<ipython-input-133-6b27c3643097>:1: SettingWithCopyWarning: \n",
      "A value is trying to be set on a copy of a slice from a DataFrame.\n",
      "Try using .loc[row_indexer,col_indexer] = value instead\n",
      "\n",
      "See the caveats in the documentation: https://pandas.pydata.org/pandas-docs/stable/user_guide/indexing.html#returning-a-view-versus-a-copy\n",
      "  filtered_pa_election[\"pivot_col\"]=filtered_pa_election[\"County_FIPS\"]+filtered_pa_election[\"precinct\"]\n",
      "<ipython-input-133-6b27c3643097>:2: SettingWithCopyWarning: \n",
      "A value is trying to be set on a copy of a slice from a DataFrame.\n",
      "Try using .loc[row_indexer,col_indexer] = value instead\n",
      "\n",
      "See the caveats in the documentation: https://pandas.pydata.org/pandas-docs/stable/user_guide/indexing.html#returning-a-view-versus-a-copy\n",
      "  filtered_pa_election[\"candidate\"]=filtered_pa_election[\"candidate\"].str.upper()\n",
      "<ipython-input-133-6b27c3643097>:3: SettingWithCopyWarning: \n",
      "A value is trying to be set on a copy of a slice from a DataFrame.\n",
      "Try using .loc[row_indexer,col_indexer] = value instead\n",
      "\n",
      "See the caveats in the documentation: https://pandas.pydata.org/pandas-docs/stable/user_guide/indexing.html#returning-a-view-versus-a-copy\n",
      "  filtered_pa_election[\"candidate\"] = filtered_pa_election[\"candidate\"].str.strip()\n",
      "<ipython-input-133-6b27c3643097>:4: SettingWithCopyWarning: \n",
      "A value is trying to be set on a copy of a slice from a DataFrame.\n",
      "Try using .loc[row_indexer,col_indexer] = value instead\n",
      "\n",
      "See the caveats in the documentation: https://pandas.pydata.org/pandas-docs/stable/user_guide/indexing.html#returning-a-view-versus-a-copy\n",
      "  filtered_pa_election[\"party\"] = filtered_pa_election[\"party\"].str.upper()\n",
      "<ipython-input-133-6b27c3643097>:12: SettingWithCopyWarning: \n",
      "A value is trying to be set on a copy of a slice from a DataFrame.\n",
      "Try using .loc[row_indexer,col_indexer] = value instead\n",
      "\n",
      "See the caveats in the documentation: https://pandas.pydata.org/pandas-docs/stable/user_guide/indexing.html#returning-a-view-versus-a-copy\n",
      "  filtered_pa_election[\"party\"] = filtered_pa_election[\"party\"].map(party_changes_dict).fillna(filtered_pa_election[\"party\"])\n"
     ]
    },
    {
     "ename": "KeyError",
     "evalue": "'cand_col'",
     "output_type": "error",
     "traceback": [
      "\u001b[0;31m---------------------------------------------------------------------------\u001b[0m",
      "\u001b[0;31mKeyError\u001b[0m                                  Traceback (most recent call last)",
      "\u001b[0;32m/opt/anaconda3/lib/python3.8/site-packages/pandas/core/indexes/base.py\u001b[0m in \u001b[0;36mget_loc\u001b[0;34m(self, key, method, tolerance)\u001b[0m\n\u001b[1;32m   2645\u001b[0m             \u001b[0;32mtry\u001b[0m\u001b[0;34m:\u001b[0m\u001b[0;34m\u001b[0m\u001b[0;34m\u001b[0m\u001b[0m\n\u001b[0;32m-> 2646\u001b[0;31m                 \u001b[0;32mreturn\u001b[0m \u001b[0mself\u001b[0m\u001b[0;34m.\u001b[0m\u001b[0m_engine\u001b[0m\u001b[0;34m.\u001b[0m\u001b[0mget_loc\u001b[0m\u001b[0;34m(\u001b[0m\u001b[0mkey\u001b[0m\u001b[0;34m)\u001b[0m\u001b[0;34m\u001b[0m\u001b[0;34m\u001b[0m\u001b[0m\n\u001b[0m\u001b[1;32m   2647\u001b[0m             \u001b[0;32mexcept\u001b[0m \u001b[0mKeyError\u001b[0m\u001b[0;34m:\u001b[0m\u001b[0;34m\u001b[0m\u001b[0;34m\u001b[0m\u001b[0m\n",
      "\u001b[0;32mpandas/_libs/index.pyx\u001b[0m in \u001b[0;36mpandas._libs.index.IndexEngine.get_loc\u001b[0;34m()\u001b[0m\n",
      "\u001b[0;32mpandas/_libs/index.pyx\u001b[0m in \u001b[0;36mpandas._libs.index.IndexEngine.get_loc\u001b[0;34m()\u001b[0m\n",
      "\u001b[0;32mpandas/_libs/hashtable_class_helper.pxi\u001b[0m in \u001b[0;36mpandas._libs.hashtable.PyObjectHashTable.get_item\u001b[0;34m()\u001b[0m\n",
      "\u001b[0;32mpandas/_libs/hashtable_class_helper.pxi\u001b[0m in \u001b[0;36mpandas._libs.hashtable.PyObjectHashTable.get_item\u001b[0;34m()\u001b[0m\n",
      "\u001b[0;31mKeyError\u001b[0m: 'cand_col'",
      "\nDuring handling of the above exception, another exception occurred:\n",
      "\u001b[0;31mKeyError\u001b[0m                                  Traceback (most recent call last)",
      "\u001b[0;32m<ipython-input-133-6b27c3643097>\u001b[0m in \u001b[0;36m<module>\u001b[0;34m\u001b[0m\n\u001b[1;32m     14\u001b[0m \u001b[0;34m\u001b[0m\u001b[0m\n\u001b[1;32m     15\u001b[0m \u001b[0;34m\u001b[0m\u001b[0m\n\u001b[0;32m---> 16\u001b[0;31m \u001b[0mprint\u001b[0m\u001b[0;34m(\u001b[0m\u001b[0mfiltered_pa_election\u001b[0m\u001b[0;34m[\u001b[0m\u001b[0;34m\"cand_col\"\u001b[0m\u001b[0;34m]\u001b[0m\u001b[0;34m.\u001b[0m\u001b[0munique\u001b[0m\u001b[0;34m(\u001b[0m\u001b[0;34m)\u001b[0m\u001b[0;34m)\u001b[0m\u001b[0;34m\u001b[0m\u001b[0;34m\u001b[0m\u001b[0m\n\u001b[0m\u001b[1;32m     17\u001b[0m \u001b[0;34m\u001b[0m\u001b[0m\n\u001b[1;32m     18\u001b[0m \u001b[0;31m#for val in filtered_pa_election[\"party\"].unique():\u001b[0m\u001b[0;34m\u001b[0m\u001b[0;34m\u001b[0m\u001b[0;34m\u001b[0m\u001b[0m\n",
      "\u001b[0;32m/opt/anaconda3/lib/python3.8/site-packages/pandas/core/frame.py\u001b[0m in \u001b[0;36m__getitem__\u001b[0;34m(self, key)\u001b[0m\n\u001b[1;32m   2798\u001b[0m             \u001b[0;32mif\u001b[0m \u001b[0mself\u001b[0m\u001b[0;34m.\u001b[0m\u001b[0mcolumns\u001b[0m\u001b[0;34m.\u001b[0m\u001b[0mnlevels\u001b[0m \u001b[0;34m>\u001b[0m \u001b[0;36m1\u001b[0m\u001b[0;34m:\u001b[0m\u001b[0;34m\u001b[0m\u001b[0;34m\u001b[0m\u001b[0m\n\u001b[1;32m   2799\u001b[0m                 \u001b[0;32mreturn\u001b[0m \u001b[0mself\u001b[0m\u001b[0;34m.\u001b[0m\u001b[0m_getitem_multilevel\u001b[0m\u001b[0;34m(\u001b[0m\u001b[0mkey\u001b[0m\u001b[0;34m)\u001b[0m\u001b[0;34m\u001b[0m\u001b[0;34m\u001b[0m\u001b[0m\n\u001b[0;32m-> 2800\u001b[0;31m             \u001b[0mindexer\u001b[0m \u001b[0;34m=\u001b[0m \u001b[0mself\u001b[0m\u001b[0;34m.\u001b[0m\u001b[0mcolumns\u001b[0m\u001b[0;34m.\u001b[0m\u001b[0mget_loc\u001b[0m\u001b[0;34m(\u001b[0m\u001b[0mkey\u001b[0m\u001b[0;34m)\u001b[0m\u001b[0;34m\u001b[0m\u001b[0;34m\u001b[0m\u001b[0m\n\u001b[0m\u001b[1;32m   2801\u001b[0m             \u001b[0;32mif\u001b[0m \u001b[0mis_integer\u001b[0m\u001b[0;34m(\u001b[0m\u001b[0mindexer\u001b[0m\u001b[0;34m)\u001b[0m\u001b[0;34m:\u001b[0m\u001b[0;34m\u001b[0m\u001b[0;34m\u001b[0m\u001b[0m\n\u001b[1;32m   2802\u001b[0m                 \u001b[0mindexer\u001b[0m \u001b[0;34m=\u001b[0m \u001b[0;34m[\u001b[0m\u001b[0mindexer\u001b[0m\u001b[0;34m]\u001b[0m\u001b[0;34m\u001b[0m\u001b[0;34m\u001b[0m\u001b[0m\n",
      "\u001b[0;32m/opt/anaconda3/lib/python3.8/site-packages/pandas/core/indexes/base.py\u001b[0m in \u001b[0;36mget_loc\u001b[0;34m(self, key, method, tolerance)\u001b[0m\n\u001b[1;32m   2646\u001b[0m                 \u001b[0;32mreturn\u001b[0m \u001b[0mself\u001b[0m\u001b[0;34m.\u001b[0m\u001b[0m_engine\u001b[0m\u001b[0;34m.\u001b[0m\u001b[0mget_loc\u001b[0m\u001b[0;34m(\u001b[0m\u001b[0mkey\u001b[0m\u001b[0;34m)\u001b[0m\u001b[0;34m\u001b[0m\u001b[0;34m\u001b[0m\u001b[0m\n\u001b[1;32m   2647\u001b[0m             \u001b[0;32mexcept\u001b[0m \u001b[0mKeyError\u001b[0m\u001b[0;34m:\u001b[0m\u001b[0;34m\u001b[0m\u001b[0;34m\u001b[0m\u001b[0m\n\u001b[0;32m-> 2648\u001b[0;31m                 \u001b[0;32mreturn\u001b[0m \u001b[0mself\u001b[0m\u001b[0;34m.\u001b[0m\u001b[0m_engine\u001b[0m\u001b[0;34m.\u001b[0m\u001b[0mget_loc\u001b[0m\u001b[0;34m(\u001b[0m\u001b[0mself\u001b[0m\u001b[0;34m.\u001b[0m\u001b[0m_maybe_cast_indexer\u001b[0m\u001b[0;34m(\u001b[0m\u001b[0mkey\u001b[0m\u001b[0;34m)\u001b[0m\u001b[0;34m)\u001b[0m\u001b[0;34m\u001b[0m\u001b[0;34m\u001b[0m\u001b[0m\n\u001b[0m\u001b[1;32m   2649\u001b[0m         \u001b[0mindexer\u001b[0m \u001b[0;34m=\u001b[0m \u001b[0mself\u001b[0m\u001b[0;34m.\u001b[0m\u001b[0mget_indexer\u001b[0m\u001b[0;34m(\u001b[0m\u001b[0;34m[\u001b[0m\u001b[0mkey\u001b[0m\u001b[0;34m]\u001b[0m\u001b[0;34m,\u001b[0m \u001b[0mmethod\u001b[0m\u001b[0;34m=\u001b[0m\u001b[0mmethod\u001b[0m\u001b[0;34m,\u001b[0m \u001b[0mtolerance\u001b[0m\u001b[0;34m=\u001b[0m\u001b[0mtolerance\u001b[0m\u001b[0;34m)\u001b[0m\u001b[0;34m\u001b[0m\u001b[0;34m\u001b[0m\u001b[0m\n\u001b[1;32m   2650\u001b[0m         \u001b[0;32mif\u001b[0m \u001b[0mindexer\u001b[0m\u001b[0;34m.\u001b[0m\u001b[0mndim\u001b[0m \u001b[0;34m>\u001b[0m \u001b[0;36m1\u001b[0m \u001b[0;32mor\u001b[0m \u001b[0mindexer\u001b[0m\u001b[0;34m.\u001b[0m\u001b[0msize\u001b[0m \u001b[0;34m>\u001b[0m \u001b[0;36m1\u001b[0m\u001b[0;34m:\u001b[0m\u001b[0;34m\u001b[0m\u001b[0;34m\u001b[0m\u001b[0m\n",
      "\u001b[0;32mpandas/_libs/index.pyx\u001b[0m in \u001b[0;36mpandas._libs.index.IndexEngine.get_loc\u001b[0;34m()\u001b[0m\n",
      "\u001b[0;32mpandas/_libs/index.pyx\u001b[0m in \u001b[0;36mpandas._libs.index.IndexEngine.get_loc\u001b[0;34m()\u001b[0m\n",
      "\u001b[0;32mpandas/_libs/hashtable_class_helper.pxi\u001b[0m in \u001b[0;36mpandas._libs.hashtable.PyObjectHashTable.get_item\u001b[0;34m()\u001b[0m\n",
      "\u001b[0;32mpandas/_libs/hashtable_class_helper.pxi\u001b[0m in \u001b[0;36mpandas._libs.hashtable.PyObjectHashTable.get_item\u001b[0;34m()\u001b[0m\n",
      "\u001b[0;31mKeyError\u001b[0m: 'cand_col'"
     ]
    }
   ],
   "source": [
    "filtered_pa_election[\"pivot_col\"]=filtered_pa_election[\"County_FIPS\"]+filtered_pa_election[\"precinct\"]\n",
    "filtered_pa_election[\"candidate\"]=filtered_pa_election[\"candidate\"].str.upper()\n",
    "filtered_pa_election[\"candidate\"] = filtered_pa_election[\"candidate\"].str.strip()\n",
    "filtered_pa_election[\"party\"] = filtered_pa_election[\"party\"].str.upper()\n",
    "\n",
    "\n",
    "print(filtered_pa_election[\"party\"].unique())\n",
    "\n",
    "party_changes_dict = {\"DEMOCRATIC\":\"DEM\",\"REPUBLICAN\":\"REP\",\"LIBERTARIAN\":\"LIB\",\"GREEN\":\"GRN\",\n",
    "                     \"GR\":\"GRN\",\"GRE\":\"GRN\",\"DEMOCRAT\":\"DEM\"}\n",
    "\n",
    "filtered_pa_election[\"party\"] = filtered_pa_election[\"party\"].map(party_changes_dict).fillna(filtered_pa_election[\"party\"])\n"
   ]
  },
  {
   "cell_type": "code",
   "execution_count": 135,
   "metadata": {},
   "outputs": [],
   "source": [
    "filtered_pa_election = filtered_pa_election[~(filtered_pa_election[\"candidate\"].str[-3:]==\"(W)\")]"
   ]
  },
  {
   "cell_type": "markdown",
   "metadata": {},
   "source": [
    "G18USSDCAS - Robert P. Casey Jr. (Democratic Party)  \n",
    "G18USSRBAR - Louis J. Carletta (Republican Party)  \n",
    "G18USSLKER - Dale R. Kerns (Libertarian Party)  \n",
    "G18USSGGAL - Neal Taylor Gale (Green Party)  \n",
    "  \n",
    "G18GOVDWOL - Thomas W. Wolf (Democratic Party)  \n",
    "G18GOVRWAG - Scott R. Wagner (Republican Party)  \n",
    "G18GOVLKRA - Kenneth V. Krawchuk (Libertarian Party)  \n",
    "G18GOVGGLO - Paul Glover (Green Party)  "
   ]
  },
  {
   "cell_type": "code",
   "execution_count": 136,
   "metadata": {},
   "outputs": [],
   "source": [
    "#Things to look into\n",
    "\n",
    "party_cand_list = [\n",
    "  'DEMOCRATIC', \n",
    " 'REPUBLICAN',\n",
    " 'GREEN', \n",
    " 'INDEPENDENT', \n",
    " 'LIBERTARIAN', \n",
    "\n",
    "]"
   ]
  },
  {
   "cell_type": "code",
   "execution_count": 137,
   "metadata": {},
   "outputs": [],
   "source": [
    "candidate_name_changes = {\n",
    "   'DEMOCRATIC':'DEM', \n",
    " 'REPUBLICAN':\"REP\",\n",
    " 'GREEN':\"GRN\", \n",
    " 'INDEPENDENT':\"IND\", \n",
    " 'LIBERTARIAN':\"LIB\",\n",
    "    \n",
    "    \n",
    "    'LOU BARLETTA':'BARLETTA',\n",
    " 'LOU  BARLETTA':'BARLETTA',\n",
    " 'LOU BARLETTA JR':'BARLETTA',\n",
    " 'BARLETTA, LOU':'BARLETTA',\n",
    "\n",
    "    'KEN V KRAWCHUK, GOVERNOR':'KRAWCHUK',\n",
    "    'KEN V. KRAWCHUK/K.S. SMITH':'KRAWCHUK',\n",
    "    'KRAWCHUK /SMITH':'KRAWCHUK',\n",
    "    'KEN V. KRAWCHUK KATHLEEN S. SMITH':'KRAWCHUK',\n",
    "    'KRAWCHUK\\\\SMITH':'KRAWCHUK',\n",
    "     'KEN V KRAWCHUK':'KRAWCHUK', \n",
    " 'KRAWCHUK / SMITH':'KRAWCHUK',\n",
    " 'KRAWCHUK/SMITH':'KRAWCHUK',\n",
    " 'KEN V. KRAWCHUK/K. S. SMITH':'KRAWCHUK',\n",
    " 'KEN KRAWCHUK':'KRAWCHUK',\n",
    " 'KRAWCHUK/ SMITH':'KRAWCHUK',\n",
    " 'KEN V. KRAWCHUK':'KRAWCHUK',\n",
    " 'KRAWCHUK, KEN V.':'KRAWCHUK',\n",
    " 'KEN V. KRAWCHUK / K. S. SMITH':'KRAWCHUK',\n",
    "    \n",
    "    'GLOVER / BOSTICK':'GLOVER',\n",
    "    'PAUL GLOVER, GOVERNOR':'GLOVER',\n",
    "    'GLOVER / BOWSER BOSTICK':'GLOVER',\n",
    "    'PAUL GLOVER/J. BOWSER-BOSTICK':'GLOVER',\n",
    "    'GLOVER/BOSTICK':'GLOVER',\n",
    "    'GLOVER/BOWSER-BOSTIC':'GLOVER',\n",
    "    'PAUL GLOVER JOCOLYN BOWSER-BOSTICK':'GLOVER',\n",
    "    'GLOVER/BOWSERBOS':'GLOVER',\n",
    "    'GLOVER\\\\BOWSERBOSTICK':'GLOVER',\n",
    "     'GLOVER / BOWSER-BOSTICK':'GLOVER', \n",
    " 'GLOVER/BOWSER-BOSTICK':'GLOVER',\n",
    " 'GLOVER/BOWSER-BOS':'GLOVER', \n",
    " 'PAUL GLOVER/JOCOLYN BOWER-BOSTICK':'GLOVER', \n",
    " 'PAUL  GLOVER':'GLOVER',\n",
    " 'GLOVER / BOWSER-BOS':'GLOVER',\n",
    " 'PAUL GLOVER':'GLOVER',\n",
    " 'GLOVER, PAUL':'GLOVER',\n",
    " 'PAUL GLOVER / J. BOWSER BOSTICK':'GLOVER',\n",
    "    \n",
    "    'SCOTT R WAGNER, GOVERNOR':'WAGNER',\n",
    "    'SCOTT R. WAGNER JEFF BARTOS':'WAGNER',\n",
    "    'WAGNER\\\\BARTOS':'WAGNER',\n",
    "     'SCOTT R WAGNER':'WAGNER', \n",
    "    'WAGNER/BARTOS':'WAGNER',\n",
    " 'WAGNER / BARTOS':'WAGNER',\n",
    "  'SCOTT R. WAGNER/JEFF BARTOS':'WAGNER',\n",
    " 'WAGNER/ BARTOS':'WAGNER',\n",
    " 'SCOTT R WAGNER AND JEFF BARTOS':'WAGNER',\n",
    " 'SCOTT WAGNER':'WAGNER',\n",
    " 'SCOTT R. WAGNER':'WAGNER',\n",
    " 'WAGNER, SCOTT R.':'WAGNER',\n",
    " 'SCOTT R. WAGNER / JEFF BARTOS':'WAGNER',\n",
    "    \n",
    "    'TOM WOLF, GOVERNOR':'WOLF',\n",
    "    'TOM WOLF JOHN FETTERMAN':'WOLF',\n",
    "    'WOLF\\\\FETTERMAN':'WOLF',\n",
    "     'WOLF / FETTERMAN':'WOLF',\n",
    " 'WOLF/FETTERMAN':'WOLF',\n",
    " 'TOM WOLF/JOHN FETTERMAN':'WOLF', \n",
    " 'TOM  WOLF':'WOLF',\n",
    " 'TOM WOLF AND JOHN FETTERMAN':'WOLF',\n",
    " 'TOM WOLF':'WOLF',\n",
    " 'WOLF, TOM':'WOLF',\n",
    " 'TOM WOLF / JOHN FETTERMAN':'WOLF',\n",
    "    \n",
    "    'DALE KERNS':\"KERNS\",\n",
    "    'DALE R KEARNS, JR':\"KERNS\",\n",
    " 'DALE R KERNS, JR':\"KERNS\",\n",
    " 'DALE R. KERNS JR.':\"KERNS\",\n",
    "  'DALE KERNS JR':\"KERNS\", \n",
    " 'DALE R. KERNS, JR':\"KERNS\",\n",
    " 'DALE R. KERNS, JR.':\"KERNS\",\n",
    " 'DALE R. KERNS JR':\"KERNS\", \n",
    " 'DALE R KERNS JR':\"KERNS\",\n",
    "    'KERNS, JR., DALE R.':\"KERNS\",\n",
    "    \n",
    "    'ROBERT CASEY JR.':\"CASEY\",\n",
    "     'BOB CASEY, JR':\"CASEY\",\n",
    " 'BOB CASEY JR.':\"CASEY\",\n",
    " 'BOB  CASEY, JR.':\"CASEY\",\n",
    " 'BOB CASEY':\"CASEY\",\n",
    " 'CASEY, JR., BOB':\"CASEY\",\n",
    " 'BOB CASEY, JR.':\"CASEY\", \n",
    " 'BOB CASEY JR':\"CASEY\", \n",
    "    \n",
    "    'NEAL GALE':\"GALE\",\n",
    " 'NEAL  GALE':\"GALE\",\n",
    " 'GALE, NEAL':\"GALE\",\n",
    " 'NEALE GALE':\"GALE\"}\n",
    "\n",
    "filtered_pa_election[\"candidate\"] = filtered_pa_election[\"candidate\"].map(candidate_name_changes).fillna(filtered_pa_election[\"candidate\"])"
   ]
  },
  {
   "cell_type": "code",
   "execution_count": 138,
   "metadata": {},
   "outputs": [],
   "source": [
    "candidates_to_remove = [\"NO AFFILIATION\",'WRITE - IN','BLANK VOTES',\n",
    "                      'WRITE-INS','WRITE IN','CAST VOTES','OVER VOTES',\n",
    "                     'UNDER VOTES','WRITE IN VOTES','WRITE-IN VOTES']\n",
    "\n",
    "parties_to_remove = [\"NAF\",\"IND\"]"
   ]
  },
  {
   "cell_type": "code",
   "execution_count": 139,
   "metadata": {},
   "outputs": [],
   "source": [
    "filtered_pa_election = filtered_pa_election[~(filtered_pa_election[\"candidate\"].isin(candidates_to_remove))]\n",
    "filtered_pa_election = filtered_pa_election[~(filtered_pa_election[\"party\"].isin(parties_to_remove))]\n",
    "filtered_pa_election[\"party\"] = filtered_pa_election[\"party\"].fillna(filtered_pa_election[\"candidate\"])\n",
    "filtered_pa_election[\"candidate\"] = filtered_pa_election[\"candidate\"].fillna(filtered_pa_election[\"party\"])"
   ]
  },
  {
   "cell_type": "code",
   "execution_count": 147,
   "metadata": {},
   "outputs": [],
   "source": [
    "filtered_pa_election[\"cand_col\"]=filtered_pa_election[\"office\"]+filtered_pa_election[\"candidate\"]"
   ]
  },
  {
   "cell_type": "code",
   "execution_count": 152,
   "metadata": {},
   "outputs": [
    {
     "name": "stdout",
     "output_type": "stream",
     "text": [
      "Empty DataFrame\n",
      "Columns: [county, precinct, office, district, candidate, party, votes, absentee, election_day, County_FIPS, pivot_col, cand_col, cand_col_2]\n",
      "Index: []\n"
     ]
    }
   ],
   "source": [
    "print(filtered_pa_election[filtered_pa_election[\"pivot_col\"].isna()])"
   ]
  },
  {
   "cell_type": "code",
   "execution_count": 149,
   "metadata": {},
   "outputs": [],
   "source": [
    "pivoted_2018 = pd.pivot_table(filtered_pa_election, values=[\"votes\"], index=[\"pivot_col\"],columns=[\"cand_col\"],aggfunc=sum)"
   ]
  },
  {
   "cell_type": "code",
   "execution_count": 150,
   "metadata": {},
   "outputs": [
    {
     "name": "stdout",
     "output_type": "stream",
     "text": [
      "cand_col              GovernorGLOVER GovernorKRAWCHUK GovernorWAGNER  \\\n",
      "pivot_col                                                              \n",
      "001Abbottstown  votes              2                2            185   \n",
      "001Arendtsville votes              2                4            172   \n",
      "001Bendersville votes              2                3             98   \n",
      "001Berwick      votes              5                9            554   \n",
      "001Biglerville  votes              2                5            215   \n",
      "\n",
      "cand_col              GovernorWOLF Straight PartyDEM Straight PartyGRN  \\\n",
      "pivot_col                                                                \n",
      "001Abbottstown  votes          120                57                 1   \n",
      "001Arendtsville votes          160                64                 0   \n",
      "001Bendersville votes           76                37                 0   \n",
      "001Berwick      votes          318               144                 0   \n",
      "001Biglerville  votes          168                64                 1   \n",
      "\n",
      "cand_col              Straight PartyLIB Straight PartyREP U.S. SenateBARLETTA  \\\n",
      "pivot_col                                                                       \n",
      "001Abbottstown  votes                 0               134                 183   \n",
      "001Arendtsville votes                 2               115                 178   \n",
      "001Bendersville votes                 0                61                 103   \n",
      "001Berwick      votes                 1               364                 575   \n",
      "001Biglerville  votes                 1               141                 231   \n",
      "\n",
      "cand_col              U.S. SenateCASEY U.S. SenateGALE U.S. SenateKERNS  \n",
      "pivot_col                                                                \n",
      "001Abbottstown  votes              120               2                5  \n",
      "001Arendtsville votes              151               3                6  \n",
      "001Bendersville votes               74               2                1  \n",
      "001Berwick      votes              289               5               14  \n",
      "001Biglerville  votes              152               7                3  \n"
     ]
    }
   ],
   "source": [
    "print(pivoted_2018.head())"
   ]
  },
  {
   "cell_type": "code",
   "execution_count": null,
   "metadata": {},
   "outputs": [],
   "source": [
    "#Combine all the data from separate files into one\n",
    "li = []\n",
    "for i in fips_codes:\n",
    "    ref = \"./raw-from-source/Census/partnership_shapefiles_19v2_\"\n",
    "    file_ref = ref+i+\"/PVS_19_v2_vtd_\"+i+\".shp\"\n",
    "    file_prev = gp.read_file(file_ref)\n",
    "    #print(file_prev.shape)\n",
    "    li.append(file_prev)\n",
    "shapefiles_census = pd.concat(li, axis=0, ignore_index=True)"
   ]
  },
  {
   "cell_type": "code",
   "execution_count": null,
   "metadata": {},
   "outputs": [],
   "source": [
    "print(len(shapefiles_census[\"COUNTYFP\"].unique()))"
   ]
  },
  {
   "cell_type": "code",
   "execution_count": null,
   "metadata": {},
   "outputs": [],
   "source": [
    "print(vest_pa_18.head())"
   ]
  },
  {
   "cell_type": "code",
   "execution_count": null,
   "metadata": {},
   "outputs": [],
   "source": []
  }
 ],
 "metadata": {
  "kernelspec": {
   "display_name": "Python 3",
   "language": "python",
   "name": "python3"
  },
  "language_info": {
   "codemirror_mode": {
    "name": "ipython",
    "version": 3
   },
   "file_extension": ".py",
   "mimetype": "text/x-python",
   "name": "python",
   "nbconvert_exporter": "python",
   "pygments_lexer": "ipython3",
   "version": "3.8.3"
  }
 },
 "nbformat": 4,
 "nbformat_minor": 4
}
