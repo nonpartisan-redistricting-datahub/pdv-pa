{
 "cells": [
  {
   "cell_type": "code",
   "execution_count": 2,
   "id": "1490ab5a",
   "metadata": {},
   "outputs": [],
   "source": [
    "import pandas as pd # standard python data library\n",
    "import geopandas as gp # the geo-version of pandas\n",
    "import numpy as np \n",
    "import os\n",
    "import fiona\n",
    "from statistics import mean, median\n",
    "from pandas import read_csv\n",
    "gp.io.file.fiona.drvsupport.supported_drivers['KML'] = 'rw' #To load KML files"
   ]
  },
  {
   "cell_type": "markdown",
   "id": "febfefd4",
   "metadata": {},
   "source": [
    "# VEST PA Validation"
   ]
  },
  {
   "cell_type": "code",
   "execution_count": 3,
   "id": "0c811072",
   "metadata": {},
   "outputs": [],
   "source": [
    "vest_pa_16 = gp.read_file(\"./raw-from-source/VEST/pa_2016/pa_2016.shp\")"
   ]
  },
  {
   "cell_type": "markdown",
   "id": "3754da6a",
   "metadata": {},
   "source": [
    "# Documentation Election Results"
   ]
  },
  {
   "cell_type": "markdown",
   "id": "5ff55686",
   "metadata": {},
   "source": [
    "Election results from the Pennsylvania Secretary of State's office via OpenElections (https://github.com/openelections/openelections-data-pa/). Precinct data was corrected with canvass reports for the following counties: Cumberland, Elk, Lancaster, Northampton, Susquehanna. The candidate totals for Northampton and Susquehanna differ from the county totals reported by the state and therefore the statewide totals differ from the official results accordingly.\n",
    "\n",
    "Allegheny County reported president-only votes countywide. These were distributed by candidate to precincts based on their share of the precinct-level reported vote.\n",
    "\n",
    "Precinct shapefiles primarily from the U.S. Census Bureau's 2020 Redistricting Data Program Phase 2 release. The shapefiles from Delaware County and the City of Pittsburgh are from the respective jurisdictions instead. Precinct numbers were corrected to match the voter file in the following locales: Allegheny (Elizabeth, Pittsburgh W12), Blair (Greenfield), Bradford (Athens), Greene (Nonongahela), Monroe (Smithfield), Montgomery (Hatfield), Northampton (Bethlehem Twp), Perry (Toboyne), Washington (New Eagle, Somerset), York (Fairview).\n",
    "\n",
    "Precinct boundaries throughout the state were edited to match voter assignments in the PA Secretary of State voter file from the 2016 election cycle. While some edits reflect official updates to wards or divisions the great majority involve voters incorrectly assigned to voting districts by the counties. As such the VEST shapefile endeavors to reflect the de facto precinct boundaries and these often differ from the official voting district boundaries, in some cases quite drastically. Wherever possible edits were made using census boundaries or alternatively using the parcel shapefiles from the respective counties. \n",
    "\n",
    "In certain areas voter assignments appear so erratic that it is impractical to place all voters within their assigned precinct. These areas were edited so as to place as many voters as possible within their assigned precinct without displacing a greater number from their assigned precinct. In general, municipal boundaries were retained except where significant numbers of numbers were misassigned to the wrong municipality. In cases where the odd/even split was incorrectly reversed for precinct boundary streets the official boundary was retained. All such cases involved near equal number of voters swapped between voting districts.\n",
    "\n",
    "The following revisions were made to the base shapefiles to match the de facto 2016 precinct boundaries consistent with the voter file. Individual precincts are noted in cases of splits or merges. Due to the sheer number of edits boundary adjustments are noted at the borough/township level. There may be as many as two dozen individual precincts that were revised within a given municipality.\n",
    "\n",
    "Adams: Adjust Cumberland, Franklin\n",
    "Allegheny: Merge CD splits for S Fayette 3/5; Split Pittsburgh W5 11/17; Merge Pittsburgh W16 9/11/12, Align McCandless with municipal boundary; Adjust Avalon, Baldwin, Bethel Park, Braddock, Brentwood, Castle Shannon, Clairton, Collier, Coraopolis, Crescent, Dormont, Dravosburg, Duquesne, E Deer, E McKeesport, E Pittsburgh, Elizabeth, Emsworth, Forward, Glassport, Hampton, Harmar, Ingram, Jefferson Hills, Kennedy, Leet, Liberty, Marshall, McCandless, McKees Rocks, McKeesport, Monroeville, Moon, Mount Lebanon, Munhall, N Fayette, N Versailles, O'Hara, Oakdale, Penn Hills, Pine, Pittsburgh (all wards), Pleasant Hills, Reserve, Richland, Ross, Scott, Sewickley, Shaler, S Fayette, S Park, Stowe, Swissvale, Upper St. Clair, W Deer, W Homestead, W Mifflin, W View, Whitaker, Whitehall, Wilkins, Wilkinsburg\n",
    "Armstrong: Align Dayton, Elderton, Ford City, Kittanning, N Apollo with municipal boundaries; Adjust Ford City, Gilpin, Kiskiminetas, Kittanning, Manor, N Buffalo, Parks, Parker City, S Buffalo\n",
    "Beaver: Adjust Aliquippa, Ambridge, Baden, Beaver, Brighton, Center, Chippewa, Conway, Economy, Franklin, Hanover, Harmony, Hopewell, Midland, Monaca, N Sewickley\n",
    "Bedford: Adjust Bedford Boro, Bedford Twp\n",
    "Berks: Merge CD splits for District, Exeter 5; Split Laureldale 1A/B by CD; Adjust Cumru, Douglass, Oley, Maxatawny, Robeson, Sinking Spring, Spring, Union\n",
    "Blair: Merge Tunnelhill/Allegheny Twp 4; Align Altoona, Bellwood, Duncansville, Hollidaysburg, Newry, Roaring Spring, Tyrone, Williamsburg with municipal boundaries; Adjust Allegheny, Altoona, Antis, Frankstown, Freedom, Greenfield, Huston, Juniata, N Woodbury, Logan, Snyder, Tyrone Boro, Tyrone Twp\n",
    "Bucks: Align Sellersville, Tullytown with municipal boundaries; Adjust Bensalem, Bristol Boro, Bristol Twp, Buckingham, Doylestown Twp, Falls, Hilltown, Lower Makefield N, Lower Southampton E, Middletown, Milford, Morrissville, Newtown Twp, Northampton, Solebury Lower, Solebury, Springfield, Tinicum, Upper Makefield, Upper Southampton E, Warminster, Warrington, W Rockhill\n",
    "Butler: Merge CD splits for Cranberry E 2, 3, Cranberry W 1, 2, Jefferson 1, 2; Align Butler Twp, Valencia with municipal boundaries; Adjust Adams, Buffalo, Butler Boro, Butler Twp, Center, Cranberry E, Cranberry W, Jackson, Jefferson, Zelienople\n",
    "Cambria: Split Johnstown CT 1/2, W8 1/2, W11/OC, Reade N/S; Realign E Taylor 1/2 into 1-4; Align Daisytown, Sankertown, W Taylor, Wilmore with municipal boundaries; Adjust Cambria, Conemaugh, Croyle, Ebensburg, E Carroll, Geistown, Jackson, Johnstown W17, W20, Lower Yoder, Northern Cambria, Portage Boro, Portage Twp, Richland, Southmont, Stonycreek, Summerhill, Susquehanna, Upper Yoder, W Carroll, Westmont\n",
    "Cameron: Adjust Emporium, Shippen\n",
    "Clarion: Split Farmington Central into South/West; Merge Emlenton/Richland\n",
    "Carbon: Adjust Jim Thorpe, Kidder, Mahoning, New Mahoning, Summit Hill\n",
    "Centre: Merge CD splits for Halfmoon E Central/Proper; Merge Ferguson Northeast 1 A/B; Adjust Benner, College, Ferguson, Patton\n",
    "Chester: Merge CD/LD splits for Birmingham 2, Phoenixville M 1; Adjust Birmingham, E Bradford S, E Fallowfield, E Goshen, E Marlborough, Easttown, N Coventry, Spring City, Tredyffrin M, Uwchlan, W Bradford, W Caln, W Goshen N, W Goshen S, Westtown\n",
    "Clarion: Adjust Clarion, Highland, Farmington, Knox\n",
    "Clearfield: Adjust Bradford, Cooper, Decatur, Golden Rod, Lawrence Glen Richie, Morris, Plympton, Woodward\n",
    "Columbia: Merge Ashland/Conyngham; Adjust Orange, Scott West\n",
    "Crawford: Align Mead, Woodcock with municipal boundaries\n",
    "Cumberland: Merge CD splits for N Middleton 1, 3; Split Lower Allen 1/Annex; Align Carlisle, E Pennsboro, Hampton, Lemoyne, Lower Allen, Mechanisburg, Middlesex, Mount Holly Springs, N Middleton, Shiremanstown, Silver Spring, W Pennsboro, Wormsleysburg with municipal boundaries\n",
    "Dauphin: Split Highspire 1/2, Millersburg 1/2, Steelton 2/3, Susquehanna 1/3; Merge Swatara 10 into 6/8; Align Middletown 2-1/3-1 with municipal boundary; Adjust Derry, Harrisburg W1, W7, W8, W9, Hummelstown, Lower Paxton, Lykens, Middletown, Swatara\n",
    "Delaware: Adjust Chester, Concord, Darby Boro, Darby Twp, Haverford, Marple, Nether Providence, Newtown, Radnor, Ridley, Sharon Hill, Thornbury, Tinicum, Trainer, Upper Chichester, Upper Darby, Upper Providence\n",
    "Elk: Split N/S Horton; Adjust Johnsonburg, Ridgeway Boro, Ridgeway Twp, St. Marys\n",
    "Erie: Split Corry 3/4; Merge Mill Creek 23/25; Adjust Erie W1, W4, W5, W6, Greene, Lawrence Park, McKean, Millcreek, North East\n",
    "Fayette: Split Masontown 1/2, Washington 1/2; Align Dunbar with municipal boundary; Adjust Brownsville, Bullskin, Dunbar, Georges, German, Luzerne, N Union, Redstone\n",
    "Franklin: Align Mercersburg with municipal boundary; Adjust Antrim, Fannett, Greene, Guilford, Hamilton, Metal, Peters, Quincy, St. Thomas, Southampton, Washington\n",
    "Fulton: Align McConnellsburg with municipal boundary\n",
    "Greene: Align Carmichaels with municipal boundary; Adjust Cumberland, Dunkard, Franklin, Jefferson, Lipencott, Mather, Morgan Chart, Monongahela, Nemacolin\n",
    "Huntingdon: Adjust Huntingdon, Mount Union, Shirley\n",
    "Jefferson:  Align Reynoldsville with municipal boundary; Adjust Punxsutawney\n",
    "Lackawanna: Split Olyphant Ward 3-2 A/B; Adjust Archbald, Blakely, Carbondale, Clarks Summit, Dickson City, Dunmore, Fell, Jermyn, Jessup, Mayfield, Moosic, Old Forge, Olyphant, Scranton W1, W2, W3, W6, W7, W10, W12, W13, W14, W15, W16, W19, W20, W23, S Abington, Taylor, Throop\n",
    "Lancaster: Split Lancaster 7-8 CV/LS; Adjust Brecknock, Columbia, E Hempfield, E Lampeter, E Petersburg, Elizabethtown, Ephrata, Lancaster W6, W8, Lititz, Manheim, Manor, Millersville, Mt Joy Boro, Mt Joy Twp, New Holland, Penn, Providence, Rapho, Warwick, W Cocalico, W Donegal, W Hempfield\n",
    "Lawrence: Adjust Neshannock\n",
    "Lebanon: Adjust Jackson, Lickdale, S Lebanon, Union Green Pt\n",
    "Lehigh: Adjust Lower Macungie, Salisbury\n",
    "Luzerne: Merge CD splits for Hazle 1; Align Avoca, Pittston with municipal boundaries; Adjust Butler, Dallas Boro, Dallas Twp, Exeter, Foster, Freeland, Hanover, Hazle, Jenkins, Kingston Boro, Kingston Twp, Larksville, Lehman, Nanticoke, Newport, Plains, Salem, Smoyersville, W Wyoming, Wilkes-Barre\n",
    "Lycoming: Align Williamsport with municipal boundary; Adjust Jersey Shore\n",
    "McKean: Adjust Bradford City, Bradford Twp, Foster, Keating, Otto\n",
    "Mercer: Adjust Delaware, Fredonia, Greenville, Hempfield, Hermitage, Sharon, Sharpsville, S Pymatuning, W Salem\n",
    "Monroe: Merge CD splits for Smithfield 1; Align E Stroudsburg with municipal boundary; Adjust E Stroudsburg, Smithfield\n",
    "Montgomery: Merge CD splits for Franconia 2, Horsham 2-1, 4-2, Lower Merion 12-2, 12-3; Add CD splits for Hatfield 5-2, Horsham 2-2, Lower Merion 2-2, Perkiomen 1, Plymouth 2-3; Adjust Abington, Lower Merion, Pottstown, Springfield, Upper Moreland, Upper Merion, Upper Providence\n",
    "Northampton: Add CD split for Bethlehem W17; Reverse 2017 Bethlehem Twp redistricting; Align Glendon, Walnutport with municipal boundaries; Adjust Bangor, Bethlehem W2, W3, W4, W7, W9, W14, W15, Bethlehem Twp, Bushkill, Easton, Forks, Hanover, Hellertown, Lehigh, Lower Mt Bethel, Lower Saucon, Moore, Nazareth, Palmer, Plainfield, Upper Mt Bethel, Washington, Williams\n",
    "Northumberland: Merge CD splits for Upper Mahanoy; Split Riverside A/B; Align Northumberland with municipal boundary; Adjust Coal, Milton, Mount Carmel W, Natalie-Strong, Northumberland, Point, Ralpho, Shamokin, Sunbury, Upper Augusta\n",
    "Philadelphia: Merge 5-30 into 5-10/16/26/27; 5-31 into 5-25; 5-32 into 5-17; 5-33/34 into 5-21; 18-18 into 18-1/9; Adjust 27-7/8, 43-1/24, 51-3/8, 51-4/20, 57-10/27, 62-8/12, 65-4/7\n",
    "Pike: Adjust Matamoras\n",
    "Potter: Adjust Galeton, Sharon\n",
    "Schuylkill: Adjust Coaldale, N Manheim, Norwegian, Porter, Pottsville\n",
    "Somerset: Align New Centerville with municipal boundary; Adjust Conemaugh, Jefferson, Middlecreek, Paint, Somerset Boro\n",
    "Susquehanna: Adjust Montrose; Lanesboro, Susquehanna Depot\n",
    "Tioga: Add CD splits for Shippen; Adjust Delmar, Wellsboro\n",
    "Union: Adjust Buffalo, White Deer\n",
    "Venango: Split Cornplanter 1/2; Split Sugarcreek 1/4; Adjust Franklin, Sugarcreek, Cornplanter, Oil City\n",
    "Warren: Adjust Conewango\n",
    "Washington: Split Canton 1/3; Align Allenport, Beallsville, Burgettstown, Canonsburg, Carroll, Charleroi, Claysville, Elco, Finleyville, Houston, Long Branch, McDonald, Monongahela, Speers, Twilight with municipal boundaries; Adjust Amwell, Bentleyville, California, Canonsburg, Canton, Cecil, Centerville, Chartiers, Donegal, Donora, Fallowfield, Hanover, Independence, Mount Pleasant, N Franklin, N Strabane, Peters, Robinson, Smith, Somerset, S Franklin, S Strabane, Union Washington, W Brownsville\n",
    "Wayne: Adjust Honesdale\n",
    "Westmoreland: Split Ligonier 1/2; Merge CD splits for Unity Pleasant Unity; Align Greensburg with municipal boundary; Adjust Allegheny, Arnold, Bell, Derry, E Huntingdon, Fairfield, Greensburg, Hempfield, Jeannette, Latrobe, Ligonier, Lower Burrell, Monessen, Mount Pleasant, Murraysville, New Kensington, N Belle Vernon, N Huntingdon, Penn, Rostraver, St. Clair, Scottdale, Sewickley, S Greensburg, S Huntingdon, Trafford, Upper Burrell, Unity, Vandergrift, Washington, Youngwood\n",
    "Wyoming: Split Nicholson Borough; Adjust Falls\n",
    "York: Merge CD splits for York Twp 5-3; Align E Prospect, Goldsboro, Jefferson, Manchester, Monaghan, Wellsville, York with municipal boundaries; Adjust Chanceford, Codorus, Conewago, Dover, Fairview, Hanover, Jackson, Lower Windsor, New Freedom, Newberry, N Codorus, Penn, Red Lion, Shrewsbury, Spring Garden, Springbettsbury, W Manchester, Windsor Boro, Windsor Twp, Wrightsville, York Twp, York W5, W6, W15"
   ]
  },
  {
   "cell_type": "markdown",
   "id": "7db4e4c6",
   "metadata": {},
   "source": [
    "## Election Results"
   ]
  },
  {
   "cell_type": "markdown",
   "id": "48bc44a3",
   "metadata": {},
   "source": [
    "#### Load a FIPS file"
   ]
  },
  {
   "cell_type": "code",
   "execution_count": 4,
   "id": "f00aee8e",
   "metadata": {},
   "outputs": [],
   "source": [
    "fips_file = pd.read_csv(\"./raw-from-source/FIPS/US_FIPS_Codes.csv\")\n",
    "fips_file = fips_file[fips_file[\"State\"]==\"Pennsylvania\"]\n",
    "fips_file[\"FIPS County\"]=fips_file[\"FIPS County\"].astype(str)\n",
    "fips_file[\"FIPS County\"]=fips_file[\"FIPS County\"].str.zfill(3)\n",
    "fips_file[\"unique_ID\"] =  \"42\" + fips_file[\"FIPS County\"]\n",
    "fips_codes = fips_file[\"unique_ID\"].tolist()\n",
    "pa_fips_dict = dict(zip(fips_file[\"County Name\"],fips_file[\"FIPS County\"]))"
   ]
  },
  {
   "cell_type": "markdown",
   "id": "0e77dc70",
   "metadata": {},
   "source": [
    "#### Load election results"
   ]
  },
  {
   "cell_type": "code",
   "execution_count": 5,
   "id": "c1ff26b4",
   "metadata": {},
   "outputs": [],
   "source": [
    "pa_election = pd.read_csv(\"./raw-from-source/Election_Results/openelections-data-pa-master/2016/20161108__pa__general__precinct.csv\")"
   ]
  },
  {
   "cell_type": "code",
   "execution_count": 6,
   "id": "976112c8",
   "metadata": {},
   "outputs": [
    {
     "name": "stdout",
     "output_type": "stream",
     "text": [
      "  county      precinct     office  district        candidate party  votes\n",
      "0  Adams   ABBOTTSTOWN  President       NaN  HILLARY CLINTON   DEM    119\n",
      "1  Adams  ARENDTSVILLE  President       NaN  HILLARY CLINTON   DEM    143\n",
      "2  Adams  BENDERSVILLE  President       NaN  HILLARY CLINTON   DEM     83\n",
      "3  Adams       BERWICK  President       NaN  HILLARY CLINTON   DEM    257\n",
      "4  Adams   BIGLERVILLE  President       NaN  HILLARY CLINTON   DEM    148\n"
     ]
    }
   ],
   "source": [
    "print(pa_election.head())"
   ]
  },
  {
   "cell_type": "code",
   "execution_count": 8,
   "id": "5e38b50f",
   "metadata": {},
   "outputs": [],
   "source": [
    "office_list = ['President', 'U.S. Senate', 'Attorney General', 'Auditor General','State Treasurer']\n",
    "\n",
    "pa_election = pa_election[pa_election[\"office\"].isin(office_list)]\n"
   ]
  },
  {
   "cell_type": "code",
   "execution_count": 9,
   "id": "1446c867",
   "metadata": {},
   "outputs": [
    {
     "name": "stdout",
     "output_type": "stream",
     "text": [
      "  county      precinct     office  district        candidate party  votes\n",
      "0  Adams   ABBOTTSTOWN  President       NaN  HILLARY CLINTON   DEM    119\n",
      "1  Adams  ARENDTSVILLE  President       NaN  HILLARY CLINTON   DEM    143\n",
      "2  Adams  BENDERSVILLE  President       NaN  HILLARY CLINTON   DEM     83\n",
      "3  Adams       BERWICK  President       NaN  HILLARY CLINTON   DEM    257\n",
      "4  Adams   BIGLERVILLE  President       NaN  HILLARY CLINTON   DEM    148\n"
     ]
    }
   ],
   "source": [
    "print(pa_election.head())"
   ]
  },
  {
   "cell_type": "code",
   "execution_count": 10,
   "id": "22d2f421",
   "metadata": {},
   "outputs": [
    {
     "data": {
      "text/plain": [
       "array(['HILLARY CLINTON', 'Donald J. Trump', 'DARRELL L CASTLE',\n",
       "       'JILL STEIN', 'GARY E JOHNSON', 'KATIE MCGINTY',\n",
       "       'PATRICK J TOOMEY', 'EDWARD T CLIFFORD III', 'JOSHUA D SHAPIRO',\n",
       "       'JOHN C RAFFERTY JR', 'EUGENE A DEPASQUALE', 'JOHN A BROWN',\n",
       "       'JOHN J. SWEENEY', 'ROY A MINET', 'JOSEPH M TORSELLA',\n",
       "       'OTTO W VOIT III', 'KRISTIN COMBS', 'JAMES BABB'], dtype=object)"
      ]
     },
     "execution_count": 10,
     "metadata": {},
     "output_type": "execute_result"
    }
   ],
   "source": [
    "pa_election[\"candidate\"].unique()"
   ]
  },
  {
   "cell_type": "code",
   "execution_count": 11,
   "id": "be2a9548",
   "metadata": {},
   "outputs": [],
   "source": [
    "pa_election[\"county\"] = pa_election[\"county\"].map(pa_fips_dict).fillna(pa_election[\"county\"])"
   ]
  },
  {
   "cell_type": "code",
   "execution_count": 18,
   "id": "31aa1b8b",
   "metadata": {},
   "outputs": [],
   "source": [
    "pa_election[\"pivot_col\"] = pa_election[\"county\"]+pa_election[\"precinct\"]"
   ]
  },
  {
   "cell_type": "code",
   "execution_count": 23,
   "id": "b2b66b8d",
   "metadata": {},
   "outputs": [],
   "source": [
    "pivoted_2016 = pd.pivot_table(pa_election, values=[\"votes\"], index=[\"pivot_col\"],columns=[\"candidate\"],aggfunc=sum)"
   ]
  },
  {
   "cell_type": "code",
   "execution_count": 24,
   "id": "3d9241ae",
   "metadata": {},
   "outputs": [
    {
     "name": "stdout",
     "output_type": "stream",
     "text": [
      "                           votes                                        \\\n",
      "candidate       DARRELL L CASTLE Donald J. Trump EDWARD T CLIFFORD III   \n",
      "pivot_col                                                                \n",
      "001ABBOTTSTOWN                 2             274                    32   \n",
      "001ARENDTSVILLE                2             235                    20   \n",
      "001BENDERSVILLE                1             153                    16   \n",
      "001BERWICK                     2             816                    71   \n",
      "001BIGLERVILLE                 3             314                    33   \n",
      "\n",
      "                                                                               \\\n",
      "candidate       EUGENE A DEPASQUALE GARY E JOHNSON HILLARY CLINTON JAMES BABB   \n",
      "pivot_col                                                                       \n",
      "001ABBOTTSTOWN                  132             13             119          8   \n",
      "001ARENDTSVILLE                 152              7             143         10   \n",
      "001BENDERSVILLE                  92             15              83          9   \n",
      "001BERWICK                      331             24             257         33   \n",
      "001BIGLERVILLE                  169             13             148         13   \n",
      "\n",
      "                                                                            \\\n",
      "candidate       JILL STEIN JOHN A BROWN JOHN C RAFFERTY JR JOHN J. SWEENEY   \n",
      "pivot_col                                                                    \n",
      "001ABBOTTSTOWN           3          248                267              17   \n",
      "001ARENDTSVILLE          2          212                238              11   \n",
      "001BENDERSVILLE          5          138                158              11   \n",
      "001BERWICK              10          694                788              30   \n",
      "001BIGLERVILLE           3          283                320              17   \n",
      "\n",
      "                                                                  \\\n",
      "candidate       JOSEPH M TORSELLA JOSHUA D SHAPIRO KATIE MCGINTY   \n",
      "pivot_col                                                          \n",
      "001ABBOTTSTOWN                119              145           128   \n",
      "001ARENDTSVILLE               144              153           141   \n",
      "001BENDERSVILLE                86               96            83   \n",
      "001BERWICK                    298              304           289   \n",
      "001BIGLERVILLE                162              164           150   \n",
      "\n",
      "                                                                            \n",
      "candidate       KRISTIN COMBS OTTO W VOIT III PATRICK J TOOMEY ROY A MINET  \n",
      "pivot_col                                                                   \n",
      "001ABBOTTSTOWN             33             244              256          10  \n",
      "001ARENDTSVILLE            16             216              232          13  \n",
      "001BENDERSVILLE            14             142              159          10  \n",
      "001BERWICK                 43             719              745          39  \n",
      "001BIGLERVILLE             28             278              306          13  \n",
      "candidate                   DARRELL L CASTLE  Donald J. Trump  \\\n",
      "0           001ABBOTTSTOWN                 2              274   \n",
      "1          001ARENDTSVILLE                 2              235   \n",
      "2          001BENDERSVILLE                 1              153   \n",
      "3               001BERWICK                 2              816   \n",
      "4           001BIGLERVILLE                 3              314   \n",
      "\n",
      "candidate  EDWARD T CLIFFORD III  EUGENE A DEPASQUALE  GARY E JOHNSON  \\\n",
      "0                             32                  132              13   \n",
      "1                             20                  152               7   \n",
      "2                             16                   92              15   \n",
      "3                             71                  331              24   \n",
      "4                             33                  169              13   \n",
      "\n",
      "candidate  HILLARY CLINTON  JAMES BABB  JILL STEIN  JOHN A BROWN  \\\n",
      "0                      119           8           3           248   \n",
      "1                      143          10           2           212   \n",
      "2                       83           9           5           138   \n",
      "3                      257          33          10           694   \n",
      "4                      148          13           3           283   \n",
      "\n",
      "candidate  JOHN C RAFFERTY JR  JOHN J. SWEENEY  JOSEPH M TORSELLA  \\\n",
      "0                         267               17                119   \n",
      "1                         238               11                144   \n",
      "2                         158               11                 86   \n",
      "3                         788               30                298   \n",
      "4                         320               17                162   \n",
      "\n",
      "candidate  JOSHUA D SHAPIRO  KATIE MCGINTY  KRISTIN COMBS  OTTO W VOIT III  \\\n",
      "0                       145            128             33              244   \n",
      "1                       153            141             16              216   \n",
      "2                        96             83             14              142   \n",
      "3                       304            289             43              719   \n",
      "4                       164            150             28              278   \n",
      "\n",
      "candidate  PATRICK J TOOMEY  ROY A MINET  \n",
      "0                       256           10  \n",
      "1                       232           13  \n",
      "2                       159           10  \n",
      "3                       745           39  \n",
      "4                       306           13  \n"
     ]
    }
   ],
   "source": [
    "print(pivoted_2016.head())\n",
    "pivoted_2016.reset_index(drop=False,inplace=True)\n",
    "pivoted_2016.columns = pivoted_2016.columns.droplevel(0)\n",
    "print(pivoted_2016.head())"
   ]
  },
  {
   "cell_type": "code",
   "execution_count": 25,
   "id": "265d5ec0",
   "metadata": {},
   "outputs": [
    {
     "name": "stdout",
     "output_type": "stream",
     "text": [
      "Index(['', 'DARRELL L CASTLE', 'Donald J. Trump', 'EDWARD T CLIFFORD III',\n",
      "       'EUGENE A DEPASQUALE', 'GARY E JOHNSON', 'HILLARY CLINTON',\n",
      "       'JAMES BABB', 'JILL STEIN', 'JOHN A BROWN', 'JOHN C RAFFERTY JR',\n",
      "       'JOHN J. SWEENEY', 'JOSEPH M TORSELLA', 'JOSHUA D SHAPIRO',\n",
      "       'KATIE MCGINTY', 'KRISTIN COMBS', 'OTTO W VOIT III', 'PATRICK J TOOMEY',\n",
      "       'ROY A MINET'],\n",
      "      dtype='object', name='candidate')\n"
     ]
    }
   ],
   "source": [
    "print(pivoted_2016.columns)"
   ]
  },
  {
   "cell_type": "code",
   "execution_count": 26,
   "id": "531c53db",
   "metadata": {},
   "outputs": [],
   "source": [
    "pivoted_2016.columns=[\"pivot_col\",\"G16PRECCAS\",\"G16PRERTRU\",\"G16USSLCLI\",\"G16AUDDDEP\",\"G16PRELJOH\",\n",
    "                     \"G16PREDCLI\",\"G16TRELBAB\",\"G16PREGSTE\",\"G16AUDRBRO\",\"G16ATGRRAF\",\"G16AUDGSWE\",\n",
    "                     \"G16TREDTOR\",\"G16ATGDSHA\",\"G16USSDMCG\",\"G16TREGCOM\",\"G16TRERVOI\",\"G16USSRTOO\",\n",
    "                     \"G16AUDLMIN\"]"
   ]
  },
  {
   "cell_type": "code",
   "execution_count": 29,
   "id": "1fb7d71d",
   "metadata": {},
   "outputs": [
    {
     "name": "stdout",
     "output_type": "stream",
     "text": [
      "Index(['STATEFP', 'COUNTYFP', 'VTDST', 'NAME', 'G16PREDCLI', 'G16PRERTRU',\n",
      "       'G16PRELJOH', 'G16PREGSTE', 'G16PRECCAS', 'G16USSDMCG', 'G16USSRTOO',\n",
      "       'G16USSLCLI', 'G16ATGDSHA', 'G16ATGRRAF', 'G16AUDDDEP', 'G16AUDRBRO',\n",
      "       'G16AUDLMIN', 'G16AUDGSWE', 'G16TREDTOR', 'G16TRERVOI', 'G16TRELBAB',\n",
      "       'G16TREGCOM', 'geometry'],\n",
      "      dtype='object')\n"
     ]
    }
   ],
   "source": [
    "print(vest_pa_16.columns)"
   ]
  },
  {
   "cell_type": "code",
   "execution_count": 31,
   "id": "6dff1128",
   "metadata": {},
   "outputs": [],
   "source": [
    "pivoted_2016[\"NAME\"]=pivoted_2016[\"pivot_col\"].str[3:]\n",
    "pivoted_2016[\"COUNTYFP\"]=pivoted_2016[\"pivot_col\"].str[0:3]"
   ]
  },
  {
   "cell_type": "code",
   "execution_count": 32,
   "id": "317d4440",
   "metadata": {},
   "outputs": [],
   "source": [
    "pivoted_2016 = pivoted_2016[[\"COUNTYFP\",\"NAME\",'G16PREDCLI', 'G16PRERTRU',\n",
    "       'G16PRELJOH', 'G16PREGSTE', 'G16PRECCAS', 'G16USSDMCG', 'G16USSRTOO',\n",
    "       'G16USSLCLI', 'G16ATGDSHA', 'G16ATGRRAF', 'G16AUDDDEP', 'G16AUDRBRO',\n",
    "       'G16AUDLMIN', 'G16AUDGSWE', 'G16TREDTOR', 'G16TRERVOI', 'G16TRELBAB',\n",
    "       'G16TREGCOM']]"
   ]
  },
  {
   "cell_type": "code",
   "execution_count": 33,
   "id": "707f7211",
   "metadata": {},
   "outputs": [
    {
     "name": "stdout",
     "output_type": "stream",
     "text": [
      "  COUNTYFP          NAME  G16PREDCLI  G16PRERTRU  G16PRELJOH  G16PREGSTE  \\\n",
      "0      001   ABBOTTSTOWN         119         274          13           3   \n",
      "1      001  ARENDTSVILLE         143         235           7           2   \n",
      "2      001  BENDERSVILLE          83         153          15           5   \n",
      "3      001       BERWICK         257         816          24          10   \n",
      "4      001   BIGLERVILLE         148         314          13           3   \n",
      "\n",
      "   G16PRECCAS  G16USSDMCG  G16USSRTOO  G16USSLCLI  G16ATGDSHA  G16ATGRRAF  \\\n",
      "0           2         128         256          32         145         267   \n",
      "1           2         141         232          20         153         238   \n",
      "2           1          83         159          16          96         158   \n",
      "3           2         289         745          71         304         788   \n",
      "4           3         150         306          33         164         320   \n",
      "\n",
      "   G16AUDDDEP  G16AUDRBRO  G16AUDLMIN  G16AUDGSWE  G16TREDTOR  G16TRERVOI  \\\n",
      "0         132         248          10          17         119         244   \n",
      "1         152         212          13          11         144         216   \n",
      "2          92         138          10          11          86         142   \n",
      "3         331         694          39          30         298         719   \n",
      "4         169         283          13          17         162         278   \n",
      "\n",
      "   G16TRELBAB  G16TREGCOM  \n",
      "0           8          33  \n",
      "1          10          16  \n",
      "2           9          14  \n",
      "3          33          43  \n",
      "4          13          28  \n"
     ]
    }
   ],
   "source": [
    "print(pivoted_2016.head())"
   ]
  },
  {
   "cell_type": "code",
   "execution_count": 36,
   "id": "bd1b72e3",
   "metadata": {},
   "outputs": [
    {
     "name": "stdout",
     "output_type": "stream",
     "text": [
      "(9167, 23)\n",
      "(9123, 20)\n"
     ]
    }
   ],
   "source": [
    "data_columns = ['G16PREDCLI', 'G16PRERTRU',\n",
    "       'G16PRELJOH', 'G16PREGSTE', 'G16PRECCAS', 'G16USSDMCG', 'G16USSRTOO',\n",
    "       'G16USSLCLI', 'G16ATGDSHA', 'G16ATGRRAF', 'G16AUDDDEP', 'G16AUDRBRO',\n",
    "       'G16AUDLMIN', 'G16AUDGSWE', 'G16TREDTOR', 'G16TRERVOI', 'G16TRELBAB',\n",
    "       'G16TREGCOM']\n",
    "\n",
    "print(vest_pa_16.shape)\n",
    "print(pivoted_2016.shape)"
   ]
  },
  {
   "cell_type": "code",
   "execution_count": 38,
   "id": "4b96345c",
   "metadata": {},
   "outputs": [
    {
     "name": "stdout",
     "output_type": "stream",
     "text": [
      "G16PREDCLI\n",
      "2926444\n",
      "2925710\n",
      "\n",
      "G16PRERTRU\n",
      "2971198\n",
      "2970426\n",
      "\n",
      "G16PRELJOH\n",
      "146716\n",
      "146659\n",
      "\n",
      "G16PREGSTE\n",
      "49941\n",
      "49935\n",
      "\n",
      "G16PRECCAS\n",
      "21572\n",
      "21566\n",
      "\n",
      "G16USSDMCG\n",
      "2865012\n",
      "2865009\n",
      "\n",
      "G16USSRTOO\n",
      "2951702\n",
      "2951706\n",
      "\n",
      "G16USSLCLI\n",
      "235142\n",
      "235142\n",
      "\n",
      "G16ATGDSHA\n",
      "3057010\n",
      "3057013\n",
      "\n",
      "G16ATGRRAF\n",
      "2891325\n",
      "2891322\n",
      "\n",
      "G16AUDDDEP\n",
      "2958818\n",
      "2958819\n",
      "\n",
      "G16AUDRBRO\n",
      "2667318\n",
      "2667318\n",
      "\n",
      "G16AUDLMIN\n",
      "131853\n",
      "131853\n",
      "\n",
      "G16AUDGSWE\n",
      "158942\n",
      "158944\n",
      "\n",
      "G16TREDTOR\n",
      "2991404\n",
      "2991405\n",
      "\n",
      "G16TRERVOI\n",
      "2610811\n",
      "2610810\n",
      "\n",
      "G16TRELBAB\n",
      "135132\n",
      "135132\n",
      "\n",
      "G16TREGCOM\n",
      "170275\n",
      "170276\n",
      "\n"
     ]
    }
   ],
   "source": [
    "for i in data_columns:\n",
    "    print(i)\n",
    "    print(sum(vest_pa_16[i]))\n",
    "    print(sum(pivoted_2016[i]))\n",
    "    print(\"\")"
   ]
  },
  {
   "cell_type": "code",
   "execution_count": 40,
   "id": "6f8e234a",
   "metadata": {},
   "outputs": [
    {
     "name": "stdout",
     "output_type": "stream",
     "text": [
      "G16PREDCLI\n",
      "COUNTYFP\n",
      "003   -683\n",
      "095     -3\n",
      "115    -48\n",
      "Name: G16PREDCLI, dtype: int64\n",
      "\n",
      "G16PRERTRU\n",
      "COUNTYFP\n",
      "003   -355\n",
      "115   -417\n",
      "Name: G16PRERTRU, dtype: int64\n",
      "\n",
      "G16PRELJOH\n",
      "COUNTYFP\n",
      "003   -56\n",
      "115    -1\n",
      "Name: G16PRELJOH, dtype: int64\n",
      "\n",
      "G16PREGSTE\n",
      "COUNTYFP\n",
      "003   -6\n",
      "Name: G16PREGSTE, dtype: int64\n",
      "\n",
      "G16PRECCAS\n",
      "COUNTYFP\n",
      "003   -6\n",
      "Name: G16PRECCAS, dtype: int64\n",
      "\n",
      "G16USSDMCG\n",
      "COUNTYFP\n",
      "095   -3\n",
      "Name: G16USSDMCG, dtype: int64\n",
      "\n",
      "G16USSRTOO\n",
      "COUNTYFP\n",
      "095    4\n",
      "Name: G16USSRTOO, dtype: int64\n",
      "\n",
      "G16USSLCLI\n",
      "Series([], Name: G16USSLCLI, dtype: int64)\n",
      "\n",
      "G16ATGDSHA\n",
      "COUNTYFP\n",
      "095    3\n",
      "Name: G16ATGDSHA, dtype: int64\n",
      "\n",
      "G16ATGRRAF\n",
      "COUNTYFP\n",
      "095   -3\n",
      "Name: G16ATGRRAF, dtype: int64\n",
      "\n",
      "G16AUDDDEP\n",
      "COUNTYFP\n",
      "095    1\n",
      "Name: G16AUDDDEP, dtype: int64\n",
      "\n",
      "G16AUDRBRO\n",
      "Series([], Name: G16AUDRBRO, dtype: int64)\n",
      "\n",
      "G16AUDLMIN\n",
      "Series([], Name: G16AUDLMIN, dtype: int64)\n",
      "\n",
      "G16AUDGSWE\n",
      "COUNTYFP\n",
      "095    2\n",
      "Name: G16AUDGSWE, dtype: int64\n",
      "\n",
      "G16TREDTOR\n",
      "COUNTYFP\n",
      "095    1\n",
      "Name: G16TREDTOR, dtype: int64\n",
      "\n",
      "G16TRERVOI\n",
      "COUNTYFP\n",
      "095   -1\n",
      "Name: G16TRERVOI, dtype: int64\n",
      "\n",
      "G16TRELBAB\n",
      "Series([], Name: G16TRELBAB, dtype: int64)\n",
      "\n",
      "G16TREGCOM\n",
      "COUNTYFP\n",
      "095    1\n",
      "Name: G16TREGCOM, dtype: int64\n",
      "\n",
      "Allegheny\n",
      "Northampton\n",
      "Susquehanna\n"
     ]
    }
   ],
   "source": [
    "diff_counties = []\n",
    "\n",
    "for i in data_columns:\n",
    "    diff = pivoted_2016.groupby([\"COUNTYFP\"]).sum()[i]-vest_pa_16.groupby([\"COUNTYFP\"]).sum()[i]\n",
    "    print(i)\n",
    "    for val in diff[diff != 0].index.values.tolist():\n",
    "        if val not in diff_counties:\n",
    "            diff_counties.append(val)\n",
    "    print(diff[diff != 0])\n",
    "    print(\"\")\n",
    "\n",
    "#print(diff_counties)\n",
    "fips_name_dict=dict(zip(fips_file[\"FIPS County\"],fips_file[\"County Name\"]))\n",
    "#print(fips_name_dict)\n",
    "for i in diff_counties:\n",
    "    print(fips_name_dict.get(i))"
   ]
  },
  {
   "cell_type": "code",
   "execution_count": 86,
   "id": "a7331151",
   "metadata": {},
   "outputs": [
    {
     "name": "stdout",
     "output_type": "stream",
     "text": [
      "(9123, 22)\n",
      "9123\n",
      "(9167, 25)\n",
      "9118\n"
     ]
    }
   ],
   "source": [
    "#COUNTYFP+\"NAME\" is a unique ID here\n",
    "print(pivoted_2016.shape)\n",
    "pivoted_2016[\"NAME\"] = pivoted_2016[\"NAME\"].str.upper()\n",
    "print((pivoted_2016[\"COUNTYFP\"]+pivoted_2016[\"NAME\"]).nunique())\n",
    "\n",
    "# \"COUNTYFP\" + \"NAME\" is not a unique ID here\n",
    "print(vest_pa_16.shape)\n",
    "print((vest_pa_16[\"COUNTYFP\"]+vest_pa_16[\"NAME\"]).nunique())\n",
    "\n",
    "pivoted_2016[\"election_check_join\"] = pivoted_2016[\"COUNTYFP\"]+pivoted_2016[\"NAME\"]\n",
    "vest_pa_16[\"election_check_join\"] = vest_pa_16[\"COUNTYFP\"]+vest_pa_16[\"NAME\"]"
   ]
  },
  {
   "cell_type": "code",
   "execution_count": 87,
   "id": "a2917371",
   "metadata": {},
   "outputs": [
    {
     "name": "stdout",
     "output_type": "stream",
     "text": [
      "015CANTON                  2\n",
      "021GALLITZIN               2\n",
      "027HOWARD                  2\n",
      "003BALDWIN DISTRICT 01     2\n",
      "123SUGAR GROVE             2\n",
      "017NEWTOWN DISTRICT 01     2\n",
      "079WILKES-BARRE WARD 01    2\n",
      "035BEECH CREEK             2\n",
      "107TREMONT                 2\n",
      "117LIBERTY                 2\n",
      "115THOMPSON                2\n",
      "099LIVERPOOL               2\n",
      "033BURNSIDE                2\n",
      "031KNOX                    2\n",
      "131MESHOPPEN               2\n",
      "037BENTON                  2\n",
      "111ADDISON                 2\n",
      "105ULYSSES                 2\n",
      "009WOODBURY                2\n",
      "015BURLINGTON              2\n",
      "105OSWAYO                  2\n",
      "039VENANGO                 2\n",
      "113LAPORTE                 2\n",
      "019FAIRVIEW                2\n",
      "019CONNOQUENESSING         2\n",
      "115NEW MILFORD             2\n",
      "083ELDRED                  2\n",
      "003BALDWIN DISTRICT 02     2\n",
      "017NEWTOWN DISTRICT 02     2\n",
      "079NESCOPECK               2\n",
      "117TIOGA                   2\n",
      "079WILKES-BARRE WARD 02    2\n",
      "039WOODCOCK                2\n",
      "015WYALUSING               2\n",
      "007DARLINGTON              2\n",
      "085SANDY LAKE              2\n",
      "115GREAT BEND              2\n",
      "009HOPEWELL                2\n",
      "015MONROE                  2\n",
      "031CLARION DISTRICT 01     2\n",
      "115OAKLAND                 2\n",
      "015TROY                    2\n",
      "037CATAWISSA               2\n",
      "103MILFORD                 2\n",
      "031CLARION DISTRICT 02     2\n",
      "117WESTFIELD               2\n",
      "019SLIPPERY ROCK           2\n",
      "015ROME                    2\n",
      "053TIONESTA                2\n",
      "dtype: int64\n"
     ]
    }
   ],
   "source": [
    "ser = (vest_pa_16[\"COUNTYFP\"]+vest_pa_16[\"NAME\"]).value_counts()\n",
    "print(ser[ser>1])\n",
    "dup_list = list(ser[ser>1].index)"
   ]
  },
  {
   "cell_type": "code",
   "execution_count": 88,
   "id": "5eaa2529",
   "metadata": {},
   "outputs": [],
   "source": [
    "vest_pa_16[\"election_check_join\"] = vest_pa_16[\"election_check_join\"].apply(lambda x: \"Don't join\" if x in dup_list else x)"
   ]
  },
  {
   "cell_type": "code",
   "execution_count": 89,
   "id": "6304b299",
   "metadata": {},
   "outputs": [
    {
     "data": {
      "text/plain": [
       "Don't join                                98\n",
       "021PATTON WARD 01                          1\n",
       "041DICKINSON PRECINCT SOUTH                1\n",
       "017BENSALEM DISTRICT UPPER DISTRICT 07     1\n",
       "121OIL CITY DISTRICT 04                    1\n",
       "                                          ..\n",
       "077SOUTH WHITEHALL DISTRICT 01             1\n",
       "101PHILADELPHIA WARD 34 PRECINCT 33        1\n",
       "081OLD LYCOMING PRECINCT 02                1\n",
       "129HEMPFIELD DISTRICT WEST HEMPFIELD       1\n",
       "061WOOD                                    1\n",
       "Name: election_check_join, Length: 9070, dtype: int64"
      ]
     },
     "execution_count": 89,
     "metadata": {},
     "output_type": "execute_result"
    }
   ],
   "source": [
    "vest_pa_16[\"election_check_join\"].value_counts()"
   ]
  },
  {
   "cell_type": "code",
   "execution_count": 90,
   "id": "a3a7a191",
   "metadata": {},
   "outputs": [
    {
     "name": "stdout",
     "output_type": "stream",
     "text": [
      "left_only     7469\n",
      "right_only    7425\n",
      "both          1698\n",
      "Name: _merge, dtype: int64\n"
     ]
    }
   ],
   "source": [
    "join_one = pd.merge(vest_pa_16,pivoted_2016,how=\"outer\",on=\"election_check_join\",indicator=True)\n",
    "print(join_one[\"_merge\"].value_counts())"
   ]
  },
  {
   "cell_type": "markdown",
   "id": "0ea5c145",
   "metadata": {},
   "source": [
    "## Join on vote strings as a unique ID"
   ]
  },
  {
   "cell_type": "code",
   "execution_count": 91,
   "id": "88f1e060",
   "metadata": {},
   "outputs": [],
   "source": [
    "pivoted_2016[\"unique_vote_id\"] = \"\"\n",
    "vest_pa_16[\"unique_vote_id\"] = \"\"\n",
    "for i in data_columns:\n",
    "    pivoted_2016[\"unique_vote_id\"]+=pivoted_2016[i].astype(str)\n",
    "    vest_pa_16[\"unique_vote_id\"]+=vest_pa_16[i].astype(str)"
   ]
  },
  {
   "cell_type": "code",
   "execution_count": 92,
   "id": "c8ce60e8",
   "metadata": {},
   "outputs": [
    {
     "name": "stdout",
     "output_type": "stream",
     "text": [
      "  COUNTYFP          NAME  G16PREDCLI  G16PRERTRU  G16PRELJOH  G16PREGSTE  \\\n",
      "0      001   ABBOTTSTOWN         119         274          13           3   \n",
      "1      001  ARENDTSVILLE         143         235           7           2   \n",
      "2      001  BENDERSVILLE          83         153          15           5   \n",
      "3      001       BERWICK         257         816          24          10   \n",
      "4      001   BIGLERVILLE         148         314          13           3   \n",
      "\n",
      "   G16PRECCAS  G16USSDMCG  G16USSRTOO  G16USSLCLI  ...  G16AUDDDEP  \\\n",
      "0           2         128         256          32  ...         132   \n",
      "1           2         141         232          20  ...         152   \n",
      "2           1          83         159          16  ...          92   \n",
      "3           2         289         745          71  ...         331   \n",
      "4           3         150         306          33  ...         169   \n",
      "\n",
      "   G16AUDRBRO  G16AUDLMIN  G16AUDGSWE  G16TREDTOR  G16TRERVOI  G16TRELBAB  \\\n",
      "0         248          10          17         119         244           8   \n",
      "1         212          13          11         144         216          10   \n",
      "2         138          10          11          86         142           9   \n",
      "3         694          39          30         298         719          33   \n",
      "4         283          13          17         162         278          13   \n",
      "\n",
      "   G16TREGCOM  election_check_join  \\\n",
      "0          33       001ABBOTTSTOWN   \n",
      "1          16      001ARENDTSVILLE   \n",
      "2          14      001BENDERSVILLE   \n",
      "3          43           001BERWICK   \n",
      "4          28       001BIGLERVILLE   \n",
      "\n",
      "                                  unique_vote_id  \n",
      "0    1192741332128256321452671322481017119244833  \n",
      "1    1432357221412322015323815221213111442161016  \n",
      "2         83153155183159169615892138101186142914  \n",
      "3  257816241022897457130478833169439302987193343  \n",
      "4   14831413331503063316432016928313171622781328  \n",
      "\n",
      "[5 rows x 22 columns]\n",
      "  STATEFP COUNTYFP   VTDST          NAME  G16PREDCLI  G16PRERTRU  G16PRELJOH  \\\n",
      "0      42      001  000010   ABBOTTSTOWN         119         274          13   \n",
      "1      42      001  000020  ARENDTSVILLE         143         235           7   \n",
      "2      42      001  000030  BENDERSVILLE          83         153          15   \n",
      "3      42      001  000040       BERWICK         257         816          24   \n",
      "4      42      001  000050   BIGLERVILLE         148         314          13   \n",
      "\n",
      "   G16PREGSTE  G16PRECCAS  G16USSDMCG  ...  G16AUDRBRO  G16AUDLMIN  \\\n",
      "0           3           2         128  ...         248          10   \n",
      "1           2           2         141  ...         212          13   \n",
      "2           5           1          83  ...         138          10   \n",
      "3          10           2         289  ...         694          39   \n",
      "4           3           3         150  ...         283          13   \n",
      "\n",
      "   G16AUDGSWE  G16TREDTOR  G16TRERVOI  G16TRELBAB  G16TREGCOM  \\\n",
      "0          17         119         244           8          33   \n",
      "1          11         144         216          10          16   \n",
      "2          11          86         142           9          14   \n",
      "3          30         298         719          33          43   \n",
      "4          17         162         278          13          28   \n",
      "\n",
      "                                            geometry  election_check_join  \\\n",
      "0  POLYGON Z ((-76.99801 39.88359 0.00000, -76.99...       001ABBOTTSTOWN   \n",
      "1  POLYGON Z ((-77.31141 39.92625 0.00000, -77.30...      001ARENDTSVILLE   \n",
      "2  POLYGON Z ((-77.25596 39.98075 0.00000, -77.25...      001BENDERSVILLE   \n",
      "3  MULTIPOLYGON Z (((-76.99558 39.88677 0.00000, ...           001BERWICK   \n",
      "4  POLYGON Z ((-77.25594 39.93043 0.00000, -77.25...       001BIGLERVILLE   \n",
      "\n",
      "                                  unique_vote_id  \n",
      "0    1192741332128256321452671322481017119244833  \n",
      "1    1432357221412322015323815221213111442161016  \n",
      "2         83153155183159169615892138101186142914  \n",
      "3  257816241022897457130478833169439302987193343  \n",
      "4   14831413331503063316432016928313171622781328  \n",
      "\n",
      "[5 rows x 25 columns]\n"
     ]
    }
   ],
   "source": [
    "print(pivoted_2016.head())\n",
    "print(vest_pa_16.head())"
   ]
  },
  {
   "cell_type": "code",
   "execution_count": 93,
   "id": "d5c963d1",
   "metadata": {},
   "outputs": [
    {
     "name": "stdout",
     "output_type": "stream",
     "text": [
      "000000000000000000                               3\n",
      "2824030269212672265102263212                     1\n",
      "1195712437109574361295779257220231155432427      1\n",
      "25148310361221844128421157843107167              1\n",
      "2158120274983942403714413622                     1\n",
      "                                                ..\n",
      "349812033715034293371013338715                   1\n",
      "842284481137793595580637173732350657493154962    1\n",
      "16455218551875223523949724945112242534271932     1\n",
      "37310181323808811381863518372236079720           1\n",
      "602203301625972263861823265016719225682093042    1\n",
      "Name: unique_vote_id, Length: 9165, dtype: int64\n",
      "000000000000000000                               14\n",
      "2824030269212672265102263212                      1\n",
      "1324118251483812516439015535313211593491124       1\n",
      "95296131021122753014127014423520191352391625      1\n",
      "19078915811997544423873927066421262356841935      1\n",
      "                                                 ..\n",
      "1543101221163290221912881882678151852611022       1\n",
      "363229321423632313440120535718521483981632034     1\n",
      "501871773497991550199474861318469921617           1\n",
      "211111103110063997438744458335                    1\n",
      "86177041981432011614311912649123114316            1\n",
      "Name: unique_vote_id, Length: 9110, dtype: int64\n",
      "2824030269212672265102263212                     1\n",
      "17919314201861732320517021812516181991401813     1\n",
      "12322315211341963715820216816214231671631717     1\n",
      "25148310361221844128421157843107167              1\n",
      "2158120274983942403714413622                     1\n",
      "                                                ..\n",
      "349812033715034293371013338715                   1\n",
      "842284481137793595580637173732350657493154962    1\n",
      "16455218551875223523949724945112242534271932     1\n",
      "37310181323808811381863518372236079720           1\n",
      "602203301625972263861823265016719225682093042    1\n",
      "Name: unique_vote_id, Length: 9164, dtype: int64\n",
      "2824030269212672265102263212                          1\n",
      "34681691336884344783256941831767623                   1\n",
      "807826511777239632872298869393825207498962214         1\n",
      "95915544769882160083946160010031447532695214875041    1\n",
      "308167971298172830316328015451430413958               1\n",
      "                                                     ..\n",
      "1543101221163290221912881882678151852611022           1\n",
      "363229321423632313440120535718521483981632034         1\n",
      "501871773497991550199474861318469921617               1\n",
      "211111103110063997438744458335                        1\n",
      "86177041981432011614311912649123114316                1\n",
      "Name: unique_vote_id, Length: 9109, dtype: int64\n"
     ]
    }
   ],
   "source": [
    "print(vest_pa_16[\"unique_vote_id\"].value_counts())\n",
    "print(pivoted_2016[\"unique_vote_id\"].value_counts())\n",
    "\n",
    "\n",
    "join_vest_pa_16 = vest_pa_16[vest_pa_16[\"unique_vote_id\"]!=\"000000000000000000\"]\n",
    "join_pivoted_2016 = pivoted_2016[pivoted_2016[\"unique_vote_id\"]!=\"000000000000000000\"]\n",
    "\n",
    "print(join_vest_pa_16[\"unique_vote_id\"].value_counts())\n",
    "print(join_pivoted_2016[\"unique_vote_id\"].value_counts())"
   ]
  },
  {
   "cell_type": "code",
   "execution_count": 102,
   "id": "63962fef",
   "metadata": {},
   "outputs": [
    {
     "name": "stdout",
     "output_type": "stream",
     "text": [
      "both          8208\n",
      "left_only      956\n",
      "right_only     901\n",
      "Name: _merge, dtype: int64\n"
     ]
    }
   ],
   "source": [
    "vote_name_hack = pd.merge(join_vest_pa_16,join_pivoted_2016,how=\"outer\",on=\"unique_vote_id\",indicator=True)\n",
    "print(vote_name_hack[\"_merge\"].value_counts())\n",
    "left_only = vote_name_hack[vote_name_hack[\"_merge\"]==\"left_only\"]\n",
    "right_only = vote_name_hack[vote_name_hack[\"_merge\"]==\"right_only\"]\n",
    "\n",
    "left_only.to_csv(\"./exported_csvs/election_check_only_vest.csv\")\n",
    "right_only.to_csv(\"./exported_csvs/election_check_only_source.csv\")"
   ]
  },
  {
   "cell_type": "code",
   "execution_count": 95,
   "id": "8a6c2736",
   "metadata": {},
   "outputs": [],
   "source": [
    "changes = vote_name_hack[vote_name_hack[\"_merge\"]==\"both\"][[\"VTDST\",\"NAME_x\",\"NAME_y\"]]"
   ]
  },
  {
   "cell_type": "code",
   "execution_count": 96,
   "id": "4f8e3e83",
   "metadata": {},
   "outputs": [
    {
     "name": "stdout",
     "output_type": "stream",
     "text": [
      "       VTDST               NAME_x              NAME_y\n",
      "0     000010          ABBOTTSTOWN         ABBOTTSTOWN\n",
      "1     000020         ARENDTSVILLE        ARENDTSVILLE\n",
      "2     000030         BENDERSVILLE        BENDERSVILLE\n",
      "3     000040              BERWICK             BERWICK\n",
      "4     000050          BIGLERVILLE         BIGLERVILLE\n",
      "...      ...                  ...                 ...\n",
      "9159  002035       PLAINS WARD 02       PLAINS WARD 2\n",
      "9160  002045       PLAINS WARD 03       PLAINS WARD 3\n",
      "9161  001245  JENKINS DISTRICT 03  JENKINS DISTRICT 3\n",
      "9162  001225  JENKINS DISTRICT 01  JENKINS DISTRICT 1\n",
      "9163  001235  JENKINS DISTRICT 02  JENKINS DISTRICT 2\n",
      "\n",
      "[8208 rows x 3 columns]\n"
     ]
    }
   ],
   "source": [
    "print(changes)"
   ]
  },
  {
   "cell_type": "markdown",
   "id": "26aa433c",
   "metadata": {},
   "source": [
    "# Import Shapefile"
   ]
  },
  {
   "cell_type": "code",
   "execution_count": 98,
   "id": "5a3f3630",
   "metadata": {},
   "outputs": [],
   "source": [
    "#Combine all the data from separate files into one\n",
    "li = []\n",
    "for i in fips_codes:\n",
    "    ref = \"./raw-from-source/Census/partnership_shapefiles_19v2_\"\n",
    "    file_ref = ref+i+\"/PVS_19_v2_vtd_\"+i+\".shp\"\n",
    "    file_prev = gp.read_file(file_ref)\n",
    "    #print(file_prev.shape)\n",
    "    li.append(file_prev)\n",
    "global shapefiles_census\n",
    "shapefiles_census = pd.concat(li, axis=0, ignore_index=True)"
   ]
  },
  {
   "cell_type": "code",
   "execution_count": 99,
   "id": "85a62486",
   "metadata": {},
   "outputs": [],
   "source": [
    "#Filter down shapefiles to relevant columns\n",
    "shapefiles_census = shapefiles_census[[\"COUNTYFP\",\"VTDST\",\"NAME\",\"geometry\"]]"
   ]
  },
  {
   "cell_type": "code",
   "execution_count": 100,
   "id": "21362004",
   "metadata": {},
   "outputs": [
    {
     "name": "stdout",
     "output_type": "stream",
     "text": [
      "(9175, 6)\n",
      "9175\n"
     ]
    }
   ],
   "source": [
    "#Look into two possible unique IDs\n",
    "shapefiles_census[\"cty_pct\"] = shapefiles_census[\"COUNTYFP\"]+shapefiles_census[\"VTDST\"]+shapefiles_census[\"NAME\"]\n",
    "shapefiles_census[\"shp_join\"] = shapefiles_census[\"COUNTYFP\"]+shapefiles_census[\"VTDST\"]\n",
    "print(shapefiles_census.shape)\n",
    "print(shapefiles_census[\"shp_join\"].nunique())"
   ]
  },
  {
   "cell_type": "code",
   "execution_count": null,
   "id": "01c3f0ba",
   "metadata": {},
   "outputs": [],
   "source": []
  }
 ],
 "metadata": {
  "kernelspec": {
   "display_name": "Python 3",
   "language": "python",
   "name": "python3"
  },
  "language_info": {
   "codemirror_mode": {
    "name": "ipython",
    "version": 3
   },
   "file_extension": ".py",
   "mimetype": "text/x-python",
   "name": "python",
   "nbconvert_exporter": "python",
   "pygments_lexer": "ipython3",
   "version": "3.9.2"
  }
 },
 "nbformat": 4,
 "nbformat_minor": 5
}
