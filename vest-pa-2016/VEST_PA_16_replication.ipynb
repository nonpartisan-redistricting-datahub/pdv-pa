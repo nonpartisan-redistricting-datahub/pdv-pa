{
 "cells": [
  {
   "cell_type": "code",
   "execution_count": 249,
   "id": "1490ab5a",
   "metadata": {},
   "outputs": [],
   "source": [
    "import pandas as pd # standard python data library\n",
    "import geopandas as gp # the geo-version of pandas\n",
    "import numpy as np \n",
    "import os\n",
    "import fiona\n",
    "from statistics import mean, median\n",
    "from pandas import read_csv\n",
    "gp.io.file.fiona.drvsupport.supported_drivers['KML'] = 'rw' #To load KML files"
   ]
  },
  {
   "cell_type": "markdown",
   "id": "febfefd4",
   "metadata": {},
   "source": [
    "# VEST PA Validation"
   ]
  },
  {
   "cell_type": "code",
   "execution_count": 250,
   "id": "0c811072",
   "metadata": {},
   "outputs": [],
   "source": [
    "vest_pa_16 = gp.read_file(\"./raw-from-source/VEST/pa_2016/pa_2016.shp\")"
   ]
  },
  {
   "cell_type": "markdown",
   "id": "3754da6a",
   "metadata": {},
   "source": [
    "# Documentation Election Results"
   ]
  },
  {
   "cell_type": "markdown",
   "id": "5ff55686",
   "metadata": {},
   "source": [
    "Election results from the Pennsylvania Secretary of State's office via OpenElections (https://github.com/openelections/openelections-data-pa/). Precinct data was corrected with canvass reports for the following counties: Cumberland, Elk, Lancaster, Northampton, Susquehanna. The candidate totals for Northampton and Susquehanna differ from the county totals reported by the state and therefore the statewide totals differ from the official results accordingly.\n",
    "\n",
    "Allegheny County reported president-only votes countywide. These were distributed by candidate to precincts based on their share of the precinct-level reported vote.\n",
    "\n",
    "Precinct shapefiles primarily from the U.S. Census Bureau's 2020 Redistricting Data Program Phase 2 release. The shapefiles from Delaware County and the City of Pittsburgh are from the respective jurisdictions instead. Precinct numbers were corrected to match the voter file in the following locales: Allegheny (Elizabeth, Pittsburgh W12), Blair (Greenfield), Bradford (Athens), Greene (Nonongahela), Monroe (Smithfield), Montgomery (Hatfield), Northampton (Bethlehem Twp), Perry (Toboyne), Washington (New Eagle, Somerset), York (Fairview).\n",
    "\n",
    "Precinct boundaries throughout the state were edited to match voter assignments in the PA Secretary of State voter file from the 2016 election cycle. While some edits reflect official updates to wards or divisions the great majority involve voters incorrectly assigned to voting districts by the counties. As such the VEST shapefile endeavors to reflect the de facto precinct boundaries and these often differ from the official voting district boundaries, in some cases quite drastically. Wherever possible edits were made using census boundaries or alternatively using the parcel shapefiles from the respective counties. \n",
    "\n",
    "In certain areas voter assignments appear so erratic that it is impractical to place all voters within their assigned precinct. These areas were edited so as to place as many voters as possible within their assigned precinct without displacing a greater number from their assigned precinct. In general, municipal boundaries were retained except where significant numbers of numbers were misassigned to the wrong municipality. In cases where the odd/even split was incorrectly reversed for precinct boundary streets the official boundary was retained. All such cases involved near equal number of voters swapped between voting districts.\n",
    "\n",
    "The following revisions were made to the base shapefiles to match the de facto 2016 precinct boundaries consistent with the voter file. Individual precincts are noted in cases of splits or merges. Due to the sheer number of edits boundary adjustments are noted at the borough/township level. There may be as many as two dozen individual precincts that were revised within a given municipality.\n",
    "\n",
    "Adams: Adjust Cumberland, Franklin\n",
    "Allegheny: Merge CD splits for S Fayette 3/5; Split Pittsburgh W5 11/17; Merge Pittsburgh W16 9/11/12, Align McCandless with municipal boundary; Adjust Avalon, Baldwin, Bethel Park, Braddock, Brentwood, Castle Shannon, Clairton, Collier, Coraopolis, Crescent, Dormont, Dravosburg, Duquesne, E Deer, E McKeesport, E Pittsburgh, Elizabeth, Emsworth, Forward, Glassport, Hampton, Harmar, Ingram, Jefferson Hills, Kennedy, Leet, Liberty, Marshall, McCandless, McKees Rocks, McKeesport, Monroeville, Moon, Mount Lebanon, Munhall, N Fayette, N Versailles, O'Hara, Oakdale, Penn Hills, Pine, Pittsburgh (all wards), Pleasant Hills, Reserve, Richland, Ross, Scott, Sewickley, Shaler, S Fayette, S Park, Stowe, Swissvale, Upper St. Clair, W Deer, W Homestead, W Mifflin, W View, Whitaker, Whitehall, Wilkins, Wilkinsburg\n",
    "Armstrong: Align Dayton, Elderton, Ford City, Kittanning, N Apollo with municipal boundaries; Adjust Ford City, Gilpin, Kiskiminetas, Kittanning, Manor, N Buffalo, Parks, Parker City, S Buffalo\n",
    "Beaver: Adjust Aliquippa, Ambridge, Baden, Beaver, Brighton, Center, Chippewa, Conway, Economy, Franklin, Hanover, Harmony, Hopewell, Midland, Monaca, N Sewickley\n",
    "Bedford: Adjust Bedford Boro, Bedford Twp\n",
    "Berks: Merge CD splits for District, Exeter 5; Split Laureldale 1A/B by CD; Adjust Cumru, Douglass, Oley, Maxatawny, Robeson, Sinking Spring, Spring, Union\n",
    "Blair: Merge Tunnelhill/Allegheny Twp 4; Align Altoona, Bellwood, Duncansville, Hollidaysburg, Newry, Roaring Spring, Tyrone, Williamsburg with municipal boundaries; Adjust Allegheny, Altoona, Antis, Frankstown, Freedom, Greenfield, Huston, Juniata, N Woodbury, Logan, Snyder, Tyrone Boro, Tyrone Twp\n",
    "Bucks: Align Sellersville, Tullytown with municipal boundaries; Adjust Bensalem, Bristol Boro, Bristol Twp, Buckingham, Doylestown Twp, Falls, Hilltown, Lower Makefield N, Lower Southampton E, Middletown, Milford, Morrissville, Newtown Twp, Northampton, Solebury Lower, Solebury, Springfield, Tinicum, Upper Makefield, Upper Southampton E, Warminster, Warrington, W Rockhill\n",
    "Butler: Merge CD splits for Cranberry E 2, 3, Cranberry W 1, 2, Jefferson 1, 2; Align Butler Twp, Valencia with municipal boundaries; Adjust Adams, Buffalo, Butler Boro, Butler Twp, Center, Cranberry E, Cranberry W, Jackson, Jefferson, Zelienople\n",
    "Cambria: Split Johnstown CT 1/2, W8 1/2, W11/OC, Reade N/S; Realign E Taylor 1/2 into 1-4; Align Daisytown, Sankertown, W Taylor, Wilmore with municipal boundaries; Adjust Cambria, Conemaugh, Croyle, Ebensburg, E Carroll, Geistown, Jackson, Johnstown W17, W20, Lower Yoder, Northern Cambria, Portage Boro, Portage Twp, Richland, Southmont, Stonycreek, Summerhill, Susquehanna, Upper Yoder, W Carroll, Westmont\n",
    "Cameron: Adjust Emporium, Shippen\n",
    "Clarion: Split Farmington Central into South/West; Merge Emlenton/Richland\n",
    "Carbon: Adjust Jim Thorpe, Kidder, Mahoning, New Mahoning, Summit Hill\n",
    "Centre: Merge CD splits for Halfmoon E Central/Proper; Merge Ferguson Northeast 1 A/B; Adjust Benner, College, Ferguson, Patton\n",
    "Chester: Merge CD/LD splits for Birmingham 2, Phoenixville M 1; Adjust Birmingham, E Bradford S, E Fallowfield, E Goshen, E Marlborough, Easttown, N Coventry, Spring City, Tredyffrin M, Uwchlan, W Bradford, W Caln, W Goshen N, W Goshen S, Westtown\n",
    "Clarion: Adjust Clarion, Highland, Farmington, Knox\n",
    "Clearfield: Adjust Bradford, Cooper, Decatur, Golden Rod, Lawrence Glen Richie, Morris, Plympton, Woodward\n",
    "Columbia: Merge Ashland/Conyngham; Adjust Orange, Scott West\n",
    "Crawford: Align Mead, Woodcock with municipal boundaries\n",
    "Cumberland: Merge CD splits for N Middleton 1, 3; Split Lower Allen 1/Annex; Align Carlisle, E Pennsboro, Hampton, Lemoyne, Lower Allen, Mechanisburg, Middlesex, Mount Holly Springs, N Middleton, Shiremanstown, Silver Spring, W Pennsboro, Wormsleysburg with municipal boundaries\n",
    "Dauphin: Split Highspire 1/2, Millersburg 1/2, Steelton 2/3, Susquehanna 1/3; Merge Swatara 10 into 6/8; Align Middletown 2-1/3-1 with municipal boundary; Adjust Derry, Harrisburg W1, W7, W8, W9, Hummelstown, Lower Paxton, Lykens, Middletown, Swatara\n",
    "Delaware: Adjust Chester, Concord, Darby Boro, Darby Twp, Haverford, Marple, Nether Providence, Newtown, Radnor, Ridley, Sharon Hill, Thornbury, Tinicum, Trainer, Upper Chichester, Upper Darby, Upper Providence\n",
    "Elk: Split N/S Horton; Adjust Johnsonburg, Ridgeway Boro, Ridgeway Twp, St. Marys\n",
    "Erie: Split Corry 3/4; Merge Mill Creek 23/25; Adjust Erie W1, W4, W5, W6, Greene, Lawrence Park, McKean, Millcreek, North East\n",
    "Fayette: Split Masontown 1/2, Washington 1/2; Align Dunbar with municipal boundary; Adjust Brownsville, Bullskin, Dunbar, Georges, German, Luzerne, N Union, Redstone\n",
    "Franklin: Align Mercersburg with municipal boundary; Adjust Antrim, Fannett, Greene, Guilford, Hamilton, Metal, Peters, Quincy, St. Thomas, Southampton, Washington\n",
    "Fulton: Align McConnellsburg with municipal boundary\n",
    "Greene: Align Carmichaels with municipal boundary; Adjust Cumberland, Dunkard, Franklin, Jefferson, Lipencott, Mather, Morgan Chart, Monongahela, Nemacolin\n",
    "Huntingdon: Adjust Huntingdon, Mount Union, Shirley\n",
    "Jefferson:  Align Reynoldsville with municipal boundary; Adjust Punxsutawney\n",
    "Lackawanna: Split Olyphant Ward 3-2 A/B; Adjust Archbald, Blakely, Carbondale, Clarks Summit, Dickson City, Dunmore, Fell, Jermyn, Jessup, Mayfield, Moosic, Old Forge, Olyphant, Scranton W1, W2, W3, W6, W7, W10, W12, W13, W14, W15, W16, W19, W20, W23, S Abington, Taylor, Throop\n",
    "Lancaster: Split Lancaster 7-8 CV/LS; Adjust Brecknock, Columbia, E Hempfield, E Lampeter, E Petersburg, Elizabethtown, Ephrata, Lancaster W6, W8, Lititz, Manheim, Manor, Millersville, Mt Joy Boro, Mt Joy Twp, New Holland, Penn, Providence, Rapho, Warwick, W Cocalico, W Donegal, W Hempfield\n",
    "Lawrence: Adjust Neshannock\n",
    "Lebanon: Adjust Jackson, Lickdale, S Lebanon, Union Green Pt\n",
    "Lehigh: Adjust Lower Macungie, Salisbury\n",
    "Luzerne: Merge CD splits for Hazle 1; Align Avoca, Pittston with municipal boundaries; Adjust Butler, Dallas Boro, Dallas Twp, Exeter, Foster, Freeland, Hanover, Hazle, Jenkins, Kingston Boro, Kingston Twp, Larksville, Lehman, Nanticoke, Newport, Plains, Salem, Smoyersville, W Wyoming, Wilkes-Barre\n",
    "Lycoming: Align Williamsport with municipal boundary; Adjust Jersey Shore\n",
    "McKean: Adjust Bradford City, Bradford Twp, Foster, Keating, Otto\n",
    "Mercer: Adjust Delaware, Fredonia, Greenville, Hempfield, Hermitage, Sharon, Sharpsville, S Pymatuning, W Salem\n",
    "Monroe: Merge CD splits for Smithfield 1; Align E Stroudsburg with municipal boundary; Adjust E Stroudsburg, Smithfield\n",
    "Montgomery: Merge CD splits for Franconia 2, Horsham 2-1, 4-2, Lower Merion 12-2, 12-3; Add CD splits for Hatfield 5-2, Horsham 2-2, Lower Merion 2-2, Perkiomen 1, Plymouth 2-3; Adjust Abington, Lower Merion, Pottstown, Springfield, Upper Moreland, Upper Merion, Upper Providence\n",
    "Northampton: Add CD split for Bethlehem W17; Reverse 2017 Bethlehem Twp redistricting; Align Glendon, Walnutport with municipal boundaries; Adjust Bangor, Bethlehem W2, W3, W4, W7, W9, W14, W15, Bethlehem Twp, Bushkill, Easton, Forks, Hanover, Hellertown, Lehigh, Lower Mt Bethel, Lower Saucon, Moore, Nazareth, Palmer, Plainfield, Upper Mt Bethel, Washington, Williams\n",
    "Northumberland: Merge CD splits for Upper Mahanoy; Split Riverside A/B; Align Northumberland with municipal boundary; Adjust Coal, Milton, Mount Carmel W, Natalie-Strong, Northumberland, Point, Ralpho, Shamokin, Sunbury, Upper Augusta\n",
    "Philadelphia: Merge 5-30 into 5-10/16/26/27; 5-31 into 5-25; 5-32 into 5-17; 5-33/34 into 5-21; 18-18 into 18-1/9; Adjust 27-7/8, 43-1/24, 51-3/8, 51-4/20, 57-10/27, 62-8/12, 65-4/7\n",
    "Pike: Adjust Matamoras\n",
    "Potter: Adjust Galeton, Sharon\n",
    "Schuylkill: Adjust Coaldale, N Manheim, Norwegian, Porter, Pottsville\n",
    "Somerset: Align New Centerville with municipal boundary; Adjust Conemaugh, Jefferson, Middlecreek, Paint, Somerset Boro\n",
    "Susquehanna: Adjust Montrose; Lanesboro, Susquehanna Depot\n",
    "Tioga: Add CD splits for Shippen; Adjust Delmar, Wellsboro\n",
    "Union: Adjust Buffalo, White Deer\n",
    "Venango: Split Cornplanter 1/2; Split Sugarcreek 1/4; Adjust Franklin, Sugarcreek, Cornplanter, Oil City\n",
    "Warren: Adjust Conewango\n",
    "Washington: Split Canton 1/3; Align Allenport, Beallsville, Burgettstown, Canonsburg, Carroll, Charleroi, Claysville, Elco, Finleyville, Houston, Long Branch, McDonald, Monongahela, Speers, Twilight with municipal boundaries; Adjust Amwell, Bentleyville, California, Canonsburg, Canton, Cecil, Centerville, Chartiers, Donegal, Donora, Fallowfield, Hanover, Independence, Mount Pleasant, N Franklin, N Strabane, Peters, Robinson, Smith, Somerset, S Franklin, S Strabane, Union Washington, W Brownsville\n",
    "Wayne: Adjust Honesdale\n",
    "Westmoreland: Split Ligonier 1/2; Merge CD splits for Unity Pleasant Unity; Align Greensburg with municipal boundary; Adjust Allegheny, Arnold, Bell, Derry, E Huntingdon, Fairfield, Greensburg, Hempfield, Jeannette, Latrobe, Ligonier, Lower Burrell, Monessen, Mount Pleasant, Murraysville, New Kensington, N Belle Vernon, N Huntingdon, Penn, Rostraver, St. Clair, Scottdale, Sewickley, S Greensburg, S Huntingdon, Trafford, Upper Burrell, Unity, Vandergrift, Washington, Youngwood\n",
    "Wyoming: Split Nicholson Borough; Adjust Falls\n",
    "York: Merge CD splits for York Twp 5-3; Align E Prospect, Goldsboro, Jefferson, Manchester, Monaghan, Wellsville, York with municipal boundaries; Adjust Chanceford, Codorus, Conewago, Dover, Fairview, Hanover, Jackson, Lower Windsor, New Freedom, Newberry, N Codorus, Penn, Red Lion, Shrewsbury, Spring Garden, Springbettsbury, W Manchester, Windsor Boro, Windsor Twp, Wrightsville, York Twp, York W5, W6, W15"
   ]
  },
  {
   "cell_type": "markdown",
   "id": "7db4e4c6",
   "metadata": {},
   "source": [
    "## Election Results"
   ]
  },
  {
   "cell_type": "markdown",
   "id": "48bc44a3",
   "metadata": {},
   "source": [
    "#### Load a FIPS file"
   ]
  },
  {
   "cell_type": "code",
   "execution_count": 290,
   "id": "f00aee8e",
   "metadata": {},
   "outputs": [],
   "source": [
    "fips_file = pd.read_csv(\"./raw-from-source/FIPS/US_FIPS_Codes.csv\")\n",
    "fips_file = fips_file[fips_file[\"State\"]==\"Pennsylvania\"]\n",
    "fips_file[\"FIPS County\"]=fips_file[\"FIPS County\"].astype(str)\n",
    "fips_file[\"FIPS County\"]=fips_file[\"FIPS County\"].str.zfill(3)\n",
    "fips_file[\"unique_ID\"] =  \"42\" + fips_file[\"FIPS County\"]\n",
    "fips_codes = fips_file[\"unique_ID\"].tolist()\n",
    "pa_fips_dict = dict(zip(fips_file[\"County Name\"],fips_file[\"FIPS County\"]))"
   ]
  },
  {
   "cell_type": "markdown",
   "id": "0e77dc70",
   "metadata": {},
   "source": [
    "#### Load election results"
   ]
  },
  {
   "cell_type": "code",
   "execution_count": 291,
   "id": "976112c8",
   "metadata": {},
   "outputs": [
    {
     "name": "stdout",
     "output_type": "stream",
     "text": [
      "  county      precinct     office  district        candidate party  votes\n",
      "0  Adams   ABBOTTSTOWN  President       NaN  HILLARY CLINTON   DEM    119\n",
      "1  Adams  ARENDTSVILLE  President       NaN  HILLARY CLINTON   DEM    143\n",
      "2  Adams  BENDERSVILLE  President       NaN  HILLARY CLINTON   DEM     83\n",
      "3  Adams       BERWICK  President       NaN  HILLARY CLINTON   DEM    257\n",
      "4  Adams   BIGLERVILLE  President       NaN  HILLARY CLINTON   DEM    148\n"
     ]
    }
   ],
   "source": [
    "pa_election = pd.read_csv(\"./raw-from-source/Election_Results/openelections-data-pa-master/2016/20161108__pa__general__precinct.csv\")\n",
    "print(pa_election.head())"
   ]
  },
  {
   "cell_type": "code",
   "execution_count": 292,
   "id": "5e38b50f",
   "metadata": {},
   "outputs": [],
   "source": [
    "office_list = ['President', 'U.S. Senate', 'Attorney General', 'Auditor General','State Treasurer']\n",
    "pa_election = pa_election[pa_election[\"office\"].isin(office_list)]\n",
    "\n",
    "#pa_election[\"candidate\"].unique()\n",
    "pa_election[\"county\"] = pa_election[\"county\"].map(pa_fips_dict).fillna(pa_election[\"county\"])\n",
    "pa_election[\"pivot_col\"] = pa_election[\"county\"]+pa_election[\"precinct\"]\n",
    "pivoted_2016 = pd.pivot_table(pa_election, values=[\"votes\"], index=[\"pivot_col\"],columns=[\"candidate\"],aggfunc=sum)\n",
    "\n",
    "#print(pivoted_2016.head())\n",
    "pivoted_2016.reset_index(drop=False,inplace=True)\n",
    "pivoted_2016.columns = pivoted_2016.columns.droplevel(0)\n",
    "#print(pivoted_2016.head())"
   ]
  },
  {
   "cell_type": "code",
   "execution_count": 293,
   "id": "6dff1128",
   "metadata": {},
   "outputs": [],
   "source": [
    "pivoted_2016.columns=[\"pivot_col\",\"G16PRECCAS\",\"G16PRERTRU\",\"G16USSLCLI\",\"G16AUDDDEP\",\"G16PRELJOH\",\n",
    "                     \"G16PREDCLI\",\"G16TRELBAB\",\"G16PREGSTE\",\"G16AUDRBRO\",\"G16ATGRRAF\",\"G16AUDGSWE\",\n",
    "                     \"G16TREDTOR\",\"G16ATGDSHA\",\"G16USSDMCG\",\"G16TREGCOM\",\"G16TRERVOI\",\"G16USSRTOO\",\n",
    "                     \"G16AUDLMIN\"]\n",
    "\n",
    "pivoted_2016[\"NAME\"]=pivoted_2016[\"pivot_col\"].str[3:]\n",
    "pivoted_2016[\"COUNTYFP\"]=pivoted_2016[\"pivot_col\"].str[0:3]\n",
    "\n",
    "pivoted_2016 = pivoted_2016[[\"COUNTYFP\",\"NAME\",'G16PREDCLI', 'G16PRERTRU',\n",
    "       'G16PRELJOH', 'G16PREGSTE', 'G16PRECCAS', 'G16USSDMCG', 'G16USSRTOO',\n",
    "       'G16USSLCLI', 'G16ATGDSHA', 'G16ATGRRAF', 'G16AUDDDEP', 'G16AUDRBRO',\n",
    "       'G16AUDLMIN', 'G16AUDGSWE', 'G16TREDTOR', 'G16TRERVOI', 'G16TRELBAB',\n",
    "       'G16TREGCOM']]"
   ]
  },
  {
   "cell_type": "markdown",
   "id": "e43f7c35",
   "metadata": {},
   "source": [
    "Deal w/ Allegheny President-Only votes"
   ]
  },
  {
   "cell_type": "code",
   "execution_count": 294,
   "id": "8274be11",
   "metadata": {},
   "outputs": [
    {
     "name": "stdout",
     "output_type": "stream",
     "text": [
      "G16PREDCLI 683 votes to add\n",
      "G16PRERTRU 355 votes to add\n",
      "G16PRELJOH 56 votes to add\n",
      "G16PREGSTE 6 votes to add\n",
      "G16PRECCAS 6 votes to add\n"
     ]
    }
   ],
   "source": [
    "pa_counties = pd.read_csv(\"./raw-from-source/Election_Results/openelections-data-pa-master/2016/20161108__pa__general_county.csv\")\n",
    "pa_counties = pa_counties[(pa_counties[\"county\"]==\"Allegheny\")&(pa_counties[\"office\"]==\"President\")]\n",
    "pa_counties_piv = pd.pivot_table(pa_counties,index=[\"county\"],values=[\"votes\"],columns=\"candidate\")\n",
    "pa_counties_piv.columns = pa_counties_piv.columns.droplevel(0)\n",
    "pa_counties_piv.columns = ['G16PRECCAS','G16PRERTRU', 'G16PRELJOH', 'G16PREDCLI', 'G16PREGSTE']\n",
    "\n",
    "for i in ['G16PREDCLI', 'G16PRERTRU', 'G16PRELJOH','G16PREGSTE', 'G16PRECCAS']:\n",
    "    print(i +\" \"+ str(pa_counties_piv[i][0]-sum(pivoted_2016[pivoted_2016[\"COUNTYFP\"]==\"003\"][i]))+ \" votes to add\")"
   ]
  },
  {
   "cell_type": "code",
   "execution_count": 295,
   "id": "c0588df6",
   "metadata": {},
   "outputs": [
    {
     "name": "stdout",
     "output_type": "stream",
     "text": [
      "367617\n",
      "259480\n",
      "16102\n",
      "5097\n",
      "1818\n"
     ]
    }
   ],
   "source": [
    "for i in ['G16PREDCLI', 'G16PRERTRU', 'G16PRELJOH','G16PREGSTE', 'G16PRECCAS']:\n",
    "    print(pa_counties_piv[i][0])"
   ]
  },
  {
   "cell_type": "markdown",
   "id": "089383c4",
   "metadata": {},
   "source": []
  },
  {
   "cell_type": "code",
   "execution_count": null,
   "id": "a213f5c2",
   "metadata": {},
   "outputs": [],
   "source": []
  },
  {
   "cell_type": "code",
   "execution_count": 296,
   "id": "4a387d5f",
   "metadata": {},
   "outputs": [],
   "source": [
    "\n",
    "allegheny = pivoted_2016[(pivoted_2016[\"COUNTYFP\"]==\"003\")]\n",
    "\n",
    "pivoted_2016 = pivoted_2016[(pivoted_2016[\"COUNTYFP\"]!=\"003\")]"
   ]
  },
  {
   "cell_type": "code",
   "execution_count": 297,
   "id": "73d2a85f",
   "metadata": {},
   "outputs": [
    {
     "name": "stdout",
     "output_type": "stream",
     "text": [
      "1455\n"
     ]
    }
   ],
   "source": [
    "print(max(allegheny['G16PREDCLI']))"
   ]
  },
  {
   "cell_type": "code",
   "execution_count": 298,
   "id": "25e6c998",
   "metadata": {},
   "outputs": [],
   "source": [
    "allegheny_sum = allegheny[['G16PREDCLI', 'G16PRERTRU', 'G16PRELJOH','G16PREGSTE', 'G16PRECCAS']].sum()"
   ]
  },
  {
   "cell_type": "code",
   "execution_count": 299,
   "id": "a2d98816",
   "metadata": {},
   "outputs": [
    {
     "name": "stdout",
     "output_type": "stream",
     "text": [
      "G16PREDCLI    366934\n",
      "G16PRERTRU    259125\n",
      "G16PRELJOH     16046\n",
      "G16PREGSTE      5091\n",
      "G16PRECCAS      1812\n",
      "dtype: int64\n"
     ]
    }
   ],
   "source": [
    "print(allegheny_sum)"
   ]
  },
  {
   "cell_type": "code",
   "execution_count": 300,
   "id": "7381df3e",
   "metadata": {},
   "outputs": [
    {
     "name": "stdout",
     "output_type": "stream",
     "text": [
      "False\n"
     ]
    }
   ],
   "source": [
    "print(1/683 > (1455/366934))"
   ]
  },
  {
   "cell_type": "code",
   "execution_count": 301,
   "id": "47be4a24",
   "metadata": {},
   "outputs": [],
   "source": [
    "allegheny_totals = pd.DataFrame([[\"G16PREDCLI\",683],[\"G16PRERTRU\",355],[\"G16PRELJOH\",56],[\"G16PREGSTE\",6],[\"G16PRECCAS\",6]])"
   ]
  },
  {
   "cell_type": "code",
   "execution_count": 302,
   "id": "acb25f5d",
   "metadata": {},
   "outputs": [],
   "source": [
    "allegheny_totals.set_index(0,inplace=True)"
   ]
  },
  {
   "cell_type": "code",
   "execution_count": 303,
   "id": "6b06fa02",
   "metadata": {},
   "outputs": [
    {
     "name": "stdout",
     "output_type": "stream",
     "text": [
      "1    683\n",
      "Name: G16PREDCLI, dtype: int64\n"
     ]
    }
   ],
   "source": [
    "print(allegheny_totals.loc[\"G16PREDCLI\"])"
   ]
  },
  {
   "cell_type": "code",
   "execution_count": 304,
   "id": "a54cc422",
   "metadata": {},
   "outputs": [
    {
     "name": "stdout",
     "output_type": "stream",
     "text": [
      "366934\n"
     ]
    }
   ],
   "source": [
    "print(allegheny_sum.loc['G16PREDCLI'])"
   ]
  },
  {
   "cell_type": "code",
   "execution_count": 305,
   "id": "73f03454",
   "metadata": {},
   "outputs": [
    {
     "name": "stdout",
     "output_type": "stream",
     "text": [
      "366934\n"
     ]
    }
   ],
   "source": [
    "print(allegheny_sum.loc[\"G16PREDCLI\"])"
   ]
  },
  {
   "cell_type": "code",
   "execution_count": 306,
   "id": "d82ba1e2",
   "metadata": {},
   "outputs": [],
   "source": [
    "for i in ['G16PREDCLI', 'G16PRERTRU', 'G16PRELJOH','G16PREGSTE', 'G16PRECCAS']:\n",
    "    allegheny[i] = allegheny[i].apply(lambda x: int(np.round(x+((x/int(allegheny_sum.loc[i]))*int(allegheny_totals.loc[i])),0)))\n",
    "    #allegheny[i] = allegheny[i].apply(lambda x: x+((x/allegheny_sum)*int(allegheny_totals.loc[i])))"
   ]
  },
  {
   "cell_type": "code",
   "execution_count": 307,
   "id": "d7e10524",
   "metadata": {},
   "outputs": [
    {
     "name": "stdout",
     "output_type": "stream",
     "text": [
      "   COUNTYFP                  NAME  G16PREDCLI  G16PRERTRU  G16PRELJOH  \\\n",
      "49      003                ALEPPO         434         545          19   \n",
      "50      003  ASPINWALL District 1         400         201          17   \n",
      "51      003  ASPINWALL District 2         267         149           8   \n",
      "52      003  ASPINWALL District 3         435         191          17   \n",
      "53      003         AVALON Ward 1         439         226          30   \n",
      "\n",
      "    G16PREGSTE  G16PRECCAS  G16USSDMCG  G16USSRTOO  G16USSLCLI  G16ATGDSHA  \\\n",
      "49           7           5         405         575          38         412   \n",
      "50           4           2         360         247          21         363   \n",
      "51           2           0         255         150          17         249   \n",
      "52           2           1         391         234          22         407   \n",
      "53           7           4         420         233          57         473   \n",
      "\n",
      "    G16ATGRRAF  G16AUDDDEP  G16AUDRBRO  G16AUDLMIN  G16AUDGSWE  G16TREDTOR  \\\n",
      "49         596         467         505          11          15         433   \n",
      "50         253         382         202          16          15         355   \n",
      "51         164         251         133          14          13         245   \n",
      "52         236         419         192          16          16         377   \n",
      "53         225         462         177          30          27         444   \n",
      "\n",
      "    G16TRERVOI  G16TRELBAB  G16TREGCOM  \n",
      "49         528          19          19  \n",
      "50         210          17          28  \n",
      "51         141          11          13  \n",
      "52         204          26          24  \n",
      "53         184          29          37  \n"
     ]
    }
   ],
   "source": [
    "print(allegheny.head())"
   ]
  },
  {
   "cell_type": "code",
   "execution_count": 308,
   "id": "d0034df2",
   "metadata": {},
   "outputs": [],
   "source": [
    "pivoted_2016 = pd.concat([pivoted_2016,allegheny])"
   ]
  },
  {
   "cell_type": "code",
   "execution_count": 309,
   "id": "944ee5d2",
   "metadata": {},
   "outputs": [
    {
     "name": "stdout",
     "output_type": "stream",
     "text": [
      "     COUNTYFP                   NAME  G16PREDCLI  G16PRERTRU  G16PRELJOH  \\\n",
      "1365      003   WILKINSBURG Ward 3-4         610          66           9   \n",
      "1366      003   WILKINSBURG Ward 3-5         528          34          10   \n",
      "1367      003   WILKINSBURG Ward 3-6         259          11           0   \n",
      "1368      003  WILMERDING District 1         212          80           9   \n",
      "1369      003  WILMERDING District 2         280         157           7   \n",
      "\n",
      "      G16PREGSTE  G16PRECCAS  G16USSDMCG  G16USSRTOO  G16USSLCLI  G16ATGDSHA  \\\n",
      "1365          14           2         610          78          16         625   \n",
      "1366          16           0         525          33          25         536   \n",
      "1367           6           0         255          12          10         256   \n",
      "1368           3           0         215          62          19         227   \n",
      "1369           4           3         298         119          28         310   \n",
      "\n",
      "      G16ATGRRAF  G16AUDDDEP  G16AUDRBRO  G16AUDLMIN  G16AUDGSWE  G16TREDTOR  \\\n",
      "1365          72         569          63          21          42         552   \n",
      "1366          33         487          23          17          45         469   \n",
      "1367          13         256          11           2           4         257   \n",
      "1368          69         226          53          11           8         231   \n",
      "1369         129         314          94          12          18         309   \n",
      "\n",
      "      G16TRERVOI  G16TRELBAB  G16TREGCOM  \n",
      "1365          70          23          50  \n",
      "1366          29          17          54  \n",
      "1367           8           1           7  \n",
      "1368          53           5          11  \n",
      "1369         103          10          13  \n"
     ]
    }
   ],
   "source": [
    "print(pivoted_2016.tail())"
   ]
  },
  {
   "cell_type": "code",
   "execution_count": 310,
   "id": "a0f5d251",
   "metadata": {},
   "outputs": [
    {
     "data": {
      "text/html": [
       "<div>\n",
       "<style scoped>\n",
       "    .dataframe tbody tr th:only-of-type {\n",
       "        vertical-align: middle;\n",
       "    }\n",
       "\n",
       "    .dataframe tbody tr th {\n",
       "        vertical-align: top;\n",
       "    }\n",
       "\n",
       "    .dataframe thead th {\n",
       "        text-align: right;\n",
       "    }\n",
       "</style>\n",
       "<table border=\"1\" class=\"dataframe\">\n",
       "  <thead>\n",
       "    <tr style=\"text-align: right;\">\n",
       "      <th></th>\n",
       "      <th>STATEFP</th>\n",
       "      <th>COUNTYFP</th>\n",
       "      <th>VTDST</th>\n",
       "      <th>NAME</th>\n",
       "      <th>G16PREDCLI</th>\n",
       "      <th>G16PRERTRU</th>\n",
       "      <th>G16PRELJOH</th>\n",
       "      <th>G16PREGSTE</th>\n",
       "      <th>G16PRECCAS</th>\n",
       "      <th>G16USSDMCG</th>\n",
       "      <th>...</th>\n",
       "      <th>G16AUDLMIN</th>\n",
       "      <th>G16AUDGSWE</th>\n",
       "      <th>G16TREDTOR</th>\n",
       "      <th>G16TRERVOI</th>\n",
       "      <th>G16TRELBAB</th>\n",
       "      <th>G16TREGCOM</th>\n",
       "      <th>geometry</th>\n",
       "      <th>election_check_join</th>\n",
       "      <th>election_check_join_holder</th>\n",
       "      <th>unique_vote_id</th>\n",
       "    </tr>\n",
       "  </thead>\n",
       "  <tbody>\n",
       "    <tr>\n",
       "      <th>45</th>\n",
       "      <td>42</td>\n",
       "      <td>003</td>\n",
       "      <td>000010</td>\n",
       "      <td>ALEPPO</td>\n",
       "      <td>434</td>\n",
       "      <td>545</td>\n",
       "      <td>19</td>\n",
       "      <td>7</td>\n",
       "      <td>5</td>\n",
       "      <td>405</td>\n",
       "      <td>...</td>\n",
       "      <td>11</td>\n",
       "      <td>15</td>\n",
       "      <td>433</td>\n",
       "      <td>528</td>\n",
       "      <td>19</td>\n",
       "      <td>19</td>\n",
       "      <td>POLYGON Z ((-80.16932 40.53746 0.00000, -80.16...</td>\n",
       "      <td>003ALEPPO</td>\n",
       "      <td>003ALEPPO</td>\n",
       "      <td>43454519754055753841259646750511154335281919</td>\n",
       "    </tr>\n",
       "    <tr>\n",
       "      <th>46</th>\n",
       "      <td>42</td>\n",
       "      <td>003</td>\n",
       "      <td>000021</td>\n",
       "      <td>ASPINWALL DISTRICT 01</td>\n",
       "      <td>400</td>\n",
       "      <td>201</td>\n",
       "      <td>17</td>\n",
       "      <td>4</td>\n",
       "      <td>2</td>\n",
       "      <td>360</td>\n",
       "      <td>...</td>\n",
       "      <td>16</td>\n",
       "      <td>15</td>\n",
       "      <td>355</td>\n",
       "      <td>210</td>\n",
       "      <td>17</td>\n",
       "      <td>28</td>\n",
       "      <td>POLYGON Z ((-79.90926 40.49374 0.00000, -79.90...</td>\n",
       "      <td>003ASPINWALL DISTRICT 01</td>\n",
       "      <td>003ASPINWALL DISTRICT 01</td>\n",
       "      <td>40020117423602472136325338220216153552101728</td>\n",
       "    </tr>\n",
       "    <tr>\n",
       "      <th>47</th>\n",
       "      <td>42</td>\n",
       "      <td>003</td>\n",
       "      <td>000031</td>\n",
       "      <td>ASPINWALL DISTRICT 02</td>\n",
       "      <td>268</td>\n",
       "      <td>149</td>\n",
       "      <td>8</td>\n",
       "      <td>2</td>\n",
       "      <td>0</td>\n",
       "      <td>255</td>\n",
       "      <td>...</td>\n",
       "      <td>14</td>\n",
       "      <td>13</td>\n",
       "      <td>245</td>\n",
       "      <td>141</td>\n",
       "      <td>11</td>\n",
       "      <td>13</td>\n",
       "      <td>POLYGON Z ((-79.90806 40.50007 0.00000, -79.90...</td>\n",
       "      <td>003ASPINWALL DISTRICT 02</td>\n",
       "      <td>003ASPINWALL DISTRICT 02</td>\n",
       "      <td>2681498202551501724916425113314132451411113</td>\n",
       "    </tr>\n",
       "    <tr>\n",
       "      <th>48</th>\n",
       "      <td>42</td>\n",
       "      <td>003</td>\n",
       "      <td>000050</td>\n",
       "      <td>ASPINWALL DISTRICT 03</td>\n",
       "      <td>435</td>\n",
       "      <td>191</td>\n",
       "      <td>17</td>\n",
       "      <td>2</td>\n",
       "      <td>1</td>\n",
       "      <td>391</td>\n",
       "      <td>...</td>\n",
       "      <td>16</td>\n",
       "      <td>16</td>\n",
       "      <td>377</td>\n",
       "      <td>204</td>\n",
       "      <td>26</td>\n",
       "      <td>24</td>\n",
       "      <td>POLYGON Z ((-79.90351 40.48959 0.00000, -79.90...</td>\n",
       "      <td>003ASPINWALL DISTRICT 03</td>\n",
       "      <td>003ASPINWALL DISTRICT 03</td>\n",
       "      <td>43519117213912342240723641919216163772042624</td>\n",
       "    </tr>\n",
       "    <tr>\n",
       "      <th>49</th>\n",
       "      <td>42</td>\n",
       "      <td>003</td>\n",
       "      <td>000081</td>\n",
       "      <td>AVALON WARD 02 DISTRICT 01</td>\n",
       "      <td>302</td>\n",
       "      <td>169</td>\n",
       "      <td>23</td>\n",
       "      <td>7</td>\n",
       "      <td>5</td>\n",
       "      <td>301</td>\n",
       "      <td>...</td>\n",
       "      <td>14</td>\n",
       "      <td>17</td>\n",
       "      <td>302</td>\n",
       "      <td>150</td>\n",
       "      <td>16</td>\n",
       "      <td>19</td>\n",
       "      <td>POLYGON Z ((-80.07193 40.49633 0.00000, -80.07...</td>\n",
       "      <td>003AVALON WARD 02 DISTRICT 01</td>\n",
       "      <td>003AVALON WARD 02 DISTRICT 01</td>\n",
       "      <td>30216923753011643533016332513614173021501619</td>\n",
       "    </tr>\n",
       "    <tr>\n",
       "      <th>...</th>\n",
       "      <td>...</td>\n",
       "      <td>...</td>\n",
       "      <td>...</td>\n",
       "      <td>...</td>\n",
       "      <td>...</td>\n",
       "      <td>...</td>\n",
       "      <td>...</td>\n",
       "      <td>...</td>\n",
       "      <td>...</td>\n",
       "      <td>...</td>\n",
       "      <td>...</td>\n",
       "      <td>...</td>\n",
       "      <td>...</td>\n",
       "      <td>...</td>\n",
       "      <td>...</td>\n",
       "      <td>...</td>\n",
       "      <td>...</td>\n",
       "      <td>...</td>\n",
       "      <td>...</td>\n",
       "      <td>...</td>\n",
       "      <td>...</td>\n",
       "    </tr>\n",
       "    <tr>\n",
       "      <th>9099</th>\n",
       "      <td>42</td>\n",
       "      <td>003</td>\n",
       "      <td>006150</td>\n",
       "      <td>PITTSBURGH WARD 04 DISTRICT 04</td>\n",
       "      <td>148</td>\n",
       "      <td>3</td>\n",
       "      <td>0</td>\n",
       "      <td>1</td>\n",
       "      <td>0</td>\n",
       "      <td>147</td>\n",
       "      <td>...</td>\n",
       "      <td>1</td>\n",
       "      <td>2</td>\n",
       "      <td>144</td>\n",
       "      <td>3</td>\n",
       "      <td>1</td>\n",
       "      <td>3</td>\n",
       "      <td>POLYGON Z ((-79.96955 40.43993 0.00000, -79.96...</td>\n",
       "      <td>003PITTSBURGH WARD 04 DISTRICT 04</td>\n",
       "      <td>003PITTSBURGH WARD 04 DISTRICT 04</td>\n",
       "      <td>1483010147321482146212144313</td>\n",
       "    </tr>\n",
       "    <tr>\n",
       "      <th>9100</th>\n",
       "      <td>42</td>\n",
       "      <td>003</td>\n",
       "      <td>006685</td>\n",
       "      <td>PITTSBURGH WARD 10 DISTRICT 03</td>\n",
       "      <td>367</td>\n",
       "      <td>88</td>\n",
       "      <td>7</td>\n",
       "      <td>10</td>\n",
       "      <td>0</td>\n",
       "      <td>354</td>\n",
       "      <td>...</td>\n",
       "      <td>15</td>\n",
       "      <td>31</td>\n",
       "      <td>342</td>\n",
       "      <td>66</td>\n",
       "      <td>18</td>\n",
       "      <td>36</td>\n",
       "      <td>POLYGON Z ((-79.94879 40.48239 0.00000, -79.94...</td>\n",
       "      <td>003PITTSBURGH WARD 10 DISTRICT 03</td>\n",
       "      <td>003PITTSBURGH WARD 10 DISTRICT 03</td>\n",
       "      <td>367887100354843237285355621531342661836</td>\n",
       "    </tr>\n",
       "    <tr>\n",
       "      <th>9101</th>\n",
       "      <td>42</td>\n",
       "      <td>003</td>\n",
       "      <td>00B330</td>\n",
       "      <td>PITTSBURGH WARD 19 DISTRICT 24</td>\n",
       "      <td>217</td>\n",
       "      <td>120</td>\n",
       "      <td>14</td>\n",
       "      <td>7</td>\n",
       "      <td>1</td>\n",
       "      <td>213</td>\n",
       "      <td>...</td>\n",
       "      <td>12</td>\n",
       "      <td>18</td>\n",
       "      <td>229</td>\n",
       "      <td>90</td>\n",
       "      <td>13</td>\n",
       "      <td>18</td>\n",
       "      <td>POLYGON Z ((-80.02619 40.39836 0.00000, -80.02...</td>\n",
       "      <td>003PITTSBURGH WARD 19 DISTRICT 24</td>\n",
       "      <td>003PITTSBURGH WARD 19 DISTRICT 24</td>\n",
       "      <td>217120147121311326235112232881218229901318</td>\n",
       "    </tr>\n",
       "    <tr>\n",
       "      <th>9102</th>\n",
       "      <td>42</td>\n",
       "      <td>003</td>\n",
       "      <td>009790</td>\n",
       "      <td>PITTSBURGH WARD 14 DISTRICT 38</td>\n",
       "      <td>320</td>\n",
       "      <td>47</td>\n",
       "      <td>9</td>\n",
       "      <td>3</td>\n",
       "      <td>0</td>\n",
       "      <td>299</td>\n",
       "      <td>...</td>\n",
       "      <td>5</td>\n",
       "      <td>9</td>\n",
       "      <td>281</td>\n",
       "      <td>65</td>\n",
       "      <td>8</td>\n",
       "      <td>15</td>\n",
       "      <td>MULTIPOLYGON Z (((-79.93403 40.43776 0.00000, ...</td>\n",
       "      <td>003PITTSBURGH WARD 14 DISTRICT 38</td>\n",
       "      <td>003PITTSBURGH WARD 14 DISTRICT 38</td>\n",
       "      <td>3204793029975330272294645928165815</td>\n",
       "    </tr>\n",
       "    <tr>\n",
       "      <th>9103</th>\n",
       "      <td>42</td>\n",
       "      <td>003</td>\n",
       "      <td>001292</td>\n",
       "      <td>COLLIER WARD 02</td>\n",
       "      <td>367</td>\n",
       "      <td>583</td>\n",
       "      <td>29</td>\n",
       "      <td>7</td>\n",
       "      <td>4</td>\n",
       "      <td>358</td>\n",
       "      <td>...</td>\n",
       "      <td>26</td>\n",
       "      <td>16</td>\n",
       "      <td>423</td>\n",
       "      <td>491</td>\n",
       "      <td>25</td>\n",
       "      <td>18</td>\n",
       "      <td>MULTIPOLYGON Z (((-80.14461 40.42710 0.00000, ...</td>\n",
       "      <td>003COLLIER WARD 02</td>\n",
       "      <td>003COLLIER WARD 02</td>\n",
       "      <td>36758329743585774939357146745126164234912518</td>\n",
       "    </tr>\n",
       "  </tbody>\n",
       "</table>\n",
       "<p>1322 rows × 26 columns</p>\n",
       "</div>"
      ],
      "text/plain": [
       "     STATEFP COUNTYFP   VTDST                            NAME  G16PREDCLI  \\\n",
       "45        42      003  000010                          ALEPPO         434   \n",
       "46        42      003  000021           ASPINWALL DISTRICT 01         400   \n",
       "47        42      003  000031           ASPINWALL DISTRICT 02         268   \n",
       "48        42      003  000050           ASPINWALL DISTRICT 03         435   \n",
       "49        42      003  000081      AVALON WARD 02 DISTRICT 01         302   \n",
       "...      ...      ...     ...                             ...         ...   \n",
       "9099      42      003  006150  PITTSBURGH WARD 04 DISTRICT 04         148   \n",
       "9100      42      003  006685  PITTSBURGH WARD 10 DISTRICT 03         367   \n",
       "9101      42      003  00B330  PITTSBURGH WARD 19 DISTRICT 24         217   \n",
       "9102      42      003  009790  PITTSBURGH WARD 14 DISTRICT 38         320   \n",
       "9103      42      003  001292                 COLLIER WARD 02         367   \n",
       "\n",
       "      G16PRERTRU  G16PRELJOH  G16PREGSTE  G16PRECCAS  G16USSDMCG  ...  \\\n",
       "45           545          19           7           5         405  ...   \n",
       "46           201          17           4           2         360  ...   \n",
       "47           149           8           2           0         255  ...   \n",
       "48           191          17           2           1         391  ...   \n",
       "49           169          23           7           5         301  ...   \n",
       "...          ...         ...         ...         ...         ...  ...   \n",
       "9099           3           0           1           0         147  ...   \n",
       "9100          88           7          10           0         354  ...   \n",
       "9101         120          14           7           1         213  ...   \n",
       "9102          47           9           3           0         299  ...   \n",
       "9103         583          29           7           4         358  ...   \n",
       "\n",
       "      G16AUDLMIN  G16AUDGSWE  G16TREDTOR  G16TRERVOI  G16TRELBAB  G16TREGCOM  \\\n",
       "45            11          15         433         528          19          19   \n",
       "46            16          15         355         210          17          28   \n",
       "47            14          13         245         141          11          13   \n",
       "48            16          16         377         204          26          24   \n",
       "49            14          17         302         150          16          19   \n",
       "...          ...         ...         ...         ...         ...         ...   \n",
       "9099           1           2         144           3           1           3   \n",
       "9100          15          31         342          66          18          36   \n",
       "9101          12          18         229          90          13          18   \n",
       "9102           5           9         281          65           8          15   \n",
       "9103          26          16         423         491          25          18   \n",
       "\n",
       "                                               geometry  \\\n",
       "45    POLYGON Z ((-80.16932 40.53746 0.00000, -80.16...   \n",
       "46    POLYGON Z ((-79.90926 40.49374 0.00000, -79.90...   \n",
       "47    POLYGON Z ((-79.90806 40.50007 0.00000, -79.90...   \n",
       "48    POLYGON Z ((-79.90351 40.48959 0.00000, -79.90...   \n",
       "49    POLYGON Z ((-80.07193 40.49633 0.00000, -80.07...   \n",
       "...                                                 ...   \n",
       "9099  POLYGON Z ((-79.96955 40.43993 0.00000, -79.96...   \n",
       "9100  POLYGON Z ((-79.94879 40.48239 0.00000, -79.94...   \n",
       "9101  POLYGON Z ((-80.02619 40.39836 0.00000, -80.02...   \n",
       "9102  MULTIPOLYGON Z (((-79.93403 40.43776 0.00000, ...   \n",
       "9103  MULTIPOLYGON Z (((-80.14461 40.42710 0.00000, ...   \n",
       "\n",
       "                    election_check_join         election_check_join_holder  \\\n",
       "45                            003ALEPPO                          003ALEPPO   \n",
       "46             003ASPINWALL DISTRICT 01           003ASPINWALL DISTRICT 01   \n",
       "47             003ASPINWALL DISTRICT 02           003ASPINWALL DISTRICT 02   \n",
       "48             003ASPINWALL DISTRICT 03           003ASPINWALL DISTRICT 03   \n",
       "49        003AVALON WARD 02 DISTRICT 01      003AVALON WARD 02 DISTRICT 01   \n",
       "...                                 ...                                ...   \n",
       "9099  003PITTSBURGH WARD 04 DISTRICT 04  003PITTSBURGH WARD 04 DISTRICT 04   \n",
       "9100  003PITTSBURGH WARD 10 DISTRICT 03  003PITTSBURGH WARD 10 DISTRICT 03   \n",
       "9101  003PITTSBURGH WARD 19 DISTRICT 24  003PITTSBURGH WARD 19 DISTRICT 24   \n",
       "9102  003PITTSBURGH WARD 14 DISTRICT 38  003PITTSBURGH WARD 14 DISTRICT 38   \n",
       "9103                 003COLLIER WARD 02                 003COLLIER WARD 02   \n",
       "\n",
       "                                    unique_vote_id  \n",
       "45    43454519754055753841259646750511154335281919  \n",
       "46    40020117423602472136325338220216153552101728  \n",
       "47     2681498202551501724916425113314132451411113  \n",
       "48    43519117213912342240723641919216163772042624  \n",
       "49    30216923753011643533016332513614173021501619  \n",
       "...                                            ...  \n",
       "9099                  1483010147321482146212144313  \n",
       "9100       367887100354843237285355621531342661836  \n",
       "9101    217120147121311326235112232881218229901318  \n",
       "9102            3204793029975330272294645928165815  \n",
       "9103  36758329743585774939357146745126164234912518  \n",
       "\n",
       "[1322 rows x 26 columns]"
      ]
     },
     "execution_count": 310,
     "metadata": {},
     "output_type": "execute_result"
    }
   ],
   "source": [
    "vest_pa_16[vest_pa_16[\"COUNTYFP\"]==\"003\"]"
   ]
  },
  {
   "cell_type": "code",
   "execution_count": 311,
   "id": "4b96345c",
   "metadata": {},
   "outputs": [
    {
     "name": "stdout",
     "output_type": "stream",
     "text": [
      "(9167, 26)\n",
      "(9123, 20)\n",
      "G16PREDCLI\n",
      "2926444\n",
      "2926332\n",
      "\n",
      "G16PRERTRU\n",
      "2971198\n",
      "2970596\n",
      "\n",
      "G16PRELJOH\n",
      "146716\n",
      "146659\n",
      "\n",
      "G16PREGSTE\n",
      "49941\n",
      "49935\n",
      "\n",
      "G16PRECCAS\n",
      "21572\n",
      "21566\n",
      "\n",
      "G16USSDMCG\n",
      "2865012\n",
      "2865009\n",
      "\n",
      "G16USSRTOO\n",
      "2951702\n",
      "2951706\n",
      "\n",
      "G16USSLCLI\n",
      "235142\n",
      "235142\n",
      "\n",
      "G16ATGDSHA\n",
      "3057010\n",
      "3057013\n",
      "\n",
      "G16ATGRRAF\n",
      "2891325\n",
      "2891322\n",
      "\n",
      "G16AUDDDEP\n",
      "2958818\n",
      "2958819\n",
      "\n",
      "G16AUDRBRO\n",
      "2667318\n",
      "2667318\n",
      "\n",
      "G16AUDLMIN\n",
      "131853\n",
      "131853\n",
      "\n",
      "G16AUDGSWE\n",
      "158942\n",
      "158944\n",
      "\n",
      "G16TREDTOR\n",
      "2991404\n",
      "2991405\n",
      "\n",
      "G16TRERVOI\n",
      "2610811\n",
      "2610810\n",
      "\n",
      "G16TRELBAB\n",
      "135132\n",
      "135132\n",
      "\n",
      "G16TREGCOM\n",
      "170275\n",
      "170276\n",
      "\n"
     ]
    }
   ],
   "source": [
    "print(vest_pa_16.shape)\n",
    "print(pivoted_2016.shape)\n",
    "\n",
    "data_columns = ['G16PREDCLI', 'G16PRERTRU','G16PRELJOH', 'G16PREGSTE', 'G16PRECCAS', 'G16USSDMCG', 'G16USSRTOO','G16USSLCLI', 'G16ATGDSHA', 'G16ATGRRAF', 'G16AUDDDEP', 'G16AUDRBRO','G16AUDLMIN', 'G16AUDGSWE', 'G16TREDTOR', 'G16TRERVOI', 'G16TRELBAB','G16TREGCOM']\n",
    "\n",
    "for i in data_columns:\n",
    "    print(i)\n",
    "    print(sum(vest_pa_16[i]))\n",
    "    print(sum(pivoted_2016[i]))\n",
    "    print(\"\")"
   ]
  },
  {
   "cell_type": "code",
   "execution_count": 357,
   "id": "6f8e234a",
   "metadata": {},
   "outputs": [
    {
     "name": "stdout",
     "output_type": "stream",
     "text": [
      "G16PREDCLI\n",
      "003   -61\n",
      "095    -3\n",
      "115   -48\n",
      "\n",
      "G16PRERTRU\n",
      "003   -185\n",
      "115   -417\n",
      "\n",
      "G16PRELJOH\n",
      "003   -56\n",
      "115    -1\n",
      "\n",
      "G16PREGSTE\n",
      "003   -6\n",
      "\n",
      "G16PRECCAS\n",
      "003   -6\n",
      "\n",
      "G16USSDMCG\n",
      "095   -3\n",
      "\n",
      "G16USSRTOO\n",
      "095    4\n",
      "\n",
      "G16USSLCLI\n",
      "Series([], )\n",
      "\n",
      "G16ATGDSHA\n",
      "095    3\n",
      "\n",
      "G16ATGRRAF\n",
      "095   -3\n",
      "\n",
      "G16AUDDDEP\n",
      "095    1\n",
      "\n",
      "G16AUDRBRO\n",
      "Series([], )\n",
      "\n",
      "G16AUDLMIN\n",
      "Series([], )\n",
      "\n",
      "G16AUDGSWE\n",
      "095    2\n",
      "\n",
      "G16TREDTOR\n",
      "095    1\n",
      "\n",
      "G16TRERVOI\n",
      "095   -1\n",
      "\n",
      "G16TRELBAB\n",
      "Series([], )\n",
      "\n",
      "G16TREGCOM\n",
      "095    1\n",
      "\n",
      "Allegheny\n",
      "Northampton\n",
      "Susquehanna\n"
     ]
    }
   ],
   "source": [
    "diff_counties = []\n",
    "\n",
    "for i in data_columns:\n",
    "    diff = pivoted_2016.groupby([\"COUNTYFP\"]).sum()[i]-vest_pa_16.groupby([\"COUNTYFP\"]).sum()[i]\n",
    "    print(i)\n",
    "    for val in diff[diff != 0].index.values.tolist():\n",
    "        if val not in diff_counties:\n",
    "            diff_counties.append(val)\n",
    "    print(diff[diff != 0].to_string(header=False))\n",
    "    print(\"\")\n",
    "\n",
    "#print(diff_counties)\n",
    "fips_name_dict=dict(zip(fips_file[\"FIPS County\"],fips_file[\"County Name\"]))\n",
    "#print(fips_name_dict)\n",
    "for i in diff_counties:\n",
    "    print(fips_name_dict.get(i))"
   ]
  },
  {
   "cell_type": "code",
   "execution_count": 349,
   "id": "a7331151",
   "metadata": {},
   "outputs": [
    {
     "name": "stdout",
     "output_type": "stream",
     "text": [
      "(9123, 22)\n",
      "9123\n",
      "(9167, 26)\n",
      "9118\n"
     ]
    }
   ],
   "source": [
    "#COUNTYFP+\"NAME\" is a unique ID here\n",
    "print(pivoted_2016.shape)\n",
    "pivoted_2016[\"NAME\"] = pivoted_2016[\"NAME\"].str.upper()\n",
    "print((pivoted_2016[\"COUNTYFP\"]+pivoted_2016[\"NAME\"]).nunique())\n",
    "\n",
    "# \"COUNTYFP\" + \"NAME\" is not a unique ID here\n",
    "print(vest_pa_16.shape)\n",
    "print((vest_pa_16[\"COUNTYFP\"]+vest_pa_16[\"NAME\"]).nunique())\n",
    "\n",
    "pivoted_2016[\"election_check_join\"] = pivoted_2016[\"COUNTYFP\"]+pivoted_2016[\"NAME\"]\n",
    "vest_pa_16[\"election_check_join\"] = vest_pa_16[\"COUNTYFP\"]+vest_pa_16[\"NAME\"]"
   ]
  },
  {
   "cell_type": "code",
   "execution_count": 314,
   "id": "a2917371",
   "metadata": {},
   "outputs": [
    {
     "name": "stdout",
     "output_type": "stream",
     "text": [
      "113LAPORTE                 2\n",
      "083ELDRED                  2\n",
      "015CANTON                  2\n",
      "117WESTFIELD               2\n",
      "031KNOX                    2\n",
      "027HOWARD                  2\n",
      "105ULYSSES                 2\n",
      "099LIVERPOOL               2\n",
      "079WILKES-BARRE WARD 01    2\n",
      "079WILKES-BARRE WARD 02    2\n",
      "015WYALUSING               2\n",
      "031CLARION DISTRICT 01     2\n",
      "039VENANGO                 2\n",
      "117TIOGA                   2\n",
      "115GREAT BEND              2\n",
      "085SANDY LAKE              2\n",
      "009HOPEWELL                2\n",
      "009WOODBURY                2\n",
      "107TREMONT                 2\n",
      "015TROY                    2\n",
      "115NEW MILFORD             2\n",
      "105OSWAYO                  2\n",
      "115THOMPSON                2\n",
      "003BALDWIN DISTRICT 01     2\n",
      "111ADDISON                 2\n",
      "019CONNOQUENESSING         2\n",
      "019FAIRVIEW                2\n",
      "015BURLINGTON              2\n",
      "037BENTON                  2\n",
      "115OAKLAND                 2\n",
      "131MESHOPPEN               2\n",
      "079NESCOPECK               2\n",
      "037CATAWISSA               2\n",
      "021GALLITZIN               2\n",
      "035BEECH CREEK             2\n",
      "019SLIPPERY ROCK           2\n",
      "053TIONESTA                2\n",
      "039WOODCOCK                2\n",
      "007DARLINGTON              2\n",
      "031CLARION DISTRICT 02     2\n",
      "017NEWTOWN DISTRICT 01     2\n",
      "117LIBERTY                 2\n",
      "003BALDWIN DISTRICT 02     2\n",
      "015ROME                    2\n",
      "017NEWTOWN DISTRICT 02     2\n",
      "123SUGAR GROVE             2\n",
      "103MILFORD                 2\n",
      "033BURNSIDE                2\n",
      "015MONROE                  2\n",
      "dtype: int64\n"
     ]
    }
   ],
   "source": [
    "ser = (vest_pa_16[\"COUNTYFP\"]+vest_pa_16[\"NAME\"]).value_counts()\n",
    "print(ser[ser>1])\n",
    "dup_list = list(ser[ser>1].index)"
   ]
  },
  {
   "cell_type": "code",
   "execution_count": 315,
   "id": "5eaa2529",
   "metadata": {},
   "outputs": [],
   "source": [
    "vest_pa_16[\"election_check_join_holder\"] = vest_pa_16[\"election_check_join\"]\n",
    "vest_pa_16[\"election_check_join\"] = vest_pa_16[\"election_check_join\"].apply(lambda x: \"Don't join\" if x in dup_list else x)"
   ]
  },
  {
   "cell_type": "code",
   "execution_count": 316,
   "id": "6304b299",
   "metadata": {},
   "outputs": [
    {
     "data": {
      "text/plain": [
       "Don't join                             98\n",
       "077BETHLEHEM WARD 13 DISTRICT 04        1\n",
       "043LONDONDERRY DISTRICT 01              1\n",
       "047FOX DISTRICT 02                      1\n",
       "099WATTS                                1\n",
       "                                       ..\n",
       "069Old Forge Ward 04                    1\n",
       "003WEST MIFFLIN DISTRICT 09             1\n",
       "085SANDY CREEK                          1\n",
       "003LINCOLN                              1\n",
       "101PHILADELPHIA WARD 02 PRECINCT 03     1\n",
       "Name: election_check_join, Length: 9070, dtype: int64"
      ]
     },
     "execution_count": 316,
     "metadata": {},
     "output_type": "execute_result"
    }
   ],
   "source": [
    "vest_pa_16[\"election_check_join\"].value_counts()"
   ]
  },
  {
   "cell_type": "code",
   "execution_count": 317,
   "id": "a3a7a191",
   "metadata": {},
   "outputs": [
    {
     "name": "stdout",
     "output_type": "stream",
     "text": [
      "left_only     7469\n",
      "right_only    7425\n",
      "both          1698\n",
      "Name: _merge, dtype: int64\n"
     ]
    }
   ],
   "source": [
    "join_one = pd.merge(vest_pa_16,pivoted_2016,how=\"outer\",on=\"election_check_join\",indicator=True)\n",
    "print(join_one[\"_merge\"].value_counts())"
   ]
  },
  {
   "cell_type": "markdown",
   "id": "0ea5c145",
   "metadata": {},
   "source": [
    "## Join on vote strings as a unique ID"
   ]
  },
  {
   "cell_type": "code",
   "execution_count": 318,
   "id": "88f1e060",
   "metadata": {},
   "outputs": [],
   "source": [
    "pivoted_2016[\"unique_vote_id\"] = \"\"\n",
    "vest_pa_16[\"unique_vote_id\"] = \"\"\n",
    "for i in data_columns:\n",
    "    pivoted_2016[\"unique_vote_id\"]+=pivoted_2016[i].astype(str)\n",
    "    vest_pa_16[\"unique_vote_id\"]+=vest_pa_16[i].astype(str)"
   ]
  },
  {
   "cell_type": "code",
   "execution_count": 319,
   "id": "d5c963d1",
   "metadata": {},
   "outputs": [
    {
     "name": "stdout",
     "output_type": "stream",
     "text": [
      "000000000000000000                              3\n",
      "30070223643126505234166630363530283445982431    1\n",
      "1651827921791532820714720212512151901291120     1\n",
      "6232471780590274156202605772611285992471310     1\n",
      "2513718123334722835222330722126210              1\n",
      "                                               ..\n",
      "18774126871937403220273720467828261996702830    1\n",
      "9231480194299231112951222711511262581610        1\n",
      "186512017411517881731014177714                  1\n",
      "1812702050192244251992512222081592032141614     1\n",
      "16081313331787555422675221471920202186982921    1\n",
      "Name: unique_vote_id, Length: 9165, dtype: int64\n",
      "000000000000000000                              14\n",
      "30070223643126505234166630363530283445982431     1\n",
      "380164423741663751936816243721235                1\n",
      "338741270311982130597281851917276951615          1\n",
      "27026816352602723127027530322413112782351516     1\n",
      "                                                ..\n",
      "91181122187173251081708915414201031421315        1\n",
      "4449030437132438114251125434723                  1\n",
      "86310314748021291380311779111111127861041116     1\n",
      "385179831351208153512133711719153391921219       1\n",
      "16081313331787555422675221471920202186982921     1\n",
      "Name: unique_vote_id, Length: 9110, dtype: int64\n",
      "30070223643126505234166630363530283445982431    1\n",
      "2941471311299120283281143121041283071041416     1\n",
      "30816110322761911626920027616316172731621815    1\n",
      "6232471780590274156202605772611285992471310     1\n",
      "2513718123334722835222330722126210              1\n",
      "                                               ..\n",
      "9231480194299231112951222711511262581610        1\n",
      "186512017411517881731014177714                  1\n",
      "1812702050192244251992512222081592032141614     1\n",
      "223187873235164232671552601466132711321010      1\n",
      "16081313331787555422675221471920202186982921    1\n",
      "Name: unique_vote_id, Length: 9164, dtype: int64\n",
      "30070223643126505234166630363530283445982431        1\n",
      "405146603912043921637223393821737                   1\n",
      "338741270311982130597281851917276951615             1\n",
      "27026816352602723127027530322413112782351516        1\n",
      "29422433923052323533322528820229362831983045        1\n",
      "                                                   ..\n",
      "4449030437132438114251125434723                     1\n",
      "86310314748021291380311779111111127861041116        1\n",
      "385179831351208153512133711719153391921219          1\n",
      "557799722614583789996178305777066710554273472102    1\n",
      "16081313331787555422675221471920202186982921        1\n",
      "Name: unique_vote_id, Length: 9109, dtype: int64\n"
     ]
    }
   ],
   "source": [
    "print(vest_pa_16[\"unique_vote_id\"].value_counts())\n",
    "print(pivoted_2016[\"unique_vote_id\"].value_counts())\n",
    "\n",
    "\n",
    "join_vest_pa_16 = vest_pa_16[vest_pa_16[\"unique_vote_id\"]!=\"000000000000000000\"]\n",
    "join_pivoted_2016 = pivoted_2016[pivoted_2016[\"unique_vote_id\"]!=\"000000000000000000\"]\n",
    "\n",
    "print(join_vest_pa_16[\"unique_vote_id\"].value_counts())\n",
    "print(join_pivoted_2016[\"unique_vote_id\"].value_counts())"
   ]
  },
  {
   "cell_type": "code",
   "execution_count": 320,
   "id": "f2473ba2",
   "metadata": {},
   "outputs": [],
   "source": [
    "source_to_vest_changes = pd.read_csv(\"./source_to_vest_name_changes.csv\")\n",
    "source_to_vest_changes_dict = dict(zip(source_to_vest_changes[\"Source\"],source_to_vest_changes[\"VEST\"]))"
   ]
  },
  {
   "cell_type": "code",
   "execution_count": 321,
   "id": "411130b6",
   "metadata": {},
   "outputs": [],
   "source": [
    "pivoted_2016[\"election_check_join\"] = pivoted_2016[\"election_check_join\"].map(source_to_vest_changes_dict).fillna(pivoted_2016[\"election_check_join\"])"
   ]
  },
  {
   "cell_type": "code",
   "execution_count": 322,
   "id": "63962fef",
   "metadata": {},
   "outputs": [
    {
     "name": "stdout",
     "output_type": "stream",
     "text": [
      "both          8688\n",
      "left_only      476\n",
      "right_only     421\n",
      "Name: _merge, dtype: int64\n"
     ]
    }
   ],
   "source": [
    "vote_name_hack = pd.merge(join_vest_pa_16,join_pivoted_2016,how=\"outer\",on=\"unique_vote_id\",indicator=True)\n",
    "print(vote_name_hack[\"_merge\"].value_counts())\n",
    "left_only = vote_name_hack[vote_name_hack[\"_merge\"]==\"left_only\"]\n",
    "right_only = vote_name_hack[vote_name_hack[\"_merge\"]==\"right_only\"]\n",
    "\n",
    "left_only.to_csv(\"./exported_csvs/election_check_only_vest.csv\")\n",
    "right_only.to_csv(\"./exported_csvs/election_check_only_source.csv\")"
   ]
  },
  {
   "cell_type": "code",
   "execution_count": 323,
   "id": "8a6c2736",
   "metadata": {},
   "outputs": [],
   "source": [
    "changes = vote_name_hack[vote_name_hack[\"_merge\"]==\"both\"][[\"VTDST\",\"election_check_join_holder\",\"election_check_join_y\"]]"
   ]
  },
  {
   "cell_type": "code",
   "execution_count": 324,
   "id": "4f8e3e83",
   "metadata": {},
   "outputs": [],
   "source": [
    "source_to_vest_changes_dict_2 = dict(zip(changes[\"election_check_join_y\"],changes[\"election_check_join_holder\"]))\n",
    "pivoted_2016[\"election_check_join\"] = pivoted_2016[\"election_check_join\"].map(source_to_vest_changes_dict_2).fillna(pivoted_2016[\"election_check_join\"])"
   ]
  },
  {
   "cell_type": "code",
   "execution_count": 326,
   "id": "a93fbd87",
   "metadata": {},
   "outputs": [
    {
     "name": "stdout",
     "output_type": "stream",
     "text": [
      "Don't join                             98\n",
      "077BETHLEHEM WARD 13 DISTRICT 04        1\n",
      "043LONDONDERRY DISTRICT 01              1\n",
      "047FOX DISTRICT 02                      1\n",
      "099WATTS                                1\n",
      "                                       ..\n",
      "069Old Forge Ward 04                    1\n",
      "003WEST MIFFLIN DISTRICT 09             1\n",
      "085SANDY CREEK                          1\n",
      "003LINCOLN                              1\n",
      "101PHILADELPHIA WARD 02 PRECINCT 03     1\n",
      "Name: election_check_join, Length: 9070, dtype: int64\n",
      "085SANDY LAKE                                     2\n",
      "011SHOEMAKERSVILLE DISTRICT 01                    1\n",
      "029SPRING CITY WARD 04                            1\n",
      "073SHENANGO DISTRICT 05                           1\n",
      "069Scranton Ward 11 District 01                   1\n",
      "                                                 ..\n",
      "017LOWER SOUTHAMPTON DISTRICT WEST DIVISION 02    1\n",
      "087LEWISTOWN WARD 02                              1\n",
      "081JERSEY SHORE WARD 01                           1\n",
      "055ANTRIM DISTRICT 01                             1\n",
      "101PHILADELPHIA WARD 02 PRECINCT 03               1\n",
      "Name: election_check_join, Length: 9122, dtype: int64\n"
     ]
    }
   ],
   "source": [
    "print(vest_pa_16[\"election_check_join\"].value_counts())\n",
    "print(pivoted_2016[\"election_check_join\"].value_counts())"
   ]
  },
  {
   "cell_type": "code",
   "execution_count": 327,
   "id": "17645fb9",
   "metadata": {},
   "outputs": [
    {
     "name": "stdout",
     "output_type": "stream",
     "text": [
      "both          8980\n",
      "left_only      187\n",
      "right_only     143\n",
      "Name: _merge, dtype: int64\n"
     ]
    }
   ],
   "source": [
    "join_one = pd.merge(vest_pa_16,pivoted_2016,how=\"outer\",on=\"election_check_join\",indicator=True)\n",
    "print(join_one[\"_merge\"].value_counts())\n",
    "left_only = join_one[join_one[\"_merge\"]==\"left_only\"]\n",
    "right_only = join_one[join_one[\"_merge\"]==\"right_only\"]\n",
    "\n",
    "left_only.to_csv(\"./exported_csvs/final_election_check_only_vest.csv\")\n",
    "right_only.to_csv(\"./exported_csvs/final_election_check_only_source.csv\")"
   ]
  },
  {
   "cell_type": "code",
   "execution_count": 328,
   "id": "36b77328",
   "metadata": {},
   "outputs": [],
   "source": [
    "def shp_combiner(new_name,merge_list):\n",
    "    global shapefiles_census\n",
    "    prec_holder = []\n",
    "    countyfp = new_name[0:3]\n",
    "    vtdst = new_name[3:9] \n",
    "    name = new_name[9:]\n",
    "    for i in merge_list:\n",
    "        #shapefiles_census.loc[shapefiles_census[\"cty_pct\"]==i,:].plot()\n",
    "        prec_holder.append(shapefiles_census.loc[shapefiles_census[\"cty_pct\"]==i,:])\n",
    "    new_geom = pd.concat(prec_holder, ignore_index=True).unary_union\n",
    "    new_prec = gp.GeoDataFrame(geometry=[new_geom],columns=shapefiles_census.columns,crs = shapefiles_census.crs)\n",
    "    new_prec[\"COUNTYFP\"] = countyfp\n",
    "    new_prec[\"VTDST\"] = vtdst\n",
    "    new_prec[\"NAME\"] = name\n",
    "    new_prec[\"cty_pct\"] = countyfp+vtdst+name\n",
    "    new_prec[\"shp_join\"] = countyfp+vtdst\n",
    "    shapefiles_census = shapefiles_census.append(new_prec)\n",
    "    shapefiles_census = shapefiles_census[~(shapefiles_census[\"cty_pct\"].isin(merge_list))]"
   ]
  },
  {
   "cell_type": "code",
   "execution_count": null,
   "id": "8ee16b4a",
   "metadata": {},
   "outputs": [],
   "source": [
    "#Empty precincts\n",
    "\n",
    "#011ADAMSTOWN\n",
    "#049LAKE ERIE\n",
    "#091LOWER MERION WARD 02 DISTRICT 02 B (CD 13)"
   ]
  },
  {
   "cell_type": "code",
   "execution_count": 347,
   "id": "1457d452",
   "metadata": {},
   "outputs": [
    {
     "name": "stdout",
     "output_type": "stream",
     "text": [
      "  STATEFP COUNTYFP   VTDST          NAME  G16PREDCLI  G16PRERTRU  G16PRELJOH  \\\n",
      "0      42      001  000010   ABBOTTSTOWN         119         274          13   \n",
      "1      42      001  000020  ARENDTSVILLE         143         235           7   \n",
      "2      42      001  000030  BENDERSVILLE          83         153          15   \n",
      "3      42      001  000040       BERWICK         257         816          24   \n",
      "4      42      001  000050   BIGLERVILLE         148         314          13   \n",
      "\n",
      "   G16PREGSTE  G16PRECCAS  G16USSDMCG  ...  G16AUDLMIN  G16AUDGSWE  \\\n",
      "0           3           2         128  ...          10          17   \n",
      "1           2           2         141  ...          13          11   \n",
      "2           5           1          83  ...          10          11   \n",
      "3          10           2         289  ...          39          30   \n",
      "4           3           3         150  ...          13          17   \n",
      "\n",
      "   G16TREDTOR  G16TRERVOI  G16TRELBAB  G16TREGCOM  \\\n",
      "0         119         244           8          33   \n",
      "1         144         216          10          16   \n",
      "2          86         142           9          14   \n",
      "3         298         719          33          43   \n",
      "4         162         278          13          28   \n",
      "\n",
      "                                            geometry  election_check_join  \\\n",
      "0  POLYGON Z ((-76.99801 39.88359 0.00000, -76.99...       001ABBOTTSTOWN   \n",
      "1  POLYGON Z ((-77.31141 39.92625 0.00000, -77.30...      001ARENDTSVILLE   \n",
      "2  POLYGON Z ((-77.25596 39.98075 0.00000, -77.25...      001BENDERSVILLE   \n",
      "3  MULTIPOLYGON Z (((-76.99558 39.88677 0.00000, ...           001BERWICK   \n",
      "4  POLYGON Z ((-77.25594 39.93043 0.00000, -77.25...       001BIGLERVILLE   \n",
      "\n",
      "   election_check_join_holder                                 unique_vote_id  \n",
      "0              001ABBOTTSTOWN    1192741332128256321452671322481017119244833  \n",
      "1             001ARENDTSVILLE    1432357221412322015323815221213111442161016  \n",
      "2             001BENDERSVILLE         83153155183159169615892138101186142914  \n",
      "3                  001BERWICK  257816241022897457130478833169439302987193343  \n",
      "4              001BIGLERVILLE   14831413331503063316432016928313171622781328  \n",
      "\n",
      "[5 rows x 26 columns]\n"
     ]
    }
   ],
   "source": [
    "print(vest_pa_16.head())"
   ]
  },
  {
   "cell_type": "code",
   "execution_count": 345,
   "id": "722776ba",
   "metadata": {},
   "outputs": [],
   "source": [
    "def shape_election_merge(prec_list,new_name):\n",
    "    for i in prec_list:\n",
    "        print(i)\n",
    "        print(vest_pa_16.loc[vest_pa_16[\"election_check_join_holder\"]==i])\n",
    "        "
   ]
  },
  {
   "cell_type": "code",
   "execution_count": 346,
   "id": "4ed53305",
   "metadata": {},
   "outputs": [
    {
     "name": "stdout",
     "output_type": "stream",
     "text": [
      "003BALDWIN DISTRICT 01130\n",
      "Empty GeoDataFrame\n",
      "Columns: [STATEFP, COUNTYFP, VTDST, NAME, G16PREDCLI, G16PRERTRU, G16PRELJOH, G16PREGSTE, G16PRECCAS, G16USSDMCG, G16USSRTOO, G16USSLCLI, G16ATGDSHA, G16ATGRRAF, G16AUDDDEP, G16AUDRBRO, G16AUDLMIN, G16AUDGSWE, G16TREDTOR, G16TRERVOI, G16TRELBAB, G16TREGCOM, geometry, election_check_join, election_check_join_holder, unique_vote_id]\n",
      "Index: []\n",
      "\n",
      "[0 rows x 26 columns]\n",
      "003BALDWIN DISTRICT 01151\n",
      "Empty GeoDataFrame\n",
      "Columns: [STATEFP, COUNTYFP, VTDST, NAME, G16PREDCLI, G16PRERTRU, G16PRELJOH, G16PREGSTE, G16PRECCAS, G16USSDMCG, G16USSRTOO, G16USSLCLI, G16ATGDSHA, G16ATGRRAF, G16AUDDDEP, G16AUDRBRO, G16AUDLMIN, G16AUDGSWE, G16TREDTOR, G16TRERVOI, G16TRELBAB, G16TREGCOM, geometry, election_check_join, election_check_join_holder, unique_vote_id]\n",
      "Index: []\n",
      "\n",
      "[0 rows x 26 columns]\n"
     ]
    }
   ],
   "source": [
    "shape_election_merge([\"003BALDWIN DISTRICT 01130\",\"003BALDWIN DISTRICT 01151\"],\"003BALDWIN DISTRICT 01\")"
   ]
  },
  {
   "cell_type": "code",
   "execution_count": null,
   "id": "a40f744b",
   "metadata": {},
   "outputs": [],
   "source": [
    "#Duplicates to validate VEST (name+VTDST)\n",
    "shape_election_merge([\"003BALDWIN DISTRICT 01130\",\"003BALDWIN DISTRICT 01151\"],\"003BALDWIN DISTRICT 01\")\n",
    "shape_election_merge([\"003BALDWIN DISTRICT 02140\",\"003BALDWIN DISTRICT 02161\"],\"003BALDWIN DISTRICT 02\")\n",
    "shape_election_merge([\"007DARLINGTON640\",\"007DARLINGTON630\"],\"007DARLINGTON\")\n",
    "shape_election_merge([\"009HOPEWELL150\",\"009HOPEWELL160\"],\"009HOPEWELL\")\n",
    "shape_election_merge([\"009WOODBURY410\",\"009WOODBURY420\"],\"009WOODBURY\")\n",
    "shape_election_merge([\"015CANTON130\",\"015CANTON140\"],\"015CANTON\")\n",
    "shape_election_merge([\"015BURLINGTON120\",\"015BURLINGTON110\"],\"015BURLINGTON\")\n",
    "shape_election_merge([\"015MONROE230\",\"015MONROE220\"],\"015MONROE\")\n",
    "shape_election_merge([\"015ROME300\",\"015ROME310\"],\"015ROME\")\n",
    "shape_election_merge([\"015TROY510\",\"015TROY500\"],\"015TROY\")\n",
    "shape_election_merge([\"015WYALUSING600\",\"015WYALUSING590\"])\n",
    "shape_election_merge([\"017NEWTOWN DISTRICT 021860\",\"017NEWTOWN DISTRICT 021920\"],\"017NEWTOWN DISTRICT 02\")\n",
    "shape_election_merge([\"017NEWTOWN DISTRICT 011910\",\"017NEWTOWN DISTRICT 011850\"],\"017NEWTOWN DISTRICT 01\")\n",
    "shape_election_merge([\"019CONNOQUENESSING330\",\"019CONNOQUENESSING340\"],\"019CONNOQUENESSING\")\n",
    "shape_election_merge([\"019FAIRVIEW430\",\"019FAIRVIEW420\"],\"019FAIRVIEW\")\n",
    "shape_election_merge([\"019SLIPPERY ROCK670\",\"019SLIPPERY ROCK680\"],\"019SLIPPERY ROCK\")\n",
    "shape_election_merge([\"021GALLITZIN636\",\"021GALLITZIN615\"],\"021GALLITZIN\")\n",
    "shape_election_merge([\"027HOWARD300\",\"027HOWARD290\"],\"027HOWARD\")\n",
    "shape_election_merge([\"031CLARION DISTRICT 0150\",\"031CLARION DISTRICT 0170\"],\"031CLARION DISTRICT 01\")\n",
    "shape_election_merge([\"031CLARION DISTRICT 0260\",\"031CLARION DISTRICT 0280\"],\"031CLARION DISTRICT 02\")\n",
    "shape_election_merge([\"031KNOX200\",\"031KNOX210\"],\"031KNOX\")\n",
    "shape_election_merge([\"033BURNSIDE110\",\"033BURNSIDE120\"],\"033BURNSIDE\")\n",
    "shape_election_merge([\"035BEECH CREEK40\",\"035BEECH CREEK50\"],\"035BEECH CREEK\")\n",
    "shape_election_merge([\"037BENTON20\",\"037BENTON30\"],\"037BENTON\")\n",
    "shape_election_merge([\"037CATAWISSA260\",\"037CATAWISSA275\"],\"037CATAWISSA\")\n",
    "shape_election_merge([\"039VENANGO570\",\"039VENANGO580\"],\"039VENANGO\")\n",
    "shape_election_merge([\"039WOODCOCK670\",\"039WOODCOCK660\"],\"039WOODCOCK\")\n",
    "shape_election_merge([\"053TIONESTA100\",\"053TIONESTA110\"],\"053TIONESTA\")\n",
    "shape_election_merge([\"079WILKES-BARRE WARD 012635\",\"079WILKES-BARRE WARD 013075\"],\"079WILKES-BARRE WARD 01\")\n",
    "shape_election_merge([\"079WILKES-BARRE WARD 022655\",\"079WILKES-BARRE WARD 023095\"],\"079WILKES-BARRE WARD 02\")\n",
    "shape_election_merge([\"079NESCOPECK1740\",\"079NESCOPECK1750\"],\"079NESCOPECK\")\n",
    "shape_election_merge([\"083ELDRED160\",\"083ELDRED170\"],\"083ELDRED\")\n",
    "shape_election_merge([\"085SANDY LAKE700\",\"085SANDY LAKE710\"],\"085SANDY LAKE\")\n",
    "shape_election_merge([\"099LIVERPOOL130\",\"099LIVERPOOL140\"],\"099LIVERPOOL\")\n",
    "shape_election_merge([\"103MILFORD90\",\"103MILFORD100\"],\"103MILFORD\")\n",
    "shape_election_merge([\"105OSWAYO190\",\"105OSWAYO180\"],\"105OSWAYO\")\n",
    "shape_election_merge([\"105ULYSSES310\",\"105ULYSSES320\"],\"105ULYSSES\")\n",
    "shape_election_merge([\"107TREMONT1595\",\"107TREMONT1580\"],\"107TREMONT\")\n",
    "shape_election_merge([\"111ADDISON10\",\"111ADDISON20\"],\"111ADDISON\")\n",
    "shape_election_merge([\"113LAPORTE130\",\"113LAPORTE140\"],\"113LAPORTE\")\n",
    "shape_election_merge([\"115GREAT BEND160\",\"115GREAT BEND150\"],\"115GREAT BEND\")\n",
    "shape_election_merge([\"115THOMPSON420\",\"115THOMPSON410\"],\"115THOMPSON\")\n",
    "shape_election_merge([\"115NEW MILFORD320\",\"115NEW MILFORD330\"],\"115NEW MILFORD\")\n",
    "shape_election_merge([\"115OAKLAND340\",\"115OAKLAND350\"],\"115OAKLAND\")\n",
    "shape_election_merge([\"117LIBERTY240\",\"117LIBERTY230\"],\"117LIBERTY\")\n",
    "shape_election_merge([\"117WESTFIELD460\",\"117WESTFIELD445\"],\"117WESTFIELD\")\n",
    "shape_election_merge([\"117TIOGA370\",\"117TIOGA380\"],\"117TIOGA\")\n",
    "shape_election_merge([\"123SUGAR GROVE255\",\"123SUGAR GROVE290\"],\"123SUGAR GROVE\")\n",
    "shape_election_merge([\"131MESHOPPEN130\",\"131MESHOPPEN140\"],\"131MESHOPPEN\")"
   ]
  },
  {
   "cell_type": "markdown",
   "id": "26aa433c",
   "metadata": {},
   "source": [
    "# Import Shapefile"
   ]
  },
  {
   "cell_type": "code",
   "execution_count": null,
   "id": "5a3f3630",
   "metadata": {},
   "outputs": [],
   "source": [
    "#Combine all the data from separate files into one\n",
    "li = []\n",
    "for i in fips_codes:\n",
    "    ref = \"./raw-from-source/Census/partnership_shapefiles_19v2_\"\n",
    "    file_ref = ref+i+\"/PVS_19_v2_vtd_\"+i+\".shp\"\n",
    "    file_prev = gp.read_file(file_ref)\n",
    "    #print(file_prev.shape)\n",
    "    li.append(file_prev)\n",
    "global shapefiles_census\n",
    "shapefiles_census = pd.concat(li, axis=0, ignore_index=True)"
   ]
  },
  {
   "cell_type": "code",
   "execution_count": null,
   "id": "85a62486",
   "metadata": {},
   "outputs": [],
   "source": [
    "#Filter down shapefiles to relevant columns\n",
    "shapefiles_census = shapefiles_census[[\"COUNTYFP\",\"VTDST\",\"NAME\",\"geometry\"]]"
   ]
  },
  {
   "cell_type": "code",
   "execution_count": null,
   "id": "21362004",
   "metadata": {},
   "outputs": [],
   "source": [
    "#Look into two possible unique IDs\n",
    "shapefiles_census[\"cty_pct\"] = shapefiles_census[\"COUNTYFP\"]+shapefiles_census[\"VTDST\"]+shapefiles_census[\"NAME\"]\n",
    "shapefiles_census[\"shp_join\"] = shapefiles_census[\"COUNTYFP\"]+shapefiles_census[\"VTDST\"]\n",
    "print(shapefiles_census.shape)\n",
    "print(shapefiles_census[\"shp_join\"].nunique())"
   ]
  },
  {
   "cell_type": "markdown",
   "id": "c29e8f73",
   "metadata": {},
   "source": [
    "Precinct shapefiles primarily from the U.S. Census Bureau's 2020 Redistricting Data Program Phase 2 release. The shapefiles from Delaware County and the City of Pittsburgh are from the respective jurisdictions instead. Precinct numbers were corrected to match the voter file in the following locales: Allegheny (Elizabeth, Pittsburgh W12), Blair (Greenfield), Bradford (Athens), Greene (Nonongahela), Monroe (Smithfield), Montgomery (Hatfield), Northampton (Bethlehem Twp), Perry (Toboyne), Washington (New Eagle, Somerset), York (Fairview).\n"
   ]
  },
  {
   "cell_type": "markdown",
   "id": "4e0bed53",
   "metadata": {},
   "source": [
    "## Allegheny (Elizabeth, Pittsburgh W12)"
   ]
  },
  {
   "cell_type": "code",
   "execution_count": null,
   "id": "12d0ec55",
   "metadata": {},
   "outputs": [],
   "source": [
    "shapefiles_census[(shapefiles_census[\"NAME\"].str.contains(\"ELIZABETH\"))&(shapefiles_census[\"COUNTYFP\"]==\"003\")].plot(column=\"NAME\",legend=True,figsize=(15,15))\n",
    "vest_pa_16[(vest_pa_16[\"NAME\"].str.contains(\"ELIZABETH\"))&(vest_pa_16[\"COUNTYFP\"]==\"003\")].plot(column=\"NAME\",legend=True,figsize=(15,15))"
   ]
  },
  {
   "cell_type": "code",
   "execution_count": null,
   "id": "ae6343ae",
   "metadata": {},
   "outputs": [],
   "source": [
    "shapefiles_census[(shapefiles_census[\"NAME\"].str.contains(\"PITTSBURGH WARD 12\"))&(shapefiles_census[\"COUNTYFP\"]==\"003\")].plot(column=\"NAME\",legend=True,figsize=(15,15))\n",
    "vest_pa_16[(vest_pa_16[\"NAME\"].str.contains(\"PITTSBURGH WARD 12\"))&(vest_pa_16[\"COUNTYFP\"]==\"003\")].plot(column=\"NAME\",legend=True,figsize=(15,15))"
   ]
  },
  {
   "cell_type": "markdown",
   "id": "7f14c269",
   "metadata": {},
   "source": [
    "## Blair (Greenfield)"
   ]
  },
  {
   "cell_type": "code",
   "execution_count": null,
   "id": "7308c848",
   "metadata": {},
   "outputs": [],
   "source": [
    "shapefiles_census[(shapefiles_census[\"NAME\"].str.contains(\"GREENFIELD\"))&(shapefiles_census[\"COUNTYFP\"]==\"013\")].plot(column=\"NAME\",legend=True,figsize=(15,15))\n",
    "vest_pa_16[(vest_pa_16[\"NAME\"].str.contains(\"GREENFIELD\"))&(vest_pa_16[\"COUNTYFP\"]==\"013\")].plot(column=\"NAME\",legend=True,figsize=(15,15))"
   ]
  },
  {
   "cell_type": "markdown",
   "id": "af9ff4f4",
   "metadata": {},
   "source": [
    "## Bradford (Athens)"
   ]
  },
  {
   "cell_type": "code",
   "execution_count": null,
   "id": "4160f510",
   "metadata": {},
   "outputs": [],
   "source": [
    "shapefiles_census[(shapefiles_census[\"NAME\"].str.contains(\"ATHENS DISTRICT\"))&(shapefiles_census[\"COUNTYFP\"]==\"015\")].plot(column=\"NAME\",legend=True,figsize=(15,15))\n",
    "vest_pa_16[(vest_pa_16[\"NAME\"].str.contains(\"ATHENS DISTRICT\"))&(vest_pa_16[\"COUNTYFP\"]==\"015\")].plot(column=\"NAME\",legend=True,figsize=(15,15))"
   ]
  },
  {
   "cell_type": "markdown",
   "id": "aeef1b9d",
   "metadata": {},
   "source": [
    "## Greene (Monongahela)"
   ]
  },
  {
   "cell_type": "code",
   "execution_count": null,
   "id": "bb141905",
   "metadata": {},
   "outputs": [],
   "source": [
    "shapefiles_census[(shapefiles_census[\"NAME\"].str.contains(\"MONONGAHELA\"))&(shapefiles_census[\"COUNTYFP\"]==\"059\")].plot(column=\"NAME\",legend=True,figsize=(15,15))\n",
    "vest_pa_16[(vest_pa_16[\"NAME\"].str.contains(\"MONONGAHELA\"))&(vest_pa_16[\"COUNTYFP\"]==\"059\")].plot(column=\"NAME\",legend=True,figsize=(15,15))"
   ]
  },
  {
   "cell_type": "markdown",
   "id": "d29febd7",
   "metadata": {},
   "source": [
    "## Monroe (Smithfield)"
   ]
  },
  {
   "cell_type": "code",
   "execution_count": null,
   "id": "77781552",
   "metadata": {},
   "outputs": [],
   "source": [
    "shapefiles_census[(shapefiles_census[\"NAME\"].str.contains(\"SMITHFIELD\"))&(shapefiles_census[\"COUNTYFP\"]==\"089\")].plot(column=\"NAME\",legend=True,figsize=(15,15))\n",
    "vest_pa_16[(vest_pa_16[\"NAME\"].str.contains(\"SMITHFIELD\"))&(vest_pa_16[\"COUNTYFP\"]==\"089\")].plot(column=\"NAME\",legend=True,figsize=(15,15))"
   ]
  },
  {
   "cell_type": "markdown",
   "id": "a1af41d3",
   "metadata": {},
   "source": [
    "## Montgomery (Hatfield)"
   ]
  },
  {
   "cell_type": "code",
   "execution_count": null,
   "id": "8e907c52",
   "metadata": {},
   "outputs": [],
   "source": [
    "shapefiles_census[(shapefiles_census[\"NAME\"].str.contains(\"HATFIELD\"))&(shapefiles_census[\"COUNTYFP\"]==\"091\")].plot(column=\"VTDST\",legend=True,figsize=(15,15))\n",
    "vest_pa_16[(vest_pa_16[\"NAME\"].str.contains(\"HATFIELD\"))&(vest_pa_16[\"COUNTYFP\"]==\"091\")].plot(column=\"VTDST\",legend=True,figsize=(15,15))"
   ]
  },
  {
   "cell_type": "markdown",
   "id": "5b6c1b66",
   "metadata": {},
   "source": [
    "## Northampton (Bethlehem Twp)"
   ]
  },
  {
   "cell_type": "code",
   "execution_count": null,
   "id": "d6470ab0",
   "metadata": {},
   "outputs": [],
   "source": [
    "shapefiles_census[(shapefiles_census[\"NAME\"].str.contains(\"BETHLEHEM\"))&(shapefiles_census[\"COUNTYFP\"]==\"095\")].plot(column=\"VTDST\",legend=True,figsize=(15,15))\n",
    "vest_pa_16[(vest_pa_16[\"NAME\"].str.contains(\"BETHLEHEM\"))&(vest_pa_16[\"COUNTYFP\"]==\"095\")].plot(column=\"VTDST\",legend=True,figsize=(15,15))"
   ]
  },
  {
   "cell_type": "markdown",
   "id": "5f3180a5",
   "metadata": {},
   "source": [
    "## Perry (Toboyne)"
   ]
  },
  {
   "cell_type": "code",
   "execution_count": null,
   "id": "36e0fbf2",
   "metadata": {},
   "outputs": [],
   "source": [
    "shapefiles_census[(shapefiles_census[\"NAME\"].str.contains(\"TOBOYNE\"))&(shapefiles_census[\"COUNTYFP\"]==\"099\")].plot(column=\"VTDST\",legend=True,figsize=(15,15))\n",
    "vest_pa_16[(vest_pa_16[\"NAME\"].str.contains(\"TOBOYNE\"))&(vest_pa_16[\"COUNTYFP\"]==\"099\")].plot(column=\"VTDST\",legend=True,figsize=(15,15))"
   ]
  },
  {
   "cell_type": "markdown",
   "id": "dfffcb00",
   "metadata": {},
   "source": [
    "## Washington (New Eagle, Somerset)"
   ]
  },
  {
   "cell_type": "code",
   "execution_count": null,
   "id": "79bae5b1",
   "metadata": {},
   "outputs": [],
   "source": [
    "shapefiles_census[(shapefiles_census[\"NAME\"].str.contains(\"SOMERSET DISTRICT\"))&(shapefiles_census[\"COUNTYFP\"]==\"125\")].plot(column=\"VTDST\",legend=True,figsize=(15,15))\n",
    "vest_pa_16[(vest_pa_16[\"NAME\"].str.contains(\"SOMERSET DISTRICT\"))&(vest_pa_16[\"COUNTYFP\"]==\"125\")].plot(column=\"VTDST\",legend=True,figsize=(15,15))"
   ]
  },
  {
   "cell_type": "code",
   "execution_count": null,
   "id": "7bdb1a4d",
   "metadata": {},
   "outputs": [],
   "source": [
    "shapefiles_census[(shapefiles_census[\"NAME\"].str.contains(\"NEW EAGLE\"))&(shapefiles_census[\"COUNTYFP\"]==\"125\")].plot(column=\"VTDST\",legend=True,figsize=(15,15))\n",
    "vest_pa_16[(vest_pa_16[\"NAME\"].str.contains(\"NEW EAGLE\"))&(vest_pa_16[\"COUNTYFP\"]==\"125\")].plot(column=\"VTDST\",legend=True,figsize=(15,15))"
   ]
  },
  {
   "cell_type": "markdown",
   "id": "ab0795b8",
   "metadata": {},
   "source": [
    "## York (Fairview)"
   ]
  },
  {
   "cell_type": "code",
   "execution_count": null,
   "id": "40b5f318",
   "metadata": {},
   "outputs": [],
   "source": [
    "shapefiles_census[(shapefiles_census[\"NAME\"].str.contains(\"FAIRVIEW DISTRICT\"))&(shapefiles_census[\"COUNTYFP\"]==\"133\")].plot(column=\"VTDST\",legend=True,figsize=(15,15))\n",
    "vest_pa_16[(vest_pa_16[\"NAME\"].str.contains(\"FAIRVIEW DISTRICT\"))&(vest_pa_16[\"COUNTYFP\"]==\"133\")].plot(column=\"VTDST\",legend=True,figsize=(15,15))"
   ]
  },
  {
   "cell_type": "code",
   "execution_count": null,
   "id": "391e743e",
   "metadata": {},
   "outputs": [],
   "source": []
  }
 ],
 "metadata": {
  "kernelspec": {
   "display_name": "Python 3",
   "language": "python",
   "name": "python3"
  },
  "language_info": {
   "codemirror_mode": {
    "name": "ipython",
    "version": 3
   },
   "file_extension": ".py",
   "mimetype": "text/x-python",
   "name": "python",
   "nbconvert_exporter": "python",
   "pygments_lexer": "ipython3",
   "version": "3.9.2"
  }
 },
 "nbformat": 4,
 "nbformat_minor": 5
}
