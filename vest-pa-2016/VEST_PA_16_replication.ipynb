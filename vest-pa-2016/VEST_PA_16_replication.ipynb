{
 "cells": [
  {
   "cell_type": "code",
   "execution_count": 1,
   "id": "1490ab5a",
   "metadata": {},
   "outputs": [],
   "source": [
    "import pandas as pd # standard python data library\n",
    "import geopandas as gp # the geo-version of pandas\n",
    "import numpy as np \n",
    "import os\n",
    "import fiona\n",
    "from statistics import mean, median\n",
    "from pandas import read_csv\n",
    "gp.io.file.fiona.drvsupport.supported_drivers['KML'] = 'rw' #To load KML files"
   ]
  },
  {
   "cell_type": "markdown",
   "id": "febfefd4",
   "metadata": {},
   "source": [
    "# VEST PA Validation"
   ]
  },
  {
   "cell_type": "markdown",
   "id": "3754da6a",
   "metadata": {},
   "source": [
    "# VEST Documentation"
   ]
  },
  {
   "cell_type": "markdown",
   "id": "31b41a9e",
   "metadata": {},
   "source": [
    "## Election Results\n",
    "\n",
    "> Election results from the Pennsylvania Secretary of State's office via OpenElections (https://github.com/openelections/openelections-data-pa/). Precinct data was corrected with canvass reports for the following counties: Cumberland, Elk, Lancaster, Northampton, Susquehanna. The candidate totals for Northampton and Susquehanna differ from the county totals reported by the state and therefore the statewide totals differ from the official results accordingly.\n",
    "\n",
    "> Allegheny County reported president-only votes countywide. These were distributed by candidate to precincts based on their share of the precinct-level reported vote."
   ]
  },
  {
   "cell_type": "markdown",
   "id": "5ff6b25b",
   "metadata": {},
   "source": [
    "## Shapefiles\n",
    "\n",
    "> Precinct shapefiles primarily from the U.S. Census Bureau's 2020 Redistricting Data Program Phase 2 release. The shapefiles from Delaware County and the City of Pittsburgh are from the respective jurisdictions instead. Precinct numbers were corrected to match the voter file in the following locales: Allegheny (Elizabeth, Pittsburgh W12), Blair (Greenfield), Bradford (Athens), Greene (Nonongahela), Monroe (Smithfield), Montgomery (Hatfield), Northampton (Bethlehem Twp), Perry (Toboyne), Washington (New Eagle, Somerset), York (Fairview).\n",
    "\n",
    "## Details about using Voter File\n",
    "\n",
    "> Precinct boundaries throughout the state were edited to match voter assignments in the PA Secretary of State voter file from the 2016 election cycle. While some edits reflect official updates to wards or divisions the great majority involve voters incorrectly assigned to voting districts by the counties. As such the VEST shapefile endeavors to reflect the de facto precinct boundaries and these often differ from the official voting district boundaries, in some cases quite drastically. Wherever possible edits were made using census boundaries or alternatively using the parcel shapefiles from the respective counties. \n",
    "\n",
    "> In certain areas voter assignments appear so erratic that it is impractical to place all voters within their assigned precinct. These areas were edited so as to place as many voters as possible within their assigned precinct without displacing a greater number from their assigned precinct. In general, municipal boundaries were retained except where significant numbers of numbers were misassigned to the wrong municipality. In cases where the odd/even split was incorrectly reversed for precinct boundary streets the official boundary was retained. All such cases involved near equal number of voters swapped between voting districts.\n",
    "\n",
    "> The following revisions were made to the base shapefiles to match the de facto 2016 precinct boundaries consistent with the voter file. Individual precincts are noted in cases of splits or merges. Due to the sheer number of edits boundary adjustments are noted at the borough/township level. There may be as many as two dozen individual precincts that were revised within a given municipality.\n",
    "\n",
    "## List of Shapefile Revisions\n",
    "\n",
    "> **Adams:** Adjust Cumberland, Franklin  \n",
    "**Allegheny:** Merge CD splits for S Fayette 3/5; Split Pittsburgh W5 11/17; Merge Pittsburgh W16 9/11/12, Align McCandless with municipal boundary; Adjust Avalon, Baldwin, Bethel Park, Braddock, Brentwood, Castle Shannon, Clairton, Collier, Coraopolis, Crescent, Dormont, Dravosburg, Duquesne, E Deer, E McKeesport, E Pittsburgh, Elizabeth, Emsworth, Forward, Glassport, Hampton, Harmar, Ingram, Jefferson Hills, Kennedy, Leet, Liberty, Marshall, McCandless, McKees Rocks, McKeesport, Monroeville, Moon, Mount Lebanon, Munhall, N Fayette, N Versailles, O'Hara, Oakdale, Penn Hills, Pine, Pittsburgh (all wards), Pleasant Hills, Reserve, Richland, Ross, Scott, Sewickley, Shaler, S Fayette, S Park, Stowe, Swissvale, Upper St. Clair, W Deer, W Homestead, W Mifflin, W View, Whitaker, Whitehall, Wilkins, Wilkinsburg  \n",
    "**Armstrong:** Align Dayton, Elderton, Ford City, Kittanning, N Apollo with municipal boundaries; Adjust Ford City, Gilpin, Kiskiminetas, Kittanning, Manor, N Buffalo, Parks, Parker City, S Buffalo  \n",
    "**Beaver:** Adjust Aliquippa, Ambridge, Baden, Beaver, Brighton, Center, Chippewa, Conway, Economy, Franklin, Hanover, Harmony, Hopewell, Midland, Monaca, N Sewickley  \n",
    "**Bedford:** Adjust Bedford Boro, Bedford Twp  \n",
    "**Berks:** Merge CD splits for District, Exeter 5; Split Laureldale 1A/B by CD; Adjust Cumru, Douglass, Oley, Maxatawny, Robeson, Sinking Spring, Spring, Union  \n",
    "**Blair:** Merge Tunnelhill/Allegheny Twp 4; Align Altoona, Bellwood, Duncansville, Hollidaysburg, Newry, Roaring Spring, Tyrone, Williamsburg with municipal boundaries; Adjust Allegheny, Altoona, Antis, Frankstown, Freedom, Greenfield, Huston, Juniata, N Woodbury, Logan, Snyder, Tyrone Boro, Tyrone Twp  \n",
    "**Bucks:** Align Sellersville, Tullytown with municipal boundaries; Adjust Bensalem, Bristol Boro, Bristol Twp, Buckingham, Doylestown Twp, Falls, Hilltown, Lower Makefield N, Lower Southampton E, Middletown, Milford, Morrissville, Newtown Twp, Northampton, Solebury Lower, Solebury, Springfield, Tinicum, Upper Makefield, Upper Southampton E, Warminster, Warrington, W Rockhill  \n",
    "**Butler:** Merge CD splits for Cranberry E 2, 3, Cranberry W 1, 2, Jefferson 1, 2; Align Butler Twp, Valencia with municipal boundaries; Adjust Adams, Buffalo, Butler Boro, Butler Twp, Center, Cranberry E, Cranberry W, Jackson, Jefferson, Zelienople  \n",
    "**Cambria:** Split Johnstown CT 1/2, W8 1/2, W11/OC, Reade N/S; Realign E Taylor 1/2 into 1-4; Align Daisytown, Sankertown, W Taylor, Wilmore with municipal boundaries; Adjust Cambria, Conemaugh, Croyle, Ebensburg, E Carroll, Geistown, Jackson, Johnstown W17, W20, Lower Yoder, Northern Cambria, Portage Boro, Portage Twp, Richland, Southmont, Stonycreek, Summerhill, Susquehanna, Upper Yoder, W Carroll, Westmont\n",
    "**Cameron:** Adjust Emporium, Shippen  \n",
    "**Clarion:** Split Farmington Central into South/West; Merge Emlenton/Richland  \n",
    "**Carbon:** Adjust Jim Thorpe, Kidder, Mahoning, New Mahoning, Summit Hill  \n",
    "**Centre:** Merge CD splits for Halfmoon E Central/Proper; Merge Ferguson Northeast 1 A/B; Adjust Benner, College, Ferguson, Patton  \n",
    "**Chester:** Merge CD/LD splits for Birmingham 2, Phoenixville M 1; Adjust Birmingham, E Bradford S, E Fallowfield, E Goshen, E Marlborough, Easttown, N Coventry, Spring City, Tredyffrin M, Uwchlan, W Bradford, W Caln, W Goshen N, W Goshen S, Westtown  \n",
    "**Clarion:** Adjust Clarion, Highland, Farmington, Knox  \n",
    "**Clearfield:** Adjust Bradford, Cooper, Decatur, Golden Rod, Lawrence Glen Richie, Morris, Plympton, Woodward  \n",
    "**Columbia:** Merge Ashland/Conyngham; Adjust Orange, Scott West  \n",
    "**Crawford:** Align Mead, Woodcock with municipal boundaries  \n",
    "**Cumberland:** Merge CD splits for N Middleton 1, 3; Split Lower Allen 1/Annex; Align Carlisle, E Pennsboro, Hampton, Lemoyne, Lower Allen, Mechanisburg, Middlesex, Mount Holly Springs, N Middleton, Shiremanstown, Silver Spring, W Pennsboro, Wormsleysburg with municipal boundaries  \n",
    "**Dauphin:** Split Highspire 1/2, Millersburg 1/2, Steelton 2/3, Susquehanna 1/3; Merge Swatara 10 into 6/8; Align Middletown 2-1/3-1 with municipal boundary; Adjust Derry, Harrisburg W1, W7, W8, W9, Hummelstown, Lower Paxton, Lykens, Middletown, Swatara  \n",
    "**Delaware:** Adjust Chester, Concord, Darby Boro, Darby Twp, Haverford, Marple, Nether Providence, Newtown, Radnor, Ridley, Sharon Hill, Thornbury, Tinicum, Trainer, Upper Chichester, Upper Darby, Upper Providence  \n",
    "**Elk:** Split N/S Horton; Adjust Johnsonburg, Ridgeway Boro, Ridgeway Twp, St. Marys  \n",
    "**Erie:** Split Corry 3/4; Merge Mill Creek 23/25; Adjust Erie W1, W4, W5, W6, Greene, Lawrence Park, McKean, Millcreek, North East  \n",
    "**Fayette:** Split Masontown 1/2, Washington 1/2; Align Dunbar with municipal boundary; Adjust Brownsville, Bullskin, Dunbar, Georges, German, Luzerne, N Union, Redstone  \n",
    "**Franklin:** Align Mercersburg with municipal boundary; Adjust Antrim, Fannett, Greene, Guilford, Hamilton, Metal, Peters, Quincy, St. Thomas, Southampton, Washington  \n",
    "**Fulton:** Align McConnellsburg with municipal boundary  \n",
    "**Greene:** Align Carmichaels with municipal boundary; Adjust Cumberland, Dunkard, Franklin, Jefferson, Lipencott, Mather, Morgan Chart, Monongahela, Nemacolin  \n",
    "**Huntingdon:** Adjust Huntingdon, Mount Union, Shirley  \n",
    "**Jefferson:**  Align Reynoldsville with municipal boundary; Adjust Punxsutawney  \n",
    "**Lackawanna:** Split Olyphant Ward 3-2 A/B; Adjust Archbald, Blakely, Carbondale, Clarks Summit, Dickson City, Dunmore, Fell, Jermyn, Jessup, Mayfield, Moosic, Old Forge, Olyphant, Scranton W1, W2, W3, W6, W7, W10, W12, W13, W14, W15, W16, W19, W20, W23, S Abington, Taylor, Throop  \n",
    "**Lancaster:** Split Lancaster 7-8 CV/LS; Adjust Brecknock, Columbia, E Hempfield, E Lampeter, E Petersburg, Elizabethtown, Ephrata, Lancaster W6, W8, Lititz, Manheim, Manor, Millersville, Mt Joy Boro, Mt Joy Twp, New Holland, Penn, Providence, Rapho, Warwick, W Cocalico, W Donegal, W Hempfield  \n",
    "**Lawrence:** Adjust Neshannock  \n",
    "**Lebanon:** Adjust Jackson, Lickdale, S Lebanon, Union Green Pt  \n",
    "**Lehigh:** Adjust Lower Macungie, Salisbury  \n",
    "**Luzerne:** Merge CD splits for Hazle 1; Align Avoca, Pittston with municipal boundaries; Adjust Butler, Dallas Boro, Dallas Twp, Exeter, Foster, Freeland, Hanover, Hazle, Jenkins, Kingston Boro, Kingston Twp, Larksville, Lehman, Nanticoke, Newport, Plains, Salem, Smoyersville, W Wyoming, Wilkes-Barre  \n",
    "**Lycoming:** Align Williamsport with municipal boundary; Adjust Jersey Shore  \n",
    "**McKean:** Adjust Bradford City, Bradford Twp, Foster, Keating, Otto  \n",
    "**Mercer:** Adjust Delaware, Fredonia, Greenville, Hempfield, Hermitage, Sharon, Sharpsville, S Pymatuning, W Salem  \n",
    "**Monroe:** Merge CD splits for Smithfield 1; Align E Stroudsburg with municipal boundary; Adjust E Stroudsburg, Smithfield  \n",
    "**Montgomery:** Merge CD splits for Franconia 2, Horsham 2-1, 4-2, Lower Merion 12-2, 12-3; Add CD splits for Hatfield 5-2, Horsham 2-2, Lower Merion 2-2, Perkiomen 1, Plymouth 2-3; Adjust Abington, Lower Merion, Pottstown, Springfield, Upper Moreland, Upper Merion, Upper Providence  \n",
    "**Northampton:** Add CD split for Bethlehem W17; Reverse 2017 Bethlehem Twp redistricting; Align Glendon, Walnutport with municipal boundaries; Adjust Bangor, Bethlehem W2, W3, W4, W7, W9, W14, W15, Bethlehem Twp, Bushkill, Easton, Forks, Hanover, Hellertown, Lehigh, Lower Mt Bethel, Lower Saucon, Moore, Nazareth, Palmer, Plainfield, Upper Mt Bethel, Washington, Williams  \n",
    "**Northumberland:** Merge CD splits for Upper Mahanoy; Split Riverside A/B; Align Northumberland with municipal boundary; Adjust Coal, Milton, Mount Carmel W, Natalie-Strong, Northumberland, Point, Ralpho, Shamokin, Sunbury, Upper Augusta\n",
    "**Philadelphia:** Merge 5-30 into 5-10/16/26/27; 5-31 into 5-25; 5-32 into 5-17; 5-33/34 into 5-21; 18-18 into 18-1/9; Adjust 27-7/8, 43-1/24, 51-3/8, 51-4/20, 57-10/27, 62-8/12, 65-4/7  \n",
    "**Pike:** Adjust Matamoras  \n",
    "**Potter:** Adjust Galeton, Sharon  \n",
    "**Schuylkill:** Adjust Coaldale, N Manheim, Norwegian, Porter, Pottsville  \n",
    "**Somerset:** Align New Centerville with municipal boundary; Adjust Conemaugh, Jefferson, Middlecreek, Paint, Somerset Boro  \n",
    "**Susquehanna:** Adjust Montrose; Lanesboro, Susquehanna Depot  \n",
    "**Tioga:** Add CD splits for Shippen; Adjust Delmar, Wellsboro  \n",
    "**Union:** Adjust Buffalo, White Deer  \n",
    "**Venango:** Split Cornplanter 1/2; Split Sugarcreek 1/4; Adjust Franklin, Sugarcreek, Cornplanter, Oil City  \n",
    "**Warren:** Adjust Conewango  \n",
    "**Washington:** Split Canton 1/3; Align Allenport, Beallsville, Burgettstown, Canonsburg, Carroll, Charleroi, Claysville, Elco, Finleyville, Houston, Long Branch, McDonald, Monongahela, Speers, Twilight with municipal boundaries; Adjust Amwell, Bentleyville, California, Canonsburg, Canton, Cecil, Centerville, Chartiers, Donegal, Donora, Fallowfield, Hanover, Independence, Mount Pleasant, N Franklin, N Strabane, Peters, Robinson, Smith, Somerset, S Franklin, S Strabane, Union Washington, W Brownsville  \n",
    "**Wayne:** Adjust Honesdale  \n",
    "**Westmoreland:** Split Ligonier 1/2; Merge CD splits for Unity Pleasant Unity; Align Greensburg with municipal boundary; Adjust Allegheny, Arnold, Bell, Derry, E Huntingdon, Fairfield, Greensburg, Hempfield, Jeannette, Latrobe, Ligonier, Lower Burrell, Monessen, Mount Pleasant, Murraysville, New Kensington, N Belle Vernon, N Huntingdon, Penn, Rostraver, St. Clair, Scottdale, Sewickley, S Greensburg, S Huntingdon, Trafford, Upper Burrell, Unity, Vandergrift, Washington, Youngwood  \n",
    "**Wyoming:** Split Nicholson Borough; Adjust Falls  \n",
    "**York:** Merge CD splits for York Twp 5-3; Align E Prospect, Goldsboro, Jefferson, Manchester, Monaghan, Wellsville, York with municipal boundaries; Adjust Chanceford, Codorus, Conewago, Dover, Fairview, Hanover, Jackson, Lower Windsor, New Freedom, Newberry, N Codorus, Penn, Red Lion, Shrewsbury, Spring Garden, Springbettsbury, W Manchester, Windsor Boro, Windsor Twp, Wrightsville, York Twp, York W5, W6, W15  "
   ]
  },
  {
   "cell_type": "markdown",
   "id": "e2e06e12",
   "metadata": {},
   "source": [
    "## Import File"
   ]
  },
  {
   "cell_type": "code",
   "execution_count": null,
   "id": "0c811072",
   "metadata": {},
   "outputs": [],
   "source": [
    "global vest_pa_16\n",
    "vest_pa_16 = gp.read_file(\"./raw-from-source/VEST/pa_2016/pa_2016.shp\")"
   ]
  },
  {
   "cell_type": "markdown",
   "id": "7db4e4c6",
   "metadata": {},
   "source": [
    "## Election Results"
   ]
  },
  {
   "cell_type": "markdown",
   "id": "48bc44a3",
   "metadata": {},
   "source": [
    "#### Create a FIPS dictionary"
   ]
  },
  {
   "cell_type": "code",
   "execution_count": null,
   "id": "f00aee8e",
   "metadata": {},
   "outputs": [],
   "source": [
    "fips_file = pd.read_csv(\"./raw-from-source/FIPS/US_FIPS_Codes.csv\")\n",
    "fips_file = fips_file[fips_file[\"State\"]==\"Pennsylvania\"]\n",
    "fips_file[\"FIPS County\"]=fips_file[\"FIPS County\"].astype(str)\n",
    "fips_file[\"FIPS County\"]=fips_file[\"FIPS County\"].str.zfill(3)\n",
    "fips_file[\"unique_ID\"] =  \"42\" + fips_file[\"FIPS County\"]\n",
    "fips_codes = fips_file[\"unique_ID\"].tolist()\n",
    "pa_fips_dict = dict(zip(fips_file[\"County Name\"],fips_file[\"FIPS County\"]))"
   ]
  },
  {
   "cell_type": "markdown",
   "id": "0e77dc70",
   "metadata": {},
   "source": [
    "#### Load and clean election results"
   ]
  },
  {
   "cell_type": "code",
   "execution_count": null,
   "id": "976112c8",
   "metadata": {},
   "outputs": [],
   "source": [
    "#Load in election results\n",
    "pa_election = pd.read_csv(\"./raw-from-source/Election_Results/openelections-data-pa-master/2016/20161108__pa__general__precinct.csv\")\n",
    "\n",
    "#Take a look at the file\n",
    "print(pa_election.head())\n",
    "\n",
    "#Filter down to relevant offices\n",
    "office_list = ['President', 'U.S. Senate', 'Attorney General', 'Auditor General','State Treasurer']\n",
    "pa_election = pa_election[pa_election[\"office\"].isin(office_list)]\n",
    "\n",
    "#Change the county column from names to FIPS codes using the above dictionary\n",
    "pa_election[\"county\"] = pa_election[\"county\"].map(pa_fips_dict).fillna(pa_election[\"county\"])\n",
    "\n",
    "#Create a pivot column using the FIPS + Precinct Name\n",
    "pa_election[\"pivot_col\"] = pa_election[\"county\"]+pa_election[\"precinct\"]\n",
    "\n",
    "#Pivot the election results\n",
    "pivoted_2016 = pd.pivot_table(pa_election, values=[\"votes\"], index=[\"pivot_col\"],columns=[\"candidate\"],aggfunc=sum)\n",
    "\n",
    "#Clean up the indices and rename the columns after the pivot\n",
    "pivoted_2016.reset_index(drop=False,inplace=True)\n",
    "pivoted_2016.columns = pivoted_2016.columns.droplevel(0)\n",
    "pivoted_2016.columns=[\"pivot_col\",\"G16PRECCAS\",\"G16PRERTRU\",\"G16USSLCLI\",\"G16AUDDDEP\",\"G16PRELJOH\",\n",
    "                     \"G16PREDCLI\",\"G16TRELBAB\",\"G16PREGSTE\",\"G16AUDRBRO\",\"G16ATGRRAF\",\"G16AUDGSWE\",\n",
    "                     \"G16TREDTOR\",\"G16ATGDSHA\",\"G16USSDMCG\",\"G16TREGCOM\",\"G16TRERVOI\",\"G16USSRTOO\",\n",
    "                     \"G16AUDLMIN\"]\n",
    "\n",
    "#Using the pivot column, create the name and FIPS columns again\n",
    "pivoted_2016[\"NAME\"]=pivoted_2016[\"pivot_col\"].str[3:]\n",
    "pivoted_2016[\"COUNTYFP\"]=pivoted_2016[\"pivot_col\"].str[0:3]\n",
    "\n",
    "#Filter back down to the needed columns, in the order of how they are in the VEST file\n",
    "pivoted_2016 = pivoted_2016[[\"COUNTYFP\",\"NAME\",'G16PREDCLI', 'G16PRERTRU',\n",
    "       'G16PRELJOH', 'G16PREGSTE', 'G16PRECCAS', 'G16USSDMCG', 'G16USSRTOO',\n",
    "       'G16USSLCLI', 'G16ATGDSHA', 'G16ATGRRAF', 'G16AUDDDEP', 'G16AUDRBRO',\n",
    "       'G16AUDLMIN', 'G16AUDGSWE', 'G16TREDTOR', 'G16TRERVOI', 'G16TRELBAB',\n",
    "       'G16TREGCOM']]"
   ]
  },
  {
   "cell_type": "markdown",
   "id": "e43f7c35",
   "metadata": {},
   "source": [
    "#### Deal w/ Allegheny President-Only votes\n",
    "\n",
    "> \"Allegheny County reported president-only votes countywide. These were distributed by candidate to precincts based on their share of the precinct-level reported vote.\""
   ]
  },
  {
   "cell_type": "code",
   "execution_count": null,
   "id": "8274be11",
   "metadata": {},
   "outputs": [],
   "source": [
    "#Load the county vote totals in from Open Elections\n",
    "pa_counties = pd.read_csv(\"./raw-from-source/Election_Results/openelections-data-pa-master/2016/20161108__pa__general_county.csv\")\n",
    "\n",
    "#Filter down to Allegheny\n",
    "pa_counties = pa_counties[(pa_counties[\"county\"]==\"Allegheny\")&(pa_counties[\"office\"]==\"President\")]\n",
    "\n",
    "#Pivot and clean to make useful\n",
    "pa_counties_piv = pd.pivot_table(pa_counties,index=[\"county\"],values=[\"votes\"],columns=\"candidate\")\n",
    "pa_counties_piv.columns = pa_counties_piv.columns.droplevel(0)\n",
    "pa_counties_piv.columns = ['G16PRECCAS','G16PRERTRU', 'G16PRELJOH', 'G16PREDCLI', 'G16PREGSTE']\n",
    "\n",
    "#Print the difference between the county totals and the precinct totals, these will be the votes to add\n",
    "for i in ['G16PREDCLI', 'G16PRERTRU', 'G16PRELJOH','G16PREGSTE', 'G16PRECCAS']:\n",
    "    print(i +\" \"+ str(pa_counties_piv[i][0]-sum(pivoted_2016[pivoted_2016[\"COUNTYFP\"]==\"003\"][i]))+ \" votes to add\")"
   ]
  },
  {
   "cell_type": "code",
   "execution_count": null,
   "id": "4a387d5f",
   "metadata": {},
   "outputs": [],
   "source": [
    "#Create a dataframe of just Allegheny precincts\n",
    "allegheny = pivoted_2016[(pivoted_2016[\"COUNTYFP\"]==\"003\")]\n",
    "\n",
    "#Remove the Allegheny precincts \n",
    "pivoted_2016 = pivoted_2016[(pivoted_2016[\"COUNTYFP\"]!=\"003\")]\n",
    "pivoted_2016.reset_index(inplace=True,drop=True)\n",
    "\n",
    "#Get the sums of the precinct-level votes, which will be used as the denominator in the county-wide vote assignment\n",
    "allegheny_sum = allegheny[['G16PREDCLI', 'G16PRERTRU', 'G16PRELJOH','G16PREGSTE', 'G16PRECCAS']].sum()\n",
    "\n",
    "#Create a dataframe of the total countywide votes that need to be added for each race\n",
    "allegheny_totals = pd.DataFrame([[\"G16PREDCLI\",683],[\"G16PRERTRU\",355],[\"G16PRELJOH\",56],[\"G16PREGSTE\",6],[\"G16PRECCAS\",6]])\n",
    "allegheny_totals.set_index(0,inplace=True)\n",
    "\n",
    "#Make a list of the presidential races that need votes assigned\n",
    "pres_races = ['G16PREDCLI', 'G16PRERTRU', 'G16PRELJOH', 'G16PREGSTE', 'G16PRECCAS']\n",
    "\n",
    "for race in pres_races:\n",
    "    #Create two new variables\n",
    "    add_var = race+\"_add\"\n",
    "    rem_var = race+\"_rem\"\n",
    "    #Add_var is the number of votes to add based on the percentage of total votes\n",
    "    allegheny[add_var]=allegheny[race].apply(lambda x:(x/int(allegheny_sum.loc[race]))*int(allegheny_totals.loc[race]))\n",
    "    #Rem_var is the decimal number of votes of Add_var\n",
    "    allegheny[rem_var]=allegheny[add_var]%1\n",
    "    #Because we don't want to assign \n",
    "    to_go = int(np.round((sum(allegheny[add_var]))-sum(np.floor(allegheny[add_var])),0))\n",
    "    for i in allegheny[rem_var].nlargest(to_go).index:\n",
    "        allegheny.loc[i,add_var]=np.ceil(allegheny.loc[i,add_var])\n",
    "    allegheny[add_var]=np.floor(allegheny[add_var])\n",
    "    allegheny[race]+=allegheny[add_var]\n",
    "    allegheny[race]=allegheny[race].astype(int)\n",
    "    \n",
    "allegheny = allegheny[['COUNTYFP', 'NAME', 'G16PREDCLI', 'G16PRERTRU', 'G16PRELJOH',\n",
    "       'G16PREGSTE', 'G16PRECCAS', 'G16USSDMCG', 'G16USSRTOO', 'G16USSLCLI',\n",
    "       'G16ATGDSHA', 'G16ATGRRAF', 'G16AUDDDEP', 'G16AUDRBRO', 'G16AUDLMIN',\n",
    "       'G16AUDGSWE', 'G16TREDTOR', 'G16TRERVOI', 'G16TRELBAB', 'G16TREGCOM']]\n",
    "\n",
    "pivoted_2016 = pd.concat([pivoted_2016,allegheny])\n",
    "pivoted_2016.reset_index(inplace=True,drop=True)"
   ]
  },
  {
   "cell_type": "code",
   "execution_count": null,
   "id": "9bae501d",
   "metadata": {},
   "outputs": [],
   "source": [
    "#Re-run the above code to make sure the vote totals now match\n",
    "pa_counties = pd.read_csv(\"./raw-from-source/Election_Results/openelections-data-pa-master/2016/20161108__pa__general_county.csv\")\n",
    "pa_counties = pa_counties[(pa_counties[\"county\"]==\"Allegheny\")&(pa_counties[\"office\"]==\"President\")]\n",
    "pa_counties_piv = pd.pivot_table(pa_counties,index=[\"county\"],values=[\"votes\"],columns=\"candidate\")\n",
    "pa_counties_piv.columns = pa_counties_piv.columns.droplevel(0)\n",
    "pa_counties_piv.columns = ['G16PRECCAS','G16PRERTRU', 'G16PRELJOH', 'G16PREDCLI', 'G16PREGSTE']\n",
    "\n",
    "for i in ['G16PREDCLI', 'G16PRERTRU', 'G16PRELJOH','G16PREGSTE', 'G16PRECCAS']:\n",
    "    print(i +\" \"+ str(pa_counties_piv[i][0]-sum(pivoted_2016[pivoted_2016[\"COUNTYFP\"]==\"003\"][i]))+ \" votes to add\")"
   ]
  },
  {
   "cell_type": "code",
   "execution_count": null,
   "id": "4b96345c",
   "metadata": {},
   "outputs": [],
   "source": [
    "#Print out the totals comparison for the sourcefile vs VEST file\n",
    "\n",
    "data_columns = ['G16PREDCLI', 'G16PRERTRU','G16PRELJOH', 'G16PREGSTE', 'G16PRECCAS', 'G16USSDMCG', 'G16USSRTOO','G16USSLCLI', 'G16ATGDSHA', 'G16ATGRRAF', 'G16AUDDDEP', 'G16AUDRBRO','G16AUDLMIN', 'G16AUDGSWE', 'G16TREDTOR', 'G16TRERVOI', 'G16TRELBAB','G16TREGCOM']\n",
    "vote_totals_diff = pd.DataFrame()\n",
    "for i in data_columns:\n",
    "    vote_totals_diff= vote_totals_diff.append([[i,int(sum(pivoted_2016[i])),int(sum(vest_pa_16[i])),0,int(sum(pivoted_2016[i])-sum(vest_pa_16[i]))]])\n",
    "print(vote_totals_diff)\n",
    "vote_totals_diff.to_csv(\"./vote_totals_diff.csv\")"
   ]
  },
  {
   "cell_type": "code",
   "execution_count": null,
   "id": "4d24c930",
   "metadata": {},
   "outputs": [],
   "source": [
    "#This is for the report, checking totals for certain races in Nor and Sus\n",
    "diff_to_check = [\"G16PREDCLI\",\"G16PRERTRU\",\"G16PRELJOH\",\"G16TRELBAB\"]\n",
    "for i in diff_to_check:\n",
    "    holder = vest_pa_16.groupby([\"COUNTYFP\"]).sum()[i]\n",
    "    print(holder[holder.index.isin([\"095\",\"115\"])])"
   ]
  },
  {
   "cell_type": "code",
   "execution_count": null,
   "id": "6f8e234a",
   "metadata": {},
   "outputs": [],
   "source": [
    "#Print out the county, by county difference\n",
    "diff_counties = []\n",
    "\n",
    "for i in data_columns:\n",
    "    diff = pivoted_2016.groupby([\"COUNTYFP\"]).sum()[i]-vest_pa_16.groupby([\"COUNTYFP\"]).sum()[i]\n",
    "    print(i)\n",
    "    for val in diff[diff != 0].index.values.tolist():\n",
    "        if val not in diff_counties:\n",
    "            diff_counties.append(val)\n",
    "    print(diff[diff != 0].to_string(header=False))\n",
    "    print(\"\")\n",
    "\n",
    "#Use the FIPS field to print out the name of the different counties\n",
    "fips_name_dict=dict(zip(fips_file[\"FIPS County\"],fips_file[\"County Name\"]))\n",
    "for i in diff_counties:\n",
    "    print(fips_name_dict.get(i))"
   ]
  },
  {
   "cell_type": "markdown",
   "id": "97546afd",
   "metadata": {},
   "source": [
    "Note: VEST includes Northampton and Susquehanna on it's list of counties where data was corrected with a canvass report, so the fact that there are differences is not surprising. We will see more about the differences when the files are merged and compared precinct-by-precinct."
   ]
  },
  {
   "cell_type": "markdown",
   "id": "6476bee4",
   "metadata": {},
   "source": [
    "### Check precinct-by-precinct election totals"
   ]
  },
  {
   "cell_type": "code",
   "execution_count": null,
   "id": "a7331151",
   "metadata": {},
   "outputs": [],
   "source": [
    "#COUNTYFP+\"NAME\" is a unique ID for the source file\n",
    "print(pivoted_2016.shape)\n",
    "pivoted_2016[\"NAME\"] = pivoted_2016[\"NAME\"].str.upper()\n",
    "print((pivoted_2016[\"COUNTYFP\"]+pivoted_2016[\"NAME\"]).nunique())\n",
    "\n",
    "# \"COUNTYFP\" + \"NAME\" is not a unique ID for the VEST file\n",
    "print(vest_pa_16.shape)\n",
    "print((vest_pa_16[\"COUNTYFP\"]+vest_pa_16[\"NAME\"]).nunique())\n",
    "\n",
    "#Make a field of these variables in the two columns\n",
    "pivoted_2016[\"election_check_join\"] = pivoted_2016[\"COUNTYFP\"]+pivoted_2016[\"NAME\"]\n",
    "vest_pa_16[\"election_check_join\"] = vest_pa_16[\"COUNTYFP\"]+vest_pa_16[\"NAME\"]\n",
    "\n",
    "#Create a list of the duplicate IDs in the VEST file\n",
    "ser = (vest_pa_16[\"COUNTYFP\"]+vest_pa_16[\"NAME\"]).value_counts()\n",
    "print(ser[ser>1])\n",
    "dup_list = list(ser[ser>1].index)\n",
    "\n",
    "#Create a new variable in VEST that gives a precinct the \"Don't join\" value if it's duplicated\n",
    "vest_pa_16[\"election_check_join_holder\"] = vest_pa_16[\"election_check_join\"]\n",
    "vest_pa_16[\"election_check_join\"] = vest_pa_16[\"election_check_join\"].apply(lambda x: \"Don't join\" if x in dup_list else x)\n",
    "\n",
    "#Confirm that it is working correctly\n",
    "vest_pa_16[\"election_check_join\"].value_counts()"
   ]
  },
  {
   "cell_type": "code",
   "execution_count": null,
   "id": "a3a7a191",
   "metadata": {},
   "outputs": [],
   "source": [
    "#Check the join on the column (exlcudes the duplicates)\n",
    "join_one = pd.merge(vest_pa_16,pivoted_2016,how=\"outer\",on=\"election_check_join\",indicator=True)\n",
    "print(join_one[\"_merge\"].value_counts())"
   ]
  },
  {
   "cell_type": "markdown",
   "id": "0ea5c145",
   "metadata": {},
   "source": [
    "### Increase matches: Find name changes by using vote ID as an identifier and then grabbing name"
   ]
  },
  {
   "cell_type": "markdown",
   "id": "51dcd059",
   "metadata": {},
   "source": [
    "Note: Here we are using a string composed of the vote totals for the various races as a unique ID. Through experimentation, we found that this had a very high match rate and was much quicker than manually finding the name changes for the ~7500 precincts that need to be matched. We did check the names of the precincts that were matched through the vote ID to make sure it was reasonable."
   ]
  },
  {
   "cell_type": "code",
   "execution_count": null,
   "id": "88f1e060",
   "metadata": {},
   "outputs": [],
   "source": [
    "#Create a unique vote ID column\n",
    "pivoted_2016[\"unique_vote_id\"] = \"\"\n",
    "vest_pa_16[\"unique_vote_id\"] = \"\"\n",
    "\n",
    "#Add in the vote totals from all the races to form the unique ID\n",
    "for i in data_columns:\n",
    "    pivoted_2016[\"unique_vote_id\"]+=pivoted_2016[i].astype(str)\n",
    "    vest_pa_16[\"unique_vote_id\"]+=vest_pa_16[i].astype(str)\n",
    "    \n",
    "#Since we are doing this to see what names to map to, exlcude the duplicate VEST names\n",
    "join_vest_pa_16 = vest_pa_16[(vest_pa_16[\"unique_vote_id\"]!=\"000000000000000000\")&~(vest_pa_16[\"election_check_join\"].isin(dup_list))]\n",
    "join_pivoted_2016 = pivoted_2016[pivoted_2016[\"unique_vote_id\"]!=\"000000000000000000\"]     \n",
    "    "
   ]
  },
  {
   "cell_type": "code",
   "execution_count": null,
   "id": "63962fef",
   "metadata": {},
   "outputs": [],
   "source": [
    "vote_name_hack = pd.merge(join_vest_pa_16,join_pivoted_2016,how=\"outer\",on=\"unique_vote_id\",indicator=True)\n",
    "print(vote_name_hack[\"_merge\"].value_counts())\n",
    "left_only = vote_name_hack[vote_name_hack[\"_merge\"]==\"left_only\"]\n",
    "right_only = vote_name_hack[vote_name_hack[\"_merge\"]==\"right_only\"]\n",
    "\n",
    "#left_only.to_csv(\"./election_check_only_vest.csv\")\n",
    "#right_only.to_csv(\"./election_check_only_source.csv\")"
   ]
  },
  {
   "cell_type": "markdown",
   "id": "e47c2a60",
   "metadata": {},
   "source": [
    "As you can see, this results in ~7400 more joins than using the unedited names. We will make a dictionary of the name changes suggested this way to perform a sanity check"
   ]
  },
  {
   "cell_type": "code",
   "execution_count": null,
   "id": "8a6c2736",
   "metadata": {},
   "outputs": [],
   "source": [
    "#Using the vote_name_hack, grab the VTDST and the name columns created from the join\n",
    "changes = vote_name_hack[vote_name_hack[\"_merge\"]==\"both\"][[\"VTDST\",\"election_check_join_holder\",\"election_check_join_y\"]]"
   ]
  },
  {
   "cell_type": "code",
   "execution_count": null,
   "id": "4f8e3e83",
   "metadata": {},
   "outputs": [],
   "source": [
    "#Create a dictonary that maps from the source file name to the VEST name\n",
    "source_to_vest_changes_vote_id = dict(zip(changes[\"election_check_join_y\"],changes[\"election_check_join_holder\"]))\n",
    "\n",
    "#Create and export a df as a sanity check to make sure the names that are being mapped make sense\n",
    "source_to_vest_changes_vote_id_df = pd.DataFrame()\n",
    "source_to_vest_changes_vote_id_df[\"Source_Name\"]=source_to_vest_changes_vote_id.keys()\n",
    "source_to_vest_changes_vote_id_df[\"VEST_Name\"]=source_to_vest_changes_vote_id_df[\"Source_Name\"].apply(lambda x: source_to_vest_changes_vote_id[x])\n",
    "source_to_vest_changes_vote_id_df.to_csv(\"./vote_id_name_changes_check.csv\")\n",
    "\n",
    "#Apply the dictionary to the sourcefile names so they match VEST's\n",
    "pivoted_2016[\"election_check_join\"] = pivoted_2016[\"election_check_join\"].map(source_to_vest_changes_vote_id).fillna(pivoted_2016[\"election_check_join\"])"
   ]
  },
  {
   "cell_type": "markdown",
   "id": "827a3bd9",
   "metadata": {},
   "source": [
    "### Sort out remaining unmatched precincts: Manually identify name changes"
   ]
  },
  {
   "cell_type": "code",
   "execution_count": null,
   "id": "e90117d1",
   "metadata": {},
   "outputs": [],
   "source": [
    "#These precincts do not have exactly matching vote totals so were not identified in the above\n",
    "#BUT, through looking at the names it is clear that these name changes were made\n",
    "source_to_vest_changes_manual_dict = {'003HAMPTON DISTRICT 2': '003HAMPTON DISTRICT 02', '003BALDWIN DISTRICT 2': '003BALDWIN DISTRICT 02', '003AVALON WARD 1': '003AVALON WARD 01', '003BALDWIN DISTRICT 1': '003BALDWIN DISTRICT 01', '003PENN HILLS WARD 3-4': '003PENN HILLS WARD 03 DISTRICT 04', '095BANGOR WARD 1': '095BANGOR WARD 01', '095BANGOR WARD 2': '095BANGOR WARD 02', '095BANGOR WARD 3': '095BANGOR WARD 03', '095BANGOR WARD 4': '095BANGOR WARD 04', '095BUSHKILL CENTRE': '095BUSHKILL DISTRICT CENTRE', '095BUSHKILL CHERRY HILL': '095BUSHKILL DISTRICT CHERRY HILL', '095EAST ALLEN EAST': '095EAST ALLEN DISTRICT EAST', '095EAST ALLEN WEST': '095EAST ALLEN DISTRICT WEST', '095EASTON WARD 2': '095EASTON WARD 02', '095EASTON WARD 3-3': '095EASTON WARD 03 DISTRICT 03', '095EASTON WARD 3-4': '095EASTON WARD 03 DISTRICT 04', '095EASTON WARD 4': '095EASTON WARD 04', '095EASTON WARD 6': '095EASTON WARD 06', '095EASTON WARD 7': '095EASTON WARD 07', '095EASTON WARD 8-EAST': '095EASTON WARD 08 DISTRICT EAST', '095EASTON WARD 8-WEST': '095EASTON WARD 08 DISTRICT WEST', '095EASTON WARD 10-EAST': '095EASTON WARD 10 DISTRICT EAST', '095FORKS EASTERN 1': '095FORKS DISTRICT EASTERN DISTRICT 01', '095FORKS EASTERN 2': '095FORKS DISTRICT EASTERN DISTRICT 02', '095FORKS WESTERN 2': '095FORKS DISTRICT WESTERN DISTRICT 02', '095HANOVER 1': '095HANOVER DISTRICT 01', '095HANOVER 5': '095HANOVER DISTRICT 05', '095HELLERTOWN WARD 1': '095HELLERTOWN WARD 01', '095BETHLEHEM WARD 1-3': '095BETHLEHEM WARD 01 DISTRICT 03', '095BETHLEHEM WARD 2': '095BETHLEHEM WARD 02', '095BETHLEHEM WARD 2-1': '095BETHLEHEM WARD 02 DISTRICT 01', '095BETHLEHEM WARD 2-2': '095BETHLEHEM WARD 02 DISTRICT 02', '095BETHLEHEM WARD 2-3': '095BETHLEHEM WARD 02 DISTRICT 03', '095BETHLEHEM WARD 3': '095BETHLEHEM WARD 03', '095BETHLEHEM WARD 3-1': '095BETHLEHEM WARD 03 DISTRICT 01', '095BETHLEHEM WARD 3-2': '095BETHLEHEM WARD 03 DISTRICT 02', '095BETHLEHEM WARD 3-4': '095BETHLEHEM WARD 03 DISTRICT 04', '095BETHLEHEM WARD 4': '095BETHLEHEM WARD 04', '095BETHLEHEM WARD 4-1': '095BETHLEHEM WARD 04 DISTRICT 01', '095BETHLEHEM TWP WARD 4-2': '095BETHLEHEM WARD 04 DISTRICT 02', '095BETHLEHEM TWP WARD 4-3': '095BETHLEHEM WARD 04 DISTRICT 03', '095BETHLEHEM WARD 5': '095BETHLEHEM WARD 05', '095BETHLEHEM WARD 6': '095BETHLEHEM WARD 06', '095BETHLEHEM WARD 7': '095BETHLEHEM WARD 07', '095BETHLEHEM WARD 8': '095BETHLEHEM WARD 08', '095BETHLEHEM WARD 9-1': '095BETHLEHEM WARD 09 DISTRICT 01', '095BETHLEHEM WARD 9-2': '095BETHLEHEM WARD 09 DISTRICT 02', '095BETHLEHEM WARD 9-3': '095BETHLEHEM WARD 09 DISTRICT 03', '095BETHLEHEM WARD 14-1': '095BETHLEHEM WARD 14 DISTRICT 01', '095BETHLEHEM WARD 14-2': '095BETHLEHEM WARD 14 DISTRICT 02', '095BETHLEHEM WARD 14-3': '095BETHLEHEM WARD 14 DISTRICT 03', '095BETHLEHEM WARD 14-4': '095BETHLEHEM WARD 14 DISTRICT 04', '095BETHLEHEM WARD 14-5': '095BETHLEHEM WARD 14 DISTRICT 05', '095BETHLEHEM WARD 14-6': '095BETHLEHEM WARD 14 DISTRICT 06', '095BETHLEHEM WARD 14-7': '095BETHLEHEM WARD 14 DISTRICT 07', '095BETHLEHEM WARD 14-8': '095BETHLEHEM WARD 14 DISTRICT 08', '095BETHLEHEM WARD 15-1': '095BETHLEHEM WARD 15 DISTRICT 01', '095BETHLEHEM WARD 15-2': '095BETHLEHEM WARD 15 DISTRICT 02', '095BETHLEHEM WARD 15-3': '095BETHLEHEM WARD 15 DISTRICT 03', '095BETHLEHEM WARD 17 B (CONG 17)': '095BETHLEHEM WARD 17 B (Cong 17)', '095LOWER NAZARETH 1': '095LOWER NAZARETH DISTRICT 01', '095LOWER SAUCON 3': '095LOWER SAUCON DISTRICT 03', '095LOWER SAUCON 5': '095LOWER SAUCON DISTRICT 05', '095MOORE BEERSVILLE': '095MOORE DISTRICT BEERSVILLE', '095NAZARETH WARD 3': '095NAZARETH WARD 03', '095NORTHAMPTON WARD 1': '095NORTHAMPTON WARD 01', '095NORTHAMPTON WARD 2': '095NORTHAMPTON WARD 02', '095NORTHAMPTON WARD 3': '095NORTHAMPTON WARD 03', '095PALMER EASTERN': '095PALMER DISTRICT EASTERN', '095PALMER MIDDLE 2': '095PALMER DISTRICT MIDDLE DIVISION 02', '095PALMER UPPER WESTERN': '095PALMER DISTRICT UPPER WESTERN', '095PALMER WESTERN 1': '095PALMER DISTRICT WESTERN DIVISION 01', '095PALMER WESTERN 2': '095PALMER DISTRICT WESTERN DIVISION 02', '095WILLIAMS MIDDLE': '095WILLIAMS DISTRICT MIDDLE', '017NEWTOWN DISTRICT 1': '017NEWTOWN DISTRICT 01', '017NEWTOWN DISTRICT 2': '017NEWTOWN DISTRICT 02', '079WILKES-BARRE WARD 1': '079WILKES-BARRE WARD 01', '079WILKES-BARRE WARD 2': '079WILKES-BARRE WARD 02', '031CLARION 1': '031CLARION DISTRICT 01', '031CLARION 2': '031CLARION DISTRICT 02', '003MONROEVILLE WARD 1-1': '003MONROEVILLE WARD 01 DISTRICT 01'}\n",
    "source_to_vest_changes_manual_df = pd.DataFrame()\n",
    "source_to_vest_changes_manual_df[\"Source_Name\"]=source_to_vest_changes_manual_dict.keys()\n",
    "source_to_vest_changes_manual_df[\"VEST_Name\"]=source_to_vest_changes_manual_df[\"Source_Name\"].apply(lambda x: source_to_vest_changes_manual_dict[x])\n",
    "source_to_vest_changes_manual_df.to_csv(\"./manual_name_changes_check.csv\")"
   ]
  },
  {
   "cell_type": "code",
   "execution_count": null,
   "id": "411130b6",
   "metadata": {},
   "outputs": [],
   "source": [
    "pivoted_2016[\"election_check_join\"] = pivoted_2016[\"election_check_join\"].map(source_to_vest_changes_manual_dict).fillna(pivoted_2016[\"election_check_join\"])"
   ]
  },
  {
   "cell_type": "markdown",
   "id": "eb81c571",
   "metadata": {},
   "source": [
    "### Sort out remaining unmatched precincts: Merge some VEST precincts to match election results"
   ]
  },
  {
   "cell_type": "markdown",
   "id": "9cbbec84",
   "metadata": {},
   "source": [
    "From looking at the unmatched precincts, it is clear that VEST had some precincts that with election results reported at smaller units than the Open Election results. While these election result totals cannot be directly validated, their combined totals can be. These merges account for the duplicate IDs present above."
   ]
  },
  {
   "cell_type": "code",
   "execution_count": null,
   "id": "30494d7e",
   "metadata": {},
   "outputs": [],
   "source": [
    "#Create a new column to assist with the merging\n",
    "vest_pa_16[\"dup_consolidation\"] = vest_pa_16[\"election_check_join_holder\"]+vest_pa_16[\"VTDST\"].str[3:]"
   ]
  },
  {
   "cell_type": "code",
   "execution_count": null,
   "id": "722776ba",
   "metadata": {},
   "outputs": [],
   "source": [
    "def shape_election_merge(prec_list,new_name):\n",
    "    global vest_pa_16\n",
    "    #Merge geometries\n",
    "    new_geom = vest_pa_16.loc[vest_pa_16[\"dup_consolidation\"].isin(prec_list)].unary_union\n",
    "    \n",
    "    #Assign geometries\n",
    "    ind_val = vest_pa_16.loc[vest_pa_16[\"dup_consolidation\"]==prec_list[0]].index[0]\n",
    "    vest_pa_16.iat[ind_val,22] = new_geom\n",
    "\n",
    "    #Change VTDST to \"merged\"\n",
    "    vest_pa_16.iat[ind_val,2] = \"merged(\"+prec_list[0][3:]+\"-\"+prec_list[1][3:]+\")\"\n",
    "    vest_pa_16.iat[ind_val,23] = new_name\n",
    "    \n",
    "    #Update the columns with votes\n",
    "    data_columns = ['G16PREDCLI', 'G16PRERTRU','G16PRELJOH', 'G16PREGSTE', 'G16PRECCAS', 'G16USSDMCG', 'G16USSRTOO','G16USSLCLI', 'G16ATGDSHA', 'G16ATGRRAF', 'G16AUDDDEP', 'G16AUDRBRO','G16AUDLMIN', 'G16AUDGSWE', 'G16TREDTOR', 'G16TRERVOI', 'G16TRELBAB','G16TREGCOM']\n",
    "    for i in data_columns:\n",
    "        vest_pa_16.loc[vest_pa_16[\"dup_consolidation\"]==prec_list[0],i]+=int(vest_pa_16.loc[vest_pa_16[\"dup_consolidation\"]==prec_list[1],i])\n",
    "    \n",
    "    #Remove the second one\n",
    "    vest_pa_16 = vest_pa_16[vest_pa_16[\"dup_consolidation\"]!=prec_list[1]]\n",
    "    vest_pa_16.reset_index(inplace=True,drop=True)\n",
    "    \n",
    "        "
   ]
  },
  {
   "cell_type": "code",
   "execution_count": null,
   "id": "a40f744b",
   "metadata": {},
   "outputs": [],
   "source": [
    "#Duplicates to validate VEST (name+VTDST)\n",
    "shape_election_merge([\"003BALDWIN DISTRICT 01130\",\"003BALDWIN DISTRICT 01151\"],\"003BALDWIN DISTRICT 01\")\n",
    "shape_election_merge([\"003BALDWIN DISTRICT 02140\",\"003BALDWIN DISTRICT 02161\"],\"003BALDWIN DISTRICT 02\")\n",
    "shape_election_merge([\"007DARLINGTON640\",\"007DARLINGTON630\"],\"007DARLINGTON\")\n",
    "shape_election_merge([\"009HOPEWELL150\",\"009HOPEWELL160\"],\"009HOPEWELL\")\n",
    "shape_election_merge([\"009WOODBURY410\",\"009WOODBURY420\"],\"009WOODBURY\")\n",
    "shape_election_merge([\"015CANTON130\",\"015CANTON140\"],\"015CANTON\")\n",
    "shape_election_merge([\"015BURLINGTON120\",\"015BURLINGTON110\"],\"015BURLINGTON\")\n",
    "shape_election_merge([\"015MONROE230\",\"015MONROE220\"],\"015MONROE\")\n",
    "shape_election_merge([\"015ROME300\",\"015ROME310\"],\"015ROME\")\n",
    "shape_election_merge([\"015TROY510\",\"015TROY500\"],\"015TROY\")\n",
    "shape_election_merge([\"015WYALUSING600\",\"015WYALUSING590\"],\"015WYALUSING\")\n",
    "shape_election_merge([\"017NEWTOWN DISTRICT 02860\",\"017NEWTOWN DISTRICT 02920\"],\"017NEWTOWN DISTRICT 02\")\n",
    "shape_election_merge([\"017NEWTOWN DISTRICT 01910\",\"017NEWTOWN DISTRICT 01850\"],\"017NEWTOWN DISTRICT 01\")\n",
    "shape_election_merge([\"019CONNOQUENESSING330\",\"019CONNOQUENESSING340\"],\"019CONNOQUENESSING\")\n",
    "shape_election_merge([\"019FAIRVIEW430\",\"019FAIRVIEW420\"],\"019FAIRVIEW\")\n",
    "shape_election_merge([\"019SLIPPERY ROCK670\",\"019SLIPPERY ROCK680\"],\"019SLIPPERY ROCK\")\n",
    "shape_election_merge([\"021GALLITZIN636\",\"021GALLITZIN615\"],\"021GALLITZIN\")\n",
    "shape_election_merge([\"027HOWARD300\",\"027HOWARD290\"],\"027HOWARD\")\n",
    "shape_election_merge([\"031CLARION DISTRICT 01050\",\"031CLARION DISTRICT 01070\"],\"031CLARION DISTRICT 01\")\n",
    "shape_election_merge([\"031CLARION DISTRICT 02060\",\"031CLARION DISTRICT 02080\"],\"031CLARION DISTRICT 02\")\n",
    "shape_election_merge([\"031KNOX200\",\"031KNOX210\"],\"031KNOX\")\n",
    "shape_election_merge([\"033BURNSIDE110\",\"033BURNSIDE120\"],\"033BURNSIDE\")\n",
    "shape_election_merge([\"035BEECH CREEK040\",\"035BEECH CREEK050\"],\"035BEECH CREEK\")\n",
    "shape_election_merge([\"037BENTON020\",\"037BENTON030\"],\"037BENTON\")\n",
    "shape_election_merge([\"037CATAWISSA260\",\"037CATAWISSA275\"],\"037CATAWISSA\")\n",
    "shape_election_merge([\"039VENANGO570\",\"039VENANGO580\"],\"039VENANGO\")\n",
    "shape_election_merge([\"039WOODCOCK670\",\"039WOODCOCK660\"],\"039WOODCOCK\")\n",
    "shape_election_merge([\"053TIONESTA100\",\"053TIONESTA110\"],\"053TIONESTA\")\n",
    "shape_election_merge([\"079WILKES-BARRE WARD 01635\",\"079WILKES-BARRE WARD 01075\"],\"079WILKES-BARRE WARD 01\")\n",
    "shape_election_merge([\"079WILKES-BARRE WARD 02655\",\"079WILKES-BARRE WARD 02095\"],\"079WILKES-BARRE WARD 02\")\n",
    "shape_election_merge([\"079NESCOPECK740\",\"079NESCOPECK750\"],\"079NESCOPECK\")\n",
    "shape_election_merge([\"079CONYNGHAM180\",\"079CONYNGHAM DISTRICT 01165\"],\"079CONYNGHAM\")\n",
    "shape_election_merge([\"083ELDRED160\",\"083ELDRED170\"],\"083ELDRED\")\n",
    "shape_election_merge([\"099LIVERPOOL130\",\"099LIVERPOOL140\"],\"099LIVERPOOL\")\n",
    "shape_election_merge([\"103MILFORD090\",\"103MILFORD100\"],\"103MILFORD\")\n",
    "shape_election_merge([\"105OSWAYO190\",\"105OSWAYO180\"],\"105OSWAYO\")\n",
    "shape_election_merge([\"105ULYSSES310\",\"105ULYSSES320\"],\"105ULYSSES\")\n",
    "shape_election_merge([\"107TREMONT595\",\"107TREMONT580\"],\"107TREMONT\")\n",
    "shape_election_merge([\"111ADDISON010\",\"111ADDISON020\"],\"111ADDISON\")\n",
    "shape_election_merge([\"113LAPORTE130\",\"113LAPORTE140\"],\"113LAPORTE\")\n",
    "shape_election_merge([\"115GREAT BEND160\",\"115GREAT BEND150\"],\"115GREAT BEND\")\n",
    "shape_election_merge([\"115THOMPSON420\",\"115THOMPSON410\"],\"115THOMPSON\")\n",
    "shape_election_merge([\"115NEW MILFORD320\",\"115NEW MILFORD330\"],\"115NEW MILFORD\")\n",
    "shape_election_merge([\"115OAKLAND340\",\"115OAKLAND350\"],\"115OAKLAND\")\n",
    "shape_election_merge([\"117LIBERTY240\",\"117LIBERTY230\"],\"117LIBERTY\")\n",
    "shape_election_merge([\"117WESTFIELD460\",\"117WESTFIELD445\"],\"117WESTFIELD\")\n",
    "shape_election_merge([\"117TIOGA370\",\"117TIOGA380\"],\"117TIOGA\")\n",
    "shape_election_merge([\"123SUGAR GROVE255\",\"123SUGAR GROVE290\"],\"123SUGAR GROVE\")\n",
    "shape_election_merge([\"131MESHOPPEN130\",\"131MESHOPPEN140\"],\"131MESHOPPEN\")\n",
    "shape_election_merge([\"041LOWER ALLEN PRECINCT 01340\",\"041LOWER ALLEN PRECINCT 01 ANNEX340\"],\"041LOWER ALLEN PRECINCT 1\")\n",
    "shape_election_merge([\"047HORTON TWP N110\",\"047HORTON TWP S110\"],\"047HORTON\")\n",
    "shape_election_merge([\"071LANCASTER WARD 07 PRECINCT 08 (CV)925\",\"071LANCASTER WARD 07 PRECINCT 08 (LS)925\"],\"071LANCASTER WARD 7-8\")\n",
    "shape_election_merge([\"045DARBY TWP WD 03 PCT 01880\",\"045DARBY WD 03 PCT 01970\"],\"045DARBY WARD 3-1\")\n",
    "shape_election_merge([\"045DARBY TWP WD 03 PCT 02890\",\"045DARBY WD 03 PCT 02980\"],\"045DARBY WARD 3-2\")\n",
    "shape_election_merge([\"095BETHLEHEM WARD 01 DISTRICT NORTH065\",\"095BETHLEHEM WARD 01 DISTRICT 01330\"],\"095BETHLEHEM WARD 1-1\")\n",
    "shape_election_merge([\"095BETHLEHEM WARD 01 DISTRICT SOUTH075\",\"095BETHLEHEM WARD 01 DISTRICT 02336\"],\"095BETHLEHEM WARD 1-2\")\n"
   ]
  },
  {
   "cell_type": "markdown",
   "id": "2fbff789",
   "metadata": {},
   "source": [
    "### Sort out remaining unmatched precincts: Merge some Open Election precincts to match VEST"
   ]
  },
  {
   "cell_type": "code",
   "execution_count": null,
   "id": "7b16722d",
   "metadata": {},
   "outputs": [],
   "source": [
    "data_columns = ['G16PREDCLI', 'G16PRERTRU','G16PRELJOH', 'G16PREGSTE', 'G16PRECCAS', 'G16USSDMCG', 'G16USSRTOO','G16USSLCLI', 'G16ATGDSHA', 'G16ATGRRAF', 'G16AUDDDEP', 'G16AUDRBRO','G16AUDLMIN', 'G16AUDGSWE', 'G16TREDTOR', 'G16TRERVOI', 'G16TRELBAB','G16TREGCOM']\n",
    "\n",
    "for i in data_columns:\n",
    "    pivoted_2016.loc[pivoted_2016[\"election_check_join\"]==\"095LOWER MT. BETHEL DISTRICT LOWER\",i]+=int(pivoted_2016.loc[pivoted_2016[\"election_check_join\"]==\"095LOWER MT. BETHEL DISTRICT INDEPENDENT\",i])\n",
    "    \n",
    "pivoted_2016.loc[pivoted_2016[\"election_check_join\"]==\"095LOWER MT. BETHEL DISTRICT LOWER\",\"election_check_join\"]=\"095LOWER MOUNT BETHEL DISTRICT LOWER\"\n",
    "pivoted_2016 = pivoted_2016[pivoted_2016[\"election_check_join\"]!=\"095LOWER MT. BETHEL DISTRICT INDEPENDENT\"]\n"
   ]
  },
  {
   "cell_type": "markdown",
   "id": "c2d88ebb",
   "metadata": {},
   "source": [
    "### Sort out remaining unmatched precincts: Rename two VEST precincts that have the same unique ID"
   ]
  },
  {
   "cell_type": "code",
   "execution_count": null,
   "id": "3eab8dd9",
   "metadata": {},
   "outputs": [],
   "source": [
    "vest_pa_16.loc[vest_pa_16[\"dup_consolidation\"]==\"085SANDY LAKE700\",\"election_check_join\"]=\"085SANDY LAKE TWP\"\n",
    "vest_pa_16.loc[vest_pa_16[\"dup_consolidation\"]==\"085SANDY LAKE710\",\"election_check_join\"]=\"085SANDY LAKE BORO\"\n",
    "\n",
    "pivoted_2016.loc[pivoted_2016[\"NAME\"]==\"SANDY LAKE BORO\",\"election_check_join\"]=\"085SANDY LAKE BORO\"\n",
    "pivoted_2016.loc[pivoted_2016[\"NAME\"]==\"SANDY LAKE TWP\",\"election_check_join\"]=\"085SANDY LAKE TWP\"\n",
    "\n",
    "pivoted_2016.reset_index(drop=True,inplace=True)"
   ]
  },
  {
   "cell_type": "markdown",
   "id": "afadfc1b",
   "metadata": {},
   "source": [
    "### Sort out remaining unmatched precincts: Create 3 zero vote precincts that are present in the VEST file"
   ]
  },
  {
   "cell_type": "code",
   "execution_count": null,
   "id": "da3404ad",
   "metadata": {},
   "outputs": [],
   "source": [
    "pivoted_2016 = pivoted_2016[pivoted_2016[\"unique_vote_id\"]!=\"000000000000000000\"]\n",
    "\n",
    "#Add three empty precincts\n",
    "\n",
    "new_df = pd.DataFrame([[\"011\",\"ADAMSTOWN\",0,0,0,0,0,0,0,0,0,0,0,0,0,0,0,0,0,0,\"011ADAMSTOWN\",\"000000000000000000\"],\n",
    "                       [\"049\",\"LAKE ERIE\",0,0,0,0,0,0,0,0,0,0,0,0,0,0,0,0,0,0,\"049LAKE ERIE\",\"000000000000000000\"],\n",
    "                      [\"091\",\"LOWER MERION WARD 02 DISTRICT 02 B (CD 13)\",0,0,0,0,0,0,0,0,0,0,0,0,0,0,0,0,0,0,\"091LOWER MERION WARD 02 DISTRICT 02 B (CD 13)\",\"000000000000000000\"]]\n",
    "                      ,columns=pivoted_2016.columns)\n",
    "pivoted_2016 = pivoted_2016.append(new_df)\n",
    "pivoted_2016.reset_index(inplace=True,drop=True)"
   ]
  },
  {
   "cell_type": "markdown",
   "id": "d08ccded",
   "metadata": {},
   "source": [
    "### Join between VEST file and election results"
   ]
  },
  {
   "cell_type": "code",
   "execution_count": null,
   "id": "17645fb9",
   "metadata": {},
   "outputs": [],
   "source": [
    "\n",
    "join_one = pd.merge(vest_pa_16,pivoted_2016,how=\"outer\",on=\"election_check_join\",indicator=True)\n",
    "print(join_one[\"_merge\"].value_counts())\n",
    "\n"
   ]
  },
  {
   "cell_type": "markdown",
   "id": "2181a397",
   "metadata": {},
   "source": [
    "### Check the election results precinct-by-precinct"
   ]
  },
  {
   "cell_type": "markdown",
   "id": "6a83d3c9",
   "metadata": {},
   "source": [
    "Note: From VEST's documentation we expect to see the following:\n",
    "\n",
    "> Precinct data was corrected with canvass reports for the following counties: Cumberland, Elk, Lancaster, Northampton, Susquehanna. The candidate totals for Northampton and Susquehanna differ from the county totals reported by the state and therefore the statewide totals differ from the official results accordingly.\n",
    "\n",
    "> Allegheny County reported president-only votes countywide. These were distributed by candidate to precincts based on their share of the precinct-level reported vote."
   ]
  },
  {
   "cell_type": "code",
   "execution_count": null,
   "id": "1172af70",
   "metadata": {},
   "outputs": [],
   "source": [
    "def validater_row (df, column_List):\n",
    "    matching_rows = 0\n",
    "    different_rows = 0\n",
    "    diff_list=[]\n",
    "    diff_values = []\n",
    "    max_diff = 0\n",
    "    \n",
    "    for j in range(0,len(df.index)):\n",
    "        same = True\n",
    "        for i in column_List:\n",
    "            left_Data = i + \"_x\"\n",
    "            right_Data = i + \"_y\"\n",
    "            diff = abs(df.iloc[j][left_Data]-df.iloc[j][right_Data])\n",
    "            if(diff != 0):\n",
    "                print(i, \"{:.>45}\".format(df.iloc[j][\"election_check_join\"]), \"(V)\",\"{:.>4}\".format(int(df.iloc[j][left_Data])),\" (S){:.>4}\".format(df.iloc[j][right_Data]),\"(D):{:>4}\".format(df.iloc[j][right_Data]-int(df.iloc[j][left_Data])))           \n",
    "                #print(df.iloc[j]['countypct'])\n",
    "                \n",
    "                diff_values.append(abs(diff))\n",
    "                same = False\n",
    "                if(np.isnan(diff)):\n",
    "                    print(\"NaN value at diff is: \", df.iloc[j][\"election_check_join\"])\n",
    "                    print(df.iloc[j][left_Data])\n",
    "                    print(df.iloc[j][right_Data])\n",
    "                if (diff>max_diff):\n",
    "                    max_diff = diff\n",
    "                    #print(\"New max diff is: \", str(max_diff))\n",
    "                    #print(df.iloc[j]['cty_pct'])\n",
    "        if(same != True):\n",
    "            different_rows +=1\n",
    "            diff_list.append(df.iloc[j][\"election_check_join\"])\n",
    "        else:\n",
    "            matching_rows +=1\n",
    "    print(\"\")\n",
    "    print(\"There are \", len(df.index),\" total rows\")\n",
    "    print(different_rows,\" of these rows have election result differences\")\n",
    "    print(matching_rows,\" of these rows are the same\")\n",
    "    print(\"\")\n",
    "    print(\"The max difference between any one shared column in a row is: \", max_diff)\n",
    "    if(len(diff_values)!=0):\n",
    "        print(\"The average difference is: \", str(sum(diff_values)/len(diff_values)))\n",
    "    count_big_diff = len([i for i in diff_values if i > 10])\n",
    "    print(\"There are \", str(count_big_diff), \"precinct results with a difference greater than 10\")\n",
    "    diff_list.sort()\n",
    "    print(diff_list)"
   ]
  },
  {
   "cell_type": "code",
   "execution_count": null,
   "id": "3c66e519",
   "metadata": {},
   "outputs": [],
   "source": [
    "validater_row(join_one[join_one[\"_merge\"]==\"both\"].sort_values(\"election_check_join\"),data_columns)"
   ]
  },
  {
   "cell_type": "markdown",
   "id": "5c0d5ee2",
   "metadata": {},
   "source": [
    "### Analyze precinct-by-precinct differences"
   ]
  },
  {
   "cell_type": "markdown",
   "id": "f206da6e",
   "metadata": {},
   "source": [
    "From running the above function, there appear to be differences in three counties: Allegheny, Northampton and Susquehana.\n",
    "\n",
    "1. Allegheny\n",
    "    - The differences in Allegheny county are very minor (1 vote each) and appear to be due to small differences in how the countywide presidential votes were distributed. In some of the cases it appears to be a difference in how ties were broken and in others it seems to be a difference in how fractional votes were distributed. Since VEST did not specify their methodology and the differences are just 1 vote in a handful of precincts, this difference does not seem substantial.\n",
    "    \n",
    "2. Susquehanna County\n",
    "    -  VEST mentions that Susquehanna County is one of the counties where the vote totals were corrected via canvass reports. While there are only a handful of precincts with differences in Susquehanna county (4 precincts with differences and 7 total race result differences), the differences are fairly substantial. In looking at the canvass report (http://www.susqco.com/Dept/Voter/Pages/Election-Results.aspx) it appears as though VEST is closer to the official numbers and that their changes are justified.\n",
    "    \n",
    "3. Northampton County\n",
    "    - VEST mentions that Northampton County is one of the counties where the vote totals were corrected via canvass reports. There are a number of precincts with differences and in looking at the canvass report (https://www.northamptoncounty.org/CTYADMN/ELECTNS/Election%20Results/Archives/Nov%208,%202016%20Results%20by%20Precinct.pdf) VEST appears to be correct and their changes justified.\n",
    "    \n",
    "NOTE:\n",
    "- VEST also mentions that precinct data in Cumberland, Elk, and Lancaster counties were corrected via the canvass reports, although from this work there do not appear to be any differences. The most likely explanation for this is that the OpenElections data was updated."
   ]
  },
  {
   "cell_type": "markdown",
   "id": "26aa433c",
   "metadata": {},
   "source": [
    "# Join Election Results to a Shapefile"
   ]
  },
  {
   "cell_type": "markdown",
   "id": "d534a457",
   "metadata": {},
   "source": [
    "VEST documentation:\n",
    "\n",
    "> - Precinct shapefiles primarily from the U.S. Census Bureau's 2020 Redistricting Data Program Phase 2 release.  \n",
    "> - The shapefiles from Delaware County and the City of Pittsburgh are from the respective jurisdictions instead.   \n",
    "> - Precinct numbers were corrected to match the voter file in the following locales: Allegheny (Elizabeth, Pittsburgh W12), Blair (Greenfield), Bradford (Athens), Greene (Nonongahela), Monroe (Smithfield), Montgomery (Hatfield), Northampton (Bethlehem Twp), Perry (Toboyne), Washington (New Eagle, Somerset), York (Fairview)."
   ]
  },
  {
   "cell_type": "markdown",
   "id": "7cd27251",
   "metadata": {},
   "source": [
    "### Load in Census Redistricting Data Program Phase 2 Files"
   ]
  },
  {
   "cell_type": "code",
   "execution_count": null,
   "id": "5a3f3630",
   "metadata": {},
   "outputs": [],
   "source": [
    "#Combine all the data from separate files into one\n",
    "li = []\n",
    "for i in fips_codes:\n",
    "    ref = \"./raw-from-source/Census/partnership_shapefiles_19v2_\"\n",
    "    file_ref = ref+i+\"/PVS_19_v2_vtd_\"+i+\".shp\"\n",
    "    file_prev = gp.read_file(file_ref)\n",
    "    #print(file_prev.shape)\n",
    "    li.append(file_prev)\n",
    "global shapefiles_census\n",
    "shapefiles_census = pd.concat(li, axis=0, ignore_index=True)\n",
    "\n",
    "#Filter down shapefiles to relevant columns\n",
    "shapefiles_census = shapefiles_census[[\"COUNTYFP\",\"VTDST\",\"NAME\",\"geometry\"]]\n",
    "\n",
    "#Look into two possible unique IDs\n",
    "shapefiles_census[\"cty_pct\"] = shapefiles_census[\"COUNTYFP\"]+shapefiles_census[\"VTDST\"]+shapefiles_census[\"NAME\"]\n",
    "shapefiles_census[\"shp_join\"] = shapefiles_census[\"COUNTYFP\"]+shapefiles_census[\"VTDST\"]\n",
    "print(shapefiles_census.shape)\n",
    "print(shapefiles_census[\"shp_join\"].nunique())"
   ]
  },
  {
   "cell_type": "markdown",
   "id": "2e86b3f3",
   "metadata": {},
   "source": [
    "### Look into Delaware County and City of Pittsburgh files"
   ]
  },
  {
   "cell_type": "markdown",
   "id": "ad9be897",
   "metadata": {},
   "source": [
    "1. Delaware County\n",
    "    - As noted in the VEST PA 18 report, the Delaware County shapefile does not appear to be available online and we have been unable to get in contact with someone from Delaware County to help locate it.\n",
    "2. City of Pittsburgh\n",
    "    - In the VEST PA 18 report, we loaded in the available shapefile from the Allegheny County website (https://openac-alcogis.opendata.arcgis.com/datasets/faaf42d7eaa041cb9fa623ac7b42f475_0?geometry=-81.009%2C40.251%2C-79.031%2C40.617) and found it to be identical to the Census data release. Attempts to get in touch with a GIS official there have also been unsuccessful."
   ]
  },
  {
   "cell_type": "markdown",
   "id": "0e1103f1",
   "metadata": {},
   "source": [
    "### Perform merges to match what VEST has in its file"
   ]
  },
  {
   "cell_type": "markdown",
   "id": "2699a343",
   "metadata": {},
   "source": [
    "Note: These merges were identified through VEST's documentation and by attempting to join the files together"
   ]
  },
  {
   "cell_type": "code",
   "execution_count": null,
   "id": "a323a948",
   "metadata": {},
   "outputs": [],
   "source": [
    "def shape_combiner(prec_list,new_name):\n",
    "    global shapefiles_census\n",
    "    #Merge geometries\n",
    "    new_geom = shapefiles_census.loc[shapefiles_census[\"shp_join\"].isin(prec_list)].unary_union\n",
    "    \n",
    "    #Assign geometries\n",
    "    ind_val = shapefiles_census.loc[shapefiles_census[\"shp_join\"]==prec_list[0]].index[0]\n",
    "\n",
    "    shapefiles_census.iat[ind_val,3] = new_geom\n",
    "    #display(vest_pa_16.iat[ind_val,22])\n",
    "    \n",
    "        #Change VTDST to \"merged\"\n",
    "    shapefiles_census.iat[ind_val,5] = new_name\n",
    "    \n",
    "    #Remove the second one\n",
    "    shapefiles_census = shapefiles_census[shapefiles_census[\"shp_join\"]!=prec_list[1]]\n",
    "    shapefiles_census.reset_index(inplace=True,drop=True)"
   ]
  },
  {
   "cell_type": "code",
   "execution_count": null,
   "id": "7050b87c",
   "metadata": {},
   "outputs": [],
   "source": [
    "shape_combiner([\"003000130\",\"003000151\"],'003merged(BALDWIN DISTRICT 01130-BALDWIN DISTRICT 01151)')\n",
    "shape_combiner([\"003000140\",\"003000161\"],'003merged(BALDWIN DISTRICT 02140-BALDWIN DISTRICT 02161)')\n",
    "shape_combiner([\"00300F409\",\"00300F412\"],'00300F408')\n",
    "shape_combiner([\"00300F398\",\"00300F399\"],'00300F397')\n",
    "shape_combiner(['007000640','007000630'],'007merged(DARLINGTON640-DARLINGTON630)')\n",
    "shape_combiner(['009000150','009000160'],'009merged(HOPEWELL150-HOPEWELL160)')\n",
    "shape_combiner(['009000410','009000420'],'009merged(WOODBURY410-WOODBURY420)')\n",
    "shape_combiner(['015000120','015000110'],'015merged(BURLINGTON120-BURLINGTON110)')\n",
    "shape_combiner(['015000130','015000140'],'015merged(CANTON130-CANTON140)')\n",
    "shape_combiner(['015000230','015000220'],'015merged(MONROE230-MONROE220)')\n",
    "shape_combiner(['015000300','015000310'],'015merged(ROME300-ROME310)')\n",
    "shape_combiner(['015000510','015000500'],'015merged(TROY510-TROY500)')\n",
    "shape_combiner(['015000600','015000590'],'015merged(WYALUSING600-WYALUSING590)')\n",
    "shape_combiner(['017001850','017001910'],'017merged(NEWTOWN DISTRICT 01910-NEWTOWN DISTRICT 01850)')\n",
    "shape_combiner(['017001860','017001920'],'017merged(NEWTOWN DISTRICT 02860-NEWTOWN DISTRICT 02920)')\n",
    "shape_combiner(['019000330','019000340'],'019merged(CONNOQUENESSING330-CONNOQUENESSING340)')\n",
    "shape_combiner(['019000430','019000420'],'019merged(FAIRVIEW430-FAIRVIEW420)')\n",
    "shape_combiner(['019000670','019000680'],'019merged(SLIPPERY ROCK670-SLIPPERY ROCK680)')\n",
    "shape_combiner(['021000636','021000615'],'021merged(GALLITZIN636-GALLITZIN615)')\n",
    "shape_combiner(['027000300','027000290'],'027merged(HOWARD300-HOWARD290)')\n",
    "shape_combiner(['031000070','031000050'],'031merged(CLARION DISTRICT 01050-CLARION DISTRICT 01070)')\n",
    "shape_combiner(['031000080','031000060'],'031merged(CLARION DISTRICT 02060-CLARION DISTRICT 02080)')\n",
    "shape_combiner(['031000210','031000200'],'031merged(KNOX200-KNOX210)')\n",
    "shape_combiner(['033000110','033000120'],'033merged(BURNSIDE110-BURNSIDE120)')\n",
    "shape_combiner(['035000040','035000050'],'035merged(BEECH CREEK040-BEECH CREEK050)')\n",
    "shape_combiner(['037000020','037000030'],'037merged(BENTON020-BENTON030)')\n",
    "shape_combiner(['037000260','037000275'],'037merged(CATAWISSA260-CATAWISSA275)')\n",
    "shape_combiner(['039000570','039000580'],'039merged(VENANGO570-VENANGO580)')\n",
    "shape_combiner(['039000660','039000670'],'039merged(WOODCOCK670-WOODCOCK660)')\n",
    "shape_combiner(['045000880','045000970'],'045merged(DARBY TWP WD 03 PCT 01880-DARBY WD 03 PCT 01970)')\n",
    "shape_combiner(['045000980','045000890'],'045merged(DARBY TWP WD 03 PCT 02890-DARBY WD 03 PCT 02980)')\n",
    "shape_combiner(['053000100','053000110'],'053merged(TIONESTA100-TIONESTA110)')\n",
    "shape_combiner(['079000180','079000165'],'079merged(CONYNGHAM180-CONYNGHAM DISTRICT 01165)')\n",
    "shape_combiner(['079001740','079001750'],'079merged(NESCOPECK740-NESCOPECK750)')\n",
    "shape_combiner(['079002635','079003075'],'079merged(WILKES-BARRE WARD 01635-WILKES-BARRE WARD 01075)')\n",
    "shape_combiner(['079002655','079003095'],'079merged(WILKES-BARRE WARD 02655-WILKES-BARRE WARD 02095)')\n",
    "shape_combiner(['083000160','083000170'],'083merged(ELDRED160-ELDRED170)')\n",
    "shape_combiner(['099000130','099000140'],'099merged(LIVERPOOL130-LIVERPOOL140)')\n",
    "shape_combiner(['103000090','103000100'],'103merged(MILFORD090-MILFORD100)')\n",
    "shape_combiner(['105000190','105000180'],'105merged(OSWAYO190-OSWAYO180)')\n",
    "shape_combiner(['105000310','105000320'],'105merged(ULYSSES310-ULYSSES320)')\n",
    "shape_combiner(['107001595','107001580'],'107merged(TREMONT595-TREMONT580)')\n",
    "shape_combiner(['111000010','111000020'],'111merged(ADDISON010-ADDISON020)')\n",
    "shape_combiner(['113000130','113000140'],'113merged(LAPORTE130-LAPORTE140)')\n",
    "shape_combiner(['115000160','115000150'],'115merged(GREAT BEND160-GREAT BEND150)')\n",
    "shape_combiner(['115000320','115000330'],'115merged(NEW MILFORD320-NEW MILFORD330)')\n",
    "shape_combiner(['115000340','115000350'],'115merged(OAKLAND340-OAKLAND350)')\n",
    "shape_combiner(['115000420','115000410'],'115merged(THOMPSON420-THOMPSON410)')\n",
    "shape_combiner(['117000240','117000230'],'117merged(LIBERTY240-LIBERTY230)')\n",
    "shape_combiner(['117000370','117000380'],'117merged(TIOGA370-TIOGA380)')\n",
    "shape_combiner(['117000460','117000445'],'117merged(WESTFIELD460-WESTFIELD445)')\n",
    "shape_combiner(['123000255','123000290'],'123merged(SUGAR GROVE255-SUGAR GROVE290)')\n",
    "shape_combiner(['131000130','131000140'],'131merged(MESHOPPEN130-MESHOPPEN140)')\n",
    "shape_combiner(['011000301','011000299'],'011000300')\n",
    "shape_combiner(['011000391','011000393'],'011000390')\n",
    "shape_combiner(['019000353','019000354'],'019000355')\n",
    "shape_combiner(['019000359','019000358'],'019000357')\n",
    "shape_combiner(['019000362','019000363'],'019000361')\n",
    "shape_combiner(['019000366','019000367'],'019000365')\n",
    "shape_combiner(['019000546','019000547'],'019000545')\n",
    "shape_combiner(['019000556','019000557'],'019000555')\n",
    "shape_combiner(['027000212','027000214'],'027000210')\n",
    "shape_combiner(['027000264','027000265'],'027000268')\n",
    "shape_combiner(['027000261','027000263'],'027000262')\n",
    "shape_combiner(['029000917','029000919'],'029000915')\n",
    "shape_combiner(['041000601','041000602'],'041000600')\n",
    "shape_combiner(['041000621','041000622'],'041000620')\n",
    "shape_combiner(['079000806','079000807'],'079000805')\n",
    "shape_combiner(['089000251','089000253'],'089000252')\n",
    "shape_combiner(['091000915','091000918'],'091000917')\n",
    "shape_combiner(['091001091','091001092'],'091001090')\n",
    "shape_combiner(['091001143','091001144'],'091001142')\n",
    "shape_combiner(['091001731','091001732'],'091001730')\n",
    "shape_combiner(['091001742','091001741'],'091001740')\n",
    "shape_combiner(['097000872','097000871'],'097000870')\n",
    "shape_combiner(['129002851','129002852'],'129002850')\n",
    "shape_combiner(['133001428','133001427'],'133001429')"
   ]
  },
  {
   "cell_type": "markdown",
   "id": "c29e8f73",
   "metadata": {},
   "source": [
    "Precinct shapefiles primarily from the U.S. Census Bureau's 2020 Redistricting Data Program Phase 2 release. The shapefiles from Delaware County and the City of Pittsburgh are from the respective jurisdictions instead. \n"
   ]
  },
  {
   "cell_type": "markdown",
   "id": "2e9358ac",
   "metadata": {},
   "source": [
    "### Adjust precinct numbers to match the voter file"
   ]
  },
  {
   "cell_type": "markdown",
   "id": "9b231f3e",
   "metadata": {},
   "source": [
    "From VEST's documentation:\n",
    "\n",
    "> Precinct numbers were corrected to match the voter file in the following locales: Allegheny (Elizabeth, Pittsburgh W12), Blair (Greenfield), Bradford (Athens), Greene (Nonongahela), Monroe (Smithfield), Montgomery (Hatfield), Northampton (Bethlehem Twp), Perry (Toboyne), Washington (New Eagle, Somerset), York (Fairview).\n",
    "\n",
    "Note: Although we did not have the voter file, we were able to manually inspect VEST's file to infer the changes they made."
   ]
  },
  {
   "cell_type": "markdown",
   "id": "4e0bed53",
   "metadata": {},
   "source": [
    "#### Allegheny (Elizabeth, Pittsburgh W12)"
   ]
  },
  {
   "cell_type": "code",
   "execution_count": null,
   "id": "12d0ec55",
   "metadata": {},
   "outputs": [],
   "source": [
    "shapefiles_census[(shapefiles_census[\"NAME\"].str.contains(\"ELIZABETH\"))&(shapefiles_census[\"COUNTYFP\"]==\"003\")].plot(column=\"VTDST\",legend=True,figsize=(15,15))\n",
    "vest_pa_16[(vest_pa_16[\"NAME\"].str.contains(\"ELIZABETH\"))&(vest_pa_16[\"COUNTYFP\"]==\"003\")].plot(column=\"VTDST\",legend=True,figsize=(15,15))"
   ]
  },
  {
   "cell_type": "code",
   "execution_count": null,
   "id": "d7b47b3c",
   "metadata": {},
   "outputs": [],
   "source": [
    "print(shapefiles_census[(shapefiles_census[\"NAME\"].str.contains(\"ELIZABETH\"))&(shapefiles_census[\"COUNTYFP\"]==\"003\")])\n",
    "print(vest_pa_16[(vest_pa_16[\"NAME\"].str.contains(\"ELIZABETH\"))&(vest_pa_16[\"COUNTYFP\"]==\"003\")])"
   ]
  },
  {
   "cell_type": "code",
   "execution_count": null,
   "id": "ae6343ae",
   "metadata": {},
   "outputs": [],
   "source": [
    "shapefiles_census[(shapefiles_census[\"NAME\"].str.contains(\"PITTSBURGH WARD 12\"))&(shapefiles_census[\"COUNTYFP\"]==\"003\")].plot(column=\"VTDST\",legend=True,figsize=(15,15))\n",
    "vest_pa_16[(vest_pa_16[\"NAME\"].str.contains(\"PITTSBURGH WARD 12\"))&(vest_pa_16[\"COUNTYFP\"]==\"003\")].plot(column=\"VTDST\",legend=True,figsize=(15,15))"
   ]
  },
  {
   "cell_type": "code",
   "execution_count": null,
   "id": "b5af9113",
   "metadata": {},
   "outputs": [],
   "source": [
    "print(shapefiles_census[(shapefiles_census[\"VTDST\"].str.contains(\"PITTSBURGH WARD 12\"))&(shapefiles_census[\"COUNTYFP\"]==\"003\")])\n",
    "print(vest_pa_16[(vest_pa_16[\"VTDST\"].str.contains(\"PITTSBURGH WARD 12\"))&(vest_pa_16[\"COUNTYFP\"]==\"003\")])"
   ]
  },
  {
   "cell_type": "markdown",
   "id": "7f14c269",
   "metadata": {},
   "source": [
    "#### Blair (Greenfield)"
   ]
  },
  {
   "cell_type": "code",
   "execution_count": null,
   "id": "7308c848",
   "metadata": {},
   "outputs": [],
   "source": [
    "shapefiles_census[(shapefiles_census[\"NAME\"].str.contains(\"GREENFIELD\"))&(shapefiles_census[\"COUNTYFP\"]==\"013\")].plot(column=\"VTDST\",legend=True,figsize=(15,15))\n",
    "vest_pa_16[(vest_pa_16[\"NAME\"].str.contains(\"GREENFIELD\"))&(vest_pa_16[\"COUNTYFP\"]==\"013\")].plot(column=\"VTDST\",legend=True,figsize=(15,15))"
   ]
  },
  {
   "cell_type": "code",
   "execution_count": null,
   "id": "e542c20c",
   "metadata": {},
   "outputs": [],
   "source": [
    "#print(shapefiles_census[(shapefiles_census[\"NAME\"].str.contains(\"GREENFIELD\"))&(shapefiles_census[\"COUNTYFP\"]==\"013\")])\n",
    "#print(vest_pa_16[(vest_pa_16[\"NAME\"].str.contains(\"GREENFIELD\"))&(vest_pa_16[\"COUNTYFP\"]==\"013\")])\n",
    "\n",
    "shapefiles_census.loc[(shapefiles_census[\"COUNTYFP\"]==\"013\") & (shapefiles_census[\"VTDST\"]==\"000580\"),\"shp_join\"] = \"013000590\"\n",
    "shapefiles_census.loc[(shapefiles_census[\"COUNTYFP\"]==\"013\") & (shapefiles_census[\"VTDST\"]==\"000590\"),\"shp_join\"] = \"013000580\""
   ]
  },
  {
   "cell_type": "markdown",
   "id": "af9ff4f4",
   "metadata": {},
   "source": [
    "#### Bradford (Athens)"
   ]
  },
  {
   "cell_type": "code",
   "execution_count": null,
   "id": "4160f510",
   "metadata": {},
   "outputs": [],
   "source": [
    "shapefiles_census[(shapefiles_census[\"NAME\"].str.contains(\"ATHENS DISTRICT\"))&(shapefiles_census[\"COUNTYFP\"]==\"015\")].plot(column=\"VTDST\",legend=True,figsize=(15,15))\n",
    "vest_pa_16[(vest_pa_16[\"NAME\"].str.contains(\"ATHENS DISTRICT\"))&(vest_pa_16[\"COUNTYFP\"]==\"015\")].plot(column=\"VTDST\",legend=True,figsize=(15,15))"
   ]
  },
  {
   "cell_type": "code",
   "execution_count": null,
   "id": "ed882876",
   "metadata": {},
   "outputs": [],
   "source": [
    "print(shapefiles_census[(shapefiles_census[\"NAME\"].str.contains(\"ATHENS DISTRICT\"))&(shapefiles_census[\"COUNTYFP\"]==\"015\")])\n",
    "print(vest_pa_16[(vest_pa_16[\"NAME\"].str.contains(\"ATHENS DISTRICT\"))&(vest_pa_16[\"COUNTYFP\"]==\"015\")])\n",
    "\n",
    "shapefiles_census.loc[(shapefiles_census[\"COUNTYFP\"]==\"015\") & (shapefiles_census[\"VTDST\"]==\"000050\"),\"shp_join\"] = \"015000060\"\n",
    "shapefiles_census.loc[(shapefiles_census[\"COUNTYFP\"]==\"015\") & (shapefiles_census[\"VTDST\"]==\"000060\"),\"shp_join\"] = \"015000050\""
   ]
  },
  {
   "cell_type": "markdown",
   "id": "aeef1b9d",
   "metadata": {},
   "source": [
    "#### Greene (Monongahela)"
   ]
  },
  {
   "cell_type": "code",
   "execution_count": null,
   "id": "bb141905",
   "metadata": {},
   "outputs": [],
   "source": [
    "shapefiles_census[(shapefiles_census[\"NAME\"].str.contains(\"MONONGAHELA\"))&(shapefiles_census[\"COUNTYFP\"]==\"059\")].plot(column=\"VTDST\",legend=True,figsize=(15,15))\n",
    "vest_pa_16[(vest_pa_16[\"NAME\"].str.contains(\"MONONGAHELA\"))&(vest_pa_16[\"COUNTYFP\"]==\"059\")].plot(column=\"VTDST\",legend=True,figsize=(15,15))"
   ]
  },
  {
   "cell_type": "code",
   "execution_count": null,
   "id": "82326d2a",
   "metadata": {},
   "outputs": [],
   "source": [
    "#print(shapefiles_census[(shapefiles_census[\"NAME\"].str.contains(\"MONONGAHELA\"))&(shapefiles_census[\"COUNTYFP\"]==\"059\")])\n",
    "#print(vest_pa_16[(vest_pa_16[\"NAME\"].str.contains(\"MONONGAHELA\"))&(vest_pa_16[\"COUNTYFP\"]==\"059\")])\n",
    "\n",
    "shapefiles_census.loc[(shapefiles_census[\"COUNTYFP\"]==\"059\") & (shapefiles_census[\"VTDST\"]==\"000280\"),\"shp_join\"] = \"059000295\"\n",
    "shapefiles_census.loc[(shapefiles_census[\"COUNTYFP\"]==\"059\") & (shapefiles_census[\"VTDST\"]==\"000295\"),\"shp_join\"] = \"059000280\""
   ]
  },
  {
   "cell_type": "markdown",
   "id": "d29febd7",
   "metadata": {},
   "source": [
    "#### Monroe (Smithfield)"
   ]
  },
  {
   "cell_type": "code",
   "execution_count": null,
   "id": "77781552",
   "metadata": {},
   "outputs": [],
   "source": [
    "shapefiles_census[(shapefiles_census[\"NAME\"].str.contains(\"SMITHFIELD\"))&(shapefiles_census[\"COUNTYFP\"]==\"089\")].plot(column=\"VTDST\",legend=True,figsize=(15,15))\n",
    "vest_pa_16[(vest_pa_16[\"NAME\"].str.contains(\"SMITHFIELD\"))&(vest_pa_16[\"COUNTYFP\"]==\"089\")].plot(column=\"VTDST\",legend=True,figsize=(15,15))"
   ]
  },
  {
   "cell_type": "code",
   "execution_count": null,
   "id": "25d5c7d6",
   "metadata": {},
   "outputs": [],
   "source": [
    "#print(shapefiles_census[(shapefiles_census[\"NAME\"].str.contains(\"SMITHFIELD\"))&(shapefiles_census[\"COUNTYFP\"]==\"089\")])\n",
    "#print(vest_pa_16[(vest_pa_16[\"NAME\"].str.contains(\"SMITHFIELD\"))&(vest_pa_16[\"COUNTYFP\"]==\"089\")])"
   ]
  },
  {
   "cell_type": "markdown",
   "id": "a1af41d3",
   "metadata": {},
   "source": [
    "#### Montgomery (Hatfield)"
   ]
  },
  {
   "cell_type": "code",
   "execution_count": null,
   "id": "8e907c52",
   "metadata": {},
   "outputs": [],
   "source": [
    "shapefiles_census[(shapefiles_census[\"NAME\"].str.contains(\"HATFIELD\"))&(shapefiles_census[\"COUNTYFP\"]==\"091\")].plot(column=\"VTDST\",legend=True,figsize=(15,15))\n",
    "vest_pa_16[(vest_pa_16[\"NAME\"].str.contains(\"HATFIELD\"))&(vest_pa_16[\"COUNTYFP\"]==\"091\")].plot(column=\"VTDST\",legend=True,figsize=(15,15))"
   ]
  },
  {
   "cell_type": "code",
   "execution_count": null,
   "id": "5fa4cdc0",
   "metadata": {},
   "outputs": [],
   "source": [
    "vest_pa_16.loc[(vest_pa_16[\"COUNTYFP\"]==\"091\") & (vest_pa_16[\"VTDST\"]==\"001002\")].plot()\n",
    "vest_pa_16.loc[(vest_pa_16[\"COUNTYFP\"]==\"091\") & (vest_pa_16[\"VTDST\"]==\"001040\")].plot()\n",
    "vest_pa_16.loc[(vest_pa_16[\"COUNTYFP\"]==\"091\") & (vest_pa_16[\"VTDST\"]==\"000992\")].plot()\n",
    "vest_pa_16.loc[(vest_pa_16[\"COUNTYFP\"]==\"091\") & (vest_pa_16[\"VTDST\"]==\"001022\")].plot()\n",
    "vest_pa_16.loc[(vest_pa_16[\"COUNTYFP\"]==\"091\") & (vest_pa_16[\"VTDST\"]==\"000996\")].plot()\n",
    "vest_pa_16.loc[(vest_pa_16[\"COUNTYFP\"]==\"091\") & (vest_pa_16[\"VTDST\"]==\"001032\")].plot()\n",
    "vest_pa_16.loc[(vest_pa_16[\"COUNTYFP\"]==\"091\") & (vest_pa_16[\"VTDST\"]==\"001006\")].plot()\n",
    "vest_pa_16.loc[(vest_pa_16[\"COUNTYFP\"]==\"091\") & (vest_pa_16[\"VTDST\"]==\"001012\")].plot()\n",
    "vest_pa_16.loc[(vest_pa_16[\"COUNTYFP\"]==\"091\") & (vest_pa_16[\"VTDST\"]==\"001016\")].plot()\n",
    "vest_pa_16.loc[(vest_pa_16[\"COUNTYFP\"]==\"091\") & (vest_pa_16[\"VTDST\"]==\"001026\")].plot()\n",
    "vest_pa_16.loc[(vest_pa_16[\"COUNTYFP\"]==\"091\") & (vest_pa_16[\"VTDST\"]==\"001037\")].plot()\n",
    "vest_pa_16.loc[(vest_pa_16[\"COUNTYFP\"]==\"091\") & (vest_pa_16[\"VTDST\"]==\"001035\")].plot()\n",
    "\n"
   ]
  },
  {
   "cell_type": "code",
   "execution_count": null,
   "id": "ea5310b2",
   "metadata": {},
   "outputs": [],
   "source": [
    "shapefiles_census.loc[(shapefiles_census[\"COUNTYFP\"]==\"091\") & (shapefiles_census[\"VTDST\"]==\"001002\")].plot()\n",
    "shapefiles_census.loc[(shapefiles_census[\"COUNTYFP\"]==\"091\") & (shapefiles_census[\"VTDST\"]==\"001040\")].plot()\n",
    "shapefiles_census.loc[(shapefiles_census[\"COUNTYFP\"]==\"091\") & (shapefiles_census[\"VTDST\"]==\"000992\")].plot()\n",
    "shapefiles_census.loc[(shapefiles_census[\"COUNTYFP\"]==\"091\") & (shapefiles_census[\"VTDST\"]==\"001022\")].plot()\n",
    "shapefiles_census.loc[(shapefiles_census[\"COUNTYFP\"]==\"091\") & (shapefiles_census[\"VTDST\"]==\"000996\")].plot()\n",
    "shapefiles_census.loc[(shapefiles_census[\"COUNTYFP\"]==\"091\") & (shapefiles_census[\"VTDST\"]==\"001032\")].plot()\n",
    "shapefiles_census.loc[(shapefiles_census[\"COUNTYFP\"]==\"091\") & (shapefiles_census[\"VTDST\"]==\"001006\")].plot()\n",
    "shapefiles_census.loc[(shapefiles_census[\"COUNTYFP\"]==\"091\") & (shapefiles_census[\"VTDST\"]==\"001012\")].plot()\n",
    "shapefiles_census.loc[(shapefiles_census[\"COUNTYFP\"]==\"091\") & (shapefiles_census[\"VTDST\"]==\"001016\")].plot()\n",
    "shapefiles_census.loc[(shapefiles_census[\"COUNTYFP\"]==\"091\") & (shapefiles_census[\"VTDST\"]==\"001026\")].plot()\n",
    "shapefiles_census.loc[(shapefiles_census[\"COUNTYFP\"]==\"091\") & (shapefiles_census[\"VTDST\"]==\"001036\")].plot()"
   ]
  },
  {
   "cell_type": "code",
   "execution_count": null,
   "id": "51cdd18b",
   "metadata": {},
   "outputs": [],
   "source": [
    "print(shapefiles_census[(shapefiles_census[\"NAME\"].str.contains(\"HATFIELD\"))&(shapefiles_census[\"COUNTYFP\"]==\"091\")])\n",
    "print(vest_pa_16[(vest_pa_16[\"NAME\"].str.contains(\"HATFIELD\"))&(vest_pa_16[\"COUNTYFP\"]==\"091\")])\n",
    "\n",
    "shapefiles_census.loc[(shapefiles_census[\"COUNTYFP\"]==\"091\") & (shapefiles_census[\"VTDST\"]==\"001002\"),\"shp_join\"] = \"091000996\"\n",
    "shapefiles_census.loc[(shapefiles_census[\"COUNTYFP\"]==\"091\") & (shapefiles_census[\"VTDST\"]==\"001040\"),\"shp_join\"] = \"091001040\"\n",
    "shapefiles_census.loc[(shapefiles_census[\"COUNTYFP\"]==\"091\") & (shapefiles_census[\"VTDST\"]==\"000992\"),\"shp_join\"] = \"091001002\"\n",
    "shapefiles_census.loc[(shapefiles_census[\"COUNTYFP\"]==\"091\") & (shapefiles_census[\"VTDST\"]==\"001022\"),\"shp_join\"] = \"091001022\"\n",
    "shapefiles_census.loc[(shapefiles_census[\"COUNTYFP\"]==\"091\") & (shapefiles_census[\"VTDST\"]==\"000996\"),\"shp_join\"] = \"091001006\"\n",
    "shapefiles_census.loc[(shapefiles_census[\"COUNTYFP\"]==\"091\") & (shapefiles_census[\"VTDST\"]==\"001032\"),\"shp_join\"] = \"091001032\"\n",
    "shapefiles_census.loc[(shapefiles_census[\"COUNTYFP\"]==\"091\") & (shapefiles_census[\"VTDST\"]==\"001006\"),\"shp_join\"] = \"091000992\"\n",
    "shapefiles_census.loc[(shapefiles_census[\"COUNTYFP\"]==\"091\") & (shapefiles_census[\"VTDST\"]==\"001012\"),\"shp_join\"] = \"091001012\"\n",
    "shapefiles_census.loc[(shapefiles_census[\"COUNTYFP\"]==\"091\") & (shapefiles_census[\"VTDST\"]==\"001016\"),\"shp_join\"] = \"091001016\"\n",
    "shapefiles_census.loc[(shapefiles_census[\"COUNTYFP\"]==\"091\") & (shapefiles_census[\"VTDST\"]==\"001026\"),\"shp_join\"] = \"091001026\"\n",
    "shapefiles_census.loc[(shapefiles_census[\"COUNTYFP\"]==\"091\") & (shapefiles_census[\"VTDST\"]==\"001036\"),\"shp_join\"] = \"091001037\"\n"
   ]
  },
  {
   "cell_type": "code",
   "execution_count": null,
   "id": "f7bc9190",
   "metadata": {},
   "outputs": [],
   "source": [
    "shapefiles_census[(shapefiles_census[\"NAME\"].str.contains(\"HATFIELD\"))&(shapefiles_census[\"COUNTYFP\"]==\"091\")].plot(column=\"shp_join\",legend=True,figsize=(15,15))\n",
    "vest_pa_16[(vest_pa_16[\"NAME\"].str.contains(\"HATFIELD\"))&(vest_pa_16[\"COUNTYFP\"]==\"091\")].plot(column=\"VTDST\",legend=True,figsize=(15,15))"
   ]
  },
  {
   "cell_type": "markdown",
   "id": "5b6c1b66",
   "metadata": {},
   "source": [
    "#### Northampton (Bethlehem Twp)"
   ]
  },
  {
   "cell_type": "code",
   "execution_count": null,
   "id": "d6470ab0",
   "metadata": {},
   "outputs": [],
   "source": [
    "shapefiles_census[(shapefiles_census[\"NAME\"].str.contains(\"BETHLEHEM\"))&(shapefiles_census[\"COUNTYFP\"]==\"095\")].plot(column=\"VTDST\",legend=True,figsize=(15,15))\n",
    "vest_pa_16[(vest_pa_16[\"NAME\"].str.contains(\"BETHLEHEM\"))&(vest_pa_16[\"COUNTYFP\"]==\"095\")].plot(column=\"VTDST\",legend=True,figsize=(15,15))"
   ]
  },
  {
   "cell_type": "code",
   "execution_count": null,
   "id": "ba781187",
   "metadata": {},
   "outputs": [],
   "source": [
    "print(shapefiles_census[(shapefiles_census[\"NAME\"].str.contains(\"BETHLEHEM\"))&(shapefiles_census[\"COUNTYFP\"]==\"095\")])\n",
    "print(vest_pa_16[(vest_pa_16[\"NAME\"].str.contains(\"BETHLEHEM\"))&(vest_pa_16[\"COUNTYFP\"]==\"095\")])"
   ]
  },
  {
   "cell_type": "markdown",
   "id": "5f3180a5",
   "metadata": {},
   "source": [
    "#### Perry (Toboyne)"
   ]
  },
  {
   "cell_type": "code",
   "execution_count": null,
   "id": "36e0fbf2",
   "metadata": {},
   "outputs": [],
   "source": [
    "shapefiles_census[(shapefiles_census[\"NAME\"].str.contains(\"TOBOYNE\"))&(shapefiles_census[\"COUNTYFP\"]==\"099\")].plot(column=\"VTDST\",legend=True,figsize=(15,15))\n",
    "vest_pa_16[(vest_pa_16[\"NAME\"].str.contains(\"TOBOYNE\"))&(vest_pa_16[\"COUNTYFP\"]==\"099\")].plot(column=\"VTDST\",legend=True,figsize=(15,15))"
   ]
  },
  {
   "cell_type": "code",
   "execution_count": null,
   "id": "bcded99f",
   "metadata": {},
   "outputs": [],
   "source": [
    "print(shapefiles_census[(shapefiles_census[\"NAME\"].str.contains(\"TOBOYNE\"))&(shapefiles_census[\"COUNTYFP\"]==\"099\")])\n",
    "print(vest_pa_16[(vest_pa_16[\"NAME\"].str.contains(\"TOBOYNE\"))&(vest_pa_16[\"COUNTYFP\"]==\"099\")])\n",
    "\n",
    "shapefiles_census.loc[(shapefiles_census[\"COUNTYFP\"]==\"099\") & (shapefiles_census[\"VTDST\"]==\"000280\"),\"shp_join\"] = \"099000290\"\n",
    "shapefiles_census.loc[(shapefiles_census[\"COUNTYFP\"]==\"099\") & (shapefiles_census[\"VTDST\"]==\"000290\"),\"shp_join\"] = \"099000280\""
   ]
  },
  {
   "cell_type": "markdown",
   "id": "dfffcb00",
   "metadata": {},
   "source": [
    "#### Washington (New Eagle, Somerset)"
   ]
  },
  {
   "cell_type": "code",
   "execution_count": null,
   "id": "79bae5b1",
   "metadata": {},
   "outputs": [],
   "source": [
    "shapefiles_census[(shapefiles_census[\"NAME\"].str.contains(\"SOMERSET DISTRICT\"))&(shapefiles_census[\"COUNTYFP\"]==\"125\")].plot(column=\"VTDST\",legend=True,figsize=(15,15))\n",
    "vest_pa_16[(vest_pa_16[\"NAME\"].str.contains(\"SOMERSET DISTRICT\"))&(vest_pa_16[\"COUNTYFP\"]==\"125\")].plot(column=\"VTDST\",legend=True,figsize=(15,15))"
   ]
  },
  {
   "cell_type": "code",
   "execution_count": null,
   "id": "e8df6c56",
   "metadata": {},
   "outputs": [],
   "source": [
    "print(shapefiles_census[(shapefiles_census[\"NAME\"].str.contains(\"SOMERSET DISTRICT\"))&(shapefiles_census[\"COUNTYFP\"]==\"125\")])\n",
    "print(vest_pa_16[(vest_pa_16[\"NAME\"].str.contains(\"SOMERSET DISTRICT\"))&(vest_pa_16[\"COUNTYFP\"]==\"125\")])\n",
    "\n",
    "shapefiles_census.loc[(shapefiles_census[\"COUNTYFP\"]==\"125\") & (shapefiles_census[\"VTDST\"]==\"001620\"),\"shp_join\"] = \"125001630\"\n",
    "shapefiles_census.loc[(shapefiles_census[\"COUNTYFP\"]==\"125\") & (shapefiles_census[\"VTDST\"]==\"001630\"),\"shp_join\"] = \"125001620\""
   ]
  },
  {
   "cell_type": "code",
   "execution_count": null,
   "id": "7bdb1a4d",
   "metadata": {},
   "outputs": [],
   "source": [
    "shapefiles_census[(shapefiles_census[\"NAME\"].str.contains(\"NEW EAGLE\"))&(shapefiles_census[\"COUNTYFP\"]==\"125\")].plot(column=\"VTDST\",legend=True,figsize=(15,15))\n",
    "vest_pa_16[(vest_pa_16[\"NAME\"].str.contains(\"NEW EAGLE\"))&(vest_pa_16[\"COUNTYFP\"]==\"125\")].plot(column=\"VTDST\",legend=True,figsize=(15,15))"
   ]
  },
  {
   "cell_type": "code",
   "execution_count": null,
   "id": "ea42fbae",
   "metadata": {},
   "outputs": [],
   "source": [
    "print(shapefiles_census[(shapefiles_census[\"NAME\"].str.contains(\"NEW EAGLE\"))&(shapefiles_census[\"COUNTYFP\"]==\"125\")])\n",
    "print(vest_pa_16[(vest_pa_16[\"NAME\"].str.contains(\"NEW EAGLE\"))&(vest_pa_16[\"COUNTYFP\"]==\"125\")])\n",
    "\n",
    "shapefiles_census.loc[(shapefiles_census[\"COUNTYFP\"]==\"125\") & (shapefiles_census[\"VTDST\"]==\"001230\"),\"shp_join\"] = \"125001240\"\n",
    "shapefiles_census.loc[(shapefiles_census[\"COUNTYFP\"]==\"125\") & (shapefiles_census[\"VTDST\"]==\"001240\"),\"shp_join\"] = \"125001230\""
   ]
  },
  {
   "cell_type": "markdown",
   "id": "ab0795b8",
   "metadata": {},
   "source": [
    "#### York (Fairview)"
   ]
  },
  {
   "cell_type": "code",
   "execution_count": null,
   "id": "40b5f318",
   "metadata": {},
   "outputs": [],
   "source": [
    "shapefiles_census[(shapefiles_census[\"NAME\"].str.contains(\"FAIRVIEW DISTRICT\"))&(shapefiles_census[\"COUNTYFP\"]==\"133\")].plot(column=\"VTDST\",legend=True,figsize=(15,15))\n",
    "vest_pa_16[(vest_pa_16[\"NAME\"].str.contains(\"FAIRVIEW DISTRICT\"))&(vest_pa_16[\"COUNTYFP\"]==\"133\")].plot(column=\"VTDST\",legend=True,figsize=(15,15))"
   ]
  },
  {
   "cell_type": "code",
   "execution_count": null,
   "id": "38f31458",
   "metadata": {},
   "outputs": [],
   "source": [
    "print(shapefiles_census[(shapefiles_census[\"NAME\"].str.contains(\"FAIRVIEW DISTRICT\"))&(shapefiles_census[\"COUNTYFP\"]==\"133\")])\n",
    "print(vest_pa_16[(vest_pa_16[\"NAME\"].str.contains(\"FAIRVIEW DISTRICT\"))&(vest_pa_16[\"COUNTYFP\"]==\"133\")])\n",
    "\n",
    "shapefiles_census.loc[(shapefiles_census[\"COUNTYFP\"]==\"133\") & (shapefiles_census[\"VTDST\"]==\"000220\"),\"shp_join\"] = \"133000235\"\n",
    "shapefiles_census.loc[(shapefiles_census[\"COUNTYFP\"]==\"133\") & (shapefiles_census[\"VTDST\"]==\"000235\"),\"shp_join\"] = \"133000240\"\n",
    "shapefiles_census.loc[(shapefiles_census[\"COUNTYFP\"]==\"133\") & (shapefiles_census[\"VTDST\"]==\"000240\"),\"shp_join\"] = \"133000245\"\n",
    "shapefiles_census.loc[(shapefiles_census[\"COUNTYFP\"]==\"133\") & (shapefiles_census[\"VTDST\"]==\"000245\"),\"shp_join\"] = \"133000220\""
   ]
  },
  {
   "cell_type": "markdown",
   "id": "617a36d4",
   "metadata": {},
   "source": [
    "### Step Not Completed: Other precinct re-alignment based on voter file / municipal files"
   ]
  },
  {
   "cell_type": "markdown",
   "id": "dfe368f0",
   "metadata": {},
   "source": [
    "In their documentation, VEST lists a number of precincts that were re-aligned using the voter file or other municipal files. Because we do not have access to the PA voter file and because they do not explain what municipal files to look at and specifically what adjustments to make, these adjustments were not made."
   ]
  },
  {
   "cell_type": "markdown",
   "id": "17db1c28",
   "metadata": {},
   "source": [
    "### Add a VTDST column to the election results (using what VEST has) to perform join"
   ]
  },
  {
   "cell_type": "code",
   "execution_count": null,
   "id": "fee79f65",
   "metadata": {},
   "outputs": [],
   "source": [
    "#Grab the VTDST using the election result join to the shapefile\n",
    "join_one[\"cty_VTDST\"]=join_one['COUNTYFP_x']+join_one['VTDST']\n",
    "vtdst_dict = join_one[['election_check_join',\"cty_VTDST\"]]\n",
    "\n",
    "#Add a VTDST column to the election results for the join\n",
    "pa_vtdst_dict = dict(zip(vtdst_dict['election_check_join'],vtdst_dict[\"cty_VTDST\"]))\n",
    "pivoted_2016[\"shp_join\"] = pivoted_2016['election_check_join'].map(pa_vtdst_dict).fillna(\"No match\")"
   ]
  },
  {
   "cell_type": "markdown",
   "id": "9868f5f0",
   "metadata": {},
   "source": [
    "### Modify some VTDST names to match the census"
   ]
  },
  {
   "cell_type": "code",
   "execution_count": null,
   "id": "42671dbf",
   "metadata": {},
   "outputs": [],
   "source": [
    "def change_name(old_id, new_id):\n",
    "    new_name = shapefiles_census.loc[shapefiles_census['shp_join']==new_id,\"NAME\"].values[0]\n",
    "    old_name = old_id[3:]\n",
    "    print(\"Updating elec. precinct\",old_name, \"to match the shp. precinct\",new_name)\n",
    "    pivoted_2016.loc[pivoted_2016[\"election_check_join\"]==old_id,\"shp_join\"]=new_id"
   ]
  },
  {
   "cell_type": "code",
   "execution_count": null,
   "id": "6ab432f2",
   "metadata": {},
   "outputs": [],
   "source": [
    "change_name(\"071LANCASTER WARD 7-8\",\"071000925\")\n",
    "change_name(\"047HORTON\",\"047000110\")\n",
    "change_name(\"041LOWER ALLEN PRECINCT 1\",\"041000340\")\n",
    "change_name(\"095BETHLEHEM WARD 03 DISTRICT 02\",\"095000349\")\n",
    "change_name(\"095BETHLEHEM WARD 02 DISTRICT 01\",\"095000339\")\n",
    "change_name(\"095BETHLEHEM WARD 03 DISTRICT 01\",\"095000347\")\n",
    "change_name(\"095BETHLEHEM WARD 1-1\",\"095000331\")\n",
    "change_name(\"095BETHLEHEM WARD 03 DISTRICT 04\",\"095000354\")\n",
    "change_name(\"095BETHLEHEM WARD 1-2\",\"095000332\")\n",
    "change_name(\"095BETHLEHEM WARD 03 DISTRICT 03\",\"095000352\")\n",
    "change_name(\"095BETHLEHEM WARD 04 DISTRICT 02\",\"095000364\")\n",
    "change_name(\"095BETHLEHEM WARD 04 DISTRICT 01\",\"095000358\")\n",
    "change_name(\"095BETHLEHEM WARD 04 DISTRICT 03\",\"095000368\")\n",
    "change_name(\"101PHILADELPHIA WARD 18 PRECINCT 01\",\"101001799\")\n",
    "change_name(\"101PHILADELPHIA WARD 18 PRECINCT 09\",\"101001819\")\n",
    "change_name(\"101PHILADELPHIA WARD 05 PRECINCT 10\",\"101001068\")\n",
    "change_name(\"101PHILADELPHIA WARD 05 PRECINCT 16\",\"101001069\")\n",
    "change_name(\"101PHILADELPHIA WARD 05 PRECINCT 17\",\"101001080\")\n",
    "change_name(\"101PHILADELPHIA WARD 05 PRECINCT 21\",\"101001081\")\n",
    "change_name(\"101PHILADELPHIA WARD 05 PRECINCT 25\",\"101001087\")\n",
    "change_name(\"101PHILADELPHIA WARD 05 PRECINCT 26\",\"101001088\")\n",
    "change_name(\"101PHILADELPHIA WARD 05 PRECINCT 27\",\"101001089\")"
   ]
  },
  {
   "cell_type": "code",
   "execution_count": null,
   "id": "e76ea69f",
   "metadata": {},
   "outputs": [],
   "source": [
    "pa_cong_districts = gp.read_file(\"./raw-from-source/pa_cong_2011_to_2018/pa_cong_2011_to_2018.shp\")\n",
    "pa_cong_districts = pa_cong_districts[[\"District_N\",\"geometry\"]]\n",
    "#Check they have the same crs\n",
    "print(pa_cong_districts.crs)\n",
    "print(shapefiles_census.crs)"
   ]
  },
  {
   "cell_type": "code",
   "execution_count": null,
   "id": "6a99d2f6",
   "metadata": {},
   "outputs": [],
   "source": [
    "def cd_splits(cd_list,shp_id,new_id_list):\n",
    "    global shapefiles_census\n",
    "    old_name = shapefiles_census.loc[shapefiles_census[\"cty_pct\"]==shp_id,\"NAME\"].values[0]\n",
    "    new_name_1 = pivoted_2016.loc[pivoted_2016[\"shp_join\"]==new_id_list[0],\"NAME\"].values[0]\n",
    "    new_name_2 = pivoted_2016.loc[pivoted_2016[\"shp_join\"]==new_id_list[1],\"NAME\"].values[0]\n",
    "    print(\"Prec:\" ,old_name,\"->\",new_name_1,\"and\",new_name_2)\n",
    "    full_shape = shapefiles_census.loc[shapefiles_census[\"cty_pct\"]==shp_id]\n",
    "    cd_1 = pa_cong_districts.loc[pa_cong_districts[\"District_N\"]==cd_list[0]]\n",
    "    cd_2 = pa_cong_districts.loc[pa_cong_districts[\"District_N\"]==cd_list[1]]\n",
    "    full_shape.plot()\n",
    "    new_prec_1 = gp.overlay(full_shape, cd_1, how='intersection')\n",
    "    new_prec_2 = gp.overlay(full_shape, cd_2, how='intersection')\n",
    "    #print(new_prec_1.columns)\n",
    "    #print(new_prec_2.columns)\n",
    "    \n",
    "    #Remove the precinct that was split\n",
    "    shapefiles_census=shapefiles_census[shapefiles_census[\"cty_pct\"]!=shp_id]\n",
    "    shapefiles_census.reset_index(drop=True,inplace=True)\n",
    "    \n",
    "    #Create two new precincts\n",
    "    new_prec_1 = new_prec_1[list(shapefiles_census.columns)]\n",
    "    new_prec_1[\"shp_join\"]=new_id_list[0]\n",
    "    new_prec_1[\"cty_pct\"]=\"new\"\n",
    "    new_prec_2 = new_prec_2[list(shapefiles_census.columns)]\n",
    "    new_prec_2[\"cty_pct\"]=\"new\"\n",
    "    new_prec_2[\"shp_join\"]=new_id_list[1]\n",
    "    shapefiles_census=shapefiles_census.append(new_prec_1)\n",
    "    shapefiles_census=shapefiles_census.append(new_prec_2)\n",
    "    shapefiles_census.reset_index(drop=True,inplace=True)\n",
    "    \n",
    "    \n",
    "    \n",
    "\n",
    "    \n"
   ]
  },
  {
   "cell_type": "code",
   "execution_count": null,
   "id": "fb54741b",
   "metadata": {},
   "outputs": [],
   "source": [
    "cd_splits([\"5\",\"10\"],\"117000350SHIPPEN\",[\"117000349\",\"117000351\"])\n",
    "cd_splits([\"13\",\"7\"],\"091002488PLYMOUTH DISTRICT 02 DISTRICT 03\",[\"091002492\",\"091002488\"])\n",
    "cd_splits([\"6\",\"7\"],\"091002195PERKIOMEN DISTRICT 01\",[\"091002194\",\"091002196\"])\n",
    "cd_splits([\"15\",\"17\"],\"095000320BETHLEHEM WARD 17\",[\"095000319\",\"095000321\"])\n",
    "cd_splits([\"10\",\"11\"],\"097000560RIVERSIDE\",[\"097000559\",\"097000561\"])\n",
    "cd_splits([\"2\",\"13\"],\"091001430LOWER MERION WARD 02 WARD 02\",[\"091001429\",\"091001431\"])\n",
    "cd_splits([\"7\",\"13\"],\"091001085HORSHAM DISTRICT 02 DIVISION 02\",[\"091001086\",\"091001084\"])\n",
    "cd_splits([\"13\",\"8\"],\"091001036HATFIELD DISTRICT 05 DIVISION 02\",[\"091001035\",\"091001037\"])\n",
    "cd_splits([\"4\",\"11\"],\"043001155SUSQUEHANNA WARD 03\",[\"043001154\",\"043001156\"])\n",
    "cd_splits([\"11\",\"4\"],\"043001135SUSQUEHANNA WARD 01\",[\"043001136\",\"043001138\"])\n",
    "cd_splits([\"6\",\"16\"],\"011000530LAURELDALE DISTRICT 01\",[\"011000529\",\"011000531\"])"
   ]
  },
  {
   "cell_type": "code",
   "execution_count": null,
   "id": "574a8423",
   "metadata": {},
   "outputs": [],
   "source": [
    "merged_source = pd.merge(shapefiles_census,pivoted_2016,on=\"shp_join\",how=\"outer\",indicator=True)"
   ]
  },
  {
   "cell_type": "code",
   "execution_count": null,
   "id": "eac69eac",
   "metadata": {},
   "outputs": [],
   "source": [
    "print(merged_source[\"_merge\"].value_counts())\n",
    "\n",
    "left_only = merged_source[merged_source[\"_merge\"]==\"left_only\"]\n",
    "#left_only.to_csv(\"./election_shapes_check_only_shapes.csv\")\n",
    "\n",
    "right_only = merged_source[merged_source[\"_merge\"]==\"right_only\"]\n",
    "#right_only.to_csv(\"./election_shapes_check_only_election.csv\")\n"
   ]
  },
  {
   "cell_type": "markdown",
   "id": "d832288a",
   "metadata": {},
   "source": [
    "Note: For the remaining ~40 unjoined precincts, we were not able to make any additional progress in matching them either because it was not clear where they belonged or they required shapefile splits that we were not able to make."
   ]
  },
  {
   "cell_type": "markdown",
   "id": "107c3a06",
   "metadata": {},
   "source": [
    "## Final Merge"
   ]
  },
  {
   "cell_type": "code",
   "execution_count": null,
   "id": "62fcec4f",
   "metadata": {},
   "outputs": [],
   "source": [
    "final_merge = pd.merge(merged_source[merged_source[\"_merge\"]==\"both\"],vest_pa_16,how=\"outer\",on=\"election_check_join\",indicator=\"final_merge\")\n",
    "print(final_merge[\"final_merge\"].value_counts())"
   ]
  },
  {
   "cell_type": "code",
   "execution_count": null,
   "id": "fdaa7f58",
   "metadata": {},
   "outputs": [],
   "source": [
    "both = final_merge[final_merge[\"final_merge\"]==\"both\"]\n",
    "source_geoms = gp.GeoDataFrame(both,geometry=\"geometry_x\",crs=vest_pa_16.crs)\n",
    "vest_geoms = gp.GeoDataFrame(both,geometry=\"geometry_y\",crs=vest_pa_16.crs)\n",
    "source_geoms = source_geoms.to_crs(3857)\n",
    "vest_geoms = vest_geoms.to_crs(3857)\n",
    "source_geoms[\"geometry_x\"]=source_geoms.buffer(0)\n",
    "vest_geoms[\"geometry_y\"]=vest_geoms.buffer(0)\n",
    "vals = source_geoms.geom_almost_equals(vest_geoms,decimal=0)\n",
    "print(vals.value_counts())"
   ]
  },
  {
   "cell_type": "code",
   "execution_count": null,
   "id": "8f333e82",
   "metadata": {},
   "outputs": [],
   "source": [
    "print(source_geoms.columns)"
   ]
  },
  {
   "cell_type": "code",
   "execution_count": null,
   "id": "c7d9b67f",
   "metadata": {},
   "outputs": [],
   "source": [
    "count = 0\n",
    "area_list = []\n",
    "for i in range(0,len(source_geoms)):\n",
    "    diff = source_geoms.iloc[[i]].symmetric_difference(vest_geoms.iloc[[i]])\n",
    "    intersection = source_geoms.iloc[[i]].intersection(vest_geoms.iloc[[i]])\n",
    "    area = float(diff.area/10e6)\n",
    "    area_list.append(area)\n",
    "    #print(\"Area is \" + str(area))\n",
    "\n",
    "    if (area > 1):\n",
    "        count += 1\n",
    "        name = source_geoms.iat[i,2]\n",
    "        \n",
    "        print(str(count)+\") For \" + name + \" difference in area is \" + str(area))\n",
    "        if (intersection.iloc[0].is_empty):\n",
    "            base = diff.plot(color=\"red\")\n",
    "            source_geoms.iloc[[i]].plot(color=\"orange\",ax=base)\n",
    "            vest_geoms.iloc[[i]].plot(color=\"blue\",ax=base)\n",
    "            base.set_title(name)\n",
    "        else:\n",
    "            base = diff.plot(color=\"red\")\n",
    "            source_geoms.iloc[[i]].plot(color=\"orange\",ax=base)\n",
    "            vest_geoms.iloc[[i]].plot(color=\"blue\",ax=base)\n",
    "            intersection.plot(color=\"green\",ax=base)\n",
    "            base.set_title(name)"
   ]
  },
  {
   "cell_type": "code",
   "execution_count": null,
   "id": "11d00a22",
   "metadata": {},
   "outputs": [],
   "source": [
    "df = pd.DataFrame(area_list)\n",
    "print(df.shape)\n",
    "\n",
    "print(str(len(df[df[0]==0]))+\" precincts w/ a difference of 0 km^2\")\n",
    "print(str(len(df[(df[0]<.1) & (df[0]>0)]))+ \" precincts w/ a difference between 0 and .1 km^2\")\n",
    "print(str(len(df[(df[0]<.5) & (df[0]>=.1)]))+ \" precincts w/ a difference between .1 and .5 km^2\")\n",
    "print(str(len(df[(df[0]<1) & (df[0]>=.5)]))+ \" precincts w/ a difference between .5 and 1 km^2\")\n",
    "print(str(len(df[(df[0]<2) & (df[0]>=1)]))+ \" precincts w/ a difference between 1 and 2 km^2\")\n",
    "print(str(len(df[(df[0]<5) & (df[0]>=2)]))+ \" precincts w/ a difference between 2 and 5 km^2\")\n",
    "print(str(len(df[(df[0]>=5)]))+ \" precincts w/ a difference greater than 5 km^2\")"
   ]
  }
 ],
 "metadata": {
  "kernelspec": {
   "display_name": "Python 3",
   "language": "python",
   "name": "python3"
  },
  "language_info": {
   "codemirror_mode": {
    "name": "ipython",
    "version": 3
   },
   "file_extension": ".py",
   "mimetype": "text/x-python",
   "name": "python",
   "nbconvert_exporter": "python",
   "pygments_lexer": "ipython3",
   "version": "3.9.2"
  }
 },
 "nbformat": 4,
 "nbformat_minor": 5
}
